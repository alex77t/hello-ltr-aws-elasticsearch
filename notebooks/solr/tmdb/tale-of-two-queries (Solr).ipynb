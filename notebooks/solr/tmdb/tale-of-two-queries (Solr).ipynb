{
 "cells": [
  {
   "cell_type": "markdown",
   "metadata": {},
   "source": [
    "# Basics & Prereqs (run once)\n",
    "\n",
    "If you don't already have the downloaded dependencies; if you don't have TheMovieDB data indexed run this"
   ]
  },
  {
   "cell_type": "code",
   "execution_count": 1,
   "metadata": {},
   "outputs": [
    {
     "name": "stdout",
     "output_type": "stream",
     "text": [
      "data/tmdb.json already exists\n",
      "Reconfig from disk...\n",
      "Deleted index tmdb [Status: 200]\n",
      "Created index tmdb [Status: 200]\n",
      "Reindexing...\n"
     ]
    },
    {
     "name": "stderr",
     "output_type": "stream",
     "text": [
      "\r",
      "  0%|          | 0/27846 [00:00<?, ?it/s]"
     ]
    },
    {
     "name": "stdout",
     "output_type": "stream",
     "text": [
      "Indexed 0 movies (last Black Mirror: White Christmas)\n",
      "Indexed 100 movies (last Apocalypse Now)\n",
      "Indexed 200 movies (last Crooks in Clover)\n",
      "Indexed 300 movies (last For a Few Dollars More)\n",
      "Indexed 400 movies (last Downfall)\n",
      "Indexed 500 movies (last Finding Nemo)\n",
      "Indexed 600 movies (last Platoon)\n",
      "Indexed 700 movies (last Night of the Living Dead)\n",
      "Indexed 800 movies (last Evangelion: 1.0: You Are (Not) Alone)\n",
      "Indexed 900 movies (last Batman: Assault on Arkham)\n",
      "Indexed 1000 movies (last Riley's First Date?)\n",
      "Indexed 1100 movies (last The Raid)\n",
      "Indexed 1200 movies (last Falling Down)\n",
      "Indexed 1300 movies (last Kal Ho Naa Ho)\n",
      "Indexed 1400 movies (last Elizabeth)\n",
      "Indexed 1500 movies (last Irreversible)\n",
      "Indexed 1600 movies (last Friday Night Lights)\n",
      "Indexed 1700 movies (last Ben X)\n",
      "Indexed 1800 movies (last Pump up the Volume)\n",
      "Indexed 1900 movies (last Armour of God)\n",
      "Indexed 2000 movies (last Swingers)\n",
      "Indexed 2100 movies (last The Guard)\n",
      "Indexed 2200 movies (last Win Win)\n",
      "Indexed 2300 movies (last Where the Heart Is)\n",
      "Indexed 2400 movies (last UHF)\n",
      "Indexed 2500 movies (last Jerry Maguire)\n",
      "Indexed 2600 movies (last Cloud Atlas)\n",
      "Indexed 2700 movies (last Rango)\n",
      "Indexed 2800 movies (last Rosewater)\n",
      "Indexed 2900 movies (last Kalifornia)\n",
      "Indexed 3000 movies (last Bad Santa)\n",
      "Indexed 3100 movies (last Defendor)\n",
      "Indexed 3200 movies (last The Pirates! Band of Misfits)\n",
      "Indexed 3300 movies (last Sister Act)\n",
      "Indexed 3400 movies (last Live and Let Die)\n",
      "Indexed 3500 movies (last Hours)\n",
      "Indexed 3600 movies (last Monsters)\n",
      "Indexed 3700 movies (last MouseHunt)\n",
      "Indexed 3800 movies (last Olympus Has Fallen)\n",
      "Indexed 3900 movies (last Godzilla)\n",
      "Indexed 4000 movies (last Arbitrage)\n",
      "Indexed 4100 movies (last Under Siege)\n",
      "Indexed 4200 movies (last Underdogs)\n",
      "Indexed 4300 movies (last The Duke of Burgundy)\n",
      "Indexed 4400 movies (last Bambi II)\n",
      "Indexed 4500 movies (last Solaris)\n",
      "Indexed 4600 movies (last The Stuff)\n",
      "Indexed 4700 movies (last Tales from the Darkside: The Movie)\n",
      "Indexed 4800 movies (last Final Fantasy: The Spirits Within)\n",
      "Indexed 4900 movies (last The Back-Up Plan)\n",
      "Flushing 5000 docs\n"
     ]
    },
    {
     "name": "stderr",
     "output_type": "stream",
     "text": [
      "\r",
      " 18%|█▊        | 5000/27846 [00:10<00:49, 458.33it/s]"
     ]
    },
    {
     "name": "stdout",
     "output_type": "stream",
     "text": [
      "Done [Status: 200]\n",
      "Indexed 5000 movies (last Absolutely Anything)\n",
      "Indexed 5100 movies (last Funny People)\n",
      "Indexed 5200 movies (last Tad, the Lost Explorer)\n",
      "Indexed 5300 movies (last Fiston)\n",
      "Indexed 5400 movies (last The Reaping)\n",
      "Indexed 5500 movies (last American Pie Presents: Beta House)\n",
      "Indexed 5600 movies (last Casino Royale)\n",
      "Indexed 5700 movies (last Jennifer's Body)\n",
      "Indexed 5800 movies (last Caligula)\n",
      "Indexed 5900 movies (last Alex Cross)\n",
      "Indexed 6000 movies (last Rapture Palooza)\n",
      "Indexed 6100 movies (last The Seeker: The Dark Is Rising)\n",
      "Indexed 6200 movies (last Boogeyman)\n",
      "Indexed 6300 movies (last Fifty Shades of Black)\n",
      "Indexed 6400 movies (last Wilbur Wants to Kill Himself)\n",
      "Indexed 6500 movies (last A Cruel Romance)\n",
      "Indexed 6600 movies (last La discrète)\n",
      "Indexed 6700 movies (last The Rapture)\n",
      "Indexed 6800 movies (last Ricky Gervais Live 3: Fame)\n",
      "Indexed 6900 movies (last Bunny Lake Is Missing)\n",
      "Indexed 7000 movies (last Alice in the Cities)\n",
      "Indexed 7100 movies (last Le pélican)\n",
      "Indexed 7200 movies (last 20,000 Leagues Under the Sea)\n",
      "Indexed 7300 movies (last Deuces Wild)\n",
      "Indexed 7400 movies (last Lost Horizon)\n",
      "Indexed 7500 movies (last The Detective 2)\n",
      "Indexed 7600 movies (last Absolute Aggression)\n",
      "Indexed 7700 movies (last A Fairly Odd Movie: Grow Up, Timmy Turner!)\n",
      "Indexed 7800 movies (last How Much Do You Love Me?)\n",
      "Indexed 7900 movies (last The Snows of Kilimanjaro)\n",
      "Indexed 8000 movies (last The Wrong Guys)\n",
      "Indexed 8100 movies (last BFFs)\n",
      "Indexed 8200 movies (last Foreverland)\n",
      "Indexed 8300 movies (last Rebellion)\n",
      "Indexed 8400 movies (last Air Crew)\n",
      "Indexed 8500 movies (last Down in the Valley)\n",
      "Indexed 8600 movies (last Female Agents)\n",
      "Indexed 8700 movies (last Come Dance with Me!)\n",
      "Indexed 8800 movies (last Versailles)\n",
      "Indexed 8900 movies (last Girls on Top)\n",
      "Indexed 9000 movies (last Voll Normaaal)\n",
      "Indexed 9100 movies (last Unrated II: Scary as Hell)\n",
      "Indexed 9200 movies (last The Flight of the Phoenix)\n",
      "Indexed 9300 movies (last DragonHeart: A New Beginning)\n",
      "Indexed 9400 movies (last Empire of the Wolves)\n",
      "Indexed 9500 movies (last Searching for Debra Winger)\n",
      "Indexed 9600 movies (last Swimming Pool)\n",
      "Indexed 9700 movies (last Bomber)\n",
      "Indexed 9800 movies (last Bullet in the Head)\n",
      "Indexed 9900 movies (last Club Fed)\n",
      "Flushing 5000 docs\n"
     ]
    },
    {
     "name": "stderr",
     "output_type": "stream",
     "text": [
      "\r",
      " 36%|███▌      | 10016/27846 [00:20<00:37, 476.85it/s]"
     ]
    },
    {
     "name": "stdout",
     "output_type": "stream",
     "text": [
      "Done [Status: 200]\n",
      "Indexed 10000 movies (last Titus)\n",
      "Indexed 10100 movies (last Revolution)\n",
      "Indexed 10200 movies (last The Last Dispatch)\n",
      "Indexed 10300 movies (last Wings of Courage)\n",
      "Indexed 10400 movies (last Gaslight)\n",
      "Indexed 10500 movies (last Frenchmen 2)\n",
      "Indexed 10600 movies (last Closing the Ring)\n",
      "Indexed 10700 movies (last 3:10 to Yuma)\n",
      "Indexed 10800 movies (last Harvest)\n",
      "Indexed 10900 movies (last Song of the Thin Man)\n",
      "Indexed 11000 movies (last Nobody Knows Anything!)\n",
      "Indexed 11100 movies (last Dirty Deeds)\n",
      "Indexed 11200 movies (last The Adventure of Faustus Bidgood)\n",
      "Indexed 11300 movies (last Running Time)\n",
      "Indexed 11400 movies (last While She Was Out)\n",
      "Indexed 11500 movies (last What?)\n",
      "Indexed 11600 movies (last The Legend of Hell House)\n",
      "Indexed 11700 movies (last When Worlds Collide)\n",
      "Indexed 11800 movies (last The Girl in the Red Velvet Swing)\n",
      "Indexed 11900 movies (last 9 Souls)\n",
      "Indexed 12000 movies (last Paradise Lost 2: Revelations)\n",
      "Indexed 12100 movies (last Riki-Oh: The Story of Ricky)\n",
      "Indexed 12200 movies (last In Vogue: The Editor’s Eye)\n",
      "Indexed 12300 movies (last Smart Money)\n",
      "Indexed 12400 movies (last Manda Bala (Send a Bullet))\n",
      "Indexed 12500 movies (last Something to Talk About)\n",
      "Indexed 12600 movies (last Donald Glover: Weirdo)\n",
      "Indexed 12700 movies (last Demon Seed)\n",
      "Indexed 12800 movies (last Zig Zag)\n",
      "Indexed 12900 movies (last Going Overboard)\n",
      "Indexed 13000 movies (last Mahler)\n",
      "Indexed 13100 movies (last Carriage to Vienna)\n",
      "Indexed 13200 movies (last The Big Clock)\n",
      "Indexed 13300 movies (last Arsenal)\n",
      "Indexed 13400 movies (last First Descent)\n",
      "Indexed 13500 movies (last Deep Cover)\n",
      "Indexed 13600 movies (last Mixed Blood)\n",
      "Indexed 13700 movies (last Red Psalm)\n",
      "Indexed 13800 movies (last Bad Biology)\n",
      "Indexed 13900 movies (last Shirin)\n",
      "Indexed 14000 movies (last Rhyme & Reason)\n",
      "Indexed 14100 movies (last Tuareg: Desert Warrior)\n",
      "Indexed 14200 movies (last Havoc)\n",
      "Indexed 14300 movies (last Fire Over England)\n",
      "Indexed 14400 movies (last Impulse)\n",
      "Indexed 14500 movies (last Cheers For Miss Bishop)\n",
      "Indexed 14600 movies (last Don't Bother to Knock)\n",
      "Indexed 14700 movies (last Brides)\n",
      "Indexed 14800 movies (last The Land Before Time XI: Invasion of the Tinysauruses)\n",
      "Indexed 14900 movies (last The Gnome-Mobile)\n",
      "Flushing 5000 docs\n"
     ]
    },
    {
     "name": "stderr",
     "output_type": "stream",
     "text": [
      " 59%|█████▉    | 16491/27846 [00:31<00:17, 656.45it/s]"
     ]
    },
    {
     "name": "stdout",
     "output_type": "stream",
     "text": [
      "Done [Status: 200]\n",
      "Indexed 15000 movies (last Miracles: Mr. Canton and Lady Rose)\n",
      "Indexed 15100 movies (last An Occurrence at Owl Creek Bridge)\n",
      "Indexed 15200 movies (last 16 to Life)\n",
      "Indexed 15300 movies (last Week-End at the Waldorf)\n",
      "Indexed 15400 movies (last Made in Hong Kong)\n",
      "Indexed 15500 movies (last Viva Cuba)\n",
      "Indexed 15600 movies (last Big Pun: The Legacy)\n",
      "Indexed 15700 movies (last Hurt)\n",
      "Indexed 15800 movies (last The Mudge Boy)\n",
      "Indexed 15900 movies (last The Hollywood Complex)\n",
      "Indexed 16000 movies (last The Great Northfield Minnesota Raid)\n",
      "Indexed 16100 movies (last Lotta Leaves Home)\n",
      "Indexed 16200 movies (last Just One of the Girls)\n",
      "Indexed 16300 movies (last Which Way Is The Front Line From Here? The Life and Time of Tim Hetherington)\n",
      "Indexed 16400 movies (last The Ladies Man)\n",
      "Indexed 16500 movies (last Assassin of the Tsar)\n",
      "Indexed 16600 movies (last The Adventures of Tarzan)\n",
      "Indexed 16700 movies (last Vendetta)\n",
      "Indexed 16800 movies (last Trucker)\n",
      "Indexed 16900 movies (last Branded)\n",
      "Indexed 17000 movies (last Mariage à Mendoza)\n",
      "Indexed 17100 movies (last Love Bites)\n",
      "Indexed 17200 movies (last The Ballad of Ramblin' Jack)\n",
      "Indexed 17300 movies (last Blade of the Ripper)\n",
      "Indexed 17400 movies (last Kiler)\n",
      "Indexed 17500 movies (last Kaïrat)\n",
      "Indexed 17600 movies (last Body Bags)\n",
      "Indexed 17700 movies (last Dave Attell: Captain Miserable)\n",
      "Indexed 17800 movies (last Wodehouse In Exile)\n",
      "Indexed 17900 movies (last Duel in the Sun)\n",
      "Indexed 18000 movies (last The Message)\n",
      "Indexed 18100 movies (last Shock)\n",
      "Indexed 18200 movies (last Harvey)\n",
      "Indexed 18300 movies (last The Worthless)\n",
      "Indexed 18400 movies (last Queen of the Mountains)\n",
      "Indexed 18500 movies (last Urgh! A Music War)\n",
      "Indexed 18600 movies (last Wuthering Heights)\n",
      "Indexed 18700 movies (last Gabriel Over the White House)\n",
      "Indexed 18800 movies (last Friendship!)\n",
      "Indexed 18900 movies (last Mía)\n",
      "Indexed 19000 movies (last Danger! 50,000 Zombies)\n",
      "Indexed 19100 movies (last Top Dog)\n",
      "Indexed 19200 movies (last Reaching for the Moon)\n",
      "Indexed 19300 movies (last A Child's Christmas in Wales)\n",
      "Indexed 19400 movies (last The Dog Who Stopped the War)\n",
      "Indexed 19500 movies (last Police Python 357)\n",
      "Indexed 19600 movies (last Accidents Happen)\n",
      "Indexed 19700 movies (last Changing Times)\n",
      "Indexed 19800 movies (last The Ape)\n",
      "Indexed 19900 movies (last Heartbreak Hotel)\n",
      "Flushing 5000 docs\n"
     ]
    },
    {
     "name": "stderr",
     "output_type": "stream",
     "text": [
      " 88%|████████▊ | 24540/27846 [00:42<00:04, 715.11it/s]"
     ]
    },
    {
     "name": "stdout",
     "output_type": "stream",
     "text": [
      "Done [Status: 200]\n",
      "Indexed 20000 movies (last Left Behind III: World at War)\n",
      "Indexed 20100 movies (last Dragon Ball Z: Lord Slug)\n",
      "Indexed 20200 movies (last The Adventures of Sherlock Holmes)\n",
      "Indexed 20300 movies (last Billy's Hollywood Screen Kiss)\n",
      "Indexed 20400 movies (last Short Night of Glass Dolls)\n",
      "Indexed 20500 movies (last Kawa)\n",
      "Indexed 20600 movies (last Bears)\n",
      "Indexed 20700 movies (last Pyrates)\n",
      "Indexed 20800 movies (last Bastard Out of Carolina)\n",
      "Indexed 20900 movies (last The Mole People)\n",
      "Indexed 21000 movies (last Till Human Voices Wake Us)\n",
      "Indexed 21100 movies (last It's a Wonderful Afterlife)\n",
      "Indexed 21200 movies (last The Bingo Long Traveling All-Stars & Motor Kings)\n",
      "Indexed 21300 movies (last Ciao! Manhattan)\n",
      "Indexed 21400 movies (last The Night They Raided Minsky's)\n",
      "Indexed 21500 movies (last The Girl Can't Help It)\n",
      "Indexed 21600 movies (last Sam Peckinpah's West: Legacy of a Hollywood Renegade)\n",
      "Indexed 21700 movies (last A Guy Named Joe)\n",
      "Indexed 21800 movies (last Odd Man Out)\n",
      "Indexed 21900 movies (last The Rise of Catherine the Great)\n",
      "Indexed 22000 movies (last The Girl of the Golden West)\n",
      "Indexed 22100 movies (last The Killing of John Lennon)\n",
      "Indexed 22200 movies (last Twist)\n",
      "Indexed 22300 movies (last After Life)\n",
      "Indexed 22400 movies (last The Great Ecstasy of Robert Carmichael)\n",
      "Indexed 22500 movies (last Do Not Disturb)\n",
      "Indexed 22600 movies (last Something Real and Good)\n",
      "Indexed 22700 movies (last CBGB)\n",
      "Indexed 22800 movies (last California Solo)\n",
      "Indexed 22900 movies (last Richard III)\n",
      "Indexed 23000 movies (last She's Out of Control)\n",
      "Indexed 23100 movies (last Dead End Drive-In)\n",
      "Indexed 23200 movies (last Venus Boyz)\n",
      "Indexed 23300 movies (last My Giant)\n",
      "Indexed 23400 movies (last The Beekeeper)\n",
      "Indexed 23500 movies (last The Bobo)\n",
      "Indexed 23600 movies (last Amen)\n",
      "Indexed 23700 movies (last Favela Rising)\n",
      "Indexed 23800 movies (last The 4th Floor)\n",
      "Indexed 23900 movies (last Chisum)\n",
      "Indexed 24000 movies (last Boulevard)\n",
      "Indexed 24100 movies (last Ingmar Bergman Makes a Movie)\n",
      "Indexed 24200 movies (last The Play House)\n",
      "Indexed 24300 movies (last Of Mice and Men)\n",
      "Indexed 24400 movies (last Dr. Gillespie's New Assistant)\n",
      "Indexed 24500 movies (last Rat)\n",
      "Indexed 24600 movies (last Unstrung Heroes)\n",
      "Indexed 24700 movies (last Crazy Sexy Cancer)\n",
      "Indexed 24800 movies (last High and Dizzy)\n",
      "Indexed 24900 movies (last The Murder of Fred Hampton)\n",
      "Flushing 5000 docs\n"
     ]
    },
    {
     "name": "stderr",
     "output_type": "stream",
     "text": [
      "100%|██████████| 27846/27846 [00:54<00:00, 506.80it/s]"
     ]
    },
    {
     "name": "stdout",
     "output_type": "stream",
     "text": [
      "Done [Status: 200]\n",
      "Indexed 25000 movies (last Holiday for Drumsticks)\n",
      "Indexed 25100 movies (last China Blue)\n",
      "Indexed 25200 movies (last Pancho, el perro millonario)\n",
      "Indexed 25300 movies (last The Diary of Anne Frank)\n",
      "Indexed 25400 movies (last To Be Twenty)\n",
      "Indexed 25500 movies (last Empire of Silver)\n",
      "Indexed 25600 movies (last Knockout)\n",
      "Indexed 25700 movies (last Speed & Angels)\n",
      "Indexed 25800 movies (last Meek's Cutoff)\n",
      "Indexed 25900 movies (last Sharpe's Sword)\n",
      "Indexed 26000 movies (last May 18)\n",
      "Indexed 26100 movies (last Dealer)\n",
      "Indexed 26200 movies (last Carmen Miranda: Bananas Is My Business)\n",
      "Indexed 26300 movies (last Il figlio dello sceicco)\n",
      "Indexed 26400 movies (last Muddy River)\n",
      "Indexed 26500 movies (last Judy Moody and the Not Bummer Summer)\n",
      "Indexed 26600 movies (last The Naughty Room)\n",
      "Indexed 26700 movies (last Time Without Pity)\n",
      "Indexed 26800 movies (last L'outremangeur)\n",
      "Indexed 26900 movies (last Buddha Collapsed Out of Shame)\n",
      "Indexed 27000 movies (last Uno contro l'altro praticamente amici)\n",
      "Indexed 27100 movies (last The Talent Given Us)\n",
      "Indexed 27200 movies (last Paris Trout)\n",
      "Indexed 27300 movies (last The Crystal Ball)\n",
      "Indexed 27400 movies (last West Is West)\n",
      "Indexed 27500 movies (last Breaktime)\n",
      "Indexed 27600 movies (last Two for the Seesaw)\n",
      "Indexed 27700 movies (last Fingers at the Window)\n",
      "Flushing 2760 docs\n"
     ]
    },
    {
     "name": "stderr",
     "output_type": "stream",
     "text": [
      "\n"
     ]
    },
    {
     "name": "stdout",
     "output_type": "stream",
     "text": [
      "Done [Status: 200]\n",
      "Committed index tmdb [Status: 200]\n",
      "Done\n"
     ]
    }
   ],
   "source": [
    "from ltr.client.solr_client import SolrClient\n",
    "client = SolrClient()\n",
    "\n",
    "from ltr import download\n",
    "from ltr.index import rebuild\n",
    "from ltr.helpers.movies import indexable_movies\n",
    "\n",
    "corpus='http://es-learn-to-rank.labs.o19s.com/tmdb.json'\n",
    "download([corpus], dest='data/');\n",
    "\n",
    "movies=indexable_movies(movies='data/tmdb.json')\n",
    "rebuild(client, index='tmdb', doc_src=movies)"
   ]
  },
  {
   "cell_type": "markdown",
   "metadata": {},
   "source": [
    "### Use Solr Client"
   ]
  },
  {
   "cell_type": "code",
   "execution_count": 1,
   "metadata": {},
   "outputs": [],
   "source": [
    "from ltr.client.solr_client import SolrClient\n",
    "client = SolrClient()"
   ]
  },
  {
   "cell_type": "markdown",
   "metadata": {},
   "source": [
    "# Our Task: Optimizing \"Drama\" and \"Science Fiction\" queries\n",
    "\n",
    "In this example we have two user queries\n",
    "\n",
    "- Drama\n",
    "- Science Fiction\n",
    "\n",
    "And we want to train a model to return the best movies for these movies when a user types them into our search bar.\n",
    "\n",
    "We learn through analysis that searchers prefer newer science fiction, but older drama. Like a lot of search relevance problems, two queries need to be optimized in *different* directions"
   ]
  },
  {
   "cell_type": "markdown",
   "metadata": {},
   "source": [
    "### Synthetic Judgment List Generation\n",
    "\n",
    "To setup this example, we'll generate a judgment list that rewards new science fiction movies as more relevant; and old drama movies as relevant."
   ]
  },
  {
   "cell_type": "code",
   "execution_count": 2,
   "metadata": {},
   "outputs": [
    {
     "name": "stdout",
     "output_type": "stream",
     "text": [
      "Generating judgments for scifi & drama movies\n"
     ]
    },
    {
     "name": "stderr",
     "output_type": "stream",
     "text": [
      "100%|██████████| 10000/10000 [00:00<00:00, 476014.21it/s]"
     ]
    },
    {
     "name": "stdout",
     "output_type": "stream",
     "text": [
      "Done\n"
     ]
    },
    {
     "name": "stderr",
     "output_type": "stream",
     "text": [
      "\n"
     ]
    }
   ],
   "source": [
    "from ltr.date_genre_judgments import synthesize\n",
    "judgments = synthesize(client, judgmentsOutFile='data/genre_by_date_judgments.txt')"
   ]
  },
  {
   "cell_type": "markdown",
   "metadata": {},
   "source": [
    "### Feature selection should be *easy!*\n",
    "\n",
    "Notice we have 4 proposed features, that seem like they should work! This should be a piece of cake...\n",
    "\n",
    "1. Release Year of a movie `release_year` - feature ID 1\n",
    "2. Is the movie Science Fiction `is_scifi` - feature ID 2\n",
    "3. Is the movie Drama `is_drama` - feature ID 3\n",
    "4. Does the search term match the genre field `is_genre_match` - feature ID 4\n"
   ]
  },
  {
   "cell_type": "code",
   "execution_count": 3,
   "metadata": {},
   "outputs": [
    {
     "name": "stdout",
     "output_type": "stream",
     "text": [
      "Deleted classic model [Status: 200]\n",
      "Deleted latest model [Status: 200]\n",
      "Deleted release Featurestore [Status: 200]\n",
      "Created genre feature store under tmdb: [Status: 200]\n"
     ]
    }
   ],
   "source": [
    "client.reset_ltr(index='tmdb')\n",
    "\n",
    "config = [\n",
    "            {\n",
    "                \"store\": \"genre\", # Note: This overrides the _DEFAULT_ feature store location\n",
    "                \"name\" : \"release_year\",\n",
    "                \"class\" : \"org.apache.solr.ltr.feature.SolrFeature\",\n",
    "                \"params\" : {\n",
    "                  \"q\" : \"{!func}def(release_year,2000)\"\n",
    "                }\n",
    "            },\n",
    "            {\n",
    "                \"store\": \"genre\",\n",
    "                \"name\" : \"is_sci_fi\",\n",
    "                \"class\" : \"org.apache.solr.ltr.feature.SolrFeature\",\n",
    "                \"params\" : {\n",
    "                  \"q\" : \"genres:\\\"Science Fiction\\\"^=10.0\"\n",
    "                }\n",
    "            },\n",
    "            {\n",
    "                \"store\": \"genre\",\n",
    "                \"name\" : \"is_drama\",\n",
    "                \"class\" : \"org.apache.solr.ltr.feature.SolrFeature\",\n",
    "                \"params\" : {\n",
    "                  \"q\" : \"genres:\\\"Drama\\\"^=4.0\"\n",
    "                }\n",
    "            },\n",
    "            {\n",
    "                \"store\": \"genre\",\n",
    "                \"name\" : \"is_genre_match\",\n",
    "                \"class\" : \"org.apache.solr.ltr.feature.SolrFeature\",\n",
    "                \"params\" : {\n",
    "                  \"q\" : \"genres:\\\"${keywords}\\\"^=100.0\"\n",
    "                }\n",
    "            }\n",
    "]\n",
    "\n",
    "client.create_featureset(index='tmdb', name='genre', ftr_config=config)\n"
   ]
  },
  {
   "cell_type": "markdown",
   "metadata": {},
   "source": [
    "### Log from search engine -> to training set\n",
    "\n",
    "Each feature is a query to be scored against the judgment list"
   ]
  },
  {
   "cell_type": "code",
   "execution_count": 4,
   "metadata": {},
   "outputs": [
    {
     "name": "stdout",
     "output_type": "stream",
     "text": [
      "Recognizing 2 queries...\n",
      "Searching tmdb [Status: 200]\n",
      "Discarded 0 Keep 123\n",
      "Searching tmdb [Status: 200]\n",
      "Searching tmdb [Status: 200]\n",
      "Searching tmdb [Status: 200]\n",
      "Searching tmdb [Status: 200]\n",
      "Searching tmdb [Status: 200]\n",
      "Searching tmdb [Status: 200]\n",
      "Discarded 0 Keep 2602\n"
     ]
    }
   ],
   "source": [
    "from ltr.judgments import judgments_open\n",
    "from ltr.log import FeatureLogger\n",
    "from itertools import groupby\n",
    "\n",
    "ftr_logger=FeatureLogger(client, index='tmdb', feature_set='genre')\n",
    "with judgments_open('data/genre_by_date_judgments.txt') as judg_list:\n",
    "    for qid, query_judgments in groupby(judg_list, key=lambda j: j.qid):\n",
    "        ftr_logger.log_for_qid(qid=qid, \n",
    "                               judgments=query_judgments,\n",
    "                               keywords=judg_list.keywords(qid))"
   ]
  },
  {
   "cell_type": "markdown",
   "metadata": {},
   "source": [
    "### Training - Guaraneed Perfect Search Results!\n",
    "\n",
    "We'll train a LambdaMART model against this training data."
   ]
  },
  {
   "cell_type": "code",
   "execution_count": 5,
   "metadata": {},
   "outputs": [
    {
     "name": "stdout",
     "output_type": "stream",
     "text": [
      "/var/folders/vc/thmh159x5xddb6_cgtx778sc0000gn/T/RankyMcRankFace.jar already exists\n",
      "Running java -jar /var/folders/vc/thmh159x5xddb6_cgtx778sc0000gn/T/RankyMcRankFace.jar -ranker 6 -shrinkage 0.1 -metric2t NDCG@10 -tree 50 -bag 1 -leaf 10 -frate 1.0 -srate 1.0 -train /var/folders/vc/thmh159x5xddb6_cgtx778sc0000gn/T/training.txt -save data/genre_model.txt \n",
      "DONE\n",
      "Submit Model genre Ftr Set genre [Status: 200]\n",
      "Feature Set genre... [Status: 200]\n",
      "Deleted Model genre [Status: 200]\n",
      "Created Model genre [Status: 200]\n",
      "Done\n",
      "\n",
      "Impact of each feature on the model\n",
      "1 - 84672139.80027786\n",
      "2 - 57048.53836173947\n",
      "3 - 15085.984020625703\n",
      "4 - 0.0\n",
      "Perfect NDCG! 1.0\n"
     ]
    }
   ],
   "source": [
    "from ltr.ranklib import train\n",
    "trainResponse = train(client, \n",
    "                 training_set=ftr_logger.logged,\n",
    "                 metric2t='NDCG@10',\n",
    "                 featureSet='genre',\n",
    "                 index='tmdb',\n",
    "                 modelName='genre')\n",
    "\n",
    "trainLog = trainResponse.trainingLogs[0]\n",
    "\n",
    "print()\n",
    "print(\"Impact of each feature on the model\")\n",
    "for ftrId, impact in trainLog.impacts.items():\n",
    "    print(\"{} - {}\".format(ftrId, impact))\n",
    "    \n",
    "print(\"Perfect NDCG! {}\".format(trainLog.rounds[-1]))"
   ]
  },
  {
   "cell_type": "markdown",
   "metadata": {},
   "source": [
    "### But this search sucks!\n",
    "Try searches for \"Science Fiction\" and \"Drama\""
   ]
  },
  {
   "cell_type": "code",
   "execution_count": 6,
   "metadata": {},
   "outputs": [
    {
     "name": "stdout",
     "output_type": "stream",
     "text": [
      "['The Girl from the Marsh Croft'] \n",
      "5.4329715 \n",
      "1917 \n",
      "N/A \n",
      "[\"A 1917 Swedish drama film directed by Victor Sjöström, based on a 1913 novel by Selma Lagerlöf. It was the first in a series of successful Lagerlöf adaptions by Sjöström, made possible by a deal between Lagerlöf and A-B Svenska Biografteatern (later AB Svensk Filmindustri) to adapt at least one Lagerlöf novel each year. Lagerlöf had for many years denied any proposal to let her novels be adapted for film, but after seeing Sjöström's Terje Vigen she finally decided to give her allowance.\"] \n",
      "---------------------------------------\n",
      "['Straight Shooting'] \n",
      "5.4329715 \n",
      "1917 \n",
      "['Western'] \n",
      "[\"Cattleman Flint cuts off farmer Sims' water supply. When Sims' son Ted goes for water, one of Flint's men kills him. Cheyenne is sent to finish off Sims, but finding the family at the newly dug grave, he changes sides.\"] \n",
      "---------------------------------------\n",
      "['The Dying Swan'] \n",
      "5.4329715 \n",
      "1917 \n",
      "N/A \n",
      "['When Viktor meets Gizella one day beside the lake, he takes an interest in her and begins to call on her regularly. The one passion in the life of Gizella, who is unable to speak, is dancing. When Viktor deceives her and she finds him with another woman, she moves away and begins a career as a ballerina. Later, as she is on tour performing “The Dying Swan”, the artist Glinskiy attends her performance. Glinskiy, whose own obsession is to depict death in his art, becomes fascinated by Gizella, and he is determined to use her as a model for a special project.'] \n",
      "---------------------------------------\n",
      "['The Adventurer'] \n",
      "5.4329715 \n",
      "1917 \n",
      "['Comedy'] \n",
      "['The Little Tramp escapes from prison; saves a girl and her mother from drowning; and creates havoc at a swank party.'] \n",
      "---------------------------------------\n",
      "['Coney Island'] \n",
      "5.4329715 \n",
      "1917 \n",
      "['Comedy'] \n",
      "['Arbuckle escapes the watch of his domineering wife and heads for Coney Island. Keaton arrives that same day with his attractive, and rather easy, girlfriend, who is immediately stolen from him by St. John.'] \n",
      "---------------------------------------\n"
     ]
    }
   ],
   "source": [
    "from ltr.search import search\n",
    "search(client, keywords=\"drama\", modelName=\"genre\")"
   ]
  },
  {
   "cell_type": "markdown",
   "metadata": {},
   "source": [
    "### Why didn't it work!?!? Training data\n",
    "\n",
    "1. Examine the training data, do we cover every example of a BAD result\n",
    "2. Examine the feature impacts, do any of the features the model uses even USE the keywords?\n",
    "\n",
    "### Ranklib only sees the data you give it, we don't have good enough coverage\n",
    "\n",
    "You need to have feature coverage, especially over negative examples. Most documents in the index are negative! \n",
    "\n",
    "One trick commonly used is to treat other queries positive results as this queries negative results. Indeed what we're missing here are negative examples for \"Science Fiction\" that are not science fiction movies. A glaring omission, we'll handle now... With the `autoNegate` flag, we'll add additional negative examples to the judgment list"
   ]
  },
  {
   "cell_type": "code",
   "execution_count": 7,
   "metadata": {},
   "outputs": [
    {
     "name": "stdout",
     "output_type": "stream",
     "text": [
      "Generating judgments for scifi & drama movies\n"
     ]
    },
    {
     "name": "stderr",
     "output_type": "stream",
     "text": [
      "100%|██████████| 10000/10000 [00:00<00:00, 381591.76it/s]\n"
     ]
    },
    {
     "name": "stdout",
     "output_type": "stream",
     "text": [
      "Done\n",
      "Recognizing 2 queries...\n",
      "Searching tmdb [Status: 200]\n",
      "Searching tmdb [Status: 200]\n",
      "Searching tmdb [Status: 200]\n",
      "Searching tmdb [Status: 200]\n",
      "Searching tmdb [Status: 200]\n",
      "Searching tmdb [Status: 200]\n",
      "Discarded 0 Keep 2725\n",
      "Searching tmdb [Status: 200]\n",
      "Searching tmdb [Status: 200]\n",
      "Searching tmdb [Status: 200]\n",
      "Searching tmdb [Status: 200]\n",
      "Searching tmdb [Status: 200]\n",
      "Searching tmdb [Status: 200]\n",
      "Discarded 0 Keep 2725\n",
      "/var/folders/vc/thmh159x5xddb6_cgtx778sc0000gn/T/RankyMcRankFace.jar already exists\n",
      "Running java -jar /var/folders/vc/thmh159x5xddb6_cgtx778sc0000gn/T/RankyMcRankFace.jar -ranker 6 -shrinkage 0.1 -metric2t NDCG@10 -tree 50 -bag 1 -leaf 10 -frate 1.0 -srate 1.0 -train /var/folders/vc/thmh159x5xddb6_cgtx778sc0000gn/T/training.txt -save data/genre_model.txt \n",
      "DONE\n",
      "Submit Model genre Ftr Set genre [Status: 200]\n",
      "Feature Set genre... [Status: 200]\n",
      "Deleted Model genre [Status: 200]\n",
      "Created Model genre [Status: 200]\n",
      "Done\n",
      "\n",
      "Impact of each feature on the model\n",
      "4 - 178579056.081049\n",
      "1 - 107974596.42232133\n",
      "3 - 14215772.365316376\n",
      "2 - 7654167.392121586\n",
      "NDCG! 1.0\n"
     ]
    }
   ],
   "source": [
    "from ltr import date_genre_judgments\n",
    "\n",
    "date_genre_judgments.synthesize(client,\n",
    "                                judgmentsOutFile='data/genre_by_date_judgments.txt',\n",
    "                                autoNegate=True)\n",
    "\n",
    "from ltr.judgments import judgments_from_file\n",
    "from ltr.log import FeatureLogger\n",
    "from itertools import groupby\n",
    "\n",
    "ftr_logger=FeatureLogger(client, index='tmdb', feature_set='genre')\n",
    "with judgments_open('data/genre_by_date_judgments.txt') as judg_list:\n",
    "    for qid, query_judgments in groupby(judg_list, key=lambda j: j.qid):\n",
    "        ftr_logger.log_for_qid(qid=qid, \n",
    "                               judgments=query_judgments,\n",
    "                               keywords=judg_list.keywords(qid))\n",
    "        \n",
    "        \n",
    "from ltr.ranklib import train\n",
    "trainResponse = train(client,\n",
    "                 training_set=ftr_logger.logged,\n",
    "                 metric2t='NDCG@10',\n",
    "                 featureSet='genre',\n",
    "                 index='tmdb',\n",
    "                 modelName='genre')\n",
    "\n",
    "trainLog = trainResponse.trainingLogs[0]\n",
    "\n",
    "print()\n",
    "print(\"Impact of each feature on the model\")\n",
    "for ftrId, impact in trainLog.impacts.items():\n",
    "    print(\"{} - {}\".format(ftrId, impact))\n",
    "    \n",
    "print(\"NDCG! {}\".format(trainLog.rounds[-1]))"
   ]
  },
  {
   "cell_type": "markdown",
   "metadata": {},
   "source": [
    "### Now try those queries...\n",
    "\n",
    "Replace keywords below with 'science fiction' or 'drama' and see how it works"
   ]
  },
  {
   "cell_type": "code",
   "execution_count": 8,
   "metadata": {},
   "outputs": [
    {
     "name": "stdout",
     "output_type": "stream",
     "text": [
      "['Dr. Jekyll and Mr. Hyde'] \n",
      "2.9053094 \n",
      "1920 \n",
      "['Drama', 'Horror', 'Science Fiction'] \n",
      "[\"Dr. Jekyll and Mr. Hyde is a 1920 horror silent film based upon Robert Louis Stevenson's novella The Strange Case of Dr Jekyll and Mr Hyde and starring actor John Barrymore.\"] \n",
      "---------------------------------------\n",
      "['Guardians of the Galaxy Vol. 2'] \n",
      "2.4134026 \n",
      "2017 \n",
      "['Action', 'Adventure', 'Comedy', 'Science Fiction'] \n",
      "[\"The Guardians must fight to keep their newfound family together as they unravel the mysteries of Peter Quill's true parentage.\"] \n",
      "---------------------------------------\n",
      "['Rogue One: A Star Wars Story'] \n",
      "2.4134026 \n",
      "2016 \n",
      "['Adventure', 'Science Fiction', 'Action'] \n",
      "['A rogue band of resistance fighters unite for a mission to steal the Death Star plans and bring a new hope to the galaxy.'] \n",
      "---------------------------------------\n",
      "['Wonder Woman'] \n",
      "2.4134026 \n",
      "2017 \n",
      "['Action', 'Adventure', 'Fantasy', 'Science Fiction'] \n",
      "['An Amazon princess comes to the world of Man to become the greatest of the female superheroes.'] \n",
      "---------------------------------------\n",
      "['Doctor Strange'] \n",
      "2.4134026 \n",
      "2016 \n",
      "['Action', 'Adventure', 'Fantasy', 'Science Fiction'] \n",
      "['After his career is destroyed, a brilliant but arrogant surgeon gets a new lease on life when a sorcerer takes him under his wing and trains him to defend the world against evil.'] \n",
      "---------------------------------------\n"
     ]
    }
   ],
   "source": [
    "from ltr.search import search\n",
    "search(client, keywords=\"science fiction\", modelName=\"genre\")"
   ]
  },
  {
   "cell_type": "code",
   "execution_count": 9,
   "metadata": {},
   "outputs": [
    {
     "name": "stdout",
     "output_type": "stream",
     "text": [
      "['A Man There Was'] \n",
      "3.5908287 \n",
      "1917 \n",
      "['Drama'] \n",
      "[\"Terje Vigen, a sailor, suffers the loss of his family through the cruelty of another man. Years later, when his enemy's family finds itself dependent on Terje's benevolence, Terje must decide whether to avenge himself.\"] \n",
      "---------------------------------------\n",
      "['The Immigrant'] \n",
      "3.5908287 \n",
      "1917 \n",
      "['Comedy', 'Drama'] \n",
      "['Charlie is an immigrant who endures a challenging voyage and gets into trouble as soon as he arrives in America.'] \n",
      "---------------------------------------\n",
      "['The Birth of a Nation'] \n",
      "3.5895665 \n",
      "1915 \n",
      "['War', 'Drama', 'History', 'Romance'] \n",
      "['The Birth of A Nation is a silent film from 1915 and the highest grossing silent film in film history. The film tells a romance story during the American civil war. D.W. Griffith invested heavily in its high production values, pioneering many new camera effects. The Birth of a Nation was strongly protested for its negative portrayal of newly freed slaves (mostly white actors in blackface), which went on to create and propagate negative images of blacks of the early 20th century in the United States. The film was used as a recruiting propaganda by the KKK until the 1940s.'] \n",
      "---------------------------------------\n",
      "['After Death'] \n",
      "3.5895665 \n",
      "1915 \n",
      "['Drama'] \n",
      "['Andrei lives a secluded life with his aunt, studying and thinking about his now-deceased mother. His friend Tsenin is concerned, and tries to get Andrei to accompany him to social events. After watching the actress Zoya Kadmina perform, Andrei is fascinated with her, and is then astounded to receive a note from her. He has only one brief meeting with her, and then three months later he is shocked to learn of her death. He now becomes obsessed with her memory, and he decides that he must find out all that he can about her.'] \n",
      "---------------------------------------\n",
      "['The Last Days of Pompeii'] \n",
      "3.5895665 \n",
      "1913 \n",
      "['Drama', 'Action'] \n",
      "['Well respected Pompeiian Glaucus performs an act of kindness by buying Nidia, a blind slave being mistreated by her owner. Nidia falls in love with her new master, but he only has eyes for Jone. Jone in turn is lusted after by Arbace, an Egyptian high priest of Isis. When Nidia beseeches Isis for help in capturing Glaucus\\' heart, Arbace gives her a \"love\" potion, which really will affect his mind and not his heart, thus opening the way to Jone for himself. When Arbace\\'s disciple is murdered Glaucus finds himself in hot water, shortly after which Mt. Vesuvius erupts.'] \n",
      "---------------------------------------\n"
     ]
    }
   ],
   "source": [
    "from ltr.search import search\n",
    "search(client, keywords=\"drama\", modelName=\"genre\")"
   ]
  },
  {
   "cell_type": "markdown",
   "metadata": {},
   "source": [
    "### The next problem\n",
    "\n",
    "- Overfit to these two examples\n",
    "- We need many more queries, covering more use cases"
   ]
  },
  {
   "cell_type": "code",
   "execution_count": null,
   "metadata": {},
   "outputs": [],
   "source": []
  }
 ],
 "metadata": {
  "kernelspec": {
   "display_name": "Python 3",
   "language": "python",
   "name": "python3"
  },
  "language_info": {
   "codemirror_mode": {
    "name": "ipython",
    "version": 3
   },
   "file_extension": ".py",
   "mimetype": "text/x-python",
   "name": "python",
   "nbconvert_exporter": "python",
   "pygments_lexer": "ipython3",
   "version": "3.7.6"
  }
 },
 "nbformat": 4,
 "nbformat_minor": 2
}
