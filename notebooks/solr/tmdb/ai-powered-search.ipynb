{
 "cells": [
  {
   "cell_type": "code",
   "execution_count": null,
   "metadata": {},
   "outputs": [],
   "source": [
    "import requests\n",
    "import json\n",
    "\n",
    "from ltr.client.solr_client import SolrClient\n",
    "\n",
    "client = SolrClient()\n",
    "host = client.get_host()"
   ]
  },
  {
   "cell_type": "markdown",
   "metadata": {},
   "source": [
    "## Download, reindex...\n",
    "\n",
    "1. Download the corpus & judgments\n",
    "2. Rebuild the index from the tmdb solr config\n",
    "3. Reindex movies loaded from the corpus"
   ]
  },
  {
   "cell_type": "code",
   "execution_count": null,
   "metadata": {},
   "outputs": [],
   "source": [
    "from ltr import download\n",
    "\n",
    "tmdb_corpus='http://es-learn-to-rank.labs.o19s.com/tmdb_ai_pow_search.json'\n",
    "judgments='http://es-learn-to-rank.labs.o19s.com/title_judgments_binary.txt'\n",
    "download([tmdb_corpus, judgments], dest='data/');"
   ]
  },
  {
   "cell_type": "code",
   "execution_count": null,
   "metadata": {},
   "outputs": [],
   "source": [
    "from ltr.index import rebuild\n",
    "from ltr.helpers.movies import indexable_movies\n",
    "movies=indexable_movies(movies='data/tmdb_ai_pow_search.json')\n",
    "rebuild(client, index='tmdb', doc_src=movies)"
   ]
  },
  {
   "cell_type": "markdown",
   "metadata": {},
   "source": [
    "## Listing 1, View Doc"
   ]
  },
  {
   "cell_type": "code",
   "execution_count": null,
   "metadata": {},
   "outputs": [],
   "source": [
    "client.get_doc(index='tmdb', doc_id='37799', fields=['title','tagline','overview','release_year'])"
   ]
  },
  {
   "cell_type": "markdown",
   "metadata": {},
   "source": [
    "## Manual boosting\n",
    "\n",
    "One 'generalizable' relevance solution that gets at the long tail is a manually derivved relevance function"
   ]
  },
  {
   "cell_type": "code",
   "execution_count": null,
   "metadata": {},
   "outputs": [],
   "source": [
    "q=\"\"\"title:({keywords})^10\n",
    "     overview:({keywords})^20\n",
    "     {{!func}}release_year^0.01\"\"\"\n",
    "\n",
    "q = q.format(keywords='mark zuckerberg college')\n",
    "\n",
    "solr_q = {'defType': 'edismax',\n",
    "          'fl': 'title ',\n",
    "          'q': q}\n",
    "\n",
    "client.query(index='tmdb', query=solr_q)"
   ]
  },
  {
   "cell_type": "code",
   "execution_count": null,
   "metadata": {},
   "outputs": [],
   "source": [
    "q=\"\"\"title:({keywords})^{ti_bm25_weight}\n",
    "     overview:({keywords})^{ov_bm25_weight}\n",
    "     {{!func}}release_year^{release_year_weight}\"\"\"\n",
    "\n",
    "q = q.format(ti_bm25_weight=10,\n",
    "             ov_bm25_weight=20,\n",
    "             release_year_weight=0.01,\n",
    "             keywords='mark zuckerberg college')\n",
    "\n",
    "solr_q = {'defType': 'edismax',\n",
    "          'fl': 'title',\n",
    "          'q': q}\n",
    "\n",
    "client.query(index='tmdb', query=solr_q)"
   ]
  },
  {
   "cell_type": "code",
   "execution_count": null,
   "metadata": {},
   "outputs": [],
   "source": [
    "\n",
    "def judg_csv(judgment):\n",
    "    from ltr.helpers.movies import get_movie\n",
    "    judgedMovie = get_movie(movies='data/tmdb_ai_pow_search.json', tmdb_id=judgment.docId)\n",
    "    return \"{grade},'{title}',{keywords}\".format(grade=judgment.grade,\n",
    "                                                 title=judgedMovie['title'],\n",
    "                                                 keywords=judgment.keywords)\n",
    "\n",
    "# Make a baby judgment list for book display\n",
    "from ltr.judgments import judgments_from_file\n",
    "to_sample={11:[0,1,6,9], # qid->rows in qid to sample\n",
    "           40:[0,5,12,7,20]}\n",
    "\n",
    "mini_judg_list=[]\n",
    "\n",
    "from itertools import groupby\n",
    "judgment_dict={}\n",
    "new_qid=1\n",
    "with open('data/title_judgments_binary.txt') as f:\n",
    "    for qid, query_judgments in groupby(judgments_from_file(f), key=lambda j: j.qid):\n",
    "        if qid in to_sample.keys():\n",
    "            query_judgments = [j for j in query_judgments]\n",
    "            for row in to_sample[qid]:\n",
    "                query_judgments[row].qid=new_qid\n",
    "                mini_judg_list.append(query_judgments[row])\n",
    "            new_qid+=1\n",
    "\n",
    "mini_judg_list"
   ]
  },
  {
   "cell_type": "code",
   "execution_count": null,
   "metadata": {},
   "outputs": [],
   "source": [
    "def judg_csv(judgment):\n",
    "    from ltr.helpers.movies import get_movie\n",
    "    judgedMovie = get_movie(movies='data/tmdb_ai_pow_search.json', tmdb_id=judgment.doc_id)\n",
    "    return \"{grade},'{title}',{keywords}\".format(grade=judgment.grade,\n",
    "                                                 title=judgedMovie['title'],\n",
    "                                                 keywords=judgment.keywords)"
   ]
  },
  {
   "cell_type": "markdown",
   "metadata": {},
   "source": [
    "### As CSV"
   ]
  },
  {
   "cell_type": "code",
   "execution_count": null,
   "metadata": {},
   "outputs": [],
   "source": [
    "for judgment in mini_judg_list:\n",
    "    print(judg_csv(judgment))"
   ]
  },
  {
   "cell_type": "markdown",
   "metadata": {},
   "source": [
    "### Dump the file..."
   ]
  },
  {
   "cell_type": "code",
   "execution_count": null,
   "metadata": {},
   "outputs": [],
   "source": [
    "from ltr.judgments import judgments_to_file\n",
    "from io import StringIO\n",
    "\n",
    "string_f = StringIO()\n",
    "judgments_to_file(string_f, judgmentsList=mini_judg_list)\n",
    "\n",
    "print(string_f.getvalue())"
   ]
  },
  {
   "cell_type": "markdown",
   "metadata": {},
   "source": [
    "### Same plausible features on each"
   ]
  },
  {
   "cell_type": "code",
   "execution_count": null,
   "metadata": {},
   "outputs": [],
   "source": [
    "# Setup some features for this dummy dataset\n",
    "client.reset_ltr(index='tmdb')\n",
    "\n",
    "ftr_config = [\n",
    "    #1\n",
    "    {\n",
    "      \"name\" : \"title_bm25\",\n",
    "      \"store\": \"dummy\",\n",
    "      \"class\" : \"org.apache.solr.ltr.feature.SolrFeature\",\n",
    "      \"params\" : {\n",
    "        \"q\" : \"title:(${keywords})\"\n",
    "      }\n",
    "    },\n",
    "    #2\n",
    "    {\n",
    "      \"name\" : \"overview_bm25\",\n",
    "      \"store\": \"dummy\",\n",
    "      \"class\" : \"org.apache.solr.ltr.feature.SolrFeature\",\n",
    "      \"params\" : {\n",
    "        \"q\" : \"overview:(${keywords})\"\n",
    "      }\n",
    "    },\n",
    "    {#3\n",
    "      \"name\" : \"release_year\",\n",
    "      \"store\": \"dummy\",\n",
    "      \"class\" : \"org.apache.solr.ltr.feature.SolrFeature\",\n",
    "      \"params\" : {\n",
    "        \"q\" : \"{!func}def(release_year,2000)\"\n",
    "      }\n",
    "    }\n",
    "\n",
    "]\n",
    "\n",
    "\n",
    "judgments_string=string_f.getvalue()\n",
    "client.create_featureset(index='tmdb', name='dummy', ftr_config=ftr_config)\n",
    "\n",
    "from ltr.judgments import judgments_reader\n",
    "from ltr.log import FeatureLogger\n",
    "\n",
    "ftr_logger=FeatureLogger(client, index='tmdb', feature_set='dummy')\n",
    "with judgments_reader(StringIO(judgments_string)) as judgments:\n",
    "    for qid, query_judgments in groupby(judgments, key=lambda j: j.qid):\n",
    "        ftr_logger.log_for_qid(qid=qid,\n",
    "                               keywords=judgments.keywords(qid),\n",
    "                               judgments=query_judgments)"
   ]
  },
  {
   "cell_type": "markdown",
   "metadata": {},
   "source": [
    "## Dump the training set"
   ]
  },
  {
   "cell_type": "code",
   "execution_count": null,
   "metadata": {},
   "outputs": [],
   "source": [
    "from ltr.judgments import judgments_writer\n",
    "from io import StringIO\n",
    "\n",
    "string_f = StringIO()\n",
    "with judgments_writer(string_f) as writer:\n",
    "    for j in ftr_logger.logged:\n",
    "        writer.write(j)\n",
    "\n",
    "print(string_f.getvalue())"
   ]
  },
  {
   "cell_type": "code",
   "execution_count": null,
   "metadata": {},
   "outputs": [],
   "source": [
    "import requests\n",
    "\n",
    "feature_set = [\n",
    "    {\n",
    "      \"name\" : \"title_bm25\",\n",
    "      \"store\": \"movie\",\n",
    "      \"class\" : \"org.apache.solr.ltr.feature.SolrFeature\",\n",
    "      \"params\" : { #q=title:({$keywords})\n",
    "        \"q\" : \"title:(${keywords})\"\n",
    "      }\n",
    "    },\n",
    "    {\n",
    "      \"name\" : \"overview_bm25\",\n",
    "      \"store\": \"movie\",\n",
    "      \"class\" : \"org.apache.solr.ltr.feature.SolrFeature\",\n",
    "      \"params\" : {\n",
    "        \"q\" : \"overview:(${keywords})\"\n",
    "      }\n",
    "    },\n",
    "    {\n",
    "      \"name\" : \"vote_average\",\n",
    "      \"store\": \"movie\",\n",
    "      \"class\" : \"org.apache.solr.ltr.feature.SolrFeature\",\n",
    "      \"params\" : {\n",
    "        \"q\" : \"{!func}vote_average\"\n",
    "      }\n",
    "    }\n",
    "   \n",
    "]\n",
    "\n",
    "requests.put('http://localhost:8983/solr/tmdb/schema/feature-store',\n",
    "             json=feature_set)"
   ]
  },
  {
   "cell_type": "code",
   "execution_count": null,
   "metadata": {},
   "outputs": [],
   "source": [
    "logging_solr_query = {\n",
    "    \"fl\": \"id,title,[features store=movie efi.keywords=\\\"social network\\\"]\",\n",
    "    'q': \"id:37799 OR id:267752 id:38408 OR id:28303\", #social network graded documents\n",
    "    'rows': 10,\n",
    "    'wt': 'json'  \n",
    "}\n",
    "\n",
    "resp = requests.post('http://localhost:8983/solr/tmdb/select',\n",
    "                     data=logging_solr_query)\n",
    "resp.json()"
   ]
  },
  {
   "cell_type": "code",
   "execution_count": null,
   "metadata": {},
   "outputs": [],
   "source": [
    "from ltr.client.solr_client import SolrClient\n",
    "\n",
    "client = SolrClient(host='http://localhost:8983/solr')"
   ]
  },
  {
   "cell_type": "code",
   "execution_count": null,
   "metadata": {},
   "outputs": [],
   "source": [
    "from ltr.judgments import Judgment\n",
    "\n",
    "Judgment(qid=1,keywords='social network',doc_id=37799,grade=1)"
   ]
  },
  {
   "cell_type": "markdown",
   "metadata": {},
   "source": [
    "```\n",
    "1\tqid:1\t1:18.135925\t2:8.391596\t3:2010.0 # 37799\tsocial network\n",
    "0\tqid:1\t1:0.0\t2:13.237938\t3:2013.0 # 267752\tsocial network\n",
    "0\tqid:1\t1:0.0\t2:9.576859\t3:2010.0 # 38408\tsocial network\n",
    "0\tqid:1\t1:7.5430527\t2:6.839079\t3:1970.0 # 28303\tsocial network\n",
    "1\tqid:2\t1:14.951998\t2:0.0\t3:1977.0 # 11\tstar wars\n",
    "1\tqid:2\t1:0.0\t2:4.3300323\t3:1983.0 # 1892\tstar wars\n",
    "0\tqid:2\t1:5.377082\t2:0.0\t3:2013.0 # 54138\tstar wars\n",
    "0\tqid:2\t1:7.01165\t2:0.0\t3:1952.0 # 85783\tstar wars\n",
    "0\tqid:2\t1:0.0\t2:0.0\t3:2003.0 # 325553\tstar wars\n",
    "```\n"
   ]
  },
  {
   "cell_type": "code",
   "execution_count": null,
   "metadata": {},
   "outputs": [],
   "source": [
    "mini_judg_list=[\n",
    "    Judgment(grade=1, qid=1, keywords='social network', doc_id=37799),\n",
    "    Judgment(grade=0, qid=1, keywords='social network', doc_id=267752),\n",
    "    Judgment(grade=0, qid=1, keywords='social network', doc_id=38408),\n",
    "    Judgment(grade=0, qid=1, keywords='social network', doc_id=28303),\n",
    "    Judgment(grade=1, qid=2, keywords='star wars', doc_id=11),\n",
    "    Judgment(grade=1, qid=2, keywords='star wars', doc_id=1892),\n",
    "    Judgment(grade=0, qid=2, keywords='star wars', doc_id=54138),\n",
    "    Judgment(grade=0, qid=2, keywords='star wars', doc_id=85783),\n",
    "    Judgment(grade=0, qid=2, keywords='star wars', doc_id=325553),    \n",
    "]\n",
    "\n",
    "from ltr.judgments import judgments_writer\n",
    "from io import StringIO\n",
    "\n",
    "string_file = StringIO()\n",
    "with judgments_writer(string_file) as writer:\n",
    "    for j in mini_judg_list:\n",
    "        writer.write(j)\n",
    "\n",
    "print(string_f.getvalue())\n",
    "\n",
    "\n"
   ]
  },
  {
   "cell_type": "code",
   "execution_count": null,
   "metadata": {},
   "outputs": [],
   "source": [
    "mini_judg_list[0].features"
   ]
  },
  {
   "cell_type": "code",
   "execution_count": null,
   "metadata": {},
   "outputs": [],
   "source": [
    "from ltr import download\n",
    "from ltr.log import FeatureLogger\n",
    "from ltr.judgments import judgments_open\n",
    "from itertools import groupby\n",
    "\n",
    "judgments='http://es-learn-to-rank.labs.o19s.com/title_judgments_binary.txt'\n",
    "download([judgments], dest='data/')\n",
    "\n",
    "ftr_logger=FeatureLogger(client, index='tmdb', feature_set='movie')\n",
    "\n",
    "with judgments_open('data/title_judgments.txt') as judgment_list:\n",
    "    for qid, query_judgments in groupby(judgment_list, key=lambda j: j.qid):\n",
    "        ftr_logger.log_for_qid(judgments=query_judgments, \n",
    "                               qid=qid,\n",
    "                               keywords=judgment_list.keywords(qid))\n",
    "        \n",
    "ftr_logger.logged"
   ]
  },
  {
   "cell_type": "code",
   "execution_count": null,
   "metadata": {},
   "outputs": [],
   "source": []
  }
 ],
 "metadata": {
  "kernelspec": {
   "display_name": "Python 3",
   "language": "python",
   "name": "python3"
  },
  "language_info": {
   "codemirror_mode": {
    "name": "ipython",
    "version": 3
   },
   "file_extension": ".py",
   "mimetype": "text/x-python",
   "name": "python",
   "nbconvert_exporter": "python",
   "pygments_lexer": "ipython3",
   "version": "3.6.1"
  }
 },
 "nbformat": 4,
 "nbformat_minor": 2
}
