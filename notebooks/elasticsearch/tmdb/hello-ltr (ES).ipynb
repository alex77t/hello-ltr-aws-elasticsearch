{
 "cells": [
  {
   "cell_type": "markdown",
   "metadata": {},
   "source": [
    "# Hello LTR!"
   ]
  },
  {
   "cell_type": "markdown",
   "metadata": {},
   "source": [
    "Fire up an elastic server with the LTR plugin installed and run thru the cells below to get started with Learning-to-Rank. These notebooks we'll use in this training have something of an ltr client library, and a starting point for demonstrating several important learning to rank capabilities.\n",
    "\n",
    "This notebook will document many of the important pieces so you can reuse them in future training sessions"
   ]
  },
  {
   "cell_type": "markdown",
   "metadata": {},
   "source": [
    "### Download some requirements\n",
    "\n",
    "Several requirements/datasets are stored in online, these include various training data sets, the data sets, and tools. You'll only need to do this once. But if you lose the data, you can repeat this command if needed."
   ]
  },
  {
   "cell_type": "code",
   "execution_count": null,
   "metadata": {},
   "outputs": [],
   "source": [
    "from ltr import download\n",
    "corpus='http://es-learn-to-rank.labs.o19s.com/tmdb.json'\n",
    "\n",
    "download([corpus], dest='data/');"
   ]
  },
  {
   "cell_type": "markdown",
   "metadata": {},
   "source": [
    "### Use the Elastic client\n",
    "\n",
    "Two LTR clients exist in this code, an ElasticClient and a SolrClient. The workflow for doing Learning to Rank is the same in both search engines"
   ]
  },
  {
   "cell_type": "code",
   "execution_count": 1,
   "metadata": {},
   "outputs": [],
   "source": [
    "from ltr.client import ElasticClient\n",
    "client = ElasticClient()"
   ]
  },
  {
   "cell_type": "markdown",
   "metadata": {},
   "source": [
    "### Index Movies\n",
    "\n",
    "In these demos, we'll use [TheMovieDB](http://themoviedb.org) alongside some supporting assets from places like movielens.\n",
    "\n",
    "When we reindex, we'll use `rebuild_tmdb` which deletes and recreates the index, with a few hooks to help us enrich the underlying data or modify the search engine configuration for feature engineering."
   ]
  },
  {
   "cell_type": "code",
   "execution_count": null,
   "metadata": {},
   "outputs": [],
   "source": [
    "from ltr.index import rebuild\n",
    "from ltr.helpers.movies import indexable_movies\n",
    "\n",
    "movies=indexable_movies(movies='data/tmdb.json')\n",
    "rebuild(client, index='tmdb', doc_src=movies)"
   ]
  },
  {
   "cell_type": "markdown",
   "metadata": {},
   "source": [
    "### Configure Learning to Rank\n",
    "\n",
    "We'll discuss the feature sets a bit more. You can think of them as a series of queries that will be stored and executed before we need to train a model. \n",
    "\n",
    "`setup` is our function for preparing learning to rank to optimize search using a set of features. In this stock demo, we just have one feature, the year of the movie's release."
   ]
  },
  {
   "cell_type": "code",
   "execution_count": 2,
   "metadata": {},
   "outputs": [
    {
     "name": "stdout",
     "output_type": "stream",
     "text": [
      "Removed Default LTR feature store [Status: 200]\n",
      "Initialize Default LTR feature store [Status: 200]\n",
      "Create release feature set [Status: 201]\n"
     ]
    }
   ],
   "source": [
    "client.reset_ltr(index='tmdb')\n",
    "\n",
    "config = {\n",
    "    \"featureset\": {\n",
    "        \"features\": [\n",
    "            {\n",
    "                \"name\": \"release_year\",\n",
    "                \"params\": [],\n",
    "                \"template\": {\n",
    "                    \"function_score\": {\n",
    "                        \"field_value_factor\": {\n",
    "                            \"field\": \"release_year\",\n",
    "                            \"missing\": 2000\n",
    "                        },\n",
    "                        \"query\": { \"match_all\": {} }\n",
    "                    }\n",
    "                }\n",
    "            }\n",
    "        ]\n",
    "    }\n",
    "}\n",
    "\n",
    "client.create_featureset(index='tmdb', name='release', ftr_config=config)"
   ]
  },
  {
   "cell_type": "markdown",
   "metadata": {},
   "source": [
    "## Is this thing on?\n",
    "\n",
    "Before we dive into all the pieces, with a real training set, we'll try out two examples of models. One that always prefers newer movies. And another that always prefers older movies. If you're curious you can opet `classic-training.txt` and `latest-training.txt` after running this to see what the training set looks like. "
   ]
  },
  {
   "cell_type": "code",
   "execution_count": 3,
   "metadata": {},
   "outputs": [
    {
     "name": "stdout",
     "output_type": "stream",
     "text": [
      "Generating ratings for classic and latest model\n",
      "Searching tmdb - [{'terms': {'_id': N [Status: 200]\n",
      "Done\n",
      "Recognizing 1 queries...\n",
      "Recognizing 1 queries...\n"
     ]
    },
    {
     "data": {
      "text/plain": [
       "[Judgment(grade=0,qid=1,keywords=,docId=0,features=[2014.0],weight=1,\n",
       " Judgment(grade=1,qid=1,keywords=,docId=1,features=[1995.0],weight=1,\n",
       " Judgment(grade=1,qid=1,keywords=,docId=1,features=[1994.0],weight=1,\n",
       " Judgment(grade=0,qid=1,keywords=,docId=0,features=[2016.0],weight=1,\n",
       " Judgment(grade=2,qid=1,keywords=,docId=2,features=[1972.0],weight=1,\n",
       " Judgment(grade=0,qid=1,keywords=,docId=0,features=[2016.0],weight=1,\n",
       " Judgment(grade=0,qid=1,keywords=,docId=0,features=[2014.0],weight=1,\n",
       " Judgment(grade=1,qid=1,keywords=,docId=1,features=[1993.0],weight=1,\n",
       " Judgment(grade=1,qid=1,keywords=,docId=1,features=[2001.0],weight=1,\n",
       " Judgment(grade=2,qid=1,keywords=,docId=2,features=[1974.0],weight=1,\n",
       " Judgment(grade=0,qid=1,keywords=,docId=0,features=[2017.0],weight=1,\n",
       " Judgment(grade=3,qid=1,keywords=,docId=3,features=[1953.0],weight=1,\n",
       " Judgment(grade=1,qid=1,keywords=,docId=1,features=[1999.0],weight=1,\n",
       " Judgment(grade=1,qid=1,keywords=,docId=1,features=[1994.0],weight=1,\n",
       " Judgment(grade=1,qid=1,keywords=,docId=1,features=[1997.0],weight=1,\n",
       " Judgment(grade=1,qid=1,keywords=,docId=1,features=[2008.0],weight=1,\n",
       " Judgment(grade=3,qid=1,keywords=,docId=3,features=[1964.0],weight=1,\n",
       " Judgment(grade=2,qid=1,keywords=,docId=2,features=[1990.0],weight=1,\n",
       " Judgment(grade=2,qid=1,keywords=,docId=2,features=[1975.0],weight=1,\n",
       " Judgment(grade=1,qid=1,keywords=,docId=1,features=[1994.0],weight=1,\n",
       " Judgment(grade=3,qid=1,keywords=,docId=3,features=[1954.0],weight=1,\n",
       " Judgment(grade=0,qid=1,keywords=,docId=0,features=[2016.0],weight=1,\n",
       " Judgment(grade=1,qid=1,keywords=,docId=1,features=[1999.0],weight=1,\n",
       " Judgment(grade=3,qid=1,keywords=,docId=3,features=[1957.0],weight=1,\n",
       " Judgment(grade=2,qid=1,keywords=,docId=2,features=[1980.0],weight=1,\n",
       " Judgment(grade=1,qid=1,keywords=,docId=1,features=[1997.0],weight=1,\n",
       " Judgment(grade=0,qid=1,keywords=,docId=0,features=[2011.0],weight=1,\n",
       " Judgment(grade=3,qid=1,keywords=,docId=3,features=[1960.0],weight=1,\n",
       " Judgment(grade=4,qid=1,keywords=,docId=4,features=[1950.0],weight=1,\n",
       " Judgment(grade=4,qid=1,keywords=,docId=4,features=[1948.0],weight=1,\n",
       " Judgment(grade=0,qid=1,keywords=,docId=0,features=[2013.0],weight=1,\n",
       " Judgment(grade=1,qid=1,keywords=,docId=1,features=[1994.0],weight=1,\n",
       " Judgment(grade=1,qid=1,keywords=,docId=1,features=[2002.0],weight=1,\n",
       " Judgment(grade=1,qid=1,keywords=,docId=1,features=[1998.0],weight=1,\n",
       " Judgment(grade=4,qid=1,keywords=,docId=4,features=[1931.0],weight=1,\n",
       " Judgment(grade=2,qid=1,keywords=,docId=2,features=[1988.0],weight=1,\n",
       " Judgment(grade=1,qid=1,keywords=,docId=1,features=[2003.0],weight=1,\n",
       " Judgment(grade=0,qid=1,keywords=,docId=0,features=[2014.0],weight=1,\n",
       " Judgment(grade=2,qid=1,keywords=,docId=2,features=[1988.0],weight=1,\n",
       " Judgment(grade=3,qid=1,keywords=,docId=3,features=[1954.0],weight=1,\n",
       " Judgment(grade=2,qid=1,keywords=,docId=2,features=[1984.0],weight=1,\n",
       " Judgment(grade=3,qid=1,keywords=,docId=3,features=[1953.0],weight=1,\n",
       " Judgment(grade=3,qid=1,keywords=,docId=3,features=[1962.0],weight=1,\n",
       " Judgment(grade=3,qid=1,keywords=,docId=3,features=[1957.0],weight=1,\n",
       " Judgment(grade=1,qid=1,keywords=,docId=1,features=[2004.0],weight=1,\n",
       " Judgment(grade=1,qid=1,keywords=,docId=1,features=[2008.0],weight=1,\n",
       " Judgment(grade=4,qid=1,keywords=,docId=4,features=[1924.0],weight=1,\n",
       " Judgment(grade=3,qid=1,keywords=,docId=3,features=[1957.0],weight=1,\n",
       " Judgment(grade=3,qid=1,keywords=,docId=3,features=[1966.0],weight=1,\n",
       " Judgment(grade=3,qid=1,keywords=,docId=3,features=[1963.0],weight=1,\n",
       " Judgment(grade=1,qid=1,keywords=,docId=1,features=[1995.0],weight=1,\n",
       " Judgment(grade=1,qid=1,keywords=,docId=1,features=[2009.0],weight=1,\n",
       " Judgment(grade=4,qid=1,keywords=,docId=4,features=[1936.0],weight=1,\n",
       " Judgment(grade=0,qid=1,keywords=,docId=0,features=[2015.0],weight=1,\n",
       " Judgment(grade=0,qid=1,keywords=,docId=0,features=[2016.0],weight=1,\n",
       " Judgment(grade=1,qid=1,keywords=,docId=1,features=[1995.0],weight=1,\n",
       " Judgment(grade=1,qid=1,keywords=,docId=1,features=[2003.0],weight=1,\n",
       " Judgment(grade=0,qid=1,keywords=,docId=0,features=[2014.0],weight=1,\n",
       " Judgment(grade=4,qid=1,keywords=,docId=4,features=[1928.0],weight=1,\n",
       " Judgment(grade=1,qid=1,keywords=,docId=1,features=[2001.0],weight=1,\n",
       " Judgment(grade=0,qid=1,keywords=,docId=0,features=[2014.0],weight=1,\n",
       " Judgment(grade=2,qid=1,keywords=,docId=2,features=[1985.0],weight=1,\n",
       " Judgment(grade=4,qid=1,keywords=,docId=4,features=[1940.0],weight=1,\n",
       " Judgment(grade=2,qid=1,keywords=,docId=2,features=[1989.0],weight=1,\n",
       " Judgment(grade=0,qid=1,keywords=,docId=0,features=[2016.0],weight=1,\n",
       " Judgment(grade=1,qid=1,keywords=,docId=1,features=[2010.0],weight=1,\n",
       " Judgment(grade=0,qid=1,keywords=,docId=0,features=[2011.0],weight=1,\n",
       " Judgment(grade=3,qid=1,keywords=,docId=3,features=[1966.0],weight=1,\n",
       " Judgment(grade=2,qid=1,keywords=,docId=2,features=[1977.0],weight=1,\n",
       " Judgment(grade=4,qid=1,keywords=,docId=4,features=[1948.0],weight=1,\n",
       " Judgment(grade=1,qid=1,keywords=,docId=1,features=[2000.0],weight=1,\n",
       " Judgment(grade=3,qid=1,keywords=,docId=3,features=[1960.0],weight=1,\n",
       " Judgment(grade=0,qid=1,keywords=,docId=0,features=[2016.0],weight=1,\n",
       " Judgment(grade=3,qid=1,keywords=,docId=3,features=[1959.0],weight=1,\n",
       " Judgment(grade=1,qid=1,keywords=,docId=1,features=[1991.0],weight=1,\n",
       " Judgment(grade=0,qid=1,keywords=,docId=0,features=[2012.0],weight=1,\n",
       " Judgment(grade=0,qid=1,keywords=,docId=0,features=[2016.0],weight=1,\n",
       " Judgment(grade=3,qid=1,keywords=,docId=3,features=[1958.0],weight=1,\n",
       " Judgment(grade=3,qid=1,keywords=,docId=3,features=[1968.0],weight=1,\n",
       " Judgment(grade=1,qid=1,keywords=,docId=1,features=[2002.0],weight=1,\n",
       " Judgment(grade=0,qid=1,keywords=,docId=0,features=[2013.0],weight=1,\n",
       " Judgment(grade=0,qid=1,keywords=,docId=0,features=[2015.0],weight=1,\n",
       " Judgment(grade=0,qid=1,keywords=,docId=0,features=[2011.0],weight=1,\n",
       " Judgment(grade=1,qid=1,keywords=,docId=1,features=[1992.0],weight=1,\n",
       " Judgment(grade=2,qid=1,keywords=,docId=2,features=[1982.0],weight=1,\n",
       " Judgment(grade=0,qid=1,keywords=,docId=0,features=[2011.0],weight=1,\n",
       " Judgment(grade=3,qid=1,keywords=,docId=3,features=[1954.0],weight=1,\n",
       " Judgment(grade=0,qid=1,keywords=,docId=0,features=[2012.0],weight=1,\n",
       " Judgment(grade=2,qid=1,keywords=,docId=2,features=[1980.0],weight=1,\n",
       " Judgment(grade=0,qid=1,keywords=,docId=0,features=[2012.0],weight=1,\n",
       " Judgment(grade=2,qid=1,keywords=,docId=2,features=[1976.0],weight=1,\n",
       " Judgment(grade=1,qid=1,keywords=,docId=1,features=[1998.0],weight=1,\n",
       " Judgment(grade=4,qid=1,keywords=,docId=4,features=[1927.0],weight=1,\n",
       " Judgment(grade=3,qid=1,keywords=,docId=3,features=[1961.0],weight=1,\n",
       " Judgment(grade=1,qid=1,keywords=,docId=1,features=[1997.0],weight=1,\n",
       " Judgment(grade=2,qid=1,keywords=,docId=2,features=[1988.0],weight=1,\n",
       " Judgment(grade=0,qid=1,keywords=,docId=0,features=[2014.0],weight=1,\n",
       " Judgment(grade=2,qid=1,keywords=,docId=2,features=[1985.0],weight=1,\n",
       " Judgment(grade=2,qid=1,keywords=,docId=2,features=[1973.0],weight=1,\n",
       " Judgment(grade=1,qid=1,keywords=,docId=1,features=[2003.0],weight=1,\n",
       " Judgment(grade=2,qid=1,keywords=,docId=2,features=[1979.0],weight=1,\n",
       " Judgment(grade=4,qid=1,keywords=,docId=4,features=[1946.0],weight=1,\n",
       " Judgment(grade=4,qid=1,keywords=,docId=4,features=[1950.0],weight=1,\n",
       " Judgment(grade=4,qid=1,keywords=,docId=4,features=[1931.0],weight=1,\n",
       " Judgment(grade=4,qid=1,keywords=,docId=4,features=[1921.0],weight=1,\n",
       " Judgment(grade=1,qid=1,keywords=,docId=1,features=[2001.0],weight=1,\n",
       " Judgment(grade=0,qid=1,keywords=,docId=0,features=[2014.0],weight=1,\n",
       " Judgment(grade=0,qid=1,keywords=,docId=0,features=[2015.0],weight=1,\n",
       " Judgment(grade=0,qid=1,keywords=,docId=0,features=[2014.0],weight=1,\n",
       " Judgment(grade=0,qid=1,keywords=,docId=0,features=[2015.0],weight=1,\n",
       " Judgment(grade=3,qid=1,keywords=,docId=3,features=[1952.0],weight=1,\n",
       " Judgment(grade=0,qid=1,keywords=,docId=0,features=[2013.0],weight=1,\n",
       " Judgment(grade=0,qid=1,keywords=,docId=0,features=[2014.0],weight=1,\n",
       " Judgment(grade=1,qid=1,keywords=,docId=1,features=[2008.0],weight=1,\n",
       " Judgment(grade=0,qid=1,keywords=,docId=0,features=[2013.0],weight=1,\n",
       " Judgment(grade=3,qid=1,keywords=,docId=3,features=[1958.0],weight=1,\n",
       " Judgment(grade=3,qid=1,keywords=,docId=3,features=[1956.0],weight=1,\n",
       " Judgment(grade=0,qid=1,keywords=,docId=0,features=[2015.0],weight=1,\n",
       " Judgment(grade=1,qid=1,keywords=,docId=1,features=[2002.0],weight=1,\n",
       " Judgment(grade=3,qid=1,keywords=,docId=3,features=[1964.0],weight=1,\n",
       " Judgment(grade=4,qid=1,keywords=,docId=4,features=[1944.0],weight=1,\n",
       " Judgment(grade=0,qid=1,keywords=,docId=0,features=[2016.0],weight=1,\n",
       " Judgment(grade=0,qid=1,keywords=,docId=0,features=[2015.0],weight=1,\n",
       " Judgment(grade=3,qid=1,keywords=,docId=3,features=[1959.0],weight=1,\n",
       " Judgment(grade=0,qid=1,keywords=,docId=0,features=[2016.0],weight=1,\n",
       " Judgment(grade=3,qid=1,keywords=,docId=3,features=[1959.0],weight=1,\n",
       " Judgment(grade=4,qid=1,keywords=,docId=4,features=[1941.0],weight=1,\n",
       " Judgment(grade=3,qid=1,keywords=,docId=3,features=[1962.0],weight=1,\n",
       " Judgment(grade=1,qid=1,keywords=,docId=1,features=[2006.0],weight=1,\n",
       " Judgment(grade=2,qid=1,keywords=,docId=2,features=[1983.0],weight=1,\n",
       " Judgment(grade=4,qid=1,keywords=,docId=4,features=[1928.0],weight=1,\n",
       " Judgment(grade=2,qid=1,keywords=,docId=2,features=[1981.0],weight=1,\n",
       " Judgment(grade=3,qid=1,keywords=,docId=3,features=[1967.0],weight=1,\n",
       " Judgment(grade=4,qid=1,keywords=,docId=4,features=[1950.0],weight=1,\n",
       " Judgment(grade=4,qid=1,keywords=,docId=4,features=[1926.0],weight=1,\n",
       " Judgment(grade=4,qid=1,keywords=,docId=4,features=[1939.0],weight=1,\n",
       " Judgment(grade=1,qid=1,keywords=,docId=1,features=[2008.0],weight=1,\n",
       " Judgment(grade=0,qid=1,keywords=,docId=0,features=[2016.0],weight=1,\n",
       " Judgment(grade=1,qid=1,keywords=,docId=1,features=[1994.0],weight=1,\n",
       " Judgment(grade=4,qid=1,keywords=,docId=4,features=[1949.0],weight=1,\n",
       " Judgment(grade=3,qid=1,keywords=,docId=3,features=[1955.0],weight=1,\n",
       " Judgment(grade=4,qid=1,keywords=,docId=4,features=[1941.0],weight=1,\n",
       " Judgment(grade=3,qid=1,keywords=,docId=3,features=[1953.0],weight=1,\n",
       " Judgment(grade=1,qid=1,keywords=,docId=1,features=[2009.0],weight=1,\n",
       " Judgment(grade=1,qid=1,keywords=,docId=1,features=[2010.0],weight=1,\n",
       " Judgment(grade=0,qid=1,keywords=,docId=0,features=[2013.0],weight=1,\n",
       " Judgment(grade=3,qid=1,keywords=,docId=3,features=[1967.0],weight=1,\n",
       " Judgment(grade=3,qid=1,keywords=,docId=3,features=[1951.0],weight=1,\n",
       " Judgment(grade=1,qid=1,keywords=,docId=1,features=[1997.0],weight=1,\n",
       " Judgment(grade=1,qid=1,keywords=,docId=1,features=[2006.0],weight=1,\n",
       " Judgment(grade=0,qid=1,keywords=,docId=0,features=[2016.0],weight=1,\n",
       " Judgment(grade=0,qid=1,keywords=,docId=0,features=[2017.0],weight=1,\n",
       " Judgment(grade=1,qid=1,keywords=,docId=1,features=[2004.0],weight=1,\n",
       " Judgment(grade=2,qid=1,keywords=,docId=2,features=[1971.0],weight=1,\n",
       " Judgment(grade=4,qid=1,keywords=,docId=4,features=[1902.0],weight=1,\n",
       " Judgment(grade=3,qid=1,keywords=,docId=3,features=[1953.0],weight=1,\n",
       " Judgment(grade=0,qid=1,keywords=,docId=0,features=[2014.0],weight=1,\n",
       " Judgment(grade=3,qid=1,keywords=,docId=3,features=[1962.0],weight=1,\n",
       " Judgment(grade=0,qid=1,keywords=,docId=0,features=[2013.0],weight=1,\n",
       " Judgment(grade=1,qid=1,keywords=,docId=1,features=[2006.0],weight=1,\n",
       " Judgment(grade=0,qid=1,keywords=,docId=0,features=[2017.0],weight=1,\n",
       " Judgment(grade=0,qid=1,keywords=,docId=0,features=[2012.0],weight=1,\n",
       " Judgment(grade=2,qid=1,keywords=,docId=2,features=[1987.0],weight=1,\n",
       " Judgment(grade=0,qid=1,keywords=,docId=0,features=[2014.0],weight=1,\n",
       " Judgment(grade=2,qid=1,keywords=,docId=2,features=[1975.0],weight=1,\n",
       " Judgment(grade=1,qid=1,keywords=,docId=1,features=[1999.0],weight=1,\n",
       " Judgment(grade=2,qid=1,keywords=,docId=2,features=[1975.0],weight=1,\n",
       " Judgment(grade=1,qid=1,keywords=,docId=1,features=[2000.0],weight=1,\n",
       " Judgment(grade=0,qid=1,keywords=,docId=0,features=[2015.0],weight=1,\n",
       " Judgment(grade=1,qid=1,keywords=,docId=1,features=[1999.0],weight=1,\n",
       " Judgment(grade=3,qid=1,keywords=,docId=3,features=[1952.0],weight=1,\n",
       " Judgment(grade=0,qid=1,keywords=,docId=0,features=[2013.0],weight=1,\n",
       " Judgment(grade=2,qid=1,keywords=,docId=2,features=[1982.0],weight=1,\n",
       " Judgment(grade=4,qid=1,keywords=,docId=4,features=[1942.0],weight=1,\n",
       " Judgment(grade=2,qid=1,keywords=,docId=2,features=[1973.0],weight=1,\n",
       " Judgment(grade=1,qid=1,keywords=,docId=1,features=[2007.0],weight=1,\n",
       " Judgment(grade=1,qid=1,keywords=,docId=1,features=[1998.0],weight=1,\n",
       " Judgment(grade=0,qid=1,keywords=,docId=0,features=[2013.0],weight=1,\n",
       " Judgment(grade=2,qid=1,keywords=,docId=2,features=[1973.0],weight=1,\n",
       " Judgment(grade=0,qid=1,keywords=,docId=0,features=[2016.0],weight=1,\n",
       " Judgment(grade=4,qid=1,keywords=,docId=4,features=[1940.0],weight=1,\n",
       " Judgment(grade=4,qid=1,keywords=,docId=4,features=[1948.0],weight=1,\n",
       " Judgment(grade=1,qid=1,keywords=,docId=1,features=[1994.0],weight=1,\n",
       " Judgment(grade=2,qid=1,keywords=,docId=2,features=[1983.0],weight=1,\n",
       " Judgment(grade=1,qid=1,keywords=,docId=1,features=[1997.0],weight=1,\n",
       " Judgment(grade=1,qid=1,keywords=,docId=1,features=[2010.0],weight=1,\n",
       " Judgment(grade=0,qid=1,keywords=,docId=0,features=[2013.0],weight=1,\n",
       " Judgment(grade=0,qid=1,keywords=,docId=0,features=[2014.0],weight=1,\n",
       " Judgment(grade=1,qid=1,keywords=,docId=1,features=[2009.0],weight=1,\n",
       " Judgment(grade=0,qid=1,keywords=,docId=0,features=[2014.0],weight=1,\n",
       " Judgment(grade=0,qid=1,keywords=,docId=0,features=[2013.0],weight=1,\n",
       " Judgment(grade=1,qid=1,keywords=,docId=1,features=[1995.0],weight=1,\n",
       " Judgment(grade=1,qid=1,keywords=,docId=1,features=[2000.0],weight=1,\n",
       " Judgment(grade=2,qid=1,keywords=,docId=2,features=[1980.0],weight=1,\n",
       " Judgment(grade=1,qid=1,keywords=,docId=1,features=[2009.0],weight=1,\n",
       " Judgment(grade=1,qid=1,keywords=,docId=1,features=[1997.0],weight=1,\n",
       " Judgment(grade=3,qid=1,keywords=,docId=3,features=[1966.0],weight=1,\n",
       " Judgment(grade=0,qid=1,keywords=,docId=0,features=[2016.0],weight=1,\n",
       " Judgment(grade=2,qid=1,keywords=,docId=2,features=[1979.0],weight=1,\n",
       " Judgment(grade=1,qid=1,keywords=,docId=1,features=[2003.0],weight=1,\n",
       " Judgment(grade=3,qid=1,keywords=,docId=3,features=[1963.0],weight=1,\n",
       " Judgment(grade=2,qid=1,keywords=,docId=2,features=[1974.0],weight=1,\n",
       " Judgment(grade=0,qid=1,keywords=,docId=0,features=[2015.0],weight=1,\n",
       " Judgment(grade=2,qid=1,keywords=,docId=2,features=[1973.0],weight=1,\n",
       " Judgment(grade=3,qid=1,keywords=,docId=3,features=[1968.0],weight=1,\n",
       " Judgment(grade=0,qid=1,keywords=,docId=0,features=[2014.0],weight=1,\n",
       " Judgment(grade=0,qid=1,keywords=,docId=0,features=[2016.0],weight=1,\n",
       " Judgment(grade=2,qid=1,keywords=,docId=2,features=[1986.0],weight=1,\n",
       " Judgment(grade=1,qid=1,keywords=,docId=1,features=[1994.0],weight=1,\n",
       " Judgment(grade=0,qid=1,keywords=,docId=0,features=[2011.0],weight=1,\n",
       " Judgment(grade=2,qid=1,keywords=,docId=2,features=[1975.0],weight=1,\n",
       " Judgment(grade=3,qid=1,keywords=,docId=3,features=[1957.0],weight=1,\n",
       " Judgment(grade=3,qid=1,keywords=,docId=3,features=[1962.0],weight=1,\n",
       " Judgment(grade=4,qid=1,keywords=,docId=4,features=[1949.0],weight=1,\n",
       " Judgment(grade=0,qid=1,keywords=,docId=0,features=[2011.0],weight=1,\n",
       " Judgment(grade=0,qid=1,keywords=,docId=0,features=[2015.0],weight=1,\n",
       " Judgment(grade=1,qid=1,keywords=,docId=1,features=[2001.0],weight=1,\n",
       " Judgment(grade=2,qid=1,keywords=,docId=2,features=[1985.0],weight=1,\n",
       " Judgment(grade=3,qid=1,keywords=,docId=3,features=[1960.0],weight=1,\n",
       " Judgment(grade=3,qid=1,keywords=,docId=3,features=[1957.0],weight=1,\n",
       " Judgment(grade=0,qid=1,keywords=,docId=0,features=[2015.0],weight=1,\n",
       " Judgment(grade=1,qid=1,keywords=,docId=1,features=[1997.0],weight=1,\n",
       " Judgment(grade=0,qid=1,keywords=,docId=0,features=[2013.0],weight=1,\n",
       " Judgment(grade=3,qid=1,keywords=,docId=3,features=[1959.0],weight=1,\n",
       " Judgment(grade=0,qid=1,keywords=,docId=0,features=[2015.0],weight=1,\n",
       " Judgment(grade=1,qid=1,keywords=,docId=1,features=[1993.0],weight=1,\n",
       " Judgment(grade=3,qid=1,keywords=,docId=3,features=[1962.0],weight=1,\n",
       " Judgment(grade=1,qid=1,keywords=,docId=1,features=[2009.0],weight=1,\n",
       " Judgment(grade=1,qid=1,keywords=,docId=1,features=[2008.0],weight=1,\n",
       " Judgment(grade=3,qid=1,keywords=,docId=3,features=[1952.0],weight=1,\n",
       " Judgment(grade=0,qid=1,keywords=,docId=0,features=[2016.0],weight=1,\n",
       " Judgment(grade=0,qid=1,keywords=,docId=0,features=[2016.0],weight=1,\n",
       " Judgment(grade=3,qid=1,keywords=,docId=3,features=[1966.0],weight=1,\n",
       " Judgment(grade=3,qid=1,keywords=,docId=3,features=[1955.0],weight=1,\n",
       " Judgment(grade=0,qid=1,keywords=,docId=0,features=[2014.0],weight=1,\n",
       " Judgment(grade=3,qid=1,keywords=,docId=3,features=[1966.0],weight=1,\n",
       " Judgment(grade=1,qid=1,keywords=,docId=1,features=[1991.0],weight=1,\n",
       " Judgment(grade=0,qid=1,keywords=,docId=0,features=[2012.0],weight=1,\n",
       " Judgment(grade=0,qid=1,keywords=,docId=0,features=[2011.0],weight=1,\n",
       " Judgment(grade=3,qid=1,keywords=,docId=3,features=[1962.0],weight=1,\n",
       " Judgment(grade=1,qid=1,keywords=,docId=1,features=[2007.0],weight=1,\n",
       " Judgment(grade=0,qid=1,keywords=,docId=0,features=[2015.0],weight=1,\n",
       " Judgment(grade=3,qid=1,keywords=,docId=3,features=[1962.0],weight=1,\n",
       " Judgment(grade=3,qid=1,keywords=,docId=3,features=[1960.0],weight=1,\n",
       " Judgment(grade=1,qid=1,keywords=,docId=1,features=[2006.0],weight=1,\n",
       " Judgment(grade=3,qid=1,keywords=,docId=3,features=[1957.0],weight=1,\n",
       " Judgment(grade=2,qid=1,keywords=,docId=2,features=[1988.0],weight=1,\n",
       " Judgment(grade=0,qid=1,keywords=,docId=0,features=[2013.0],weight=1,\n",
       " Judgment(grade=3,qid=1,keywords=,docId=3,features=[1963.0],weight=1,\n",
       " Judgment(grade=4,qid=1,keywords=,docId=4,features=[1940.0],weight=1,\n",
       " Judgment(grade=1,qid=1,keywords=,docId=1,features=[1996.0],weight=1,\n",
       " Judgment(grade=1,qid=1,keywords=,docId=1,features=[2008.0],weight=1,\n",
       " Judgment(grade=4,qid=1,keywords=,docId=4,features=[1927.0],weight=1,\n",
       " Judgment(grade=2,qid=1,keywords=,docId=2,features=[1982.0],weight=1,\n",
       " Judgment(grade=3,qid=1,keywords=,docId=3,features=[1953.0],weight=1,\n",
       " Judgment(grade=0,qid=1,keywords=,docId=0,features=[2012.0],weight=1,\n",
       " Judgment(grade=0,qid=1,keywords=,docId=0,features=[2011.0],weight=1,\n",
       " Judgment(grade=1,qid=1,keywords=,docId=1,features=[2007.0],weight=1,\n",
       " Judgment(grade=3,qid=1,keywords=,docId=3,features=[1962.0],weight=1,\n",
       " Judgment(grade=1,qid=1,keywords=,docId=1,features=[2006.0],weight=1,\n",
       " Judgment(grade=4,qid=1,keywords=,docId=4,features=[1945.0],weight=1,\n",
       " Judgment(grade=1,qid=1,keywords=,docId=1,features=[1998.0],weight=1,\n",
       " Judgment(grade=1,qid=1,keywords=,docId=1,features=[2007.0],weight=1,\n",
       " Judgment(grade=4,qid=1,keywords=,docId=4,features=[1941.0],weight=1,\n",
       " Judgment(grade=1,qid=1,keywords=,docId=1,features=[2008.0],weight=1,\n",
       " Judgment(grade=4,qid=1,keywords=,docId=4,features=[1948.0],weight=1,\n",
       " Judgment(grade=3,qid=1,keywords=,docId=3,features=[1966.0],weight=1,\n",
       " Judgment(grade=2,qid=1,keywords=,docId=2,features=[1986.0],weight=1,\n",
       " Judgment(grade=1,qid=1,keywords=,docId=1,features=[2000.0],weight=1,\n",
       " Judgment(grade=3,qid=1,keywords=,docId=3,features=[1954.0],weight=1,\n",
       " Judgment(grade=1,qid=1,keywords=,docId=1,features=[1998.0],weight=1,\n",
       " Judgment(grade=2,qid=1,keywords=,docId=2,features=[1979.0],weight=1,\n",
       " Judgment(grade=3,qid=1,keywords=,docId=3,features=[1963.0],weight=1,\n",
       " Judgment(grade=4,qid=1,keywords=,docId=4,features=[1946.0],weight=1,\n",
       " Judgment(grade=1,qid=1,keywords=,docId=1,features=[2008.0],weight=1,\n",
       " Judgment(grade=1,qid=1,keywords=,docId=1,features=[2010.0],weight=1,\n",
       " Judgment(grade=1,qid=1,keywords=,docId=1,features=[1995.0],weight=1,\n",
       " Judgment(grade=1,qid=1,keywords=,docId=1,features=[2008.0],weight=1,\n",
       " Judgment(grade=1,qid=1,keywords=,docId=1,features=[2001.0],weight=1,\n",
       " Judgment(grade=1,qid=1,keywords=,docId=1,features=[1994.0],weight=1,\n",
       " Judgment(grade=2,qid=1,keywords=,docId=2,features=[1973.0],weight=1,\n",
       " Judgment(grade=3,qid=1,keywords=,docId=3,features=[1957.0],weight=1,\n",
       " Judgment(grade=4,qid=1,keywords=,docId=4,features=[1947.0],weight=1,\n",
       " Judgment(grade=2,qid=1,keywords=,docId=2,features=[1975.0],weight=1,\n",
       " Judgment(grade=1,qid=1,keywords=,docId=1,features=[2007.0],weight=1,\n",
       " Judgment(grade=2,qid=1,keywords=,docId=2,features=[1972.0],weight=1,\n",
       " Judgment(grade=0,qid=1,keywords=,docId=0,features=[2013.0],weight=1,\n",
       " Judgment(grade=2,qid=1,keywords=,docId=2,features=[1984.0],weight=1,\n",
       " Judgment(grade=0,qid=1,keywords=,docId=0,features=[2016.0],weight=1,\n",
       " Judgment(grade=3,qid=1,keywords=,docId=3,features=[1963.0],weight=1,\n",
       " Judgment(grade=1,qid=1,keywords=,docId=1,features=[1992.0],weight=1,\n",
       " Judgment(grade=0,qid=1,keywords=,docId=0,features=[2014.0],weight=1,\n",
       " Judgment(grade=1,qid=1,keywords=,docId=1,features=[2009.0],weight=1,\n",
       " Judgment(grade=0,qid=1,keywords=,docId=0,features=[2014.0],weight=1,\n",
       " Judgment(grade=1,qid=1,keywords=,docId=1,features=[2007.0],weight=1,\n",
       " Judgment(grade=2,qid=1,keywords=,docId=2,features=[1986.0],weight=1,\n",
       " Judgment(grade=2,qid=1,keywords=,docId=2,features=[1985.0],weight=1,\n",
       " Judgment(grade=2,qid=1,keywords=,docId=2,features=[1986.0],weight=1,\n",
       " Judgment(grade=4,qid=1,keywords=,docId=4,features=[1946.0],weight=1,\n",
       " Judgment(grade=3,qid=1,keywords=,docId=3,features=[1959.0],weight=1,\n",
       " Judgment(grade=3,qid=1,keywords=,docId=3,features=[1965.0],weight=1,\n",
       " Judgment(grade=1,qid=1,keywords=,docId=1,features=[2009.0],weight=1,\n",
       " Judgment(grade=0,qid=1,keywords=,docId=0,features=[2013.0],weight=1,\n",
       " Judgment(grade=0,qid=1,keywords=,docId=0,features=[2016.0],weight=1,\n",
       " Judgment(grade=1,qid=1,keywords=,docId=1,features=[2009.0],weight=1,\n",
       " Judgment(grade=3,qid=1,keywords=,docId=3,features=[1960.0],weight=1,\n",
       " Judgment(grade=1,qid=1,keywords=,docId=1,features=[2004.0],weight=1,\n",
       " Judgment(grade=1,qid=1,keywords=,docId=1,features=[1996.0],weight=1,\n",
       " Judgment(grade=1,qid=1,keywords=,docId=1,features=[2002.0],weight=1,\n",
       " Judgment(grade=0,qid=1,keywords=,docId=0,features=[2013.0],weight=1,\n",
       " Judgment(grade=2,qid=1,keywords=,docId=2,features=[1984.0],weight=1,\n",
       " Judgment(grade=1,qid=1,keywords=,docId=1,features=[1995.0],weight=1,\n",
       " Judgment(grade=2,qid=1,keywords=,docId=2,features=[1984.0],weight=1,\n",
       " Judgment(grade=2,qid=1,keywords=,docId=2,features=[1976.0],weight=1,\n",
       " Judgment(grade=2,qid=1,keywords=,docId=2,features=[1977.0],weight=1,\n",
       " Judgment(grade=2,qid=1,keywords=,docId=2,features=[1982.0],weight=1,\n",
       " Judgment(grade=1,qid=1,keywords=,docId=1,features=[2000.0],weight=1,\n",
       " Judgment(grade=4,qid=1,keywords=,docId=4,features=[1933.0],weight=1,\n",
       " Judgment(grade=1,qid=1,keywords=,docId=1,features=[2009.0],weight=1,\n",
       " Judgment(grade=1,qid=1,keywords=,docId=1,features=[1998.0],weight=1,\n",
       " Judgment(grade=1,qid=1,keywords=,docId=1,features=[2005.0],weight=1,\n",
       " Judgment(grade=2,qid=1,keywords=,docId=2,features=[1978.0],weight=1,\n",
       " Judgment(grade=2,qid=1,keywords=,docId=2,features=[1979.0],weight=1,\n",
       " Judgment(grade=1,qid=1,keywords=,docId=1,features=[1998.0],weight=1,\n",
       " Judgment(grade=0,qid=1,keywords=,docId=0,features=[2014.0],weight=1,\n",
       " Judgment(grade=0,qid=1,keywords=,docId=0,features=[2014.0],weight=1,\n",
       " Judgment(grade=3,qid=1,keywords=,docId=3,features=[1956.0],weight=1,\n",
       " Judgment(grade=1,qid=1,keywords=,docId=1,features=[1991.0],weight=1,\n",
       " Judgment(grade=0,qid=1,keywords=,docId=0,features=[2014.0],weight=1,\n",
       " Judgment(grade=0,qid=1,keywords=,docId=0,features=[2011.0],weight=1,\n",
       " Judgment(grade=3,qid=1,keywords=,docId=3,features=[1957.0],weight=1,\n",
       " Judgment(grade=1,qid=1,keywords=,docId=1,features=[2007.0],weight=1,\n",
       " Judgment(grade=3,qid=1,keywords=,docId=3,features=[1955.0],weight=1,\n",
       " Judgment(grade=4,qid=1,keywords=,docId=4,features=[1950.0],weight=1,\n",
       " Judgment(grade=1,qid=1,keywords=,docId=1,features=[2009.0],weight=1,\n",
       " Judgment(grade=1,qid=1,keywords=,docId=1,features=[2010.0],weight=1,\n",
       " Judgment(grade=4,qid=1,keywords=,docId=4,features=[1939.0],weight=1,\n",
       " Judgment(grade=1,qid=1,keywords=,docId=1,features=[2006.0],weight=1,\n",
       " Judgment(grade=1,qid=1,keywords=,docId=1,features=[1995.0],weight=1,\n",
       " Judgment(grade=2,qid=1,keywords=,docId=2,features=[1983.0],weight=1,\n",
       " Judgment(grade=0,qid=1,keywords=,docId=0,features=[2015.0],weight=1,\n",
       " Judgment(grade=3,qid=1,keywords=,docId=3,features=[1960.0],weight=1,\n",
       " Judgment(grade=4,qid=1,keywords=,docId=4,features=[1947.0],weight=1,\n",
       " Judgment(grade=1,qid=1,keywords=,docId=1,features=[2010.0],weight=1,\n",
       " Judgment(grade=2,qid=1,keywords=,docId=2,features=[1972.0],weight=1,\n",
       " Judgment(grade=1,qid=1,keywords=,docId=1,features=[2005.0],weight=1,\n",
       " Judgment(grade=0,qid=1,keywords=,docId=0,features=[2014.0],weight=1,\n",
       " Judgment(grade=0,qid=1,keywords=,docId=0,features=[2013.0],weight=1,\n",
       " Judgment(grade=2,qid=1,keywords=,docId=2,features=[1971.0],weight=1,\n",
       " Judgment(grade=2,qid=1,keywords=,docId=2,features=[1984.0],weight=1,\n",
       " Judgment(grade=2,qid=1,keywords=,docId=2,features=[1973.0],weight=1,\n",
       " Judgment(grade=0,qid=1,keywords=,docId=0,features=[2015.0],weight=1,\n",
       " Judgment(grade=1,qid=1,keywords=,docId=1,features=[1995.0],weight=1,\n",
       " Judgment(grade=1,qid=1,keywords=,docId=1,features=[2003.0],weight=1,\n",
       " Judgment(grade=0,qid=1,keywords=,docId=0,features=[2012.0],weight=1,\n",
       " Judgment(grade=1,qid=1,keywords=,docId=1,features=[2004.0],weight=1,\n",
       " Judgment(grade=2,qid=1,keywords=,docId=2,features=[1982.0],weight=1,\n",
       " Judgment(grade=1,qid=1,keywords=,docId=1,features=[2008.0],weight=1,\n",
       " Judgment(grade=3,qid=1,keywords=,docId=3,features=[1969.0],weight=1,\n",
       " Judgment(grade=1,qid=1,keywords=,docId=1,features=[1994.0],weight=1,\n",
       " Judgment(grade=1,qid=1,keywords=,docId=1,features=[1993.0],weight=1,\n",
       " Judgment(grade=1,qid=1,keywords=,docId=1,features=[2006.0],weight=1,\n",
       " Judgment(grade=2,qid=1,keywords=,docId=2,features=[1980.0],weight=1,\n",
       " Judgment(grade=1,qid=1,keywords=,docId=1,features=[2007.0],weight=1,\n",
       " Judgment(grade=2,qid=1,keywords=,docId=2,features=[1986.0],weight=1,\n",
       " Judgment(grade=1,qid=1,keywords=,docId=1,features=[1997.0],weight=1,\n",
       " Judgment(grade=0,qid=1,keywords=,docId=0,features=[2014.0],weight=1,\n",
       " Judgment(grade=0,qid=1,keywords=,docId=0,features=[2016.0],weight=1,\n",
       " Judgment(grade=1,qid=1,keywords=,docId=1,features=[1995.0],weight=1,\n",
       " Judgment(grade=2,qid=1,keywords=,docId=2,features=[1973.0],weight=1,\n",
       " Judgment(grade=1,qid=1,keywords=,docId=1,features=[2000.0],weight=1,\n",
       " Judgment(grade=3,qid=1,keywords=,docId=3,features=[1967.0],weight=1,\n",
       " Judgment(grade=2,qid=1,keywords=,docId=2,features=[1979.0],weight=1,\n",
       " Judgment(grade=4,qid=1,keywords=,docId=4,features=[1920.0],weight=1,\n",
       " Judgment(grade=1,qid=1,keywords=,docId=1,features=[1993.0],weight=1,\n",
       " Judgment(grade=1,qid=1,keywords=,docId=1,features=[1998.0],weight=1,\n",
       " Judgment(grade=0,qid=1,keywords=,docId=0,features=[2014.0],weight=1,\n",
       " Judgment(grade=1,qid=1,keywords=,docId=1,features=[1995.0],weight=1,\n",
       " Judgment(grade=4,qid=1,keywords=,docId=4,features=[1922.0],weight=1,\n",
       " Judgment(grade=0,qid=1,keywords=,docId=0,features=[2015.0],weight=1,\n",
       " Judgment(grade=2,qid=1,keywords=,docId=2,features=[1979.0],weight=1,\n",
       " Judgment(grade=1,qid=1,keywords=,docId=1,features=[2001.0],weight=1,\n",
       " Judgment(grade=2,qid=1,keywords=,docId=2,features=[1974.0],weight=1,\n",
       " Judgment(grade=1,qid=1,keywords=,docId=1,features=[2008.0],weight=1,\n",
       " Judgment(grade=1,qid=1,keywords=,docId=1,features=[1999.0],weight=1,\n",
       " Judgment(grade=2,qid=1,keywords=,docId=2,features=[1978.0],weight=1,\n",
       " Judgment(grade=2,qid=1,keywords=,docId=2,features=[1986.0],weight=1,\n",
       " Judgment(grade=1,qid=1,keywords=,docId=1,features=[1997.0],weight=1,\n",
       " Judgment(grade=2,qid=1,keywords=,docId=2,features=[1985.0],weight=1,\n",
       " Judgment(grade=3,qid=1,keywords=,docId=3,features=[1970.0],weight=1,\n",
       " Judgment(grade=3,qid=1,keywords=,docId=3,features=[1961.0],weight=1,\n",
       " Judgment(grade=0,qid=1,keywords=,docId=0,features=[2013.0],weight=1,\n",
       " Judgment(grade=1,qid=1,keywords=,docId=1,features=[1995.0],weight=1,\n",
       " Judgment(grade=2,qid=1,keywords=,docId=2,features=[1989.0],weight=1,\n",
       " Judgment(grade=0,qid=1,keywords=,docId=0,features=[2016.0],weight=1,\n",
       " Judgment(grade=1,qid=1,keywords=,docId=1,features=[2008.0],weight=1,\n",
       " Judgment(grade=0,qid=1,keywords=,docId=0,features=[2016.0],weight=1,\n",
       " Judgment(grade=0,qid=1,keywords=,docId=0,features=[2014.0],weight=1,\n",
       " Judgment(grade=3,qid=1,keywords=,docId=3,features=[1963.0],weight=1,\n",
       " Judgment(grade=4,qid=1,keywords=,docId=4,features=[1942.0],weight=1,\n",
       " Judgment(grade=1,qid=1,keywords=,docId=1,features=[2004.0],weight=1,\n",
       " Judgment(grade=1,qid=1,keywords=,docId=1,features=[2002.0],weight=1,\n",
       " Judgment(grade=1,qid=1,keywords=,docId=1,features=[2003.0],weight=1,\n",
       " Judgment(grade=1,qid=1,keywords=,docId=1,features=[1997.0],weight=1,\n",
       " Judgment(grade=0,qid=1,keywords=,docId=0,features=[2015.0],weight=1,\n",
       " Judgment(grade=2,qid=1,keywords=,docId=2,features=[1980.0],weight=1,\n",
       " Judgment(grade=4,qid=1,keywords=,docId=4,features=[1932.0],weight=1,\n",
       " Judgment(grade=1,qid=1,keywords=,docId=1,features=[1993.0],weight=1,\n",
       " Judgment(grade=1,qid=1,keywords=,docId=1,features=[2006.0],weight=1,\n",
       " Judgment(grade=4,qid=1,keywords=,docId=4,features=[1925.0],weight=1,\n",
       " Judgment(grade=0,qid=1,keywords=,docId=0,features=[2016.0],weight=1,\n",
       " Judgment(grade=4,qid=1,keywords=,docId=4,features=[1934.0],weight=1,\n",
       " Judgment(grade=1,qid=1,keywords=,docId=1,features=[2000.0],weight=1,\n",
       " Judgment(grade=3,qid=1,keywords=,docId=3,features=[1956.0],weight=1,\n",
       " Judgment(grade=3,qid=1,keywords=,docId=3,features=[1962.0],weight=1,\n",
       " Judgment(grade=2,qid=1,keywords=,docId=2,features=[1984.0],weight=1,\n",
       " Judgment(grade=0,qid=1,keywords=,docId=0,features=[2015.0],weight=1,\n",
       " Judgment(grade=1,qid=1,keywords=,docId=1,features=[1995.0],weight=1,\n",
       " Judgment(grade=1,qid=1,keywords=,docId=1,features=[1995.0],weight=1,\n",
       " Judgment(grade=1,qid=1,keywords=,docId=1,features=[2010.0],weight=1,\n",
       " Judgment(grade=4,qid=1,keywords=,docId=4,features=[1933.0],weight=1,\n",
       " Judgment(grade=0,qid=1,keywords=,docId=0,features=[2014.0],weight=1,\n",
       " Judgment(grade=0,qid=1,keywords=,docId=0,features=[2012.0],weight=1,\n",
       " Judgment(grade=1,qid=1,keywords=,docId=1,features=[2008.0],weight=1,\n",
       " Judgment(grade=1,qid=1,keywords=,docId=1,features=[2001.0],weight=1,\n",
       " Judgment(grade=1,qid=1,keywords=,docId=1,features=[2004.0],weight=1,\n",
       " Judgment(grade=2,qid=1,keywords=,docId=2,features=[1971.0],weight=1,\n",
       " Judgment(grade=0,qid=1,keywords=,docId=0,features=[2015.0],weight=1,\n",
       " Judgment(grade=2,qid=1,keywords=,docId=2,features=[1975.0],weight=1,\n",
       " Judgment(grade=3,qid=1,keywords=,docId=3,features=[1967.0],weight=1,\n",
       " Judgment(grade=3,qid=1,keywords=,docId=3,features=[1953.0],weight=1,\n",
       " Judgment(grade=1,qid=1,keywords=,docId=1,features=[2002.0],weight=1,\n",
       " Judgment(grade=1,qid=1,keywords=,docId=1,features=[2000.0],weight=1,\n",
       " Judgment(grade=2,qid=1,keywords=,docId=2,features=[1973.0],weight=1,\n",
       " Judgment(grade=1,qid=1,keywords=,docId=1,features=[2004.0],weight=1,\n",
       " Judgment(grade=0,qid=1,keywords=,docId=0,features=[2015.0],weight=1,\n",
       " Judgment(grade=1,qid=1,keywords=,docId=1,features=[2003.0],weight=1,\n",
       " Judgment(grade=3,qid=1,keywords=,docId=3,features=[1966.0],weight=1,\n",
       " Judgment(grade=0,qid=1,keywords=,docId=0,features=[2012.0],weight=1,\n",
       " Judgment(grade=3,qid=1,keywords=,docId=3,features=[1956.0],weight=1,\n",
       " Judgment(grade=0,qid=1,keywords=,docId=0,features=[2013.0],weight=1,\n",
       " Judgment(grade=1,qid=1,keywords=,docId=1,features=[1997.0],weight=1,\n",
       " Judgment(grade=3,qid=1,keywords=,docId=3,features=[1969.0],weight=1,\n",
       " Judgment(grade=2,qid=1,keywords=,docId=2,features=[1988.0],weight=1,\n",
       " Judgment(grade=3,qid=1,keywords=,docId=3,features=[1962.0],weight=1,\n",
       " Judgment(grade=0,qid=1,keywords=,docId=0,features=[2014.0],weight=1,\n",
       " Judgment(grade=0,qid=1,keywords=,docId=0,features=[2017.0],weight=1,\n",
       " Judgment(grade=2,qid=1,keywords=,docId=2,features=[1987.0],weight=1,\n",
       " Judgment(grade=4,qid=1,keywords=,docId=4,features=[1948.0],weight=1,\n",
       " Judgment(grade=2,qid=1,keywords=,docId=2,features=[1989.0],weight=1,\n",
       " Judgment(grade=4,qid=1,keywords=,docId=4,features=[1946.0],weight=1,\n",
       " Judgment(grade=2,qid=1,keywords=,docId=2,features=[1990.0],weight=1,\n",
       " Judgment(grade=0,qid=1,keywords=,docId=0,features=[2017.0],weight=1,\n",
       " Judgment(grade=0,qid=1,keywords=,docId=0,features=[2016.0],weight=1,\n",
       " Judgment(grade=1,qid=1,keywords=,docId=1,features=[2009.0],weight=1,\n",
       " Judgment(grade=0,qid=1,keywords=,docId=0,features=[2015.0],weight=1,\n",
       " Judgment(grade=4,qid=1,keywords=,docId=4,features=[1944.0],weight=1,\n",
       " Judgment(grade=1,qid=1,keywords=,docId=1,features=[2010.0],weight=1,\n",
       " Judgment(grade=2,qid=1,keywords=,docId=2,features=[1987.0],weight=1,\n",
       " Judgment(grade=3,qid=1,keywords=,docId=3,features=[1964.0],weight=1,\n",
       " Judgment(grade=4,qid=1,keywords=,docId=4,features=[1944.0],weight=1,\n",
       " Judgment(grade=4,qid=1,keywords=,docId=4,features=[1940.0],weight=1,\n",
       " Judgment(grade=3,qid=1,keywords=,docId=3,features=[1958.0],weight=1,\n",
       " Judgment(grade=4,qid=1,keywords=,docId=4,features=[1940.0],weight=1,\n",
       " Judgment(grade=1,qid=1,keywords=,docId=1,features=[1993.0],weight=1,\n",
       " Judgment(grade=1,qid=1,keywords=,docId=1,features=[2003.0],weight=1,\n",
       " Judgment(grade=2,qid=1,keywords=,docId=2,features=[1987.0],weight=1,\n",
       " Judgment(grade=1,qid=1,keywords=,docId=1,features=[2004.0],weight=1,\n",
       " Judgment(grade=1,qid=1,keywords=,docId=1,features=[2004.0],weight=1,\n",
       " Judgment(grade=1,qid=1,keywords=,docId=1,features=[1993.0],weight=1,\n",
       " Judgment(grade=4,qid=1,keywords=,docId=4,features=[1938.0],weight=1,\n",
       " Judgment(grade=3,qid=1,keywords=,docId=3,features=[1951.0],weight=1,\n",
       " Judgment(grade=0,qid=1,keywords=,docId=0,features=[2012.0],weight=1,\n",
       " Judgment(grade=1,qid=1,keywords=,docId=1,features=[2001.0],weight=1,\n",
       " Judgment(grade=3,qid=1,keywords=,docId=3,features=[1955.0],weight=1,\n",
       " Judgment(grade=0,qid=1,keywords=,docId=0,features=[2015.0],weight=1,\n",
       " Judgment(grade=0,qid=1,keywords=,docId=0,features=[2015.0],weight=1,\n",
       " Judgment(grade=0,qid=1,keywords=,docId=0,features=[2014.0],weight=1,\n",
       " Judgment(grade=1,qid=1,keywords=,docId=1,features=[1999.0],weight=1,\n",
       " Judgment(grade=2,qid=1,keywords=,docId=2,features=[1974.0],weight=1,\n",
       " Judgment(grade=1,qid=1,keywords=,docId=1,features=[2004.0],weight=1,\n",
       " Judgment(grade=1,qid=1,keywords=,docId=1,features=[2004.0],weight=1,\n",
       " Judgment(grade=1,qid=1,keywords=,docId=1,features=[2003.0],weight=1,\n",
       " Judgment(grade=1,qid=1,keywords=,docId=1,features=[2010.0],weight=1,\n",
       " Judgment(grade=3,qid=1,keywords=,docId=3,features=[1965.0],weight=1,\n",
       " Judgment(grade=2,qid=1,keywords=,docId=2,features=[1976.0],weight=1,\n",
       " Judgment(grade=1,qid=1,keywords=,docId=1,features=[1993.0],weight=1,\n",
       " Judgment(grade=1,qid=1,keywords=,docId=1,features=[2006.0],weight=1,\n",
       " Judgment(grade=1,qid=1,keywords=,docId=1,features=[2008.0],weight=1,\n",
       " Judgment(grade=4,qid=1,keywords=,docId=4,features=[1935.0],weight=1,\n",
       " Judgment(grade=4,qid=1,keywords=,docId=4,features=[1939.0],weight=1,\n",
       " Judgment(grade=1,qid=1,keywords=,docId=1,features=[1993.0],weight=1,\n",
       " Judgment(grade=4,qid=1,keywords=,docId=4,features=[1949.0],weight=1,\n",
       " Judgment(grade=1,qid=1,keywords=,docId=1,features=[1991.0],weight=1,\n",
       " Judgment(grade=3,qid=1,keywords=,docId=3,features=[1961.0],weight=1,\n",
       " Judgment(grade=3,qid=1,keywords=,docId=3,features=[1965.0],weight=1,\n",
       " Judgment(grade=2,qid=1,keywords=,docId=2,features=[1972.0],weight=1,\n",
       " Judgment(grade=0,qid=1,keywords=,docId=0,features=[2014.0],weight=1,\n",
       " Judgment(grade=1,qid=1,keywords=,docId=1,features=[2000.0],weight=1,\n",
       " Judgment(grade=0,qid=1,keywords=,docId=0,features=[2014.0],weight=1,\n",
       " Judgment(grade=1,qid=1,keywords=,docId=1,features=[2003.0],weight=1,\n",
       " Judgment(grade=1,qid=1,keywords=,docId=1,features=[2003.0],weight=1,\n",
       " Judgment(grade=2,qid=1,keywords=,docId=2,features=[1986.0],weight=1,\n",
       " Judgment(grade=3,qid=1,keywords=,docId=3,features=[1959.0],weight=1,\n",
       " Judgment(grade=0,qid=1,keywords=,docId=0,features=[2016.0],weight=1,\n",
       " Judgment(grade=3,qid=1,keywords=,docId=3,features=[1961.0],weight=1,\n",
       " Judgment(grade=0,qid=1,keywords=,docId=0,features=[2013.0],weight=1,\n",
       " Judgment(grade=2,qid=1,keywords=,docId=2,features=[1990.0],weight=1,\n",
       " Judgment(grade=4,qid=1,keywords=,docId=4,features=[1939.0],weight=1,\n",
       " Judgment(grade=0,qid=1,keywords=,docId=0,features=[2013.0],weight=1,\n",
       " Judgment(grade=3,qid=1,keywords=,docId=3,features=[1967.0],weight=1,\n",
       " Judgment(grade=3,qid=1,keywords=,docId=3,features=[1958.0],weight=1,\n",
       " Judgment(grade=2,qid=1,keywords=,docId=2,features=[1976.0],weight=1,\n",
       " Judgment(grade=2,qid=1,keywords=,docId=2,features=[1975.0],weight=1,\n",
       " Judgment(grade=1,qid=1,keywords=,docId=1,features=[2001.0],weight=1,\n",
       " Judgment(grade=4,qid=1,keywords=,docId=4,features=[1946.0],weight=1,\n",
       " Judgment(grade=0,qid=1,keywords=,docId=0,features=[2016.0],weight=1,\n",
       " Judgment(grade=0,qid=1,keywords=,docId=0,features=[2016.0],weight=1,\n",
       " Judgment(grade=2,qid=1,keywords=,docId=2,features=[1982.0],weight=1,\n",
       " Judgment(grade=2,qid=1,keywords=,docId=2,features=[1988.0],weight=1,\n",
       " Judgment(grade=3,qid=1,keywords=,docId=3,features=[1968.0],weight=1,\n",
       " Judgment(grade=2,qid=1,keywords=,docId=2,features=[1985.0],weight=1,\n",
       " Judgment(grade=2,qid=1,keywords=,docId=2,features=[1971.0],weight=1,\n",
       " Judgment(grade=1,qid=1,keywords=,docId=1,features=[1999.0],weight=1,\n",
       " Judgment(grade=3,qid=1,keywords=,docId=3,features=[1967.0],weight=1,\n",
       " Judgment(grade=1,qid=1,keywords=,docId=1,features=[2000.0],weight=1,\n",
       " Judgment(grade=0,qid=1,keywords=,docId=0,features=[2012.0],weight=1,\n",
       " Judgment(grade=0,qid=1,keywords=,docId=0,features=[2012.0],weight=1,\n",
       " Judgment(grade=0,qid=1,keywords=,docId=0,features=[2013.0],weight=1,\n",
       " Judgment(grade=0,qid=1,keywords=,docId=0,features=[2015.0],weight=1,\n",
       " Judgment(grade=1,qid=1,keywords=,docId=1,features=[2010.0],weight=1,\n",
       " Judgment(grade=1,qid=1,keywords=,docId=1,features=[2009.0],weight=1,\n",
       " Judgment(grade=1,qid=1,keywords=,docId=1,features=[2010.0],weight=1,\n",
       " Judgment(grade=3,qid=1,keywords=,docId=3,features=[1952.0],weight=1,\n",
       " Judgment(grade=1,qid=1,keywords=,docId=1,features=[1999.0],weight=1,\n",
       " Judgment(grade=2,qid=1,keywords=,docId=2,features=[1975.0],weight=1,\n",
       " Judgment(grade=4,qid=1,keywords=,docId=4,features=[1937.0],weight=1,\n",
       " Judgment(grade=3,qid=1,keywords=,docId=3,features=[1960.0],weight=1,\n",
       " Judgment(grade=3,qid=1,keywords=,docId=3,features=[1968.0],weight=1,\n",
       " Judgment(grade=3,qid=1,keywords=,docId=3,features=[1964.0],weight=1,\n",
       " Judgment(grade=2,qid=1,keywords=,docId=2,features=[1973.0],weight=1,\n",
       " Judgment(grade=3,qid=1,keywords=,docId=3,features=[1960.0],weight=1,\n",
       " Judgment(grade=0,qid=1,keywords=,docId=0,features=[2011.0],weight=1,\n",
       " Judgment(grade=3,qid=1,keywords=,docId=3,features=[1961.0],weight=1,\n",
       " Judgment(grade=1,qid=1,keywords=,docId=1,features=[2010.0],weight=1,\n",
       " Judgment(grade=0,qid=1,keywords=,docId=0,features=[2016.0],weight=1,\n",
       " Judgment(grade=2,qid=1,keywords=,docId=2,features=[1983.0],weight=1,\n",
       " Judgment(grade=2,qid=1,keywords=,docId=2,features=[1987.0],weight=1,\n",
       " Judgment(grade=1,qid=1,keywords=,docId=1,features=[1991.0],weight=1,\n",
       " Judgment(grade=0,qid=1,keywords=,docId=0,features=[2014.0],weight=1,\n",
       " Judgment(grade=1,qid=1,keywords=,docId=1,features=[1993.0],weight=1,\n",
       " Judgment(grade=0,qid=1,keywords=,docId=0,features=[2015.0],weight=1,\n",
       " Judgment(grade=4,qid=1,keywords=,docId=4,features=[1950.0],weight=1,\n",
       " Judgment(grade=3,qid=1,keywords=,docId=3,features=[1960.0],weight=1,\n",
       " Judgment(grade=2,qid=1,keywords=,docId=2,features=[1990.0],weight=1,\n",
       " Judgment(grade=2,qid=1,keywords=,docId=2,features=[1988.0],weight=1,\n",
       " Judgment(grade=4,qid=1,keywords=,docId=4,features=[1925.0],weight=1,\n",
       " Judgment(grade=2,qid=1,keywords=,docId=2,features=[1978.0],weight=1,\n",
       " Judgment(grade=3,qid=1,keywords=,docId=3,features=[1951.0],weight=1,\n",
       " Judgment(grade=1,qid=1,keywords=,docId=1,features=[1998.0],weight=1,\n",
       " Judgment(grade=3,qid=1,keywords=,docId=3,features=[1969.0],weight=1,\n",
       " Judgment(grade=1,qid=1,keywords=,docId=1,features=[1998.0],weight=1,\n",
       " Judgment(grade=1,qid=1,keywords=,docId=1,features=[1998.0],weight=1,\n",
       " Judgment(grade=4,qid=1,keywords=,docId=4,features=[1946.0],weight=1,\n",
       " Judgment(grade=2,qid=1,keywords=,docId=2,features=[1990.0],weight=1,\n",
       " Judgment(grade=1,qid=1,keywords=,docId=1,features=[2010.0],weight=1,\n",
       " Judgment(grade=0,qid=1,keywords=,docId=0,features=[2016.0],weight=1,\n",
       " Judgment(grade=3,qid=1,keywords=,docId=3,features=[1961.0],weight=1,\n",
       " Judgment(grade=2,qid=1,keywords=,docId=2,features=[1982.0],weight=1,\n",
       " Judgment(grade=1,qid=1,keywords=,docId=1,features=[2005.0],weight=1,\n",
       " Judgment(grade=2,qid=1,keywords=,docId=2,features=[1975.0],weight=1,\n",
       " Judgment(grade=1,qid=1,keywords=,docId=1,features=[2001.0],weight=1,\n",
       " Judgment(grade=1,qid=1,keywords=,docId=1,features=[1998.0],weight=1,\n",
       " Judgment(grade=1,qid=1,keywords=,docId=1,features=[1992.0],weight=1,\n",
       " Judgment(grade=2,qid=1,keywords=,docId=2,features=[1973.0],weight=1,\n",
       " Judgment(grade=1,qid=1,keywords=,docId=1,features=[1993.0],weight=1,\n",
       " Judgment(grade=0,qid=1,keywords=,docId=0,features=[2014.0],weight=1,\n",
       " Judgment(grade=1,qid=1,keywords=,docId=1,features=[1999.0],weight=1,\n",
       " Judgment(grade=1,qid=1,keywords=,docId=1,features=[1991.0],weight=1,\n",
       " Judgment(grade=4,qid=1,keywords=,docId=4,features=[1943.0],weight=1,\n",
       " Judgment(grade=1,qid=1,keywords=,docId=1,features=[2000.0],weight=1,\n",
       " Judgment(grade=2,qid=1,keywords=,docId=2,features=[1972.0],weight=1,\n",
       " Judgment(grade=0,qid=1,keywords=,docId=0,features=[2017.0],weight=1,\n",
       " Judgment(grade=0,qid=1,keywords=,docId=0,features=[2015.0],weight=1,\n",
       " Judgment(grade=2,qid=1,keywords=,docId=2,features=[1990.0],weight=1,\n",
       " Judgment(grade=4,qid=1,keywords=,docId=4,features=[1929.0],weight=1,\n",
       " Judgment(grade=1,qid=1,keywords=,docId=1,features=[2008.0],weight=1,\n",
       " Judgment(grade=0,qid=1,keywords=,docId=0,features=[2014.0],weight=1,\n",
       " Judgment(grade=2,qid=1,keywords=,docId=2,features=[1974.0],weight=1,\n",
       " Judgment(grade=3,qid=1,keywords=,docId=3,features=[1957.0],weight=1,\n",
       " Judgment(grade=0,qid=1,keywords=,docId=0,features=[2016.0],weight=1,\n",
       " Judgment(grade=1,qid=1,keywords=,docId=1,features=[2004.0],weight=1,\n",
       " Judgment(grade=1,qid=1,keywords=,docId=1,features=[2000.0],weight=1,\n",
       " Judgment(grade=2,qid=1,keywords=,docId=2,features=[1990.0],weight=1,\n",
       " Judgment(grade=1,qid=1,keywords=,docId=1,features=[1995.0],weight=1,\n",
       " Judgment(grade=1,qid=1,keywords=,docId=1,features=[2010.0],weight=1,\n",
       " Judgment(grade=0,qid=1,keywords=,docId=0,features=[2013.0],weight=1,\n",
       " Judgment(grade=1,qid=1,keywords=,docId=1,features=[2009.0],weight=1,\n",
       " Judgment(grade=3,qid=1,keywords=,docId=3,features=[1968.0],weight=1,\n",
       " Judgment(grade=1,qid=1,keywords=,docId=1,features=[2001.0],weight=1,\n",
       " Judgment(grade=2,qid=1,keywords=,docId=2,features=[1986.0],weight=1,\n",
       " Judgment(grade=1,qid=1,keywords=,docId=1,features=[2010.0],weight=1,\n",
       " Judgment(grade=4,qid=1,keywords=,docId=4,features=[1938.0],weight=1,\n",
       " Judgment(grade=3,qid=1,keywords=,docId=3,features=[1970.0],weight=1,\n",
       " Judgment(grade=0,qid=1,keywords=,docId=0,features=[2014.0],weight=1,\n",
       " Judgment(grade=1,qid=1,keywords=,docId=1,features=[2009.0],weight=1,\n",
       " Judgment(grade=0,qid=1,keywords=,docId=0,features=[2013.0],weight=1,\n",
       " Judgment(grade=1,qid=1,keywords=,docId=1,features=[2006.0],weight=1,\n",
       " Judgment(grade=0,qid=1,keywords=,docId=0,features=[2012.0],weight=1,\n",
       " Judgment(grade=1,qid=1,keywords=,docId=1,features=[1993.0],weight=1,\n",
       " Judgment(grade=2,qid=1,keywords=,docId=2,features=[1980.0],weight=1,\n",
       " Judgment(grade=1,qid=1,keywords=,docId=1,features=[1991.0],weight=1,\n",
       " Judgment(grade=1,qid=1,keywords=,docId=1,features=[2008.0],weight=1,\n",
       " Judgment(grade=2,qid=1,keywords=,docId=2,features=[1987.0],weight=1,\n",
       " Judgment(grade=1,qid=1,keywords=,docId=1,features=[1993.0],weight=1,\n",
       " Judgment(grade=1,qid=1,keywords=,docId=1,features=[2009.0],weight=1,\n",
       " Judgment(grade=1,qid=1,keywords=,docId=1,features=[2001.0],weight=1,\n",
       " Judgment(grade=4,qid=1,keywords=,docId=4,features=[1938.0],weight=1,\n",
       " Judgment(grade=1,qid=1,keywords=,docId=1,features=[2009.0],weight=1,\n",
       " Judgment(grade=2,qid=1,keywords=,docId=2,features=[1989.0],weight=1,\n",
       " Judgment(grade=2,qid=1,keywords=,docId=2,features=[1975.0],weight=1,\n",
       " Judgment(grade=1,qid=1,keywords=,docId=1,features=[2007.0],weight=1,\n",
       " Judgment(grade=4,qid=1,keywords=,docId=4,features=[1935.0],weight=1,\n",
       " Judgment(grade=1,qid=1,keywords=,docId=1,features=[2008.0],weight=1,\n",
       " Judgment(grade=3,qid=1,keywords=,docId=3,features=[1965.0],weight=1,\n",
       " Judgment(grade=0,qid=1,keywords=,docId=0,features=[2013.0],weight=1,\n",
       " Judgment(grade=2,qid=1,keywords=,docId=2,features=[1980.0],weight=1,\n",
       " Judgment(grade=0,qid=1,keywords=,docId=0,features=[2012.0],weight=1,\n",
       " Judgment(grade=0,qid=1,keywords=,docId=0,features=[2014.0],weight=1,\n",
       " Judgment(grade=3,qid=1,keywords=,docId=3,features=[1954.0],weight=1,\n",
       " Judgment(grade=1,qid=1,keywords=,docId=1,features=[1997.0],weight=1,\n",
       " Judgment(grade=0,qid=1,keywords=,docId=0,features=[2016.0],weight=1,\n",
       " Judgment(grade=1,qid=1,keywords=,docId=1,features=[2010.0],weight=1,\n",
       " Judgment(grade=1,qid=1,keywords=,docId=1,features=[2004.0],weight=1,\n",
       " Judgment(grade=1,qid=1,keywords=,docId=1,features=[2008.0],weight=1,\n",
       " Judgment(grade=3,qid=1,keywords=,docId=3,features=[1967.0],weight=1,\n",
       " Judgment(grade=3,qid=1,keywords=,docId=3,features=[1969.0],weight=1,\n",
       " Judgment(grade=1,qid=1,keywords=,docId=1,features=[2003.0],weight=1,\n",
       " Judgment(grade=1,qid=1,keywords=,docId=1,features=[2010.0],weight=1,\n",
       " Judgment(grade=1,qid=1,keywords=,docId=1,features=[2010.0],weight=1,\n",
       " Judgment(grade=0,qid=1,keywords=,docId=0,features=[2015.0],weight=1,\n",
       " Judgment(grade=1,qid=1,keywords=,docId=1,features=[1997.0],weight=1,\n",
       " Judgment(grade=3,qid=1,keywords=,docId=3,features=[1966.0],weight=1,\n",
       " Judgment(grade=1,qid=1,keywords=,docId=1,features=[2005.0],weight=1,\n",
       " Judgment(grade=3,qid=1,keywords=,docId=3,features=[1960.0],weight=1,\n",
       " Judgment(grade=4,qid=1,keywords=,docId=4,features=[1940.0],weight=1,\n",
       " Judgment(grade=3,qid=1,keywords=,docId=3,features=[1967.0],weight=1,\n",
       " Judgment(grade=2,qid=1,keywords=,docId=2,features=[1972.0],weight=1,\n",
       " Judgment(grade=4,qid=1,keywords=,docId=4,features=[1950.0],weight=1,\n",
       " Judgment(grade=0,qid=1,keywords=,docId=0,features=[2011.0],weight=1,\n",
       " Judgment(grade=3,qid=1,keywords=,docId=3,features=[1955.0],weight=1,\n",
       " Judgment(grade=3,qid=1,keywords=,docId=3,features=[1967.0],weight=1,\n",
       " Judgment(grade=2,qid=1,keywords=,docId=2,features=[1983.0],weight=1,\n",
       " Judgment(grade=0,qid=1,keywords=,docId=0,features=[2016.0],weight=1,\n",
       " Judgment(grade=2,qid=1,keywords=,docId=2,features=[1979.0],weight=1,\n",
       " Judgment(grade=1,qid=1,keywords=,docId=1,features=[2008.0],weight=1,\n",
       " Judgment(grade=2,qid=1,keywords=,docId=2,features=[1975.0],weight=1,\n",
       " Judgment(grade=2,qid=1,keywords=,docId=2,features=[1987.0],weight=1,\n",
       " Judgment(grade=2,qid=1,keywords=,docId=2,features=[1977.0],weight=1,\n",
       " Judgment(grade=0,qid=1,keywords=,docId=0,features=[2015.0],weight=1,\n",
       " Judgment(grade=0,qid=1,keywords=,docId=0,features=[2016.0],weight=1,\n",
       " Judgment(grade=2,qid=1,keywords=,docId=2,features=[1976.0],weight=1,\n",
       " Judgment(grade=2,qid=1,keywords=,docId=2,features=[1984.0],weight=1,\n",
       " Judgment(grade=1,qid=1,keywords=,docId=1,features=[1997.0],weight=1,\n",
       " Judgment(grade=0,qid=1,keywords=,docId=0,features=[2013.0],weight=1,\n",
       " Judgment(grade=1,qid=1,keywords=,docId=1,features=[2002.0],weight=1,\n",
       " Judgment(grade=0,qid=1,keywords=,docId=0,features=[2014.0],weight=1,\n",
       " Judgment(grade=0,qid=1,keywords=,docId=0,features=[2013.0],weight=1,\n",
       " Judgment(grade=1,qid=1,keywords=,docId=1,features=[2007.0],weight=1,\n",
       " Judgment(grade=2,qid=1,keywords=,docId=2,features=[1983.0],weight=1,\n",
       " Judgment(grade=1,qid=1,keywords=,docId=1,features=[1992.0],weight=1,\n",
       " Judgment(grade=0,qid=1,keywords=,docId=0,features=[2011.0],weight=1,\n",
       " Judgment(grade=1,qid=1,keywords=,docId=1,features=[2000.0],weight=1,\n",
       " Judgment(grade=1,qid=1,keywords=,docId=1,features=[2010.0],weight=1,\n",
       " Judgment(grade=1,qid=1,keywords=,docId=1,features=[2009.0],weight=1,\n",
       " Judgment(grade=0,qid=1,keywords=,docId=0,features=[2013.0],weight=1,\n",
       " Judgment(grade=1,qid=1,keywords=,docId=1,features=[2009.0],weight=1,\n",
       " Judgment(grade=1,qid=1,keywords=,docId=1,features=[1999.0],weight=1,\n",
       " Judgment(grade=1,qid=1,keywords=,docId=1,features=[2002.0],weight=1,\n",
       " Judgment(grade=1,qid=1,keywords=,docId=1,features=[2005.0],weight=1,\n",
       " Judgment(grade=0,qid=1,keywords=,docId=0,features=[2014.0],weight=1,\n",
       " Judgment(grade=1,qid=1,keywords=,docId=1,features=[2006.0],weight=1,\n",
       " Judgment(grade=0,qid=1,keywords=,docId=0,features=[2011.0],weight=1,\n",
       " Judgment(grade=2,qid=1,keywords=,docId=2,features=[1988.0],weight=1,\n",
       " Judgment(grade=1,qid=1,keywords=,docId=1,features=[2004.0],weight=1,\n",
       " Judgment(grade=1,qid=1,keywords=,docId=1,features=[2008.0],weight=1,\n",
       " Judgment(grade=1,qid=1,keywords=,docId=1,features=[1999.0],weight=1,\n",
       " Judgment(grade=0,qid=1,keywords=,docId=0,features=[2012.0],weight=1,\n",
       " Judgment(grade=0,qid=1,keywords=,docId=0,features=[2013.0],weight=1,\n",
       " Judgment(grade=0,qid=1,keywords=,docId=0,features=[2011.0],weight=1,\n",
       " Judgment(grade=0,qid=1,keywords=,docId=0,features=[2013.0],weight=1,\n",
       " Judgment(grade=1,qid=1,keywords=,docId=1,features=[2001.0],weight=1,\n",
       " Judgment(grade=1,qid=1,keywords=,docId=1,features=[1993.0],weight=1,\n",
       " Judgment(grade=0,qid=1,keywords=,docId=0,features=[2012.0],weight=1,\n",
       " Judgment(grade=0,qid=1,keywords=,docId=0,features=[2014.0],weight=1,\n",
       " Judgment(grade=0,qid=1,keywords=,docId=0,features=[2012.0],weight=1,\n",
       " Judgment(grade=1,qid=1,keywords=,docId=1,features=[2008.0],weight=1,\n",
       " Judgment(grade=0,qid=1,keywords=,docId=0,features=[2016.0],weight=1,\n",
       " Judgment(grade=1,qid=1,keywords=,docId=1,features=[2009.0],weight=1,\n",
       " Judgment(grade=0,qid=1,keywords=,docId=0,features=[2016.0],weight=1,\n",
       " Judgment(grade=1,qid=1,keywords=,docId=1,features=[2006.0],weight=1,\n",
       " Judgment(grade=0,qid=1,keywords=,docId=0,features=[2013.0],weight=1,\n",
       " Judgment(grade=0,qid=1,keywords=,docId=0,features=[2013.0],weight=1,\n",
       " Judgment(grade=1,qid=1,keywords=,docId=1,features=[2003.0],weight=1,\n",
       " Judgment(grade=0,qid=1,keywords=,docId=0,features=[2012.0],weight=1,\n",
       " Judgment(grade=0,qid=1,keywords=,docId=0,features=[2013.0],weight=1,\n",
       " Judgment(grade=3,qid=1,keywords=,docId=3,features=[1968.0],weight=1,\n",
       " Judgment(grade=1,qid=1,keywords=,docId=1,features=[1994.0],weight=1,\n",
       " Judgment(grade=0,qid=1,keywords=,docId=0,features=[2011.0],weight=1,\n",
       " Judgment(grade=1,qid=1,keywords=,docId=1,features=[1996.0],weight=1,\n",
       " Judgment(grade=1,qid=1,keywords=,docId=1,features=[2004.0],weight=1,\n",
       " Judgment(grade=1,qid=1,keywords=,docId=1,features=[2010.0],weight=1,\n",
       " Judgment(grade=0,qid=1,keywords=,docId=0,features=[2013.0],weight=1,\n",
       " Judgment(grade=1,qid=1,keywords=,docId=1,features=[2006.0],weight=1,\n",
       " Judgment(grade=1,qid=1,keywords=,docId=1,features=[2007.0],weight=1,\n",
       " Judgment(grade=0,qid=1,keywords=,docId=0,features=[2013.0],weight=1,\n",
       " Judgment(grade=0,qid=1,keywords=,docId=0,features=[2015.0],weight=1,\n",
       " Judgment(grade=0,qid=1,keywords=,docId=0,features=[2013.0],weight=1,\n",
       " Judgment(grade=0,qid=1,keywords=,docId=0,features=[2014.0],weight=1,\n",
       " Judgment(grade=0,qid=1,keywords=,docId=0,features=[2011.0],weight=1,\n",
       " Judgment(grade=0,qid=1,keywords=,docId=0,features=[2016.0],weight=1,\n",
       " Judgment(grade=0,qid=1,keywords=,docId=0,features=[2015.0],weight=1,\n",
       " Judgment(grade=1,qid=1,keywords=,docId=1,features=[2006.0],weight=1,\n",
       " Judgment(grade=2,qid=1,keywords=,docId=2,features=[1989.0],weight=1,\n",
       " Judgment(grade=0,qid=1,keywords=,docId=0,features=[2015.0],weight=1,\n",
       " Judgment(grade=2,qid=1,keywords=,docId=2,features=[1982.0],weight=1,\n",
       " Judgment(grade=0,qid=1,keywords=,docId=0,features=[2012.0],weight=1,\n",
       " Judgment(grade=0,qid=1,keywords=,docId=0,features=[2012.0],weight=1,\n",
       " Judgment(grade=1,qid=1,keywords=,docId=1,features=[2004.0],weight=1,\n",
       " Judgment(grade=0,qid=1,keywords=,docId=0,features=[2014.0],weight=1,\n",
       " Judgment(grade=1,qid=1,keywords=,docId=1,features=[2002.0],weight=1,\n",
       " Judgment(grade=0,qid=1,keywords=,docId=0,features=[2011.0],weight=1,\n",
       " Judgment(grade=1,qid=1,keywords=,docId=1,features=[2007.0],weight=1,\n",
       " Judgment(grade=1,qid=1,keywords=,docId=1,features=[2008.0],weight=1,\n",
       " Judgment(grade=1,qid=1,keywords=,docId=1,features=[2000.0],weight=1,\n",
       " Judgment(grade=1,qid=1,keywords=,docId=1,features=[2007.0],weight=1,\n",
       " Judgment(grade=0,qid=1,keywords=,docId=0,features=[2013.0],weight=1,\n",
       " Judgment(grade=0,qid=1,keywords=,docId=0,features=[2012.0],weight=1,\n",
       " Judgment(grade=0,qid=1,keywords=,docId=0,features=[2013.0],weight=1,\n",
       " Judgment(grade=0,qid=1,keywords=,docId=0,features=[2016.0],weight=1,\n",
       " Judgment(grade=1,qid=1,keywords=,docId=1,features=[2008.0],weight=1,\n",
       " Judgment(grade=1,qid=1,keywords=,docId=1,features=[2006.0],weight=1,\n",
       " Judgment(grade=1,qid=1,keywords=,docId=1,features=[2003.0],weight=1,\n",
       " Judgment(grade=1,qid=1,keywords=,docId=1,features=[1994.0],weight=1,\n",
       " Judgment(grade=1,qid=1,keywords=,docId=1,features=[2001.0],weight=1,\n",
       " Judgment(grade=1,qid=1,keywords=,docId=1,features=[2005.0],weight=1,\n",
       " Judgment(grade=1,qid=1,keywords=,docId=1,features=[2004.0],weight=1,\n",
       " Judgment(grade=0,qid=1,keywords=,docId=0,features=[2015.0],weight=1,\n",
       " Judgment(grade=1,qid=1,keywords=,docId=1,features=[2003.0],weight=1,\n",
       " Judgment(grade=1,qid=1,keywords=,docId=1,features=[2001.0],weight=1,\n",
       " Judgment(grade=0,qid=1,keywords=,docId=0,features=[2011.0],weight=1,\n",
       " Judgment(grade=2,qid=1,keywords=,docId=2,features=[1979.0],weight=1,\n",
       " Judgment(grade=0,qid=1,keywords=,docId=0,features=[2011.0],weight=1,\n",
       " Judgment(grade=0,qid=1,keywords=,docId=0,features=[2012.0],weight=1,\n",
       " Judgment(grade=0,qid=1,keywords=,docId=0,features=[2015.0],weight=1,\n",
       " Judgment(grade=1,qid=1,keywords=,docId=1,features=[1999.0],weight=1,\n",
       " Judgment(grade=0,qid=1,keywords=,docId=0,features=[2013.0],weight=1,\n",
       " Judgment(grade=0,qid=1,keywords=,docId=0,features=[2017.0],weight=1,\n",
       " Judgment(grade=1,qid=1,keywords=,docId=1,features=[2009.0],weight=1,\n",
       " Judgment(grade=1,qid=1,keywords=,docId=1,features=[1999.0],weight=1,\n",
       " Judgment(grade=0,qid=1,keywords=,docId=0,features=[2016.0],weight=1,\n",
       " Judgment(grade=1,qid=1,keywords=,docId=1,features=[2005.0],weight=1,\n",
       " Judgment(grade=1,qid=1,keywords=,docId=1,features=[2010.0],weight=1,\n",
       " Judgment(grade=2,qid=1,keywords=,docId=2,features=[1988.0],weight=1,\n",
       " Judgment(grade=0,qid=1,keywords=,docId=0,features=[2016.0],weight=1,\n",
       " Judgment(grade=1,qid=1,keywords=,docId=1,features=[2001.0],weight=1,\n",
       " Judgment(grade=1,qid=1,keywords=,docId=1,features=[2010.0],weight=1,\n",
       " Judgment(grade=0,qid=1,keywords=,docId=0,features=[2016.0],weight=1,\n",
       " Judgment(grade=0,qid=1,keywords=,docId=0,features=[2016.0],weight=1,\n",
       " Judgment(grade=0,qid=1,keywords=,docId=0,features=[2013.0],weight=1,\n",
       " Judgment(grade=0,qid=1,keywords=,docId=0,features=[2013.0],weight=1,\n",
       " Judgment(grade=1,qid=1,keywords=,docId=1,features=[1997.0],weight=1,\n",
       " Judgment(grade=1,qid=1,keywords=,docId=1,features=[2008.0],weight=1,\n",
       " Judgment(grade=1,qid=1,keywords=,docId=1,features=[2007.0],weight=1,\n",
       " Judgment(grade=0,qid=1,keywords=,docId=0,features=[2012.0],weight=1,\n",
       " Judgment(grade=0,qid=1,keywords=,docId=0,features=[2014.0],weight=1,\n",
       " Judgment(grade=1,qid=1,keywords=,docId=1,features=[1991.0],weight=1,\n",
       " Judgment(grade=1,qid=1,keywords=,docId=1,features=[2006.0],weight=1,\n",
       " Judgment(grade=0,qid=1,keywords=,docId=0,features=[2013.0],weight=1,\n",
       " Judgment(grade=0,qid=1,keywords=,docId=0,features=[2016.0],weight=1,\n",
       " Judgment(grade=1,qid=1,keywords=,docId=1,features=[1997.0],weight=1,\n",
       " Judgment(grade=1,qid=1,keywords=,docId=1,features=[2009.0],weight=1,\n",
       " Judgment(grade=0,qid=1,keywords=,docId=0,features=[2012.0],weight=1,\n",
       " Judgment(grade=1,qid=1,keywords=,docId=1,features=[1999.0],weight=1,\n",
       " Judgment(grade=0,qid=1,keywords=,docId=0,features=[2016.0],weight=1,\n",
       " Judgment(grade=0,qid=1,keywords=,docId=0,features=[2011.0],weight=1,\n",
       " Judgment(grade=1,qid=1,keywords=,docId=1,features=[2005.0],weight=1,\n",
       " Judgment(grade=0,qid=1,keywords=,docId=0,features=[2014.0],weight=1,\n",
       " Judgment(grade=1,qid=1,keywords=,docId=1,features=[2007.0],weight=1,\n",
       " Judgment(grade=1,qid=1,keywords=,docId=1,features=[2002.0],weight=1,\n",
       " Judgment(grade=0,qid=1,keywords=,docId=0,features=[2013.0],weight=1,\n",
       " Judgment(grade=1,qid=1,keywords=,docId=1,features=[2004.0],weight=1,\n",
       " Judgment(grade=0,qid=1,keywords=,docId=0,features=[2011.0],weight=1,\n",
       " Judgment(grade=0,qid=1,keywords=,docId=0,features=[2015.0],weight=1,\n",
       " Judgment(grade=1,qid=1,keywords=,docId=1,features=[1996.0],weight=1,\n",
       " Judgment(grade=1,qid=1,keywords=,docId=1,features=[2006.0],weight=1,\n",
       " Judgment(grade=1,qid=1,keywords=,docId=1,features=[1995.0],weight=1,\n",
       " Judgment(grade=2,qid=1,keywords=,docId=2,features=[1987.0],weight=1,\n",
       " Judgment(grade=0,qid=1,keywords=,docId=0,features=[2014.0],weight=1,\n",
       " Judgment(grade=0,qid=1,keywords=,docId=0,features=[2013.0],weight=1,\n",
       " Judgment(grade=0,qid=1,keywords=,docId=0,features=[2012.0],weight=1,\n",
       " Judgment(grade=1,qid=1,keywords=,docId=1,features=[2009.0],weight=1,\n",
       " Judgment(grade=1,qid=1,keywords=,docId=1,features=[2010.0],weight=1,\n",
       " Judgment(grade=1,qid=1,keywords=,docId=1,features=[2008.0],weight=1,\n",
       " Judgment(grade=0,qid=1,keywords=,docId=0,features=[2014.0],weight=1,\n",
       " Judgment(grade=1,qid=1,keywords=,docId=1,features=[1993.0],weight=1,\n",
       " Judgment(grade=1,qid=1,keywords=,docId=1,features=[2000.0],weight=1,\n",
       " Judgment(grade=1,qid=1,keywords=,docId=1,features=[1996.0],weight=1,\n",
       " Judgment(grade=0,qid=1,keywords=,docId=0,features=[2016.0],weight=1,\n",
       " Judgment(grade=0,qid=1,keywords=,docId=0,features=[2011.0],weight=1,\n",
       " Judgment(grade=0,qid=1,keywords=,docId=0,features=[2015.0],weight=1,\n",
       " Judgment(grade=0,qid=1,keywords=,docId=0,features=[2016.0],weight=1,\n",
       " Judgment(grade=1,qid=1,keywords=,docId=1,features=[2004.0],weight=1,\n",
       " Judgment(grade=0,qid=1,keywords=,docId=0,features=[2011.0],weight=1,\n",
       " Judgment(grade=0,qid=1,keywords=,docId=0,features=[2011.0],weight=1,\n",
       " Judgment(grade=1,qid=1,keywords=,docId=1,features=[1993.0],weight=1,\n",
       " Judgment(grade=1,qid=1,keywords=,docId=1,features=[2001.0],weight=1,\n",
       " Judgment(grade=1,qid=1,keywords=,docId=1,features=[2002.0],weight=1,\n",
       " Judgment(grade=1,qid=1,keywords=,docId=1,features=[2003.0],weight=1,\n",
       " Judgment(grade=1,qid=1,keywords=,docId=1,features=[2007.0],weight=1,\n",
       " Judgment(grade=1,qid=1,keywords=,docId=1,features=[2001.0],weight=1,\n",
       " Judgment(grade=1,qid=1,keywords=,docId=1,features=[2007.0],weight=1,\n",
       " Judgment(grade=0,qid=1,keywords=,docId=0,features=[2012.0],weight=1,\n",
       " Judgment(grade=1,qid=1,keywords=,docId=1,features=[1999.0],weight=1,\n",
       " Judgment(grade=0,qid=1,keywords=,docId=0,features=[2011.0],weight=1,\n",
       " Judgment(grade=1,qid=1,keywords=,docId=1,features=[2009.0],weight=1,\n",
       " Judgment(grade=1,qid=1,keywords=,docId=1,features=[2008.0],weight=1,\n",
       " Judgment(grade=1,qid=1,keywords=,docId=1,features=[1996.0],weight=1,\n",
       " Judgment(grade=0,qid=1,keywords=,docId=0,features=[2015.0],weight=1,\n",
       " Judgment(grade=0,qid=1,keywords=,docId=0,features=[2012.0],weight=1,\n",
       " Judgment(grade=0,qid=1,keywords=,docId=0,features=[2016.0],weight=1,\n",
       " Judgment(grade=0,qid=1,keywords=,docId=0,features=[2012.0],weight=1,\n",
       " Judgment(grade=1,qid=1,keywords=,docId=1,features=[2007.0],weight=1,\n",
       " Judgment(grade=2,qid=1,keywords=,docId=2,features=[1989.0],weight=1,\n",
       " Judgment(grade=1,qid=1,keywords=,docId=1,features=[2010.0],weight=1,\n",
       " Judgment(grade=2,qid=1,keywords=,docId=2,features=[1980.0],weight=1,\n",
       " Judgment(grade=0,qid=1,keywords=,docId=0,features=[2014.0],weight=1,\n",
       " Judgment(grade=2,qid=1,keywords=,docId=2,features=[1988.0],weight=1,\n",
       " Judgment(grade=1,qid=1,keywords=,docId=1,features=[2008.0],weight=1,\n",
       " Judgment(grade=1,qid=1,keywords=,docId=1,features=[2000.0],weight=1,\n",
       " Judgment(grade=0,qid=1,keywords=,docId=0,features=[2014.0],weight=1,\n",
       " Judgment(grade=1,qid=1,keywords=,docId=1,features=[2005.0],weight=1,\n",
       " Judgment(grade=1,qid=1,keywords=,docId=1,features=[1998.0],weight=1,\n",
       " Judgment(grade=0,qid=1,keywords=,docId=0,features=[2012.0],weight=1,\n",
       " Judgment(grade=0,qid=1,keywords=,docId=0,features=[2011.0],weight=1,\n",
       " Judgment(grade=1,qid=1,keywords=,docId=1,features=[2010.0],weight=1,\n",
       " Judgment(grade=1,qid=1,keywords=,docId=1,features=[2010.0],weight=1,\n",
       " Judgment(grade=1,qid=1,keywords=,docId=1,features=[2008.0],weight=1,\n",
       " Judgment(grade=1,qid=1,keywords=,docId=1,features=[2002.0],weight=1,\n",
       " Judgment(grade=0,qid=1,keywords=,docId=0,features=[2011.0],weight=1,\n",
       " Judgment(grade=1,qid=1,keywords=,docId=1,features=[2009.0],weight=1,\n",
       " Judgment(grade=0,qid=1,keywords=,docId=0,features=[2016.0],weight=1,\n",
       " Judgment(grade=1,qid=1,keywords=,docId=1,features=[1992.0],weight=1,\n",
       " Judgment(grade=0,qid=1,keywords=,docId=0,features=[2011.0],weight=1,\n",
       " Judgment(grade=1,qid=1,keywords=,docId=1,features=[2009.0],weight=1,\n",
       " Judgment(grade=1,qid=1,keywords=,docId=1,features=[2001.0],weight=1,\n",
       " Judgment(grade=1,qid=1,keywords=,docId=1,features=[1996.0],weight=1,\n",
       " Judgment(grade=1,qid=1,keywords=,docId=1,features=[2009.0],weight=1,\n",
       " Judgment(grade=0,qid=1,keywords=,docId=0,features=[2014.0],weight=1,\n",
       " Judgment(grade=0,qid=1,keywords=,docId=0,features=[2016.0],weight=1,\n",
       " Judgment(grade=1,qid=1,keywords=,docId=1,features=[1994.0],weight=1,\n",
       " Judgment(grade=0,qid=1,keywords=,docId=0,features=[2014.0],weight=1,\n",
       " Judgment(grade=0,qid=1,keywords=,docId=0,features=[2013.0],weight=1,\n",
       " Judgment(grade=1,qid=1,keywords=,docId=1,features=[1995.0],weight=1,\n",
       " Judgment(grade=0,qid=1,keywords=,docId=0,features=[2013.0],weight=1,\n",
       " Judgment(grade=0,qid=1,keywords=,docId=0,features=[2016.0],weight=1,\n",
       " Judgment(grade=1,qid=1,keywords=,docId=1,features=[2003.0],weight=1,\n",
       " Judgment(grade=1,qid=1,keywords=,docId=1,features=[2010.0],weight=1,\n",
       " Judgment(grade=2,qid=1,keywords=,docId=2,features=[1986.0],weight=1,\n",
       " Judgment(grade=1,qid=1,keywords=,docId=1,features=[1997.0],weight=1,\n",
       " Judgment(grade=1,qid=1,keywords=,docId=1,features=[2009.0],weight=1,\n",
       " Judgment(grade=0,qid=1,keywords=,docId=0,features=[2011.0],weight=1,\n",
       " Judgment(grade=0,qid=1,keywords=,docId=0,features=[2017.0],weight=1,\n",
       " Judgment(grade=1,qid=1,keywords=,docId=1,features=[1995.0],weight=1,\n",
       " Judgment(grade=0,qid=1,keywords=,docId=0,features=[2015.0],weight=1,\n",
       " Judgment(grade=2,qid=1,keywords=,docId=2,features=[1986.0],weight=1,\n",
       " Judgment(grade=0,qid=1,keywords=,docId=0,features=[2016.0],weight=1,\n",
       " Judgment(grade=0,qid=1,keywords=,docId=0,features=[2016.0],weight=1,\n",
       " Judgment(grade=1,qid=1,keywords=,docId=1,features=[1999.0],weight=1,\n",
       " Judgment(grade=0,qid=1,keywords=,docId=0,features=[2015.0],weight=1,\n",
       " Judgment(grade=1,qid=1,keywords=,docId=1,features=[2000.0],weight=1,\n",
       " Judgment(grade=1,qid=1,keywords=,docId=1,features=[2005.0],weight=1,\n",
       " Judgment(grade=1,qid=1,keywords=,docId=1,features=[2000.0],weight=1,\n",
       " Judgment(grade=1,qid=1,keywords=,docId=1,features=[2006.0],weight=1,\n",
       " Judgment(grade=0,qid=1,keywords=,docId=0,features=[2016.0],weight=1,\n",
       " Judgment(grade=1,qid=1,keywords=,docId=1,features=[2008.0],weight=1,\n",
       " Judgment(grade=1,qid=1,keywords=,docId=1,features=[2004.0],weight=1,\n",
       " Judgment(grade=0,qid=1,keywords=,docId=0,features=[2015.0],weight=1,\n",
       " Judgment(grade=2,qid=1,keywords=,docId=2,features=[1988.0],weight=1,\n",
       " Judgment(grade=0,qid=1,keywords=,docId=0,features=[2013.0],weight=1,\n",
       " Judgment(grade=0,qid=1,keywords=,docId=0,features=[2012.0],weight=1,\n",
       " Judgment(grade=0,qid=1,keywords=,docId=0,features=[2014.0],weight=1,\n",
       " Judgment(grade=1,qid=1,keywords=,docId=1,features=[1992.0],weight=1,\n",
       " Judgment(grade=1,qid=1,keywords=,docId=1,features=[2007.0],weight=1,\n",
       " Judgment(grade=0,qid=1,keywords=,docId=0,features=[2013.0],weight=1,\n",
       " Judgment(grade=0,qid=1,keywords=,docId=0,features=[2016.0],weight=1,\n",
       " Judgment(grade=0,qid=1,keywords=,docId=0,features=[2017.0],weight=1,\n",
       " Judgment(grade=1,qid=1,keywords=,docId=1,features=[2007.0],weight=1,\n",
       " Judgment(grade=1,qid=1,keywords=,docId=1,features=[2004.0],weight=1,\n",
       " Judgment(grade=1,qid=1,keywords=,docId=1,features=[1996.0],weight=1,\n",
       " Judgment(grade=0,qid=1,keywords=,docId=0,features=[2017.0],weight=1,\n",
       " Judgment(grade=0,qid=1,keywords=,docId=0,features=[2012.0],weight=1,\n",
       " Judgment(grade=2,qid=1,keywords=,docId=2,features=[1986.0],weight=1,\n",
       " Judgment(grade=1,qid=1,keywords=,docId=1,features=[2010.0],weight=1,\n",
       " Judgment(grade=0,qid=1,keywords=,docId=0,features=[2013.0],weight=1,\n",
       " Judgment(grade=0,qid=1,keywords=,docId=0,features=[2015.0],weight=1,\n",
       " Judgment(grade=1,qid=1,keywords=,docId=1,features=[2009.0],weight=1,\n",
       " Judgment(grade=1,qid=1,keywords=,docId=1,features=[2005.0],weight=1,\n",
       " Judgment(grade=0,qid=1,keywords=,docId=0,features=[2015.0],weight=1,\n",
       " Judgment(grade=0,qid=1,keywords=,docId=0,features=[2014.0],weight=1,\n",
       " Judgment(grade=1,qid=1,keywords=,docId=1,features=[2009.0],weight=1,\n",
       " Judgment(grade=1,qid=1,keywords=,docId=1,features=[2002.0],weight=1,\n",
       " Judgment(grade=1,qid=1,keywords=,docId=1,features=[2010.0],weight=1,\n",
       " Judgment(grade=1,qid=1,keywords=,docId=1,features=[2009.0],weight=1,\n",
       " Judgment(grade=0,qid=1,keywords=,docId=0,features=[2013.0],weight=1,\n",
       " Judgment(grade=1,qid=1,keywords=,docId=1,features=[2006.0],weight=1,\n",
       " Judgment(grade=1,qid=1,keywords=,docId=1,features=[2002.0],weight=1,\n",
       " Judgment(grade=2,qid=1,keywords=,docId=2,features=[1990.0],weight=1,\n",
       " Judgment(grade=1,qid=1,keywords=,docId=1,features=[1995.0],weight=1,\n",
       " Judgment(grade=1,qid=1,keywords=,docId=1,features=[2004.0],weight=1,\n",
       " Judgment(grade=1,qid=1,keywords=,docId=1,features=[1995.0],weight=1,\n",
       " Judgment(grade=1,qid=1,keywords=,docId=1,features=[2007.0],weight=1,\n",
       " Judgment(grade=1,qid=1,keywords=,docId=1,features=[2008.0],weight=1,\n",
       " Judgment(grade=0,qid=1,keywords=,docId=0,features=[2015.0],weight=1,\n",
       " Judgment(grade=0,qid=1,keywords=,docId=0,features=[2015.0],weight=1,\n",
       " Judgment(grade=1,qid=1,keywords=,docId=1,features=[2007.0],weight=1,\n",
       " Judgment(grade=1,qid=1,keywords=,docId=1,features=[2008.0],weight=1,\n",
       " Judgment(grade=1,qid=1,keywords=,docId=1,features=[2005.0],weight=1,\n",
       " Judgment(grade=1,qid=1,keywords=,docId=1,features=[2009.0],weight=1,\n",
       " Judgment(grade=1,qid=1,keywords=,docId=1,features=[2006.0],weight=1,\n",
       " Judgment(grade=0,qid=1,keywords=,docId=0,features=[2013.0],weight=1,\n",
       " Judgment(grade=0,qid=1,keywords=,docId=0,features=[2012.0],weight=1,\n",
       " Judgment(grade=0,qid=1,keywords=,docId=0,features=[2011.0],weight=1,\n",
       " Judgment(grade=1,qid=1,keywords=,docId=1,features=[2000.0],weight=1,\n",
       " Judgment(grade=0,qid=1,keywords=,docId=0,features=[2016.0],weight=1,\n",
       " Judgment(grade=1,qid=1,keywords=,docId=1,features=[1997.0],weight=1,\n",
       " Judgment(grade=1,qid=1,keywords=,docId=1,features=[2008.0],weight=1,\n",
       " Judgment(grade=1,qid=1,keywords=,docId=1,features=[1996.0],weight=1,\n",
       " Judgment(grade=0,qid=1,keywords=,docId=0,features=[2012.0],weight=1,\n",
       " Judgment(grade=1,qid=1,keywords=,docId=1,features=[1999.0],weight=1,\n",
       " Judgment(grade=0,qid=1,keywords=,docId=0,features=[2014.0],weight=1,\n",
       " Judgment(grade=0,qid=1,keywords=,docId=0,features=[2012.0],weight=1,\n",
       " Judgment(grade=1,qid=1,keywords=,docId=1,features=[1992.0],weight=1,\n",
       " Judgment(grade=1,qid=1,keywords=,docId=1,features=[2007.0],weight=1,\n",
       " Judgment(grade=1,qid=1,keywords=,docId=1,features=[2006.0],weight=1,\n",
       " Judgment(grade=1,qid=1,keywords=,docId=1,features=[2010.0],weight=1,\n",
       " Judgment(grade=0,qid=1,keywords=,docId=0,features=[2016.0],weight=1,\n",
       " Judgment(grade=0,qid=1,keywords=,docId=0,features=[2012.0],weight=1,\n",
       " Judgment(grade=1,qid=1,keywords=,docId=1,features=[2009.0],weight=1,\n",
       " Judgment(grade=1,qid=1,keywords=,docId=1,features=[1996.0],weight=1,\n",
       " Judgment(grade=1,qid=1,keywords=,docId=1,features=[2009.0],weight=1,\n",
       " Judgment(grade=1,qid=1,keywords=,docId=1,features=[2007.0],weight=1,\n",
       " Judgment(grade=0,qid=1,keywords=,docId=0,features=[2012.0],weight=1,\n",
       " Judgment(grade=2,qid=1,keywords=,docId=2,features=[1986.0],weight=1,\n",
       " Judgment(grade=0,qid=1,keywords=,docId=0,features=[2012.0],weight=1,\n",
       " Judgment(grade=1,qid=1,keywords=,docId=1,features=[2009.0],weight=1,\n",
       " Judgment(grade=0,qid=1,keywords=,docId=0,features=[2011.0],weight=1,\n",
       " Judgment(grade=0,qid=1,keywords=,docId=0,features=[2012.0],weight=1,\n",
       " Judgment(grade=1,qid=1,keywords=,docId=1,features=[1998.0],weight=1,\n",
       " Judgment(grade=0,qid=1,keywords=,docId=0,features=[2015.0],weight=1,\n",
       " Judgment(grade=0,qid=1,keywords=,docId=0,features=[2013.0],weight=1,\n",
       " Judgment(grade=0,qid=1,keywords=,docId=0,features=[2014.0],weight=1,\n",
       " Judgment(grade=1,qid=1,keywords=,docId=1,features=[2009.0],weight=1,\n",
       " Judgment(grade=1,qid=1,keywords=,docId=1,features=[2003.0],weight=1,\n",
       " Judgment(grade=0,qid=1,keywords=,docId=0,features=[2014.0],weight=1,\n",
       " Judgment(grade=1,qid=1,keywords=,docId=1,features=[1992.0],weight=1,\n",
       " Judgment(grade=0,qid=1,keywords=,docId=0,features=[2013.0],weight=1,\n",
       " Judgment(grade=1,qid=1,keywords=,docId=1,features=[2009.0],weight=1,\n",
       " Judgment(grade=1,qid=1,keywords=,docId=1,features=[2006.0],weight=1,\n",
       " Judgment(grade=1,qid=1,keywords=,docId=1,features=[2006.0],weight=1,\n",
       " Judgment(grade=0,qid=1,keywords=,docId=0,features=[2012.0],weight=1,\n",
       " Judgment(grade=0,qid=1,keywords=,docId=0,features=[2011.0],weight=1,\n",
       " Judgment(grade=0,qid=1,keywords=,docId=0,features=[2012.0],weight=1,\n",
       " Judgment(grade=1,qid=1,keywords=,docId=1,features=[2004.0],weight=1,\n",
       " Judgment(grade=1,qid=1,keywords=,docId=1,features=[2007.0],weight=1,\n",
       " Judgment(grade=0,qid=1,keywords=,docId=0,features=[2016.0],weight=1,\n",
       " Judgment(grade=0,qid=1,keywords=,docId=0,features=[2014.0],weight=1,\n",
       " Judgment(grade=0,qid=1,keywords=,docId=0,features=[2013.0],weight=1,\n",
       " Judgment(grade=1,qid=1,keywords=,docId=1,features=[2002.0],weight=1,\n",
       " Judgment(grade=1,qid=1,keywords=,docId=1,features=[2009.0],weight=1,\n",
       " Judgment(grade=1,qid=1,keywords=,docId=1,features=[1993.0],weight=1,\n",
       " Judgment(grade=0,qid=1,keywords=,docId=0,features=[2014.0],weight=1,\n",
       " Judgment(grade=0,qid=1,keywords=,docId=0,features=[2016.0],weight=1,\n",
       " Judgment(grade=2,qid=1,keywords=,docId=2,features=[1990.0],weight=1,\n",
       " Judgment(grade=0,qid=1,keywords=,docId=0,features=[2011.0],weight=1,\n",
       " Judgment(grade=1,qid=1,keywords=,docId=1,features=[2010.0],weight=1,\n",
       " Judgment(grade=1,qid=1,keywords=,docId=1,features=[2009.0],weight=1,\n",
       " Judgment(grade=1,qid=1,keywords=,docId=1,features=[2005.0],weight=1,\n",
       " Judgment(grade=0,qid=1,keywords=,docId=0,features=[2013.0],weight=1,\n",
       " Judgment(grade=1,qid=1,keywords=,docId=1,features=[2008.0],weight=1,\n",
       " Judgment(grade=1,qid=1,keywords=,docId=1,features=[2004.0],weight=1,\n",
       " Judgment(grade=1,qid=1,keywords=,docId=1,features=[2002.0],weight=1,\n",
       " Judgment(grade=0,qid=1,keywords=,docId=0,features=[2011.0],weight=1,\n",
       " Judgment(grade=0,qid=1,keywords=,docId=0,features=[2011.0],weight=1,\n",
       " Judgment(grade=0,qid=1,keywords=,docId=0,features=[2014.0],weight=1,\n",
       " Judgment(grade=0,qid=1,keywords=,docId=0,features=[2013.0],weight=1,\n",
       " Judgment(grade=0,qid=1,keywords=,docId=0,features=[2011.0],weight=1,\n",
       " Judgment(grade=1,qid=1,keywords=,docId=1,features=[2007.0],weight=1,\n",
       " Judgment(grade=1,qid=1,keywords=,docId=1,features=[2002.0],weight=1,\n",
       " Judgment(grade=1,qid=1,keywords=,docId=1,features=[2007.0],weight=1]"
      ]
     },
     "execution_count": 3,
     "metadata": {},
     "output_type": "execute_result"
    }
   ],
   "source": [
    "from ltr import years_as_ratings\n",
    "from ltr.judgments import judgments_from_file\n",
    "\n",
    "years_as_ratings.synthesize(client, \n",
    "                            featureSet='release',\n",
    "                            classicTrainingSetOut='data/classic-training.txt',\n",
    "                            latestTrainingSetOut='data/latest-training.txt')\n",
    "\n",
    "# Load into training set \n",
    "classic_training_set = [j for j in judgments_from_file(open('data/classic-training.txt'))]\n",
    "latest_training_set = [j for j in judgments_from_file(open('data/latest-training.txt'))]\n",
    "\n",
    "classic_training_set"
   ]
  },
  {
   "cell_type": "markdown",
   "metadata": {},
   "source": [
    "### Train and Submit\n",
    "\n",
    "We'll train a lot of models in this class! Our ltr library has a `train` method that wraps a tool called `Ranklib` (more on Ranklib later), allows you to pass the most common commands to Ranklib, stores a model in the search engine, and then returns diagnostic output that's worth inspecting. \n",
    "\n",
    "For now we'll just train using the generated training set, and store two models `latest` and `classic`.\n"
   ]
  },
  {
   "cell_type": "code",
   "execution_count": 4,
   "metadata": {},
   "outputs": [
    {
     "name": "stdout",
     "output_type": "stream",
     "text": [
      "/var/folders/vc/thmh159x5xddb6_cgtx778sc0000gn/T/RankyMcRankFace.jar already exists\n",
      "Running java -jar /var/folders/vc/thmh159x5xddb6_cgtx778sc0000gn/T/RankyMcRankFace.jar -ranker 6 -shrinkage 0.1 -metric2t DCG@10 -tree 50 -bag 1 -leaf 10 -frate 1.0 -srate 1.0 -train /var/folders/vc/thmh159x5xddb6_cgtx778sc0000gn/T/training.txt -save data/latest_model.txt \n",
      "DONE\n",
      "Delete model latest: 404\n",
      "Created Model latest [Status: 201]\n",
      "Model saved\n",
      "/var/folders/vc/thmh159x5xddb6_cgtx778sc0000gn/T/RankyMcRankFace.jar already exists\n",
      "Running java -jar /var/folders/vc/thmh159x5xddb6_cgtx778sc0000gn/T/RankyMcRankFace.jar -ranker 6 -shrinkage 0.1 -metric2t DCG@10 -tree 50 -bag 1 -leaf 10 -frate 1.0 -srate 1.0 -train /var/folders/vc/thmh159x5xddb6_cgtx778sc0000gn/T/training.txt -save data/classic_model.txt \n",
      "DONE\n",
      "Delete model classic: 404\n",
      "Created Model classic [Status: 201]\n",
      "Model saved\n"
     ]
    },
    {
     "data": {
      "text/plain": [
       "<ltr.helpers.ranklib_result.RanklibResult at 0x7fcbe89999d0>"
      ]
     },
     "execution_count": 4,
     "metadata": {},
     "output_type": "execute_result"
    }
   ],
   "source": [
    "from ltr.ranklib import train\n",
    "train(client, training_set=latest_training_set, \n",
    "      index='tmdb', featureSet='release', modelName='latest')\n",
    "train(client, training_set=classic_training_set, \n",
    "      index='tmdb', featureSet='release', modelName='classic')"
   ]
  },
  {
   "cell_type": "markdown",
   "metadata": {},
   "source": [
    "### Ben Affleck vs Adam West\n",
    "If we search for `batman`, how do the results compare?  Since the `classic` model prefered old movies it has old movies in the top position, and the opposite is true for the `latest` model.  To continue learning LTR, brainstorm more features and generate some real judgments for real queries."
   ]
  },
  {
   "cell_type": "code",
   "execution_count": 5,
   "metadata": {},
   "outputs": [
    {
     "data": {
      "text/html": [
       "        <script type=\"text/javascript\">\n",
       "        window.PlotlyConfig = {MathJaxConfig: 'local'};\n",
       "        if (window.MathJax) {MathJax.Hub.Config({SVG: {font: \"STIX-Web\"}});}\n",
       "        if (typeof require !== 'undefined') {\n",
       "        require.undef(\"plotly\");\n",
       "        requirejs.config({\n",
       "            paths: {\n",
       "                'plotly': ['https://cdn.plot.ly/plotly-latest.min']\n",
       "            }\n",
       "        });\n",
       "        require(['plotly'], function(Plotly) {\n",
       "            window._Plotly = Plotly;\n",
       "        });\n",
       "        }\n",
       "        </script>\n",
       "        "
      ]
     },
     "metadata": {},
     "output_type": "display_data"
    },
    {
     "name": "stdout",
     "output_type": "stream",
     "text": [
      "Searching tmdb - {'bool': {'must': {' [Status: 200]\n",
      "Searching tmdb - {'bool': {'must': {' [Status: 200]\n"
     ]
    },
    {
     "data": {
      "application/vnd.plotly.v1+json": {
       "config": {
        "linkText": "Export to plot.ly",
        "plotlyServerURL": "https://plot.ly",
        "showLink": false
       },
       "data": [
        {
         "mode": "lines",
         "name": "classic",
         "type": "scatter",
         "x": [
          0,
          1,
          2,
          3,
          4,
          5,
          6,
          7,
          8,
          9,
          10,
          11,
          12,
          13,
          14,
          15,
          16,
          17,
          18,
          19,
          20,
          21,
          22,
          23,
          24,
          25,
          26,
          27,
          28,
          29
         ],
         "y": [
          "1949",
          "1943",
          "1966",
          "1989",
          "2013",
          "2000",
          "2012",
          "2010",
          "2005",
          "1998",
          "2010",
          "2008",
          "2009",
          "1998",
          "2005",
          "2003",
          "2011",
          "1997",
          "2008",
          "2013",
          "1992",
          "1993",
          "1995",
          "2016",
          "2014",
          "2015",
          "2016",
          "2016",
          "2014",
          "2017"
         ]
        },
        {
         "mode": "lines",
         "name": "latest",
         "type": "scatter",
         "x": [
          0,
          1,
          2,
          3,
          4,
          5,
          6,
          7,
          8,
          9,
          10,
          11,
          12,
          13,
          14,
          15,
          16,
          17,
          18,
          19,
          20,
          21,
          22,
          23,
          24,
          25,
          26,
          27,
          28,
          29
         ],
         "y": [
          "2014",
          "2014",
          "2016",
          "2016",
          "2016",
          "2017",
          "2015",
          "2013",
          "2012",
          "2011",
          "2013",
          "2000",
          "1998",
          "1998",
          "2003",
          "1997",
          "2010",
          "2005",
          "2010",
          "2008",
          "2009",
          "2005",
          "2008",
          "1989",
          "1995",
          "1992",
          "1993",
          "1966",
          "1949",
          "1943"
         ]
        }
       ],
       "layout": {
        "template": {
         "data": {
          "bar": [
           {
            "error_x": {
             "color": "#2a3f5f"
            },
            "error_y": {
             "color": "#2a3f5f"
            },
            "marker": {
             "line": {
              "color": "#E5ECF6",
              "width": 0.5
             }
            },
            "type": "bar"
           }
          ],
          "barpolar": [
           {
            "marker": {
             "line": {
              "color": "#E5ECF6",
              "width": 0.5
             }
            },
            "type": "barpolar"
           }
          ],
          "carpet": [
           {
            "aaxis": {
             "endlinecolor": "#2a3f5f",
             "gridcolor": "white",
             "linecolor": "white",
             "minorgridcolor": "white",
             "startlinecolor": "#2a3f5f"
            },
            "baxis": {
             "endlinecolor": "#2a3f5f",
             "gridcolor": "white",
             "linecolor": "white",
             "minorgridcolor": "white",
             "startlinecolor": "#2a3f5f"
            },
            "type": "carpet"
           }
          ],
          "choropleth": [
           {
            "colorbar": {
             "outlinewidth": 0,
             "ticks": ""
            },
            "type": "choropleth"
           }
          ],
          "contour": [
           {
            "colorbar": {
             "outlinewidth": 0,
             "ticks": ""
            },
            "colorscale": [
             [
              0,
              "#0d0887"
             ],
             [
              0.1111111111111111,
              "#46039f"
             ],
             [
              0.2222222222222222,
              "#7201a8"
             ],
             [
              0.3333333333333333,
              "#9c179e"
             ],
             [
              0.4444444444444444,
              "#bd3786"
             ],
             [
              0.5555555555555556,
              "#d8576b"
             ],
             [
              0.6666666666666666,
              "#ed7953"
             ],
             [
              0.7777777777777778,
              "#fb9f3a"
             ],
             [
              0.8888888888888888,
              "#fdca26"
             ],
             [
              1,
              "#f0f921"
             ]
            ],
            "type": "contour"
           }
          ],
          "contourcarpet": [
           {
            "colorbar": {
             "outlinewidth": 0,
             "ticks": ""
            },
            "type": "contourcarpet"
           }
          ],
          "heatmap": [
           {
            "colorbar": {
             "outlinewidth": 0,
             "ticks": ""
            },
            "colorscale": [
             [
              0,
              "#0d0887"
             ],
             [
              0.1111111111111111,
              "#46039f"
             ],
             [
              0.2222222222222222,
              "#7201a8"
             ],
             [
              0.3333333333333333,
              "#9c179e"
             ],
             [
              0.4444444444444444,
              "#bd3786"
             ],
             [
              0.5555555555555556,
              "#d8576b"
             ],
             [
              0.6666666666666666,
              "#ed7953"
             ],
             [
              0.7777777777777778,
              "#fb9f3a"
             ],
             [
              0.8888888888888888,
              "#fdca26"
             ],
             [
              1,
              "#f0f921"
             ]
            ],
            "type": "heatmap"
           }
          ],
          "heatmapgl": [
           {
            "colorbar": {
             "outlinewidth": 0,
             "ticks": ""
            },
            "colorscale": [
             [
              0,
              "#0d0887"
             ],
             [
              0.1111111111111111,
              "#46039f"
             ],
             [
              0.2222222222222222,
              "#7201a8"
             ],
             [
              0.3333333333333333,
              "#9c179e"
             ],
             [
              0.4444444444444444,
              "#bd3786"
             ],
             [
              0.5555555555555556,
              "#d8576b"
             ],
             [
              0.6666666666666666,
              "#ed7953"
             ],
             [
              0.7777777777777778,
              "#fb9f3a"
             ],
             [
              0.8888888888888888,
              "#fdca26"
             ],
             [
              1,
              "#f0f921"
             ]
            ],
            "type": "heatmapgl"
           }
          ],
          "histogram": [
           {
            "marker": {
             "colorbar": {
              "outlinewidth": 0,
              "ticks": ""
             }
            },
            "type": "histogram"
           }
          ],
          "histogram2d": [
           {
            "colorbar": {
             "outlinewidth": 0,
             "ticks": ""
            },
            "colorscale": [
             [
              0,
              "#0d0887"
             ],
             [
              0.1111111111111111,
              "#46039f"
             ],
             [
              0.2222222222222222,
              "#7201a8"
             ],
             [
              0.3333333333333333,
              "#9c179e"
             ],
             [
              0.4444444444444444,
              "#bd3786"
             ],
             [
              0.5555555555555556,
              "#d8576b"
             ],
             [
              0.6666666666666666,
              "#ed7953"
             ],
             [
              0.7777777777777778,
              "#fb9f3a"
             ],
             [
              0.8888888888888888,
              "#fdca26"
             ],
             [
              1,
              "#f0f921"
             ]
            ],
            "type": "histogram2d"
           }
          ],
          "histogram2dcontour": [
           {
            "colorbar": {
             "outlinewidth": 0,
             "ticks": ""
            },
            "colorscale": [
             [
              0,
              "#0d0887"
             ],
             [
              0.1111111111111111,
              "#46039f"
             ],
             [
              0.2222222222222222,
              "#7201a8"
             ],
             [
              0.3333333333333333,
              "#9c179e"
             ],
             [
              0.4444444444444444,
              "#bd3786"
             ],
             [
              0.5555555555555556,
              "#d8576b"
             ],
             [
              0.6666666666666666,
              "#ed7953"
             ],
             [
              0.7777777777777778,
              "#fb9f3a"
             ],
             [
              0.8888888888888888,
              "#fdca26"
             ],
             [
              1,
              "#f0f921"
             ]
            ],
            "type": "histogram2dcontour"
           }
          ],
          "mesh3d": [
           {
            "colorbar": {
             "outlinewidth": 0,
             "ticks": ""
            },
            "type": "mesh3d"
           }
          ],
          "parcoords": [
           {
            "line": {
             "colorbar": {
              "outlinewidth": 0,
              "ticks": ""
             }
            },
            "type": "parcoords"
           }
          ],
          "pie": [
           {
            "automargin": true,
            "type": "pie"
           }
          ],
          "scatter": [
           {
            "marker": {
             "colorbar": {
              "outlinewidth": 0,
              "ticks": ""
             }
            },
            "type": "scatter"
           }
          ],
          "scatter3d": [
           {
            "line": {
             "colorbar": {
              "outlinewidth": 0,
              "ticks": ""
             }
            },
            "marker": {
             "colorbar": {
              "outlinewidth": 0,
              "ticks": ""
             }
            },
            "type": "scatter3d"
           }
          ],
          "scattercarpet": [
           {
            "marker": {
             "colorbar": {
              "outlinewidth": 0,
              "ticks": ""
             }
            },
            "type": "scattercarpet"
           }
          ],
          "scattergeo": [
           {
            "marker": {
             "colorbar": {
              "outlinewidth": 0,
              "ticks": ""
             }
            },
            "type": "scattergeo"
           }
          ],
          "scattergl": [
           {
            "marker": {
             "colorbar": {
              "outlinewidth": 0,
              "ticks": ""
             }
            },
            "type": "scattergl"
           }
          ],
          "scattermapbox": [
           {
            "marker": {
             "colorbar": {
              "outlinewidth": 0,
              "ticks": ""
             }
            },
            "type": "scattermapbox"
           }
          ],
          "scatterpolar": [
           {
            "marker": {
             "colorbar": {
              "outlinewidth": 0,
              "ticks": ""
             }
            },
            "type": "scatterpolar"
           }
          ],
          "scatterpolargl": [
           {
            "marker": {
             "colorbar": {
              "outlinewidth": 0,
              "ticks": ""
             }
            },
            "type": "scatterpolargl"
           }
          ],
          "scatterternary": [
           {
            "marker": {
             "colorbar": {
              "outlinewidth": 0,
              "ticks": ""
             }
            },
            "type": "scatterternary"
           }
          ],
          "surface": [
           {
            "colorbar": {
             "outlinewidth": 0,
             "ticks": ""
            },
            "colorscale": [
             [
              0,
              "#0d0887"
             ],
             [
              0.1111111111111111,
              "#46039f"
             ],
             [
              0.2222222222222222,
              "#7201a8"
             ],
             [
              0.3333333333333333,
              "#9c179e"
             ],
             [
              0.4444444444444444,
              "#bd3786"
             ],
             [
              0.5555555555555556,
              "#d8576b"
             ],
             [
              0.6666666666666666,
              "#ed7953"
             ],
             [
              0.7777777777777778,
              "#fb9f3a"
             ],
             [
              0.8888888888888888,
              "#fdca26"
             ],
             [
              1,
              "#f0f921"
             ]
            ],
            "type": "surface"
           }
          ],
          "table": [
           {
            "cells": {
             "fill": {
              "color": "#EBF0F8"
             },
             "line": {
              "color": "white"
             }
            },
            "header": {
             "fill": {
              "color": "#C8D4E3"
             },
             "line": {
              "color": "white"
             }
            },
            "type": "table"
           }
          ]
         },
         "layout": {
          "annotationdefaults": {
           "arrowcolor": "#2a3f5f",
           "arrowhead": 0,
           "arrowwidth": 1
          },
          "coloraxis": {
           "colorbar": {
            "outlinewidth": 0,
            "ticks": ""
           }
          },
          "colorscale": {
           "diverging": [
            [
             0,
             "#8e0152"
            ],
            [
             0.1,
             "#c51b7d"
            ],
            [
             0.2,
             "#de77ae"
            ],
            [
             0.3,
             "#f1b6da"
            ],
            [
             0.4,
             "#fde0ef"
            ],
            [
             0.5,
             "#f7f7f7"
            ],
            [
             0.6,
             "#e6f5d0"
            ],
            [
             0.7,
             "#b8e186"
            ],
            [
             0.8,
             "#7fbc41"
            ],
            [
             0.9,
             "#4d9221"
            ],
            [
             1,
             "#276419"
            ]
           ],
           "sequential": [
            [
             0,
             "#0d0887"
            ],
            [
             0.1111111111111111,
             "#46039f"
            ],
            [
             0.2222222222222222,
             "#7201a8"
            ],
            [
             0.3333333333333333,
             "#9c179e"
            ],
            [
             0.4444444444444444,
             "#bd3786"
            ],
            [
             0.5555555555555556,
             "#d8576b"
            ],
            [
             0.6666666666666666,
             "#ed7953"
            ],
            [
             0.7777777777777778,
             "#fb9f3a"
            ],
            [
             0.8888888888888888,
             "#fdca26"
            ],
            [
             1,
             "#f0f921"
            ]
           ],
           "sequentialminus": [
            [
             0,
             "#0d0887"
            ],
            [
             0.1111111111111111,
             "#46039f"
            ],
            [
             0.2222222222222222,
             "#7201a8"
            ],
            [
             0.3333333333333333,
             "#9c179e"
            ],
            [
             0.4444444444444444,
             "#bd3786"
            ],
            [
             0.5555555555555556,
             "#d8576b"
            ],
            [
             0.6666666666666666,
             "#ed7953"
            ],
            [
             0.7777777777777778,
             "#fb9f3a"
            ],
            [
             0.8888888888888888,
             "#fdca26"
            ],
            [
             1,
             "#f0f921"
            ]
           ]
          },
          "colorway": [
           "#636efa",
           "#EF553B",
           "#00cc96",
           "#ab63fa",
           "#FFA15A",
           "#19d3f3",
           "#FF6692",
           "#B6E880",
           "#FF97FF",
           "#FECB52"
          ],
          "font": {
           "color": "#2a3f5f"
          },
          "geo": {
           "bgcolor": "white",
           "lakecolor": "white",
           "landcolor": "#E5ECF6",
           "showlakes": true,
           "showland": true,
           "subunitcolor": "white"
          },
          "hoverlabel": {
           "align": "left"
          },
          "hovermode": "closest",
          "mapbox": {
           "style": "light"
          },
          "paper_bgcolor": "white",
          "plot_bgcolor": "#E5ECF6",
          "polar": {
           "angularaxis": {
            "gridcolor": "white",
            "linecolor": "white",
            "ticks": ""
           },
           "bgcolor": "#E5ECF6",
           "radialaxis": {
            "gridcolor": "white",
            "linecolor": "white",
            "ticks": ""
           }
          },
          "scene": {
           "xaxis": {
            "backgroundcolor": "#E5ECF6",
            "gridcolor": "white",
            "gridwidth": 2,
            "linecolor": "white",
            "showbackground": true,
            "ticks": "",
            "zerolinecolor": "white"
           },
           "yaxis": {
            "backgroundcolor": "#E5ECF6",
            "gridcolor": "white",
            "gridwidth": 2,
            "linecolor": "white",
            "showbackground": true,
            "ticks": "",
            "zerolinecolor": "white"
           },
           "zaxis": {
            "backgroundcolor": "#E5ECF6",
            "gridcolor": "white",
            "gridwidth": 2,
            "linecolor": "white",
            "showbackground": true,
            "ticks": "",
            "zerolinecolor": "white"
           }
          },
          "shapedefaults": {
           "line": {
            "color": "#2a3f5f"
           }
          },
          "ternary": {
           "aaxis": {
            "gridcolor": "white",
            "linecolor": "white",
            "ticks": ""
           },
           "baxis": {
            "gridcolor": "white",
            "linecolor": "white",
            "ticks": ""
           },
           "bgcolor": "#E5ECF6",
           "caxis": {
            "gridcolor": "white",
            "linecolor": "white",
            "ticks": ""
           }
          },
          "title": {
           "x": 0.05
          },
          "xaxis": {
           "automargin": true,
           "gridcolor": "white",
           "linecolor": "white",
           "ticks": "",
           "title": {
            "standoff": 15
           },
           "zerolinecolor": "white",
           "zerolinewidth": 2
          },
          "yaxis": {
           "automargin": true,
           "gridcolor": "white",
           "linecolor": "white",
           "ticks": "",
           "title": {
            "standoff": 15
           },
           "zerolinecolor": "white",
           "zerolinewidth": 2
          }
         }
        }
       }
      },
      "text/html": [
       "<div>                            <div id=\"858db737-939e-4847-979d-a9b681238f6a\" class=\"plotly-graph-div\" style=\"height:525px; width:100%;\"></div>            <script type=\"text/javascript\">                require([\"plotly\"], function(Plotly) {                    window.PLOTLYENV=window.PLOTLYENV || {};                                    if (document.getElementById(\"858db737-939e-4847-979d-a9b681238f6a\")) {                    Plotly.newPlot(                        \"858db737-939e-4847-979d-a9b681238f6a\",                        [{\"mode\": \"lines\", \"name\": \"classic\", \"type\": \"scatter\", \"x\": [0, 1, 2, 3, 4, 5, 6, 7, 8, 9, 10, 11, 12, 13, 14, 15, 16, 17, 18, 19, 20, 21, 22, 23, 24, 25, 26, 27, 28, 29], \"y\": [\"1949\", \"1943\", \"1966\", \"1989\", \"2013\", \"2000\", \"2012\", \"2010\", \"2005\", \"1998\", \"2010\", \"2008\", \"2009\", \"1998\", \"2005\", \"2003\", \"2011\", \"1997\", \"2008\", \"2013\", \"1992\", \"1993\", \"1995\", \"2016\", \"2014\", \"2015\", \"2016\", \"2016\", \"2014\", \"2017\"]}, {\"mode\": \"lines\", \"name\": \"latest\", \"type\": \"scatter\", \"x\": [0, 1, 2, 3, 4, 5, 6, 7, 8, 9, 10, 11, 12, 13, 14, 15, 16, 17, 18, 19, 20, 21, 22, 23, 24, 25, 26, 27, 28, 29], \"y\": [\"2014\", \"2014\", \"2016\", \"2016\", \"2016\", \"2017\", \"2015\", \"2013\", \"2012\", \"2011\", \"2013\", \"2000\", \"1998\", \"1998\", \"2003\", \"1997\", \"2010\", \"2005\", \"2010\", \"2008\", \"2009\", \"2005\", \"2008\", \"1989\", \"1995\", \"1992\", \"1993\", \"1966\", \"1949\", \"1943\"]}],                        {\"template\": {\"data\": {\"bar\": [{\"error_x\": {\"color\": \"#2a3f5f\"}, \"error_y\": {\"color\": \"#2a3f5f\"}, \"marker\": {\"line\": {\"color\": \"#E5ECF6\", \"width\": 0.5}}, \"type\": \"bar\"}], \"barpolar\": [{\"marker\": {\"line\": {\"color\": \"#E5ECF6\", \"width\": 0.5}}, \"type\": \"barpolar\"}], \"carpet\": [{\"aaxis\": {\"endlinecolor\": \"#2a3f5f\", \"gridcolor\": \"white\", \"linecolor\": \"white\", \"minorgridcolor\": \"white\", \"startlinecolor\": \"#2a3f5f\"}, \"baxis\": {\"endlinecolor\": \"#2a3f5f\", \"gridcolor\": \"white\", \"linecolor\": \"white\", \"minorgridcolor\": \"white\", \"startlinecolor\": \"#2a3f5f\"}, \"type\": \"carpet\"}], \"choropleth\": [{\"colorbar\": {\"outlinewidth\": 0, \"ticks\": \"\"}, \"type\": \"choropleth\"}], \"contour\": [{\"colorbar\": {\"outlinewidth\": 0, \"ticks\": \"\"}, \"colorscale\": [[0.0, \"#0d0887\"], [0.1111111111111111, \"#46039f\"], [0.2222222222222222, \"#7201a8\"], [0.3333333333333333, \"#9c179e\"], [0.4444444444444444, \"#bd3786\"], [0.5555555555555556, \"#d8576b\"], [0.6666666666666666, \"#ed7953\"], [0.7777777777777778, \"#fb9f3a\"], [0.8888888888888888, \"#fdca26\"], [1.0, \"#f0f921\"]], \"type\": \"contour\"}], \"contourcarpet\": [{\"colorbar\": {\"outlinewidth\": 0, \"ticks\": \"\"}, \"type\": \"contourcarpet\"}], \"heatmap\": [{\"colorbar\": {\"outlinewidth\": 0, \"ticks\": \"\"}, \"colorscale\": [[0.0, \"#0d0887\"], [0.1111111111111111, \"#46039f\"], [0.2222222222222222, \"#7201a8\"], [0.3333333333333333, \"#9c179e\"], [0.4444444444444444, \"#bd3786\"], [0.5555555555555556, \"#d8576b\"], [0.6666666666666666, \"#ed7953\"], [0.7777777777777778, \"#fb9f3a\"], [0.8888888888888888, \"#fdca26\"], [1.0, \"#f0f921\"]], \"type\": \"heatmap\"}], \"heatmapgl\": [{\"colorbar\": {\"outlinewidth\": 0, \"ticks\": \"\"}, \"colorscale\": [[0.0, \"#0d0887\"], [0.1111111111111111, \"#46039f\"], [0.2222222222222222, \"#7201a8\"], [0.3333333333333333, \"#9c179e\"], [0.4444444444444444, \"#bd3786\"], [0.5555555555555556, \"#d8576b\"], [0.6666666666666666, \"#ed7953\"], [0.7777777777777778, \"#fb9f3a\"], [0.8888888888888888, \"#fdca26\"], [1.0, \"#f0f921\"]], \"type\": \"heatmapgl\"}], \"histogram\": [{\"marker\": {\"colorbar\": {\"outlinewidth\": 0, \"ticks\": \"\"}}, \"type\": \"histogram\"}], \"histogram2d\": [{\"colorbar\": {\"outlinewidth\": 0, \"ticks\": \"\"}, \"colorscale\": [[0.0, \"#0d0887\"], [0.1111111111111111, \"#46039f\"], [0.2222222222222222, \"#7201a8\"], [0.3333333333333333, \"#9c179e\"], [0.4444444444444444, \"#bd3786\"], [0.5555555555555556, \"#d8576b\"], [0.6666666666666666, \"#ed7953\"], [0.7777777777777778, \"#fb9f3a\"], [0.8888888888888888, \"#fdca26\"], [1.0, \"#f0f921\"]], \"type\": \"histogram2d\"}], \"histogram2dcontour\": [{\"colorbar\": {\"outlinewidth\": 0, \"ticks\": \"\"}, \"colorscale\": [[0.0, \"#0d0887\"], [0.1111111111111111, \"#46039f\"], [0.2222222222222222, \"#7201a8\"], [0.3333333333333333, \"#9c179e\"], [0.4444444444444444, \"#bd3786\"], [0.5555555555555556, \"#d8576b\"], [0.6666666666666666, \"#ed7953\"], [0.7777777777777778, \"#fb9f3a\"], [0.8888888888888888, \"#fdca26\"], [1.0, \"#f0f921\"]], \"type\": \"histogram2dcontour\"}], \"mesh3d\": [{\"colorbar\": {\"outlinewidth\": 0, \"ticks\": \"\"}, \"type\": \"mesh3d\"}], \"parcoords\": [{\"line\": {\"colorbar\": {\"outlinewidth\": 0, \"ticks\": \"\"}}, \"type\": \"parcoords\"}], \"pie\": [{\"automargin\": true, \"type\": \"pie\"}], \"scatter\": [{\"marker\": {\"colorbar\": {\"outlinewidth\": 0, \"ticks\": \"\"}}, \"type\": \"scatter\"}], \"scatter3d\": [{\"line\": {\"colorbar\": {\"outlinewidth\": 0, \"ticks\": \"\"}}, \"marker\": {\"colorbar\": {\"outlinewidth\": 0, \"ticks\": \"\"}}, \"type\": \"scatter3d\"}], \"scattercarpet\": [{\"marker\": {\"colorbar\": {\"outlinewidth\": 0, \"ticks\": \"\"}}, \"type\": \"scattercarpet\"}], \"scattergeo\": [{\"marker\": {\"colorbar\": {\"outlinewidth\": 0, \"ticks\": \"\"}}, \"type\": \"scattergeo\"}], \"scattergl\": [{\"marker\": {\"colorbar\": {\"outlinewidth\": 0, \"ticks\": \"\"}}, \"type\": \"scattergl\"}], \"scattermapbox\": [{\"marker\": {\"colorbar\": {\"outlinewidth\": 0, \"ticks\": \"\"}}, \"type\": \"scattermapbox\"}], \"scatterpolar\": [{\"marker\": {\"colorbar\": {\"outlinewidth\": 0, \"ticks\": \"\"}}, \"type\": \"scatterpolar\"}], \"scatterpolargl\": [{\"marker\": {\"colorbar\": {\"outlinewidth\": 0, \"ticks\": \"\"}}, \"type\": \"scatterpolargl\"}], \"scatterternary\": [{\"marker\": {\"colorbar\": {\"outlinewidth\": 0, \"ticks\": \"\"}}, \"type\": \"scatterternary\"}], \"surface\": [{\"colorbar\": {\"outlinewidth\": 0, \"ticks\": \"\"}, \"colorscale\": [[0.0, \"#0d0887\"], [0.1111111111111111, \"#46039f\"], [0.2222222222222222, \"#7201a8\"], [0.3333333333333333, \"#9c179e\"], [0.4444444444444444, \"#bd3786\"], [0.5555555555555556, \"#d8576b\"], [0.6666666666666666, \"#ed7953\"], [0.7777777777777778, \"#fb9f3a\"], [0.8888888888888888, \"#fdca26\"], [1.0, \"#f0f921\"]], \"type\": \"surface\"}], \"table\": [{\"cells\": {\"fill\": {\"color\": \"#EBF0F8\"}, \"line\": {\"color\": \"white\"}}, \"header\": {\"fill\": {\"color\": \"#C8D4E3\"}, \"line\": {\"color\": \"white\"}}, \"type\": \"table\"}]}, \"layout\": {\"annotationdefaults\": {\"arrowcolor\": \"#2a3f5f\", \"arrowhead\": 0, \"arrowwidth\": 1}, \"coloraxis\": {\"colorbar\": {\"outlinewidth\": 0, \"ticks\": \"\"}}, \"colorscale\": {\"diverging\": [[0, \"#8e0152\"], [0.1, \"#c51b7d\"], [0.2, \"#de77ae\"], [0.3, \"#f1b6da\"], [0.4, \"#fde0ef\"], [0.5, \"#f7f7f7\"], [0.6, \"#e6f5d0\"], [0.7, \"#b8e186\"], [0.8, \"#7fbc41\"], [0.9, \"#4d9221\"], [1, \"#276419\"]], \"sequential\": [[0.0, \"#0d0887\"], [0.1111111111111111, \"#46039f\"], [0.2222222222222222, \"#7201a8\"], [0.3333333333333333, \"#9c179e\"], [0.4444444444444444, \"#bd3786\"], [0.5555555555555556, \"#d8576b\"], [0.6666666666666666, \"#ed7953\"], [0.7777777777777778, \"#fb9f3a\"], [0.8888888888888888, \"#fdca26\"], [1.0, \"#f0f921\"]], \"sequentialminus\": [[0.0, \"#0d0887\"], [0.1111111111111111, \"#46039f\"], [0.2222222222222222, \"#7201a8\"], [0.3333333333333333, \"#9c179e\"], [0.4444444444444444, \"#bd3786\"], [0.5555555555555556, \"#d8576b\"], [0.6666666666666666, \"#ed7953\"], [0.7777777777777778, \"#fb9f3a\"], [0.8888888888888888, \"#fdca26\"], [1.0, \"#f0f921\"]]}, \"colorway\": [\"#636efa\", \"#EF553B\", \"#00cc96\", \"#ab63fa\", \"#FFA15A\", \"#19d3f3\", \"#FF6692\", \"#B6E880\", \"#FF97FF\", \"#FECB52\"], \"font\": {\"color\": \"#2a3f5f\"}, \"geo\": {\"bgcolor\": \"white\", \"lakecolor\": \"white\", \"landcolor\": \"#E5ECF6\", \"showlakes\": true, \"showland\": true, \"subunitcolor\": \"white\"}, \"hoverlabel\": {\"align\": \"left\"}, \"hovermode\": \"closest\", \"mapbox\": {\"style\": \"light\"}, \"paper_bgcolor\": \"white\", \"plot_bgcolor\": \"#E5ECF6\", \"polar\": {\"angularaxis\": {\"gridcolor\": \"white\", \"linecolor\": \"white\", \"ticks\": \"\"}, \"bgcolor\": \"#E5ECF6\", \"radialaxis\": {\"gridcolor\": \"white\", \"linecolor\": \"white\", \"ticks\": \"\"}}, \"scene\": {\"xaxis\": {\"backgroundcolor\": \"#E5ECF6\", \"gridcolor\": \"white\", \"gridwidth\": 2, \"linecolor\": \"white\", \"showbackground\": true, \"ticks\": \"\", \"zerolinecolor\": \"white\"}, \"yaxis\": {\"backgroundcolor\": \"#E5ECF6\", \"gridcolor\": \"white\", \"gridwidth\": 2, \"linecolor\": \"white\", \"showbackground\": true, \"ticks\": \"\", \"zerolinecolor\": \"white\"}, \"zaxis\": {\"backgroundcolor\": \"#E5ECF6\", \"gridcolor\": \"white\", \"gridwidth\": 2, \"linecolor\": \"white\", \"showbackground\": true, \"ticks\": \"\", \"zerolinecolor\": \"white\"}}, \"shapedefaults\": {\"line\": {\"color\": \"#2a3f5f\"}}, \"ternary\": {\"aaxis\": {\"gridcolor\": \"white\", \"linecolor\": \"white\", \"ticks\": \"\"}, \"baxis\": {\"gridcolor\": \"white\", \"linecolor\": \"white\", \"ticks\": \"\"}, \"bgcolor\": \"#E5ECF6\", \"caxis\": {\"gridcolor\": \"white\", \"linecolor\": \"white\", \"ticks\": \"\"}}, \"title\": {\"x\": 0.05}, \"xaxis\": {\"automargin\": true, \"gridcolor\": \"white\", \"linecolor\": \"white\", \"ticks\": \"\", \"title\": {\"standoff\": 15}, \"zerolinecolor\": \"white\", \"zerolinewidth\": 2}, \"yaxis\": {\"automargin\": true, \"gridcolor\": \"white\", \"linecolor\": \"white\", \"ticks\": \"\", \"title\": {\"standoff\": 15}, \"zerolinecolor\": \"white\", \"zerolinewidth\": 2}}}},                        {\"responsive\": true}                    ).then(function(){\n",
       "                            \n",
       "var gd = document.getElementById('858db737-939e-4847-979d-a9b681238f6a');\n",
       "var x = new MutationObserver(function (mutations, observer) {{\n",
       "        var display = window.getComputedStyle(gd).display;\n",
       "        if (!display || display === 'none') {{\n",
       "            console.log([gd, 'removed!']);\n",
       "            Plotly.purge(gd);\n",
       "            observer.disconnect();\n",
       "        }}\n",
       "}});\n",
       "\n",
       "// Listen for the removal of the full notebook cells\n",
       "var notebookContainer = gd.closest('#notebook-container');\n",
       "if (notebookContainer) {{\n",
       "    x.observe(notebookContainer, {childList: true});\n",
       "}}\n",
       "\n",
       "// Listen for the clearing of the current output cell\n",
       "var outputEl = gd.closest('.output');\n",
       "if (outputEl) {{\n",
       "    x.observe(outputEl, {childList: true});\n",
       "}}\n",
       "\n",
       "                        })                };                });            </script>        </div>"
      ]
     },
     "metadata": {},
     "output_type": "display_data"
    }
   ],
   "source": [
    "from ltr.release_date_plot import plot\n",
    "plot(client)"
   ]
  },
  {
   "cell_type": "code",
   "execution_count": null,
   "metadata": {},
   "outputs": [],
   "source": []
  }
 ],
 "metadata": {
  "kernelspec": {
   "display_name": "Python 3",
   "language": "python",
   "name": "python3"
  },
  "language_info": {
   "codemirror_mode": {
    "name": "ipython",
    "version": 3
   },
   "file_extension": ".py",
   "mimetype": "text/x-python",
   "name": "python",
   "nbconvert_exporter": "python",
   "pygments_lexer": "ipython3",
   "version": "3.7.6"
  }
 },
 "nbformat": 4,
 "nbformat_minor": 2
}
