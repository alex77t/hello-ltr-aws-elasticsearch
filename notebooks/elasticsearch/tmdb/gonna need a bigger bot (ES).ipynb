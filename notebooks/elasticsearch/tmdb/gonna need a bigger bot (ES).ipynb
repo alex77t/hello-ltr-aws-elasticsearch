{
 "cells": [
  {
   "cell_type": "markdown",
   "metadata": {},
   "source": [
    "# We're Gonna Need a Bigger Bot\n",
    "\n",
    "Let's map all the bits and pieces to a meatier example, to see how hello-ltr's abstractions make it easier to play with LTR via ipynbs\n",
    "\n",
    "Genome-tags is a crowdsourced movie tagging resource project. Each movie is assigned from 0-1 how close a movie matches a tag. Luckily the tags look remarkably like search queries (ie `star trek` or `berlin`). We derrived judgments from the genome-tags data, and use them to experiment with search.\n",
    "\n",
    "BUT\n",
    "\n",
    "While some tags are straight forward (`Star Trek`) others are much tougher (`boxing` or `french art movie`) where its unlikely any text has a match. \n",
    "\n",
    "We're not going to solve those problems here, but we give this to you as a sandbox to apply your skills after the class to see how close you can get to approximating the genome tags data. \n"
   ]
  },
  {
   "cell_type": "markdown",
   "metadata": {},
   "source": [
    "### Clients \n",
    "\n",
    "While syntaxes differ, the LTR process is nearly identical between Solr and Elastic. So you can repeat a lot of the labs with Solr (some have been already translated)\n",
    "\n",
    "But we'll stick with Elastic"
   ]
  },
  {
   "cell_type": "code",
   "execution_count": null,
   "metadata": {},
   "outputs": [],
   "source": [
    "from ltr.client import ElasticClient\n",
    "client = ElasticClient()"
   ]
  },
  {
   "cell_type": "markdown",
   "metadata": {},
   "source": [
    "### Redownload corpus & judgments if you need to"
   ]
  },
  {
   "cell_type": "code",
   "execution_count": null,
   "metadata": {},
   "outputs": [],
   "source": [
    "from ltr import download\n",
    "corpus='http://es-learn-to-rank.labs.o19s.com/tmdb.json'\n",
    "judgments='http://es-learn-to-rank.labs.o19s.com/genome_judgments.txt'\n",
    "\n",
    "download([corpus, judgments], dest='data/');"
   ]
  },
  {
   "cell_type": "markdown",
   "metadata": {},
   "source": [
    "### Reindex if you need to"
   ]
  },
  {
   "cell_type": "code",
   "execution_count": null,
   "metadata": {},
   "outputs": [],
   "source": [
    "from ltr.helpers.movies import get_movie\n",
    "get_movie(1368)"
   ]
  },
  {
   "cell_type": "code",
   "execution_count": null,
   "metadata": {},
   "outputs": [],
   "source": [
    "from ltr.index import rebuild\n",
    "from ltr.helpers.movies import indexable_movies\n",
    "\n",
    "\n",
    "def add_char_names(src_movie, base_doc):\n",
    "    if 'belongs_to_collection' in src_movie and src_movie['belongs_to_collection'] is not None:\n",
    "        if 'name' in src_movie['belongs_to_collection']:\n",
    "            base_doc['collection_name'] = src_movie['belongs_to_collection']['name']\n",
    "    characters = []\n",
    "    if 'cast' in src_movie and src_movie['cast'] is not None:\n",
    "        for cast_entry in src_movie['cast']:\n",
    "            characters.append(cast_entry['character'])\n",
    "        base_doc['secondary_characters'] = characters[10:]\n",
    "        base_doc['prom_characters'] = characters[:10]\n",
    "        \n",
    "    genre_names = []\n",
    "    if 'genres' in src_movie and src_movie['genres'] is not None:\n",
    "        for genre in src_movie['genres']:\n",
    "            genre_names.append(genre['name'])\n",
    "  \n",
    "    fields = ['title', 'overview', 'tagline', 'collection_name']\n",
    "    uber_text = ' '\n",
    "    for field in fields:\n",
    "        try:\n",
    "            uber_text += ' ' + base_doc['title']\n",
    "        except:\n",
    "            pass\n",
    "        \n",
    "    uber_text += ' '.join(characters) + \\\n",
    "                 ' '.join(genre_names)\n",
    "    base_doc['uber_text'] = uber_text\n",
    "\n",
    "\n",
    "    return base_doc\n",
    "\n",
    "\n",
    "\n",
    "movies=indexable_movies(movies='data/tmdb.json', enrich=add_char_names)\n",
    "rebuild(client, index='tmdb', doc_src=movies)"
   ]
  },
  {
   "cell_type": "markdown",
   "metadata": {},
   "source": [
    "###  Feature Sets in ipynb\n",
    "\n",
    "You played with creating a feature set in the last lab, see the same process repeated here.\n",
    "\n",
    "Learning to rank requires creating feature set. Each feature has a name like `title_bm25` and as part of a list an ordinal `title_bm25` is the 0th item. Confusingly, Ranklib uses 1-based feature numbering, so feature 0 in this list corresponds to feature 1 in Ranklib training file, that we'll see soon.\n",
    "\n",
    "Notice also:\n",
    "\n",
    "- Each feature is a templated query with `{{keywords}}` parameter, that is passed at query time\n",
    "- We've added a `validation` block, which will run these queries with the specified parameters and index and return any query errors"
   ]
  },
  {
   "cell_type": "code",
   "execution_count": null,
   "metadata": {},
   "outputs": [],
   "source": [
    "client.reset_ltr(index='tmdb')\n",
    "\n",
    "config = {\n",
    "    \"featureset\": {\n",
    "        \"features\": [\n",
    "            {\n",
    "                \"name\": \"uber_text\",\n",
    "                \"params\": [\"keywords\"],\n",
    "                \"template\": {\n",
    "                    \"match\": {\n",
    "                        \"text_all\": \"{{keywords}}\"\n",
    "                    } \n",
    "                }\n",
    "            },\n",
    "            {\n",
    "                \"name\": \"title\",\n",
    "                \"params\": [\"keywords\"],\n",
    "                \"template\": {\n",
    "                        \"match\": {\n",
    "                            \"overview\": {\n",
    "                                \"query\": \"{{keywords}}\",\n",
    "                            }\n",
    "                        }\n",
    "\n",
    "                }\n",
    "            },\n",
    "            { #1\n",
    "                \"name\": \"title_has_phrase\",\n",
    "                \"params\": [\"keywords\"],\n",
    "                \"template\": {\n",
    "                    \"constant_score\": {\n",
    "                        \"filter\": {\n",
    "                            \"match_phrase\": {\"title\": \"{{keywords}}\"}\n",
    "                        },\n",
    "                        \"boost\": 1.0\n",
    "                    }  \n",
    "                }\n",
    "            },\n",
    "        ]\n",
    "    },\n",
    "    \"validation\": {\n",
    "              \"index\": \"tmdb\",\n",
    "              \"params\": {\n",
    "                  \"keywords\": \"rambo\"\n",
    "              }\n",
    "    \n",
    "           }\n",
    "}\n",
    "\n",
    "client.create_featureset(index='tmdb', name='genome', ftr_config=config)"
   ]
  },
  {
   "cell_type": "markdown",
   "metadata": {},
   "source": [
    "### Logging Queries\n",
    "\n",
    "Logging is one of the more complex operations from an engineering perspective. \n",
    "\n",
    "The same query you ran manually when reviewing the slides is rerun here for every query in the source judgment list `judgmentInFile` with some batching when needed."
   ]
  },
  {
   "cell_type": "code",
   "execution_count": null,
   "metadata": {},
   "outputs": [],
   "source": [
    "from ltr.log import judgments_to_training_set\n",
    "trainingSet = judgments_to_training_set(client,\n",
    "                                        judgmentInFile='data/genome_judgments.txt', \n",
    "                                        trainingOutFile='data/genome_judgments_train.txt', \n",
    "                                        featureSet='genome')"
   ]
  },
  {
   "cell_type": "markdown",
   "metadata": {},
   "source": [
    "### Training\n",
    "\n",
    "Here's where we train the model, under the hood this executes Ranklib just as you ran during the training exercises.\n",
    "\n",
    "Notice here we're optimizing for NDCG@10\n"
   ]
  },
  {
   "cell_type": "code",
   "execution_count": null,
   "metadata": {},
   "outputs": [],
   "source": [
    "from ltr.train import train\n",
    "trainLog = train(client,\n",
    "                 trainingInFile='data/genome_judgments_train.txt',\n",
    "                 metric2t='NDCG@10',\n",
    "                 featureSet='genome',\n",
    "                 ranker=6,\n",
    "                 leafs=1,\n",
    "                 index='tmdb',\n",
    "                 modelName='genome')"
   ]
  },
  {
   "cell_type": "markdown",
   "metadata": {},
   "source": [
    "Now that training is done, we can output some statistics about the model, including the training metrics. In future units we'll get more into what this looks like.\n",
    "\n",
    "Notice the training NDCG isn't that great. When originally run, it was only 0.5885. So pretty far off of the genome data. One challenge of Learning to Rank (and Relevance in general) is trying to figure out the features that can close the gap. "
   ]
  },
  {
   "cell_type": "code",
   "execution_count": null,
   "metadata": {},
   "outputs": [],
   "source": [
    "print(\"Impact of each feature on the model\")\n",
    "for ftrId, impact in trainLog.impacts.items():\n",
    "    print(\"{} - {}\".format(ftrId, impact))\n",
    "    \n",
    "print(\"trainLog Metric %s\" % trainLog.metric())"
   ]
  },
  {
   "cell_type": "markdown",
   "metadata": {},
   "source": [
    "### Search with our model\n",
    "\n",
    "Here we're going to search using the `genome` model. You can see the LTR query being output (sent to Elasticsearch). You're encouraged to run that directly against Elasticsearch if you like.\n",
    "\n",
    "Please note, this isn't rescoring. And that's fine for our purposes of directly evaluating the model, in real life you really should run a rescore query."
   ]
  },
  {
   "cell_type": "code",
   "execution_count": null,
   "metadata": {},
   "outputs": [],
   "source": [
    "from ltr import search\n",
    "search(client, \"batman\", modelName='genome')"
   ]
  },
  {
   "cell_type": "markdown",
   "metadata": {},
   "source": []
  }
 ],
 "metadata": {
  "kernelspec": {
   "display_name": "Python 3",
   "language": "python",
   "name": "python3"
  },
  "language_info": {
   "codemirror_mode": {
    "name": "ipython",
    "version": 3
   },
   "file_extension": ".py",
   "mimetype": "text/x-python",
   "name": "python",
   "nbconvert_exporter": "python",
   "pygments_lexer": "ipython3",
   "version": "3.6.1"
  }
 },
 "nbformat": 4,
 "nbformat_minor": 2
}
