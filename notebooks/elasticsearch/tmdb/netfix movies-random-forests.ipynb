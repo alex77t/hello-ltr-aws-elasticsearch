{
 "cells": [
  {
   "cell_type": "markdown",
   "metadata": {},
   "source": [
    "# Elastic Client"
   ]
  },
  {
   "cell_type": "code",
   "execution_count": 1,
   "metadata": {},
   "outputs": [],
   "source": [
    "from ltr.client import ElasticClient\n",
    "client = ElasticClient()"
   ]
  },
  {
   "cell_type": "markdown",
   "metadata": {},
   "source": [
    "# Download & Build Index (run once)\n",
    "\n",
    "If you don't already have the downloaded dependencies; if you don't have TheMovieDB data indexed run this"
   ]
  },
  {
   "cell_type": "code",
   "execution_count": 5,
   "metadata": {},
   "outputs": [
    {
     "name": "stdout",
     "output_type": "stream",
     "text": [
      "data/tmdb.json already exists\n",
      "data/title_judgments.txt already exists\n",
      "Reconfig from disk...\n",
      "Deleted index tmdb [Status: 200]\n",
      "Created index tmdb [Status: 200]\n",
      "Reindexing...\n"
     ]
    },
    {
     "name": "stderr",
     "output_type": "stream",
     "text": [
      "\r",
      "  0%|          | 0/27846 [00:00<?, ?it/s]"
     ]
    },
    {
     "name": "stdout",
     "output_type": "stream",
     "text": [
      "Indexed 0 movies (last Black Mirror: White Christmas)\n"
     ]
    },
    {
     "name": "stderr",
     "output_type": "stream",
     "text": [
      "  1%|          | 201/27846 [00:00<01:02, 443.66it/s]"
     ]
    },
    {
     "name": "stdout",
     "output_type": "stream",
     "text": [
      "Indexed 100 movies (last Apocalypse Now)\n",
      "Indexed 200 movies (last Crooks in Clover)\n"
     ]
    },
    {
     "name": "stderr",
     "output_type": "stream",
     "text": [
      "  1%|▏         | 401/27846 [00:00<00:49, 557.47it/s]"
     ]
    },
    {
     "name": "stdout",
     "output_type": "stream",
     "text": [
      "Indexed 300 movies (last For a Few Dollars More)\n",
      "Indexed 400 movies (last Downfall)\n"
     ]
    },
    {
     "name": "stderr",
     "output_type": "stream",
     "text": [
      "  2%|▏         | 601/27846 [00:01<00:45, 595.26it/s]"
     ]
    },
    {
     "name": "stdout",
     "output_type": "stream",
     "text": [
      "Indexed 500 movies (last Finding Nemo)\n",
      "Indexed 600 movies (last Platoon)\n"
     ]
    },
    {
     "name": "stderr",
     "output_type": "stream",
     "text": [
      "  3%|▎         | 801/27846 [00:01<00:44, 613.78it/s]"
     ]
    },
    {
     "name": "stdout",
     "output_type": "stream",
     "text": [
      "Indexed 700 movies (last Night of the Living Dead)\n",
      "Indexed 800 movies (last Evangelion: 1.0: You Are (Not) Alone)\n"
     ]
    },
    {
     "name": "stderr",
     "output_type": "stream",
     "text": [
      "  4%|▎         | 1001/27846 [00:01<00:42, 625.63it/s]"
     ]
    },
    {
     "name": "stdout",
     "output_type": "stream",
     "text": [
      "Indexed 900 movies (last Batman: Assault on Arkham)\n",
      "Indexed 1000 movies (last Riley's First Date?)\n"
     ]
    },
    {
     "name": "stderr",
     "output_type": "stream",
     "text": [
      "  4%|▍         | 1201/27846 [00:01<00:42, 633.83it/s]"
     ]
    },
    {
     "name": "stdout",
     "output_type": "stream",
     "text": [
      "Indexed 1100 movies (last The Raid)\n",
      "Indexed 1200 movies (last Falling Down)\n"
     ]
    },
    {
     "name": "stderr",
     "output_type": "stream",
     "text": [
      "  5%|▌         | 1401/27846 [00:02<00:39, 667.28it/s]"
     ]
    },
    {
     "name": "stdout",
     "output_type": "stream",
     "text": [
      "Indexed 1300 movies (last Kal Ho Naa Ho)\n",
      "Indexed 1400 movies (last Elizabeth)\n"
     ]
    },
    {
     "name": "stderr",
     "output_type": "stream",
     "text": [
      "  6%|▌         | 1601/27846 [00:02<00:40, 652.20it/s]"
     ]
    },
    {
     "name": "stdout",
     "output_type": "stream",
     "text": [
      "Indexed 1500 movies (last Irreversible)\n",
      "Indexed 1600 movies (last Friday Night Lights)\n"
     ]
    },
    {
     "name": "stderr",
     "output_type": "stream",
     "text": [
      "  6%|▋         | 1801/27846 [00:02<00:41, 632.03it/s]"
     ]
    },
    {
     "name": "stdout",
     "output_type": "stream",
     "text": [
      "Indexed 1700 movies (last Ben X)\n",
      "Indexed 1800 movies (last Pump up the Volume)\n"
     ]
    },
    {
     "name": "stderr",
     "output_type": "stream",
     "text": [
      "  7%|▋         | 2001/27846 [00:03<00:39, 660.92it/s]"
     ]
    },
    {
     "name": "stdout",
     "output_type": "stream",
     "text": [
      "Indexed 1900 movies (last Armour of God)\n",
      "Indexed 2000 movies (last Swingers)\n"
     ]
    },
    {
     "name": "stderr",
     "output_type": "stream",
     "text": [
      "  8%|▊         | 2201/27846 [00:03<00:39, 654.30it/s]"
     ]
    },
    {
     "name": "stdout",
     "output_type": "stream",
     "text": [
      "Indexed 2100 movies (last The Guard)\n",
      "Indexed 2200 movies (last Win Win)\n"
     ]
    },
    {
     "name": "stderr",
     "output_type": "stream",
     "text": [
      "  9%|▊         | 2401/27846 [00:04<01:01, 416.86it/s]"
     ]
    },
    {
     "name": "stdout",
     "output_type": "stream",
     "text": [
      "Indexed 2300 movies (last Where the Heart Is)\n",
      "Indexed 2400 movies (last UHF)\n"
     ]
    },
    {
     "name": "stderr",
     "output_type": "stream",
     "text": [
      "  9%|▉         | 2601/27846 [00:04<00:51, 494.58it/s]"
     ]
    },
    {
     "name": "stdout",
     "output_type": "stream",
     "text": [
      "Indexed 2500 movies (last Jerry Maguire)\n",
      "Indexed 2600 movies (last Cloud Atlas)\n"
     ]
    },
    {
     "name": "stderr",
     "output_type": "stream",
     "text": [
      " 10%|█         | 2801/27846 [00:04<00:46, 542.27it/s]"
     ]
    },
    {
     "name": "stdout",
     "output_type": "stream",
     "text": [
      "Indexed 2700 movies (last Rango)\n",
      "Indexed 2800 movies (last Rosewater)\n"
     ]
    },
    {
     "name": "stderr",
     "output_type": "stream",
     "text": [
      " 11%|█         | 3001/27846 [00:05<00:42, 588.91it/s]"
     ]
    },
    {
     "name": "stdout",
     "output_type": "stream",
     "text": [
      "Indexed 2900 movies (last Kalifornia)\n",
      "Indexed 3000 movies (last Bad Santa)\n"
     ]
    },
    {
     "name": "stderr",
     "output_type": "stream",
     "text": [
      " 11%|█▏        | 3201/27846 [00:05<00:39, 617.37it/s]"
     ]
    },
    {
     "name": "stdout",
     "output_type": "stream",
     "text": [
      "Indexed 3100 movies (last Defendor)\n",
      "Indexed 3200 movies (last The Pirates! Band of Misfits)\n"
     ]
    },
    {
     "name": "stderr",
     "output_type": "stream",
     "text": [
      " 12%|█▏        | 3401/27846 [00:05<00:37, 651.26it/s]"
     ]
    },
    {
     "name": "stdout",
     "output_type": "stream",
     "text": [
      "Indexed 3300 movies (last Sister Act)\n",
      "Indexed 3400 movies (last Live and Let Die)\n"
     ]
    },
    {
     "name": "stderr",
     "output_type": "stream",
     "text": [
      " 13%|█▎        | 3601/27846 [00:06<00:39, 620.91it/s]"
     ]
    },
    {
     "name": "stdout",
     "output_type": "stream",
     "text": [
      "Indexed 3500 movies (last Hours)\n",
      "Indexed 3600 movies (last Monsters)\n"
     ]
    },
    {
     "name": "stderr",
     "output_type": "stream",
     "text": [
      " 14%|█▎        | 3801/27846 [00:06<00:40, 589.14it/s]"
     ]
    },
    {
     "name": "stdout",
     "output_type": "stream",
     "text": [
      "Indexed 3700 movies (last MouseHunt)\n",
      "Indexed 3800 movies (last Olympus Has Fallen)\n"
     ]
    },
    {
     "name": "stderr",
     "output_type": "stream",
     "text": [
      " 14%|█▍        | 4001/27846 [00:06<00:40, 590.45it/s]"
     ]
    },
    {
     "name": "stdout",
     "output_type": "stream",
     "text": [
      "Indexed 3900 movies (last Godzilla)\n",
      "Indexed 4000 movies (last Arbitrage)\n"
     ]
    },
    {
     "name": "stderr",
     "output_type": "stream",
     "text": [
      " 15%|█▌        | 4201/27846 [00:07<00:38, 614.50it/s]"
     ]
    },
    {
     "name": "stdout",
     "output_type": "stream",
     "text": [
      "Indexed 4100 movies (last Under Siege)\n",
      "Indexed 4200 movies (last Underdogs)\n"
     ]
    },
    {
     "name": "stderr",
     "output_type": "stream",
     "text": [
      " 16%|█▌        | 4401/27846 [00:07<00:36, 636.96it/s]"
     ]
    },
    {
     "name": "stdout",
     "output_type": "stream",
     "text": [
      "Indexed 4300 movies (last The Duke of Burgundy)\n",
      "Indexed 4400 movies (last Bambi II)\n"
     ]
    },
    {
     "name": "stderr",
     "output_type": "stream",
     "text": [
      " 17%|█▋        | 4601/27846 [00:07<00:37, 612.55it/s]"
     ]
    },
    {
     "name": "stdout",
     "output_type": "stream",
     "text": [
      "Indexed 4500 movies (last Solaris)\n",
      "Indexed 4600 movies (last The Stuff)\n"
     ]
    },
    {
     "name": "stderr",
     "output_type": "stream",
     "text": [
      " 17%|█▋        | 4801/27846 [00:08<00:37, 614.21it/s]"
     ]
    },
    {
     "name": "stdout",
     "output_type": "stream",
     "text": [
      "Indexed 4700 movies (last Tales from the Darkside: The Movie)\n",
      "Indexed 4800 movies (last Final Fantasy: The Spirits Within)\n"
     ]
    },
    {
     "name": "stderr",
     "output_type": "stream",
     "text": [
      " 18%|█▊        | 5001/27846 [00:08<00:35, 637.36it/s]"
     ]
    },
    {
     "name": "stdout",
     "output_type": "stream",
     "text": [
      "Indexed 4900 movies (last The Back-Up Plan)\n",
      "Indexed 5000 movies (last Absolutely Anything)\n"
     ]
    },
    {
     "name": "stderr",
     "output_type": "stream",
     "text": [
      " 19%|█▊        | 5201/27846 [00:08<00:35, 629.12it/s]"
     ]
    },
    {
     "name": "stdout",
     "output_type": "stream",
     "text": [
      "Indexed 5100 movies (last Funny People)\n",
      "Indexed 5200 movies (last Tad, the Lost Explorer)\n"
     ]
    },
    {
     "name": "stderr",
     "output_type": "stream",
     "text": [
      " 19%|█▉        | 5401/27846 [00:09<00:35, 625.88it/s]"
     ]
    },
    {
     "name": "stdout",
     "output_type": "stream",
     "text": [
      "Indexed 5300 movies (last Fiston)\n",
      "Indexed 5400 movies (last The Reaping)\n"
     ]
    },
    {
     "name": "stderr",
     "output_type": "stream",
     "text": [
      " 20%|██        | 5601/27846 [00:09<00:33, 655.14it/s]"
     ]
    },
    {
     "name": "stdout",
     "output_type": "stream",
     "text": [
      "Indexed 5500 movies (last American Pie Presents: Beta House)\n",
      "Indexed 5600 movies (last Casino Royale)\n"
     ]
    },
    {
     "name": "stderr",
     "output_type": "stream",
     "text": [
      " 21%|██        | 5801/27846 [00:09<00:34, 641.43it/s]"
     ]
    },
    {
     "name": "stdout",
     "output_type": "stream",
     "text": [
      "Indexed 5700 movies (last Jennifer's Body)\n",
      "Indexed 5800 movies (last Caligula)\n"
     ]
    },
    {
     "name": "stderr",
     "output_type": "stream",
     "text": [
      " 22%|██▏       | 6001/27846 [00:09<00:32, 669.53it/s]"
     ]
    },
    {
     "name": "stdout",
     "output_type": "stream",
     "text": [
      "Indexed 5900 movies (last Alex Cross)\n",
      "Indexed 6000 movies (last Rapture Palooza)\n"
     ]
    },
    {
     "name": "stderr",
     "output_type": "stream",
     "text": [
      " 22%|██▏       | 6201/27846 [00:10<00:33, 655.77it/s]"
     ]
    },
    {
     "name": "stdout",
     "output_type": "stream",
     "text": [
      "Indexed 6100 movies (last The Seeker: The Dark Is Rising)\n",
      "Indexed 6200 movies (last Boogeyman)\n"
     ]
    },
    {
     "name": "stderr",
     "output_type": "stream",
     "text": [
      " 23%|██▎       | 6401/27846 [00:10<00:32, 663.77it/s]"
     ]
    },
    {
     "name": "stdout",
     "output_type": "stream",
     "text": [
      "Indexed 6300 movies (last Fifty Shades of Black)\n",
      "Indexed 6400 movies (last Wilbur Wants to Kill Himself)\n"
     ]
    },
    {
     "name": "stderr",
     "output_type": "stream",
     "text": [
      " 24%|██▎       | 6601/27846 [00:10<00:28, 737.54it/s]"
     ]
    },
    {
     "name": "stdout",
     "output_type": "stream",
     "text": [
      "Indexed 6500 movies (last A Cruel Romance)\n",
      "Indexed 6600 movies (last La discrète)\n"
     ]
    },
    {
     "name": "stderr",
     "output_type": "stream",
     "text": [
      " 24%|██▍       | 6801/27846 [00:11<00:28, 739.69it/s]"
     ]
    },
    {
     "name": "stdout",
     "output_type": "stream",
     "text": [
      "Indexed 6700 movies (last The Rapture)\n",
      "Indexed 6800 movies (last Ricky Gervais Live 3: Fame)\n"
     ]
    },
    {
     "name": "stderr",
     "output_type": "stream",
     "text": [
      " 25%|██▌       | 7004/27846 [00:11<00:28, 721.12it/s]"
     ]
    },
    {
     "name": "stdout",
     "output_type": "stream",
     "text": [
      "Indexed 6900 movies (last Bunny Lake Is Missing)\n",
      "Indexed 7000 movies (last Alice in the Cities)\n"
     ]
    },
    {
     "name": "stderr",
     "output_type": "stream",
     "text": [
      " 26%|██▌       | 7204/27846 [00:11<00:30, 672.21it/s]"
     ]
    },
    {
     "name": "stdout",
     "output_type": "stream",
     "text": [
      "Indexed 7100 movies (last Le pélican)\n",
      "Indexed 7200 movies (last 20,000 Leagues Under the Sea)\n"
     ]
    },
    {
     "name": "stderr",
     "output_type": "stream",
     "text": [
      " 27%|██▋       | 7406/27846 [00:11<00:28, 708.31it/s]"
     ]
    },
    {
     "name": "stdout",
     "output_type": "stream",
     "text": [
      "Indexed 7300 movies (last Deuces Wild)\n",
      "Indexed 7400 movies (last Lost Horizon)\n"
     ]
    },
    {
     "name": "stderr",
     "output_type": "stream",
     "text": [
      " 27%|██▋       | 7610/27846 [00:12<00:27, 728.30it/s]"
     ]
    },
    {
     "name": "stdout",
     "output_type": "stream",
     "text": [
      "Indexed 7500 movies (last The Detective 2)\n",
      "Indexed 7600 movies (last Absolute Aggression)\n"
     ]
    },
    {
     "name": "stderr",
     "output_type": "stream",
     "text": [
      " 28%|██▊       | 7810/27846 [00:12<00:26, 746.63it/s]"
     ]
    },
    {
     "name": "stdout",
     "output_type": "stream",
     "text": [
      "Indexed 7700 movies (last A Fairly Odd Movie: Grow Up, Timmy Turner!)\n",
      "Indexed 7800 movies (last How Much Do You Love Me?)\n"
     ]
    },
    {
     "name": "stderr",
     "output_type": "stream",
     "text": [
      " 29%|██▉       | 8010/27846 [00:12<00:26, 759.79it/s]"
     ]
    },
    {
     "name": "stdout",
     "output_type": "stream",
     "text": [
      "Indexed 7900 movies (last The Snows of Kilimanjaro)\n",
      "Indexed 8000 movies (last The Wrong Guys)\n"
     ]
    },
    {
     "name": "stderr",
     "output_type": "stream",
     "text": [
      " 29%|██▉       | 8211/27846 [00:13<00:26, 752.32it/s]"
     ]
    },
    {
     "name": "stdout",
     "output_type": "stream",
     "text": [
      "Indexed 8100 movies (last BFFs)\n",
      "Indexed 8200 movies (last Foreverland)\n"
     ]
    },
    {
     "name": "stderr",
     "output_type": "stream",
     "text": [
      " 30%|███       | 8411/27846 [00:13<00:25, 763.47it/s]"
     ]
    },
    {
     "name": "stdout",
     "output_type": "stream",
     "text": [
      "Indexed 8300 movies (last Rebellion)\n",
      "Indexed 8400 movies (last Air Crew)\n"
     ]
    },
    {
     "name": "stderr",
     "output_type": "stream",
     "text": [
      " 31%|███       | 8611/27846 [00:13<00:24, 775.41it/s]"
     ]
    },
    {
     "name": "stdout",
     "output_type": "stream",
     "text": [
      "Indexed 8500 movies (last Down in the Valley)\n",
      "Indexed 8600 movies (last Female Agents)\n"
     ]
    },
    {
     "name": "stderr",
     "output_type": "stream",
     "text": [
      " 32%|███▏      | 8814/27846 [00:13<00:23, 803.21it/s]"
     ]
    },
    {
     "name": "stdout",
     "output_type": "stream",
     "text": [
      "Indexed 8700 movies (last Come Dance with Me!)\n",
      "Indexed 8800 movies (last Versailles)\n"
     ]
    },
    {
     "name": "stderr",
     "output_type": "stream",
     "text": [
      " 32%|███▏      | 9015/27846 [00:14<00:24, 780.40it/s]"
     ]
    },
    {
     "name": "stdout",
     "output_type": "stream",
     "text": [
      "Indexed 8900 movies (last Girls on Top)\n",
      "Indexed 9000 movies (last Voll Normaaal)\n"
     ]
    },
    {
     "name": "stderr",
     "output_type": "stream",
     "text": [
      " 33%|███▎      | 9215/27846 [00:14<00:23, 795.57it/s]"
     ]
    },
    {
     "name": "stdout",
     "output_type": "stream",
     "text": [
      "Indexed 9100 movies (last Unrated II: Scary as Hell)\n",
      "Indexed 9200 movies (last The Flight of the Phoenix)\n"
     ]
    },
    {
     "name": "stderr",
     "output_type": "stream",
     "text": [
      " 34%|███▍      | 9416/27846 [00:14<00:24, 767.66it/s]"
     ]
    },
    {
     "name": "stdout",
     "output_type": "stream",
     "text": [
      "Indexed 9300 movies (last DragonHeart: A New Beginning)\n",
      "Indexed 9400 movies (last Empire of the Wolves)\n"
     ]
    },
    {
     "name": "stderr",
     "output_type": "stream",
     "text": [
      " 35%|███▍      | 9616/27846 [00:14<00:24, 732.55it/s]"
     ]
    },
    {
     "name": "stdout",
     "output_type": "stream",
     "text": [
      "Indexed 9500 movies (last Searching for Debra Winger)\n",
      "Indexed 9600 movies (last Swimming Pool)\n"
     ]
    },
    {
     "name": "stderr",
     "output_type": "stream",
     "text": [
      " 35%|███▌      | 9817/27846 [00:15<00:24, 741.78it/s]"
     ]
    },
    {
     "name": "stdout",
     "output_type": "stream",
     "text": [
      "Indexed 9700 movies (last Bomber)\n",
      "Indexed 9800 movies (last Bullet in the Head)\n"
     ]
    },
    {
     "name": "stderr",
     "output_type": "stream",
     "text": [
      " 36%|███▌      | 10017/27846 [00:15<00:24, 739.66it/s]"
     ]
    },
    {
     "name": "stdout",
     "output_type": "stream",
     "text": [
      "Indexed 9900 movies (last Club Fed)\n",
      "Indexed 10000 movies (last Titus)\n"
     ]
    },
    {
     "name": "stderr",
     "output_type": "stream",
     "text": [
      " 37%|███▋      | 10217/27846 [00:15<00:23, 738.38it/s]"
     ]
    },
    {
     "name": "stdout",
     "output_type": "stream",
     "text": [
      "Indexed 10100 movies (last Revolution)\n",
      "Indexed 10200 movies (last The Last Dispatch)\n"
     ]
    },
    {
     "name": "stderr",
     "output_type": "stream",
     "text": [
      " 37%|███▋      | 10419/27846 [00:15<00:22, 760.65it/s]"
     ]
    },
    {
     "name": "stdout",
     "output_type": "stream",
     "text": [
      "Indexed 10300 movies (last Wings of Courage)\n",
      "Indexed 10400 movies (last Gaslight)\n"
     ]
    },
    {
     "name": "stderr",
     "output_type": "stream",
     "text": [
      " 38%|███▊      | 10620/27846 [00:16<00:23, 743.22it/s]"
     ]
    },
    {
     "name": "stdout",
     "output_type": "stream",
     "text": [
      "Indexed 10500 movies (last Frenchmen 2)\n",
      "Indexed 10600 movies (last Closing the Ring)\n"
     ]
    },
    {
     "name": "stderr",
     "output_type": "stream",
     "text": [
      " 39%|███▉      | 10820/27846 [00:16<00:22, 748.60it/s]"
     ]
    },
    {
     "name": "stdout",
     "output_type": "stream",
     "text": [
      "Indexed 10700 movies (last 3:10 to Yuma)\n",
      "Indexed 10800 movies (last Harvest)\n"
     ]
    },
    {
     "name": "stderr",
     "output_type": "stream",
     "text": [
      " 40%|███▉      | 11021/27846 [00:16<00:23, 704.17it/s]"
     ]
    },
    {
     "name": "stdout",
     "output_type": "stream",
     "text": [
      "Indexed 10900 movies (last Song of the Thin Man)\n",
      "Indexed 11000 movies (last Nobody Knows Anything!)\n"
     ]
    },
    {
     "name": "stderr",
     "output_type": "stream",
     "text": [
      " 40%|████      | 11223/27846 [00:17<00:22, 728.99it/s]"
     ]
    },
    {
     "name": "stdout",
     "output_type": "stream",
     "text": [
      "Indexed 11100 movies (last Dirty Deeds)\n",
      "Indexed 11200 movies (last The Adventure of Faustus Bidgood)\n"
     ]
    },
    {
     "name": "stderr",
     "output_type": "stream",
     "text": [
      " 41%|████      | 11426/27846 [00:17<00:22, 728.93it/s]"
     ]
    },
    {
     "name": "stdout",
     "output_type": "stream",
     "text": [
      "Indexed 11300 movies (last Running Time)\n",
      "Indexed 11400 movies (last While She Was Out)\n"
     ]
    },
    {
     "name": "stderr",
     "output_type": "stream",
     "text": [
      " 42%|████▏     | 11626/27846 [00:17<00:21, 743.72it/s]"
     ]
    },
    {
     "name": "stdout",
     "output_type": "stream",
     "text": [
      "Indexed 11500 movies (last What?)\n",
      "Indexed 11600 movies (last The Legend of Hell House)\n"
     ]
    },
    {
     "name": "stderr",
     "output_type": "stream",
     "text": [
      " 42%|████▏     | 11826/27846 [00:17<00:21, 736.96it/s]"
     ]
    },
    {
     "name": "stdout",
     "output_type": "stream",
     "text": [
      "Indexed 11700 movies (last When Worlds Collide)\n",
      "Indexed 11800 movies (last The Girl in the Red Velvet Swing)\n"
     ]
    },
    {
     "name": "stderr",
     "output_type": "stream",
     "text": [
      " 43%|████▎     | 12028/27846 [00:18<00:21, 728.94it/s]"
     ]
    },
    {
     "name": "stdout",
     "output_type": "stream",
     "text": [
      "Indexed 11900 movies (last 9 Souls)\n",
      "Indexed 12000 movies (last Paradise Lost 2: Revelations)\n"
     ]
    },
    {
     "name": "stderr",
     "output_type": "stream",
     "text": [
      " 44%|████▍     | 12228/27846 [00:18<00:22, 680.31it/s]"
     ]
    },
    {
     "name": "stdout",
     "output_type": "stream",
     "text": [
      "Indexed 12100 movies (last Riki-Oh: The Story of Ricky)\n",
      "Indexed 12200 movies (last In Vogue: The Editor’s Eye)\n"
     ]
    },
    {
     "name": "stderr",
     "output_type": "stream",
     "text": [
      " 45%|████▍     | 12429/27846 [00:18<00:22, 689.71it/s]"
     ]
    },
    {
     "name": "stdout",
     "output_type": "stream",
     "text": [
      "Indexed 12300 movies (last Smart Money)\n",
      "Indexed 12400 movies (last Manda Bala (Send a Bullet))\n"
     ]
    },
    {
     "name": "stderr",
     "output_type": "stream",
     "text": [
      " 45%|████▌     | 12630/27846 [00:18<00:21, 696.87it/s]"
     ]
    },
    {
     "name": "stdout",
     "output_type": "stream",
     "text": [
      "Indexed 12500 movies (last Something to Talk About)\n",
      "Indexed 12600 movies (last Donald Glover: Weirdo)\n"
     ]
    },
    {
     "name": "stderr",
     "output_type": "stream",
     "text": [
      " 46%|████▌     | 12830/27846 [00:19<00:20, 718.78it/s]"
     ]
    },
    {
     "name": "stdout",
     "output_type": "stream",
     "text": [
      "Indexed 12700 movies (last Demon Seed)\n",
      "Indexed 12800 movies (last Zig Zag)\n"
     ]
    },
    {
     "name": "stderr",
     "output_type": "stream",
     "text": [
      " 47%|████▋     | 13032/27846 [00:19<00:20, 727.37it/s]"
     ]
    },
    {
     "name": "stdout",
     "output_type": "stream",
     "text": [
      "Indexed 12900 movies (last Going Overboard)\n",
      "Indexed 13000 movies (last Mahler)\n"
     ]
    },
    {
     "name": "stderr",
     "output_type": "stream",
     "text": [
      " 48%|████▊     | 13232/27846 [00:19<00:20, 709.94it/s]"
     ]
    },
    {
     "name": "stdout",
     "output_type": "stream",
     "text": [
      "Indexed 13100 movies (last Carriage to Vienna)\n",
      "Indexed 13200 movies (last The Big Clock)\n"
     ]
    },
    {
     "name": "stderr",
     "output_type": "stream",
     "text": [
      " 48%|████▊     | 13433/27846 [00:20<00:20, 697.12it/s]"
     ]
    },
    {
     "name": "stdout",
     "output_type": "stream",
     "text": [
      "Indexed 13300 movies (last Arsenal)\n",
      "Indexed 13400 movies (last First Descent)\n"
     ]
    },
    {
     "name": "stderr",
     "output_type": "stream",
     "text": [
      " 49%|████▉     | 13634/27846 [00:20<00:20, 696.92it/s]"
     ]
    },
    {
     "name": "stdout",
     "output_type": "stream",
     "text": [
      "Indexed 13500 movies (last Deep Cover)\n",
      "Indexed 13600 movies (last Mixed Blood)\n"
     ]
    },
    {
     "name": "stderr",
     "output_type": "stream",
     "text": [
      " 50%|████▉     | 13834/27846 [00:20<00:20, 698.80it/s]"
     ]
    },
    {
     "name": "stdout",
     "output_type": "stream",
     "text": [
      "Indexed 13700 movies (last Red Psalm)\n",
      "Indexed 13800 movies (last Bad Biology)\n"
     ]
    },
    {
     "name": "stderr",
     "output_type": "stream",
     "text": [
      " 50%|█████     | 14035/27846 [00:20<00:20, 677.87it/s]"
     ]
    },
    {
     "name": "stdout",
     "output_type": "stream",
     "text": [
      "Indexed 13900 movies (last Shirin)\n",
      "Indexed 14000 movies (last Rhyme & Reason)\n"
     ]
    },
    {
     "name": "stderr",
     "output_type": "stream",
     "text": [
      " 51%|█████     | 14235/27846 [00:21<00:20, 660.36it/s]"
     ]
    },
    {
     "name": "stdout",
     "output_type": "stream",
     "text": [
      "Indexed 14100 movies (last Tuareg: Desert Warrior)\n",
      "Indexed 14200 movies (last Havoc)\n"
     ]
    },
    {
     "name": "stderr",
     "output_type": "stream",
     "text": [
      " 52%|█████▏    | 14435/27846 [00:21<00:21, 629.37it/s]"
     ]
    },
    {
     "name": "stdout",
     "output_type": "stream",
     "text": [
      "Indexed 14300 movies (last Fire Over England)\n",
      "Indexed 14400 movies (last Impulse)\n"
     ]
    },
    {
     "name": "stderr",
     "output_type": "stream",
     "text": [
      " 53%|█████▎    | 14635/27846 [00:21<00:20, 635.11it/s]"
     ]
    },
    {
     "name": "stdout",
     "output_type": "stream",
     "text": [
      "Indexed 14500 movies (last Cheers For Miss Bishop)\n",
      "Indexed 14600 movies (last Don't Bother to Knock)\n"
     ]
    },
    {
     "name": "stderr",
     "output_type": "stream",
     "text": [
      " 53%|█████▎    | 14837/27846 [00:22<00:20, 643.73it/s]"
     ]
    },
    {
     "name": "stdout",
     "output_type": "stream",
     "text": [
      "Indexed 14700 movies (last Brides)\n",
      "Indexed 14800 movies (last The Land Before Time XI: Invasion of the Tinysauruses)\n"
     ]
    },
    {
     "name": "stderr",
     "output_type": "stream",
     "text": [
      " 54%|█████▍    | 15037/27846 [00:22<00:19, 670.60it/s]"
     ]
    },
    {
     "name": "stdout",
     "output_type": "stream",
     "text": [
      "Indexed 14900 movies (last The Gnome-Mobile)\n",
      "Indexed 15000 movies (last Miracles: Mr. Canton and Lady Rose)\n"
     ]
    },
    {
     "name": "stderr",
     "output_type": "stream",
     "text": [
      " 55%|█████▍    | 15237/27846 [00:22<00:19, 661.37it/s]"
     ]
    },
    {
     "name": "stdout",
     "output_type": "stream",
     "text": [
      "Indexed 15100 movies (last An Occurrence at Owl Creek Bridge)\n",
      "Indexed 15200 movies (last 16 to Life)\n"
     ]
    },
    {
     "name": "stderr",
     "output_type": "stream",
     "text": [
      " 55%|█████▌    | 15438/27846 [00:23<00:17, 702.67it/s]"
     ]
    },
    {
     "name": "stdout",
     "output_type": "stream",
     "text": [
      "Indexed 15300 movies (last Week-End at the Waldorf)\n",
      "Indexed 15400 movies (last Made in Hong Kong)\n"
     ]
    },
    {
     "name": "stderr",
     "output_type": "stream",
     "text": [
      " 56%|█████▌    | 15638/27846 [00:23<00:17, 680.48it/s]"
     ]
    },
    {
     "name": "stdout",
     "output_type": "stream",
     "text": [
      "Indexed 15500 movies (last Viva Cuba)\n",
      "Indexed 15600 movies (last Big Pun: The Legacy)\n"
     ]
    },
    {
     "name": "stderr",
     "output_type": "stream",
     "text": [
      " 57%|█████▋    | 15838/27846 [00:23<00:18, 662.68it/s]"
     ]
    },
    {
     "name": "stdout",
     "output_type": "stream",
     "text": [
      "Indexed 15700 movies (last Hurt)\n",
      "Indexed 15800 movies (last The Mudge Boy)\n"
     ]
    },
    {
     "name": "stderr",
     "output_type": "stream",
     "text": [
      "\r",
      " 57%|█████▋    | 15939/27846 [00:24<00:27, 425.70it/s]"
     ]
    },
    {
     "name": "stdout",
     "output_type": "stream",
     "text": [
      "Indexed 15900 movies (last The Hollywood Complex)\n"
     ]
    },
    {
     "name": "stderr",
     "output_type": "stream",
     "text": [
      " 58%|█████▊    | 16139/27846 [00:24<00:24, 474.63it/s]"
     ]
    },
    {
     "name": "stdout",
     "output_type": "stream",
     "text": [
      "Indexed 16000 movies (last The Great Northfield Minnesota Raid)\n",
      "Indexed 16100 movies (last Lotta Leaves Home)\n"
     ]
    },
    {
     "name": "stderr",
     "output_type": "stream",
     "text": [
      " 59%|█████▊    | 16340/27846 [00:24<00:21, 533.84it/s]"
     ]
    },
    {
     "name": "stdout",
     "output_type": "stream",
     "text": [
      "Indexed 16200 movies (last Just One of the Girls)\n",
      "Indexed 16300 movies (last Which Way Is The Front Line From Here? The Life and Time of Tim Hetherington)\n"
     ]
    },
    {
     "name": "stderr",
     "output_type": "stream",
     "text": [
      "\r",
      " 59%|█████▉    | 16440/27846 [00:25<00:22, 518.23it/s]"
     ]
    },
    {
     "name": "stdout",
     "output_type": "stream",
     "text": [
      "Indexed 16400 movies (last The Ladies Man)\n"
     ]
    },
    {
     "name": "stderr",
     "output_type": "stream",
     "text": [
      "\r",
      " 59%|█████▉    | 16540/27846 [00:25<00:22, 496.16it/s]"
     ]
    },
    {
     "name": "stdout",
     "output_type": "stream",
     "text": [
      "Indexed 16500 movies (last Assassin of the Tsar)\n"
     ]
    },
    {
     "name": "stderr",
     "output_type": "stream",
     "text": [
      " 60%|██████    | 16741/27846 [00:25<00:22, 496.40it/s]"
     ]
    },
    {
     "name": "stdout",
     "output_type": "stream",
     "text": [
      "Indexed 16600 movies (last The Adventures of Tarzan)\n",
      "Indexed 16700 movies (last Vendetta)\n"
     ]
    },
    {
     "name": "stderr",
     "output_type": "stream",
     "text": [
      "\r",
      " 60%|██████    | 16841/27846 [00:25<00:21, 501.00it/s]"
     ]
    },
    {
     "name": "stdout",
     "output_type": "stream",
     "text": [
      "Indexed 16800 movies (last Trucker)\n"
     ]
    },
    {
     "name": "stderr",
     "output_type": "stream",
     "text": [
      " 61%|██████    | 17041/27846 [00:26<00:22, 487.32it/s]"
     ]
    },
    {
     "name": "stdout",
     "output_type": "stream",
     "text": [
      "Indexed 16900 movies (last Branded)\n",
      "Indexed 17000 movies (last Mariage à Mendoza)\n"
     ]
    },
    {
     "name": "stderr",
     "output_type": "stream",
     "text": [
      " 62%|██████▏   | 17241/27846 [00:26<00:20, 521.84it/s]"
     ]
    },
    {
     "name": "stdout",
     "output_type": "stream",
     "text": [
      "Indexed 17100 movies (last Love Bites)\n",
      "Indexed 17200 movies (last The Ballad of Ramblin' Jack)\n"
     ]
    },
    {
     "name": "stderr",
     "output_type": "stream",
     "text": [
      "\r",
      " 62%|██████▏   | 17341/27846 [00:26<00:20, 509.38it/s]"
     ]
    },
    {
     "name": "stdout",
     "output_type": "stream",
     "text": [
      "Indexed 17300 movies (last Blade of the Ripper)\n"
     ]
    },
    {
     "name": "stderr",
     "output_type": "stream",
     "text": [
      "\r",
      " 63%|██████▎   | 17441/27846 [00:27<00:21, 474.52it/s]"
     ]
    },
    {
     "name": "stdout",
     "output_type": "stream",
     "text": [
      "Indexed 17400 movies (last Kiler)\n"
     ]
    },
    {
     "name": "stderr",
     "output_type": "stream",
     "text": [
      " 63%|██████▎   | 17641/27846 [00:27<00:21, 468.48it/s]"
     ]
    },
    {
     "name": "stdout",
     "output_type": "stream",
     "text": [
      "Indexed 17500 movies (last Kaïrat)\n",
      "Indexed 17600 movies (last Body Bags)\n"
     ]
    },
    {
     "name": "stderr",
     "output_type": "stream",
     "text": [
      " 64%|██████▍   | 17844/27846 [00:28<00:20, 489.07it/s]"
     ]
    },
    {
     "name": "stdout",
     "output_type": "stream",
     "text": [
      "Indexed 17700 movies (last Dave Attell: Captain Miserable)\n",
      "Indexed 17800 movies (last Wodehouse In Exile)\n"
     ]
    },
    {
     "name": "stderr",
     "output_type": "stream",
     "text": [
      "\r",
      " 64%|██████▍   | 17944/27846 [00:28<00:19, 515.05it/s]"
     ]
    },
    {
     "name": "stdout",
     "output_type": "stream",
     "text": [
      "Indexed 17900 movies (last Duel in the Sun)\n"
     ]
    },
    {
     "name": "stderr",
     "output_type": "stream",
     "text": [
      "\r",
      " 65%|██████▍   | 18044/27846 [00:28<00:19, 490.86it/s]"
     ]
    },
    {
     "name": "stdout",
     "output_type": "stream",
     "text": [
      "Indexed 18000 movies (last The Message)\n"
     ]
    },
    {
     "name": "stderr",
     "output_type": "stream",
     "text": [
      " 66%|██████▌   | 18244/27846 [00:28<00:20, 458.30it/s]"
     ]
    },
    {
     "name": "stdout",
     "output_type": "stream",
     "text": [
      "Indexed 18100 movies (last Shock)\n",
      "Indexed 18200 movies (last Harvey)\n"
     ]
    },
    {
     "name": "stderr",
     "output_type": "stream",
     "text": [
      " 66%|██████▌   | 18444/27846 [00:29<00:18, 512.58it/s]"
     ]
    },
    {
     "name": "stdout",
     "output_type": "stream",
     "text": [
      "Indexed 18300 movies (last The Worthless)\n",
      "Indexed 18400 movies (last Queen of the Mountains)\n"
     ]
    },
    {
     "name": "stderr",
     "output_type": "stream",
     "text": [
      " 67%|██████▋   | 18645/27846 [00:29<00:17, 513.13it/s]"
     ]
    },
    {
     "name": "stdout",
     "output_type": "stream",
     "text": [
      "Indexed 18500 movies (last Urgh! A Music War)\n",
      "Indexed 18600 movies (last Wuthering Heights)\n"
     ]
    },
    {
     "name": "stderr",
     "output_type": "stream",
     "text": [
      " 68%|██████▊   | 18845/27846 [00:29<00:16, 539.49it/s]"
     ]
    },
    {
     "name": "stdout",
     "output_type": "stream",
     "text": [
      "Indexed 18700 movies (last Gabriel Over the White House)\n",
      "Indexed 18800 movies (last Friendship!)\n"
     ]
    },
    {
     "name": "stderr",
     "output_type": "stream",
     "text": [
      " 68%|██████▊   | 19048/27846 [00:30<00:15, 557.04it/s]"
     ]
    },
    {
     "name": "stdout",
     "output_type": "stream",
     "text": [
      "Indexed 18900 movies (last Mía)\n",
      "Indexed 19000 movies (last Danger! 50,000 Zombies)\n"
     ]
    },
    {
     "name": "stderr",
     "output_type": "stream",
     "text": [
      " 69%|██████▉   | 19249/27846 [00:30<00:16, 521.41it/s]"
     ]
    },
    {
     "name": "stdout",
     "output_type": "stream",
     "text": [
      "Indexed 19100 movies (last Top Dog)\n",
      "Indexed 19200 movies (last Reaching for the Moon)\n"
     ]
    },
    {
     "name": "stderr",
     "output_type": "stream",
     "text": [
      " 70%|██████▉   | 19450/27846 [00:31<00:16, 520.01it/s]"
     ]
    },
    {
     "name": "stdout",
     "output_type": "stream",
     "text": [
      "Indexed 19300 movies (last A Child's Christmas in Wales)\n",
      "Indexed 19400 movies (last The Dog Who Stopped the War)\n"
     ]
    },
    {
     "name": "stderr",
     "output_type": "stream",
     "text": [
      " 71%|███████   | 19653/27846 [00:31<00:15, 536.02it/s]"
     ]
    },
    {
     "name": "stdout",
     "output_type": "stream",
     "text": [
      "Indexed 19500 movies (last Police Python 357)\n",
      "Indexed 19600 movies (last Accidents Happen)\n"
     ]
    },
    {
     "name": "stderr",
     "output_type": "stream",
     "text": [
      " 71%|███████▏  | 19854/27846 [00:31<00:14, 557.75it/s]"
     ]
    },
    {
     "name": "stdout",
     "output_type": "stream",
     "text": [
      "Indexed 19700 movies (last Changing Times)\n",
      "Indexed 19800 movies (last The Ape)\n"
     ]
    },
    {
     "name": "stderr",
     "output_type": "stream",
     "text": [
      " 72%|███████▏  | 20054/27846 [00:32<00:13, 579.49it/s]"
     ]
    },
    {
     "name": "stdout",
     "output_type": "stream",
     "text": [
      "Indexed 19900 movies (last Heartbreak Hotel)\n",
      "Indexed 20000 movies (last Left Behind III: World at War)\n"
     ]
    },
    {
     "name": "stderr",
     "output_type": "stream",
     "text": [
      " 73%|███████▎  | 20256/27846 [00:32<00:13, 582.47it/s]"
     ]
    },
    {
     "name": "stdout",
     "output_type": "stream",
     "text": [
      "Indexed 20100 movies (last Dragon Ball Z: Lord Slug)\n",
      "Indexed 20200 movies (last The Adventures of Sherlock Holmes)\n"
     ]
    },
    {
     "name": "stderr",
     "output_type": "stream",
     "text": [
      " 73%|███████▎  | 20456/27846 [00:32<00:12, 574.59it/s]"
     ]
    },
    {
     "name": "stdout",
     "output_type": "stream",
     "text": [
      "Indexed 20300 movies (last Billy's Hollywood Screen Kiss)\n",
      "Indexed 20400 movies (last Short Night of Glass Dolls)\n"
     ]
    },
    {
     "name": "stderr",
     "output_type": "stream",
     "text": [
      " 74%|███████▍  | 20657/27846 [00:33<00:12, 562.98it/s]"
     ]
    },
    {
     "name": "stdout",
     "output_type": "stream",
     "text": [
      "Indexed 20500 movies (last Kawa)\n",
      "Indexed 20600 movies (last Bears)\n"
     ]
    },
    {
     "name": "stderr",
     "output_type": "stream",
     "text": [
      " 75%|███████▍  | 20858/27846 [00:33<00:12, 560.65it/s]"
     ]
    },
    {
     "name": "stdout",
     "output_type": "stream",
     "text": [
      "Indexed 20700 movies (last Pyrates)\n",
      "Indexed 20800 movies (last Bastard Out of Carolina)\n"
     ]
    },
    {
     "name": "stderr",
     "output_type": "stream",
     "text": [
      " 76%|███████▌  | 21060/27846 [00:33<00:12, 560.49it/s]"
     ]
    },
    {
     "name": "stdout",
     "output_type": "stream",
     "text": [
      "Indexed 20900 movies (last The Mole People)\n",
      "Indexed 21000 movies (last Till Human Voices Wake Us)\n"
     ]
    },
    {
     "name": "stderr",
     "output_type": "stream",
     "text": [
      " 76%|███████▋  | 21260/27846 [00:34<00:11, 568.38it/s]"
     ]
    },
    {
     "name": "stdout",
     "output_type": "stream",
     "text": [
      "Indexed 21100 movies (last It's a Wonderful Afterlife)\n",
      "Indexed 21200 movies (last The Bingo Long Traveling All-Stars & Motor Kings)\n"
     ]
    },
    {
     "name": "stderr",
     "output_type": "stream",
     "text": [
      " 77%|███████▋  | 21461/27846 [00:34<00:11, 547.13it/s]"
     ]
    },
    {
     "name": "stdout",
     "output_type": "stream",
     "text": [
      "Indexed 21300 movies (last Ciao! Manhattan)\n",
      "Indexed 21400 movies (last The Night They Raided Minsky's)\n"
     ]
    },
    {
     "name": "stderr",
     "output_type": "stream",
     "text": [
      " 78%|███████▊  | 21661/27846 [00:35<00:11, 531.95it/s]"
     ]
    },
    {
     "name": "stdout",
     "output_type": "stream",
     "text": [
      "Indexed 21500 movies (last The Girl Can't Help It)\n",
      "Indexed 21600 movies (last Sam Peckinpah's West: Legacy of a Hollywood Renegade)\n"
     ]
    },
    {
     "name": "stderr",
     "output_type": "stream",
     "text": [
      " 79%|███████▊  | 21861/27846 [00:35<00:11, 514.35it/s]"
     ]
    },
    {
     "name": "stdout",
     "output_type": "stream",
     "text": [
      "Indexed 21700 movies (last A Guy Named Joe)\n",
      "Indexed 21800 movies (last Odd Man Out)\n"
     ]
    },
    {
     "name": "stderr",
     "output_type": "stream",
     "text": [
      "\r",
      " 79%|███████▉  | 21961/27846 [00:35<00:11, 522.22it/s]"
     ]
    },
    {
     "name": "stdout",
     "output_type": "stream",
     "text": [
      "Indexed 21900 movies (last The Rise of Catherine the Great)\n"
     ]
    },
    {
     "name": "stderr",
     "output_type": "stream",
     "text": [
      " 80%|███████▉  | 22161/27846 [00:36<00:11, 497.54it/s]"
     ]
    },
    {
     "name": "stdout",
     "output_type": "stream",
     "text": [
      "Indexed 22000 movies (last The Girl of the Golden West)\n",
      "Indexed 22100 movies (last The Killing of John Lennon)\n"
     ]
    },
    {
     "name": "stderr",
     "output_type": "stream",
     "text": [
      " 80%|████████  | 22361/27846 [00:36<00:10, 524.47it/s]"
     ]
    },
    {
     "name": "stdout",
     "output_type": "stream",
     "text": [
      "Indexed 22200 movies (last Twist)\n",
      "Indexed 22300 movies (last After Life)\n"
     ]
    },
    {
     "name": "stderr",
     "output_type": "stream",
     "text": [
      " 81%|████████  | 22562/27846 [00:36<00:09, 550.13it/s]"
     ]
    },
    {
     "name": "stdout",
     "output_type": "stream",
     "text": [
      "Indexed 22400 movies (last The Great Ecstasy of Robert Carmichael)\n",
      "Indexed 22500 movies (last Do Not Disturb)\n"
     ]
    },
    {
     "name": "stderr",
     "output_type": "stream",
     "text": [
      " 82%|████████▏ | 22762/27846 [00:37<00:09, 556.31it/s]"
     ]
    },
    {
     "name": "stdout",
     "output_type": "stream",
     "text": [
      "Indexed 22600 movies (last Something Real and Good)\n",
      "Indexed 22700 movies (last CBGB)\n"
     ]
    },
    {
     "name": "stderr",
     "output_type": "stream",
     "text": [
      " 82%|████████▏ | 22962/27846 [00:37<00:08, 544.34it/s]"
     ]
    },
    {
     "name": "stdout",
     "output_type": "stream",
     "text": [
      "Indexed 22800 movies (last California Solo)\n",
      "Indexed 22900 movies (last Richard III)\n"
     ]
    },
    {
     "name": "stderr",
     "output_type": "stream",
     "text": [
      " 83%|████████▎ | 23162/27846 [00:37<00:08, 536.01it/s]"
     ]
    },
    {
     "name": "stdout",
     "output_type": "stream",
     "text": [
      "Indexed 23000 movies (last She's Out of Control)\n",
      "Indexed 23100 movies (last Dead End Drive-In)\n"
     ]
    },
    {
     "name": "stderr",
     "output_type": "stream",
     "text": [
      " 84%|████████▍ | 23362/27846 [00:38<00:08, 548.69it/s]"
     ]
    },
    {
     "name": "stdout",
     "output_type": "stream",
     "text": [
      "Indexed 23200 movies (last Venus Boyz)\n",
      "Indexed 23300 movies (last My Giant)\n"
     ]
    },
    {
     "name": "stderr",
     "output_type": "stream",
     "text": [
      " 85%|████████▍ | 23564/27846 [00:38<00:07, 564.71it/s]"
     ]
    },
    {
     "name": "stdout",
     "output_type": "stream",
     "text": [
      "Indexed 23400 movies (last The Beekeeper)\n",
      "Indexed 23500 movies (last The Bobo)\n"
     ]
    },
    {
     "name": "stderr",
     "output_type": "stream",
     "text": [
      " 85%|████████▌ | 23764/27846 [00:38<00:07, 568.95it/s]"
     ]
    },
    {
     "name": "stdout",
     "output_type": "stream",
     "text": [
      "Indexed 23600 movies (last Amen)\n",
      "Indexed 23700 movies (last Favela Rising)\n"
     ]
    },
    {
     "name": "stderr",
     "output_type": "stream",
     "text": [
      " 86%|████████▌ | 23964/27846 [00:39<00:06, 578.60it/s]"
     ]
    },
    {
     "name": "stdout",
     "output_type": "stream",
     "text": [
      "Indexed 23800 movies (last The 4th Floor)\n",
      "Indexed 23900 movies (last Chisum)\n"
     ]
    },
    {
     "name": "stderr",
     "output_type": "stream",
     "text": [
      "\r",
      " 86%|████████▋ | 24065/27846 [00:39<00:06, 573.88it/s]"
     ]
    },
    {
     "name": "stdout",
     "output_type": "stream",
     "text": [
      "Indexed 24000 movies (last Boulevard)\n"
     ]
    },
    {
     "name": "stderr",
     "output_type": "stream",
     "text": [
      " 87%|████████▋ | 24266/27846 [00:39<00:06, 551.33it/s]"
     ]
    },
    {
     "name": "stdout",
     "output_type": "stream",
     "text": [
      "Indexed 24100 movies (last Ingmar Bergman Makes a Movie)\n",
      "Indexed 24200 movies (last The Play House)\n"
     ]
    },
    {
     "name": "stderr",
     "output_type": "stream",
     "text": [
      " 88%|████████▊ | 24468/27846 [00:40<00:05, 570.43it/s]"
     ]
    },
    {
     "name": "stdout",
     "output_type": "stream",
     "text": [
      "Indexed 24300 movies (last Of Mice and Men)\n",
      "Indexed 24400 movies (last Dr. Gillespie's New Assistant)\n"
     ]
    },
    {
     "name": "stderr",
     "output_type": "stream",
     "text": [
      "\r",
      " 88%|████████▊ | 24570/27846 [00:40<00:05, 553.55it/s]"
     ]
    },
    {
     "name": "stdout",
     "output_type": "stream",
     "text": [
      "Indexed 24500 movies (last Rat)\n"
     ]
    },
    {
     "name": "stderr",
     "output_type": "stream",
     "text": [
      "\r",
      " 89%|████████▊ | 24670/27846 [00:40<00:06, 479.69it/s]"
     ]
    },
    {
     "name": "stdout",
     "output_type": "stream",
     "text": [
      "Indexed 24600 movies (last Unstrung Heroes)\n"
     ]
    },
    {
     "name": "stderr",
     "output_type": "stream",
     "text": [
      "\r",
      " 89%|████████▉ | 24770/27846 [00:41<00:08, 360.24it/s]"
     ]
    },
    {
     "name": "stdout",
     "output_type": "stream",
     "text": [
      "Indexed 24700 movies (last Crazy Sexy Cancer)\n"
     ]
    },
    {
     "name": "stderr",
     "output_type": "stream",
     "text": [
      "\r",
      " 89%|████████▉ | 24871/27846 [00:41<00:08, 361.85it/s]"
     ]
    },
    {
     "name": "stdout",
     "output_type": "stream",
     "text": [
      "Indexed 24800 movies (last High and Dizzy)\n"
     ]
    },
    {
     "name": "stderr",
     "output_type": "stream",
     "text": [
      "\r",
      " 90%|████████▉ | 24972/27846 [00:41<00:08, 349.87it/s]"
     ]
    },
    {
     "name": "stdout",
     "output_type": "stream",
     "text": [
      "Indexed 24900 movies (last The Murder of Fred Hampton)\n"
     ]
    },
    {
     "name": "stderr",
     "output_type": "stream",
     "text": [
      "\r",
      " 90%|█████████ | 25072/27846 [00:41<00:07, 371.81it/s]"
     ]
    },
    {
     "name": "stdout",
     "output_type": "stream",
     "text": [
      "Indexed 25000 movies (last Holiday for Drumsticks)\n"
     ]
    },
    {
     "name": "stderr",
     "output_type": "stream",
     "text": [
      "\r",
      " 90%|█████████ | 25172/27846 [00:42<00:06, 395.87it/s]"
     ]
    },
    {
     "name": "stdout",
     "output_type": "stream",
     "text": [
      "Indexed 25100 movies (last China Blue)\n"
     ]
    },
    {
     "name": "stderr",
     "output_type": "stream",
     "text": [
      "\r",
      " 91%|█████████ | 25272/27846 [00:42<00:06, 400.89it/s]"
     ]
    },
    {
     "name": "stdout",
     "output_type": "stream",
     "text": [
      "Indexed 25200 movies (last Pancho, el perro millonario)\n"
     ]
    },
    {
     "name": "stderr",
     "output_type": "stream",
     "text": [
      "\r",
      " 91%|█████████ | 25372/27846 [00:42<00:05, 418.98it/s]"
     ]
    },
    {
     "name": "stdout",
     "output_type": "stream",
     "text": [
      "Indexed 25300 movies (last The Diary of Anne Frank)\n"
     ]
    },
    {
     "name": "stderr",
     "output_type": "stream",
     "text": [
      "\r",
      " 91%|█████████▏| 25472/27846 [00:42<00:05, 407.01it/s]"
     ]
    },
    {
     "name": "stdout",
     "output_type": "stream",
     "text": [
      "Indexed 25400 movies (last To Be Twenty)\n"
     ]
    },
    {
     "name": "stderr",
     "output_type": "stream",
     "text": [
      " 92%|█████████▏| 25675/27846 [00:43<00:04, 438.61it/s]"
     ]
    },
    {
     "name": "stdout",
     "output_type": "stream",
     "text": [
      "Indexed 25500 movies (last Empire of Silver)\n",
      "Indexed 25600 movies (last Knockout)\n"
     ]
    },
    {
     "name": "stderr",
     "output_type": "stream",
     "text": [
      "\r",
      " 93%|█████████▎| 25775/27846 [00:43<00:04, 431.11it/s]"
     ]
    },
    {
     "name": "stdout",
     "output_type": "stream",
     "text": [
      "Indexed 25700 movies (last Speed & Angels)\n"
     ]
    },
    {
     "name": "stderr",
     "output_type": "stream",
     "text": [
      "\r",
      " 93%|█████████▎| 25875/27846 [00:43<00:04, 418.04it/s]"
     ]
    },
    {
     "name": "stdout",
     "output_type": "stream",
     "text": [
      "Indexed 25800 movies (last Meek's Cutoff)\n"
     ]
    },
    {
     "name": "stderr",
     "output_type": "stream",
     "text": [
      "\r",
      " 93%|█████████▎| 25978/27846 [00:44<00:04, 415.20it/s]"
     ]
    },
    {
     "name": "stdout",
     "output_type": "stream",
     "text": [
      "Indexed 25900 movies (last Sharpe's Sword)\n"
     ]
    },
    {
     "name": "stderr",
     "output_type": "stream",
     "text": [
      "\r",
      " 94%|█████████▎| 26078/27846 [00:44<00:04, 395.11it/s]"
     ]
    },
    {
     "name": "stdout",
     "output_type": "stream",
     "text": [
      "Indexed 26000 movies (last May 18)\n"
     ]
    },
    {
     "name": "stderr",
     "output_type": "stream",
     "text": [
      "\r",
      " 94%|█████████▍| 26179/27846 [00:44<00:04, 405.82it/s]"
     ]
    },
    {
     "name": "stdout",
     "output_type": "stream",
     "text": [
      "Indexed 26100 movies (last Dealer)\n"
     ]
    },
    {
     "name": "stderr",
     "output_type": "stream",
     "text": [
      "\r",
      " 94%|█████████▍| 26279/27846 [00:44<00:04, 386.32it/s]"
     ]
    },
    {
     "name": "stdout",
     "output_type": "stream",
     "text": [
      "Indexed 26200 movies (last Carmen Miranda: Bananas Is My Business)\n"
     ]
    },
    {
     "name": "stderr",
     "output_type": "stream",
     "text": [
      "\r",
      " 95%|█████████▍| 26379/27846 [00:45<00:03, 408.01it/s]"
     ]
    },
    {
     "name": "stdout",
     "output_type": "stream",
     "text": [
      "Indexed 26300 movies (last Il figlio dello sceicco)\n"
     ]
    },
    {
     "name": "stderr",
     "output_type": "stream",
     "text": [
      "\r",
      " 95%|█████████▌| 26479/27846 [00:45<00:03, 428.55it/s]"
     ]
    },
    {
     "name": "stdout",
     "output_type": "stream",
     "text": [
      "Indexed 26400 movies (last Muddy River)\n"
     ]
    },
    {
     "name": "stderr",
     "output_type": "stream",
     "text": [
      " 96%|█████████▌| 26679/27846 [00:45<00:02, 453.73it/s]"
     ]
    },
    {
     "name": "stdout",
     "output_type": "stream",
     "text": [
      "Indexed 26500 movies (last Judy Moody and the Not Bummer Summer)\n",
      "Indexed 26600 movies (last The Naughty Room)\n"
     ]
    },
    {
     "name": "stderr",
     "output_type": "stream",
     "text": [
      "\r",
      " 96%|█████████▌| 26780/27846 [00:45<00:02, 447.89it/s]"
     ]
    },
    {
     "name": "stdout",
     "output_type": "stream",
     "text": [
      "Indexed 26700 movies (last Time Without Pity)\n"
     ]
    },
    {
     "name": "stderr",
     "output_type": "stream",
     "text": [
      "\r",
      " 97%|█████████▋| 26880/27846 [00:46<00:02, 449.95it/s]"
     ]
    },
    {
     "name": "stdout",
     "output_type": "stream",
     "text": [
      "Indexed 26800 movies (last L'outremangeur)\n"
     ]
    },
    {
     "name": "stderr",
     "output_type": "stream",
     "text": [
      " 97%|█████████▋| 27083/27846 [00:46<00:01, 481.47it/s]"
     ]
    },
    {
     "name": "stdout",
     "output_type": "stream",
     "text": [
      "Indexed 26900 movies (last Buddha Collapsed Out of Shame)\n",
      "Indexed 27000 movies (last Uno contro l'altro praticamente amici)\n"
     ]
    },
    {
     "name": "stderr",
     "output_type": "stream",
     "text": [
      " 98%|█████████▊| 27285/27846 [00:46<00:01, 488.99it/s]"
     ]
    },
    {
     "name": "stdout",
     "output_type": "stream",
     "text": [
      "Indexed 27100 movies (last The Talent Given Us)\n",
      "Indexed 27200 movies (last Paris Trout)\n"
     ]
    },
    {
     "name": "stderr",
     "output_type": "stream",
     "text": [
      "\r",
      " 98%|█████████▊| 27385/27846 [00:47<00:00, 489.20it/s]"
     ]
    },
    {
     "name": "stdout",
     "output_type": "stream",
     "text": [
      "Indexed 27300 movies (last The Crystal Ball)\n"
     ]
    },
    {
     "name": "stderr",
     "output_type": "stream",
     "text": [
      "\r",
      " 99%|█████████▊| 27485/27846 [00:47<00:00, 476.59it/s]"
     ]
    },
    {
     "name": "stdout",
     "output_type": "stream",
     "text": [
      "Indexed 27400 movies (last West Is West)\n"
     ]
    },
    {
     "name": "stderr",
     "output_type": "stream",
     "text": [
      "\r",
      " 99%|█████████▉| 27586/27846 [00:47<00:00, 453.95it/s]"
     ]
    },
    {
     "name": "stdout",
     "output_type": "stream",
     "text": [
      "Indexed 27500 movies (last Breaktime)\n"
     ]
    },
    {
     "name": "stderr",
     "output_type": "stream",
     "text": [
      "\r",
      " 99%|█████████▉| 27687/27846 [00:47<00:00, 450.86it/s]"
     ]
    },
    {
     "name": "stdout",
     "output_type": "stream",
     "text": [
      "Indexed 27600 movies (last Two for the Seesaw)\n"
     ]
    },
    {
     "name": "stderr",
     "output_type": "stream",
     "text": [
      "100%|██████████| 27846/27846 [00:48<00:00, 578.67it/s]"
     ]
    },
    {
     "name": "stdout",
     "output_type": "stream",
     "text": [
      "Indexed 27700 movies (last Fingers at the Window)\n"
     ]
    },
    {
     "name": "stderr",
     "output_type": "stream",
     "text": [
      "\n"
     ]
    },
    {
     "name": "stdout",
     "output_type": "stream",
     "text": [
      "Streaming Bulk index DONE tmdb [Status: 201]\n",
      "Done\n"
     ]
    }
   ],
   "source": [
    "def add_collection_name(src_movie, base_doc):\n",
    "    if 'belongs_to_collection' in src_movie and src_movie['belongs_to_collection'] is not None:\n",
    "        if 'name' in src_movie['belongs_to_collection']:\n",
    "            base_doc['collection_name'] = src_movie['belongs_to_collection']['name']\n",
    "    return base_doc\n",
    "\n",
    "from ltr.index import rebuild\n",
    "from ltr.helpers.movies import indexable_movies\n",
    "from ltr import download\n",
    "\n",
    "corpus='http://es-learn-to-rank.labs.o19s.com/tmdb.json'\n",
    "judgments='http://es-learn-to-rank.labs.o19s.com/title_judgments.txt'\n",
    "download([corpus, judgments], dest='data/');\n",
    "\n",
    "movies=indexable_movies(movies='data/tmdb.json', enrich=add_collection_name)\n",
    "rebuild(client, index='tmdb', doc_src=movies)"
   ]
  },
  {
   "cell_type": "markdown",
   "metadata": {},
   "source": [
    "## Features for movie titles\n",
    "\n",
    "We'll be searching movie titles (think searching for a specific movie on Netflix). And we have a set of judgments around the appropriatte movie to return. IE search for \"Star Wars\" return good star wars matches, in quality order...\n",
    "\n",
    "These cover various aspects of the problem (searching title by phrase, title bm25 score, release date, etc). We'll use this to explore and analyze a simple model"
   ]
  },
  {
   "cell_type": "code",
   "execution_count": 2,
   "metadata": {},
   "outputs": [
    {
     "name": "stdout",
     "output_type": "stream",
     "text": [
      "Removed Default LTR feature store [Status: 200]\n",
      "Initialize Default LTR feature store [Status: 200]\n",
      "Create title_rf feature set [Status: 201]\n"
     ]
    }
   ],
   "source": [
    "client.reset_ltr(index='tmdb')\n",
    "\n",
    "config = {\"validation\": {\n",
    "              \"index\": \"tmdb\",\n",
    "              \"params\": {\n",
    "                  \"keywords\": \"rambo\"\n",
    "              }\n",
    "    \n",
    "           },\n",
    "           \"featureset\": {\n",
    "            \"features\": [\n",
    "            {\n",
    "                \"name\": \"title_phrase\",\n",
    "                \"params\": [\"keywords\"],\n",
    "                \"template\": {\n",
    "                    \"constant_score\": {\n",
    "                        \"filter\": {\n",
    "                            \"match_phrase\": {\"title\": \"{{keywords}}\"}\n",
    "                        },\n",
    "                        \"boost\": 1.0\n",
    "                    }  \n",
    "                }\n",
    "            },\n",
    "            {\n",
    "                \"name\": \"title\",\n",
    "                \"params\": [\"keywords\"],\n",
    "                \"template\": {\n",
    "                    \"constant_score\": {\n",
    "                        \"filter\": {\n",
    "                            \"match\": {\"title\": \"{{keywords}}\"}\n",
    "                        },\n",
    "                        \"boost\": 1.0\n",
    "                    }  \n",
    "                }\n",
    "            },\n",
    "            {\n",
    "                \"name\": \"title_bm25\",\n",
    "                \"params\": [\"keywords\"],\n",
    "                \"template\": {\n",
    "                    \"match\": {\"title\": \"{{keywords}}\"}\n",
    "                }\n",
    "            },\n",
    "            {\n",
    "                \"name\": \"overview_bm25\",\n",
    "                \"params\": [\"keywords\"],\n",
    "                \"template\": {\n",
    "                    \"match\": {\"overview\": \"{{keywords}}\"}\n",
    "                }\n",
    "            },\n",
    "            {\n",
    "                \"name\": \"overview_phrase_bm25\",\n",
    "                \"params\": [\"keywords\"],\n",
    "                \"template\": {\n",
    "                    \"match_phrase\": {\"overview\": \"{{keywords}}\"}\n",
    "                }\n",
    "            },\n",
    "            {\n",
    "                \"name\": \"title_fuzzy\",\n",
    "                \"params\": [\"keywords\"],\n",
    "                \"template\": {\n",
    "                    \"match\": {\"title\": \n",
    "                                {\"query\": \"{{keywords}}\",\n",
    "                                 \"fuzziness\": \"AUTO\"}}\n",
    "                }\n",
    "            },\n",
    "             {\n",
    "                \"name\": \"release_year\",\n",
    "                \"params\": [],\n",
    "                \"template\": {\n",
    "                    \"function_score\": {\n",
    "                        \"field_value_factor\": {\n",
    "                            \"field\": \"release_year\",\n",
    "                            \"missing\": 2000\n",
    "                        },\n",
    "                        \"query\": { \"match_all\": {} }\n",
    "                    }\n",
    "                }\n",
    "            },\n",
    "            {\n",
    "                \"name\": \"coll_name_bm25\",\n",
    "                \"params\": [\"keywords\"],\n",
    "                \"template\": {\n",
    "                    \"match\": {\"collection_name\": \n",
    "                                {\"query\": \"{{keywords}}\"}}\n",
    "                }\n",
    "            },\n",
    "             {\n",
    "                \"name\": \"coll_name_phrase_bm25\",\n",
    "                \"params\": [\"keywords\"],\n",
    "                \"template\": {\n",
    "                    \"match_phrase\": {\"collection_name\": \n",
    "                                {\"query\": \"{{keywords}}\"}}\n",
    "                }\n",
    "            }\n",
    "            \n",
    "            \n",
    "            ]\n",
    "    }}\n",
    "\n",
    "\n",
    "client.create_featureset(index='tmdb', name='title_rf', ftr_config=config)"
   ]
  },
  {
   "cell_type": "markdown",
   "metadata": {},
   "source": [
    "## Training Set Generation\n",
    "\n",
    "Log out features for each of the above queries out to a training set file"
   ]
  },
  {
   "cell_type": "code",
   "execution_count": 3,
   "metadata": {},
   "outputs": [
    {
     "name": "stdout",
     "output_type": "stream",
     "text": [
      "Recognizing 40 queries...\n",
      "Searching tmdb - [{'terms': {'_id': [ [Status: 200]\n",
      "Discarded 0 Keep 41\n",
      "Searching tmdb - [{'terms': {'_id': [ [Status: 200]\n",
      "Discarded 0 Keep 41\n",
      "Searching tmdb - [{'terms': {'_id': [ [Status: 200]\n",
      "Discarded 0 Keep 39\n",
      "Searching tmdb - [{'terms': {'_id': [ [Status: 200]\n",
      "Discarded 0 Keep 28\n",
      "Searching tmdb - [{'terms': {'_id': [ [Status: 200]\n",
      "Discarded 0 Keep 33\n",
      "Searching tmdb - [{'terms': {'_id': [ [Status: 200]\n",
      "Discarded 0 Keep 39\n",
      "Searching tmdb - [{'terms': {'_id': [ [Status: 200]\n",
      "Discarded 0 Keep 35\n",
      "Searching tmdb - [{'terms': {'_id': [ [Status: 200]\n",
      "Discarded 0 Keep 38\n",
      "Searching tmdb - [{'terms': {'_id': [ [Status: 200]\n",
      "Discarded 0 Keep 35\n",
      "Searching tmdb - [{'terms': {'_id': [ [Status: 200]\n",
      "Discarded 0 Keep 31\n",
      "Searching tmdb - [{'terms': {'_id': [ [Status: 200]\n",
      "Discarded 0 Keep 28\n",
      "Searching tmdb - [{'terms': {'_id': [ [Status: 200]\n",
      "Discarded 0 Keep 34\n",
      "Searching tmdb - [{'terms': {'_id': [ [Status: 200]\n",
      "Discarded 0 Keep 31\n",
      "Searching tmdb - [{'terms': {'_id': [ [Status: 200]\n",
      "Discarded 0 Keep 30\n",
      "Searching tmdb - [{'terms': {'_id': [ [Status: 200]\n",
      "Discarded 0 Keep 35\n",
      "Searching tmdb - [{'terms': {'_id': [ [Status: 200]\n",
      "Discarded 0 Keep 31\n",
      "Searching tmdb - [{'terms': {'_id': [ [Status: 200]\n",
      "Discarded 0 Keep 31\n",
      "Searching tmdb - [{'terms': {'_id': [ [Status: 200]\n",
      "Discarded 0 Keep 35\n",
      "Searching tmdb - [{'terms': {'_id': [ [Status: 200]\n",
      "Discarded 0 Keep 32\n",
      "Searching tmdb - [{'terms': {'_id': [ [Status: 200]\n",
      "Discarded 0 Keep 31\n",
      "Searching tmdb - [{'terms': {'_id': [ [Status: 200]\n",
      "Discarded 0 Keep 30\n",
      "Searching tmdb - [{'terms': {'_id': [ [Status: 200]\n",
      "Discarded 0 Keep 44\n",
      "Searching tmdb - [{'terms': {'_id': [ [Status: 200]\n",
      "Discarded 0 Keep 34\n",
      "Searching tmdb - [{'terms': {'_id': [ [Status: 200]\n",
      "Discarded 0 Keep 35\n",
      "Searching tmdb - [{'terms': {'_id': [ [Status: 200]\n",
      "Discarded 0 Keep 33\n",
      "Searching tmdb - [{'terms': {'_id': [ [Status: 200]\n",
      "Discarded 0 Keep 38\n",
      "Searching tmdb - [{'terms': {'_id': [ [Status: 200]\n",
      "Discarded 0 Keep 38\n",
      "Searching tmdb - [{'terms': {'_id': [ [Status: 200]\n",
      "Discarded 0 Keep 40\n",
      "Searching tmdb - [{'terms': {'_id': [ [Status: 200]\n",
      "Discarded 0 Keep 40\n",
      "Searching tmdb - [{'terms': {'_id': [ [Status: 200]\n",
      "Discarded 0 Keep 30\n",
      "Searching tmdb - [{'terms': {'_id': [ [Status: 200]\n",
      "Discarded 0 Keep 41\n",
      "Searching tmdb - [{'terms': {'_id': [ [Status: 200]\n",
      "Discarded 0 Keep 28\n",
      "Searching tmdb - [{'terms': {'_id': [ [Status: 200]\n",
      "Discarded 0 Keep 41\n",
      "Searching tmdb - [{'terms': {'_id': [ [Status: 200]\n",
      "Discarded 0 Keep 39\n",
      "Searching tmdb - [{'terms': {'_id': [ [Status: 200]\n",
      "Discarded 0 Keep 36\n",
      "Searching tmdb - [{'terms': {'_id': [ [Status: 200]\n",
      "Discarded 0 Keep 31\n",
      "Searching tmdb - [{'terms': {'_id': [ [Status: 200]\n",
      "Discarded 0 Keep 36\n",
      "Searching tmdb - [{'terms': {'_id': [ [Status: 200]\n",
      "Discarded 0 Keep 36\n",
      "Searching tmdb - [{'terms': {'_id': [ [Status: 200]\n",
      "Discarded 0 Keep 32\n",
      "Searching tmdb - [{'terms': {'_id': [ [Status: 200]\n",
      "Discarded 0 Keep 30\n"
     ]
    }
   ],
   "source": [
    "from ltr.log import FeatureLogger\n",
    "from ltr.judgments import judgments_open\n",
    "from itertools import groupby\n",
    "\n",
    "ftr_logger=FeatureLogger(client, index='tmdb', feature_set='title_rf')\n",
    "with judgments_open('data/title_judgments.txt') as judgment_list:\n",
    "    for qid, query_judgments in groupby(judgment_list, key=lambda j: j.qid):\n",
    "        ftr_logger.log_for_qid(judgments=query_judgments, \n",
    "                               qid=qid,\n",
    "                               keywords=judgment_list.keywords(qid))"
   ]
  },
  {
   "cell_type": "markdown",
   "metadata": {},
   "source": [
    "# Random Feature Selections\n",
    "\n",
    "Feature searches are very time consuming for anything other than trivial data. To deal with feature dependencies, one strategy is to select a random subset of features at every decision tree split for consideration. This prevents overfitting and allows feature impacts to give a more accurate impact to how they effect the relevance."
   ]
  },
  {
   "cell_type": "code",
   "execution_count": 4,
   "metadata": {},
   "outputs": [
    {
     "name": "stdout",
     "output_type": "stream",
     "text": [
      "/var/folders/vc/thmh159x5xddb6_cgtx778sc0000gn/T/RankyMcRankFace.jar already exists\n",
      "Running java -jar /var/folders/vc/thmh159x5xddb6_cgtx778sc0000gn/T/RankyMcRankFace.jar -ranker 8 -shrinkage 0.1 -metric2t NDCG@10 -tree 100 -bag 1 -leaf 4 -frate 0.5 -srate 1.0 -train /var/folders/vc/thmh159x5xddb6_cgtx778sc0000gn/T/training.txt -save data/title_rf_model.txt  -feature /var/folders/vc/thmh159x5xddb6_cgtx778sc0000gn/T/features.txt -kcv 5 \n",
      "DONE\n",
      "Done\n",
      "\n",
      "Impact of each feature on the model\n",
      "6 - 55.459054007162116\n",
      "1 - 0.6696497287519952\n",
      "3 - 0.6215777218233425\n",
      "8 - 0.2913343317370874\n",
      "4 - 0.05763029535304929\n",
      "9 - 0.014599444035353555\n",
      "7 - 0.005923134353128978\n",
      "5 - 0.0057300008408985754\n",
      "2 - 0.0001036987107589217\n",
      "Test NDCG@10 0.909\n"
     ]
    }
   ],
   "source": [
    "from ltr.ranklib import train\n",
    "res  = train(client,\n",
    "            training_set=ftr_logger.logged,\n",
    "            metric2t='NDCG@10',\n",
    "            leafs=4,\n",
    "            trees=100,\n",
    "            ranker=8, # Use a \"Random Forests Model\"\n",
    "            frate=0.5,\n",
    "            bag=1, # Number of ensembles in the forest bag=1, 1 LambdaMART model with random features chosen\n",
    "            index='tmdb',\n",
    "            kcv=5,\n",
    "            features=[1,2,3,4,5,6,7,8,9],\n",
    "            featureSet='title_rf',\n",
    "            modelName='title_rf')\n",
    "\n",
    "print()\n",
    "print(\"Impact of each feature on the model\")\n",
    "for ftrId, impact in res.trainingLogs[0].impacts.items():\n",
    "    print(\"{} - {}\".format(ftrId, impact))\n",
    "    \n",
    "    \n",
    "print(\"Test NDCG@10 %s\" % res.kcvTestAvg)"
   ]
  },
  {
   "cell_type": "markdown",
   "metadata": {},
   "source": [
    "# Train the model"
   ]
  },
  {
   "cell_type": "code",
   "execution_count": 5,
   "metadata": {},
   "outputs": [
    {
     "name": "stdout",
     "output_type": "stream",
     "text": [
      "/var/folders/vc/thmh159x5xddb6_cgtx778sc0000gn/T/RankyMcRankFace.jar already exists\n",
      "Running java -jar /var/folders/vc/thmh159x5xddb6_cgtx778sc0000gn/T/RankyMcRankFace.jar -ranker 8 -shrinkage 0.1 -metric2t NDCG@10 -tree 100 -bag 3 -leaf 4 -frate 0.5 -srate 1.0 -train /var/folders/vc/thmh159x5xddb6_cgtx778sc0000gn/T/training.txt -save data/title_rf_model.txt  -feature /var/folders/vc/thmh159x5xddb6_cgtx778sc0000gn/T/features.txt\n",
      "DONE\n",
      "Delete model title_rf: 404\n",
      "Created Model title_rf [Status: 201]\n",
      "Done\n"
     ]
    }
   ],
   "source": [
    "from ltr.ranklib import train\n",
    "res  = train(client,\n",
    "             training_set=ftr_logger.logged,\n",
    "             metric2t='NDCG@10',\n",
    "             leafs=4,\n",
    "             trees=100,\n",
    "             ranker=8, # Use a \"Random Forests Model\"\n",
    "             frate=0.5,\n",
    "             bag=3, # Number of ensembles in the forest bag=1, 1 LambdaMART model with random features chosen\n",
    "             index='tmdb',\n",
    "             features=[1,2,3,4,5,6,7,8,9],\n",
    "             featureSet='title_rf',\n",
    "             modelName='title_rf')"
   ]
  },
  {
   "cell_type": "code",
   "execution_count": null,
   "metadata": {},
   "outputs": [],
   "source": []
  }
 ],
 "metadata": {
  "kernelspec": {
   "display_name": "Python 3",
   "language": "python",
   "name": "python3"
  },
  "language_info": {
   "codemirror_mode": {
    "name": "ipython",
    "version": 3
   },
   "file_extension": ".py",
   "mimetype": "text/x-python",
   "name": "python",
   "nbconvert_exporter": "python",
   "pygments_lexer": "ipython3",
   "version": "3.7.6"
  }
 },
 "nbformat": 4,
 "nbformat_minor": 2
}
