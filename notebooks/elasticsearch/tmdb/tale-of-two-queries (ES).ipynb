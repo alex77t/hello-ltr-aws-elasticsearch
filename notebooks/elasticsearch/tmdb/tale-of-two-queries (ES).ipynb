{
 "cells": [
  {
   "cell_type": "markdown",
   "metadata": {},
   "source": [
    "# Basics & Prereqs (run once)\n",
    "\n",
    "If you don't already have the downloaded dependencies; if you don't have TheMovieDB data indexed run this"
   ]
  },
  {
   "cell_type": "code",
   "execution_count": 1,
   "metadata": {},
   "outputs": [
    {
     "name": "stdout",
     "output_type": "stream",
     "text": [
      "data/tmdb.json already exists\n",
      "Reconfig from disk...\n",
      "Deleted index tmdb [Status: 200]\n",
      "Created index tmdb [Status: 200]\n",
      "Reindexing...\n"
     ]
    },
    {
     "name": "stderr",
     "output_type": "stream",
     "text": [
      "  0%|          | 101/27846 [00:00<00:48, 572.57it/s]"
     ]
    },
    {
     "name": "stdout",
     "output_type": "stream",
     "text": [
      "Indexed 0 movies (last Black Mirror: White Christmas)\n",
      "Indexed 100 movies (last Apocalypse Now)\n"
     ]
    },
    {
     "name": "stderr",
     "output_type": "stream",
     "text": [
      "  1%|          | 301/27846 [00:00<00:44, 618.29it/s]"
     ]
    },
    {
     "name": "stdout",
     "output_type": "stream",
     "text": [
      "Indexed 200 movies (last Crooks in Clover)\n",
      "Indexed 300 movies (last For a Few Dollars More)\n"
     ]
    },
    {
     "name": "stderr",
     "output_type": "stream",
     "text": [
      "  2%|▏         | 501/27846 [00:00<00:41, 664.70it/s]"
     ]
    },
    {
     "name": "stdout",
     "output_type": "stream",
     "text": [
      "Indexed 400 movies (last Downfall)\n",
      "Indexed 500 movies (last Finding Nemo)\n"
     ]
    },
    {
     "name": "stderr",
     "output_type": "stream",
     "text": [
      "  3%|▎         | 701/27846 [00:01<00:41, 659.02it/s]"
     ]
    },
    {
     "name": "stdout",
     "output_type": "stream",
     "text": [
      "Indexed 600 movies (last Platoon)\n",
      "Indexed 700 movies (last Night of the Living Dead)\n"
     ]
    },
    {
     "name": "stderr",
     "output_type": "stream",
     "text": [
      "\r",
      "  3%|▎         | 801/27846 [00:01<00:40, 668.65it/s]"
     ]
    },
    {
     "name": "stdout",
     "output_type": "stream",
     "text": [
      "Indexed 800 movies (last Evangelion: 1.0: You Are (Not) Alone)\n"
     ]
    },
    {
     "name": "stderr",
     "output_type": "stream",
     "text": [
      "  4%|▎         | 1001/27846 [00:01<00:43, 613.63it/s]"
     ]
    },
    {
     "name": "stdout",
     "output_type": "stream",
     "text": [
      "Indexed 900 movies (last Batman: Assault on Arkham)\n",
      "Indexed 1000 movies (last Riley's First Date?)\n"
     ]
    },
    {
     "name": "stderr",
     "output_type": "stream",
     "text": [
      "  4%|▍         | 1201/27846 [00:01<00:41, 643.46it/s]"
     ]
    },
    {
     "name": "stdout",
     "output_type": "stream",
     "text": [
      "Indexed 1100 movies (last The Raid)\n",
      "Indexed 1200 movies (last Falling Down)\n"
     ]
    },
    {
     "name": "stderr",
     "output_type": "stream",
     "text": [
      "  5%|▌         | 1401/27846 [00:02<00:42, 624.69it/s]"
     ]
    },
    {
     "name": "stdout",
     "output_type": "stream",
     "text": [
      "Indexed 1300 movies (last Kal Ho Naa Ho)\n",
      "Indexed 1400 movies (last Elizabeth)\n"
     ]
    },
    {
     "name": "stderr",
     "output_type": "stream",
     "text": [
      "  6%|▌         | 1601/27846 [00:02<00:40, 646.25it/s]"
     ]
    },
    {
     "name": "stdout",
     "output_type": "stream",
     "text": [
      "Indexed 1500 movies (last Irreversible)\n",
      "Indexed 1600 movies (last Friday Night Lights)\n"
     ]
    },
    {
     "name": "stderr",
     "output_type": "stream",
     "text": [
      "  6%|▋         | 1801/27846 [00:02<00:37, 697.13it/s]"
     ]
    },
    {
     "name": "stdout",
     "output_type": "stream",
     "text": [
      "Indexed 1700 movies (last Ben X)\n",
      "Indexed 1800 movies (last Pump up the Volume)\n"
     ]
    },
    {
     "name": "stderr",
     "output_type": "stream",
     "text": [
      "  7%|▋         | 2001/27846 [00:03<00:37, 694.13it/s]"
     ]
    },
    {
     "name": "stdout",
     "output_type": "stream",
     "text": [
      "Indexed 1900 movies (last Armour of God)\n",
      "Indexed 2000 movies (last Swingers)\n"
     ]
    },
    {
     "name": "stderr",
     "output_type": "stream",
     "text": [
      "  8%|▊         | 2201/27846 [00:03<00:37, 687.89it/s]"
     ]
    },
    {
     "name": "stdout",
     "output_type": "stream",
     "text": [
      "Indexed 2100 movies (last The Guard)\n",
      "Indexed 2200 movies (last Win Win)\n"
     ]
    },
    {
     "name": "stderr",
     "output_type": "stream",
     "text": [
      "  9%|▊         | 2401/27846 [00:03<00:37, 674.36it/s]"
     ]
    },
    {
     "name": "stdout",
     "output_type": "stream",
     "text": [
      "Indexed 2300 movies (last Where the Heart Is)\n",
      "Indexed 2400 movies (last UHF)\n"
     ]
    },
    {
     "name": "stderr",
     "output_type": "stream",
     "text": [
      "  9%|▉         | 2601/27846 [00:03<00:37, 669.24it/s]"
     ]
    },
    {
     "name": "stdout",
     "output_type": "stream",
     "text": [
      "Indexed 2500 movies (last Jerry Maguire)\n",
      "Indexed 2600 movies (last Cloud Atlas)\n"
     ]
    },
    {
     "name": "stderr",
     "output_type": "stream",
     "text": [
      " 10%|█         | 2801/27846 [00:04<00:36, 687.18it/s]"
     ]
    },
    {
     "name": "stdout",
     "output_type": "stream",
     "text": [
      "Indexed 2700 movies (last Rango)\n",
      "Indexed 2800 movies (last Rosewater)\n"
     ]
    },
    {
     "name": "stderr",
     "output_type": "stream",
     "text": [
      " 11%|█         | 3001/27846 [00:04<00:36, 685.11it/s]"
     ]
    },
    {
     "name": "stdout",
     "output_type": "stream",
     "text": [
      "Indexed 2900 movies (last Kalifornia)\n",
      "Indexed 3000 movies (last Bad Santa)\n"
     ]
    },
    {
     "name": "stderr",
     "output_type": "stream",
     "text": [
      " 11%|█▏        | 3201/27846 [00:04<00:37, 666.04it/s]"
     ]
    },
    {
     "name": "stdout",
     "output_type": "stream",
     "text": [
      "Indexed 3100 movies (last Defendor)\n",
      "Indexed 3200 movies (last The Pirates! Band of Misfits)\n"
     ]
    },
    {
     "name": "stderr",
     "output_type": "stream",
     "text": [
      " 12%|█▏        | 3401/27846 [00:05<00:36, 673.46it/s]"
     ]
    },
    {
     "name": "stdout",
     "output_type": "stream",
     "text": [
      "Indexed 3300 movies (last Sister Act)\n",
      "Indexed 3400 movies (last Live and Let Die)\n"
     ]
    },
    {
     "name": "stderr",
     "output_type": "stream",
     "text": [
      " 13%|█▎        | 3601/27846 [00:05<00:36, 673.27it/s]"
     ]
    },
    {
     "name": "stdout",
     "output_type": "stream",
     "text": [
      "Indexed 3500 movies (last Hours)\n",
      "Indexed 3600 movies (last Monsters)\n"
     ]
    },
    {
     "name": "stderr",
     "output_type": "stream",
     "text": [
      " 14%|█▎        | 3801/27846 [00:05<00:36, 665.95it/s]"
     ]
    },
    {
     "name": "stdout",
     "output_type": "stream",
     "text": [
      "Indexed 3700 movies (last MouseHunt)\n",
      "Indexed 3800 movies (last Olympus Has Fallen)\n"
     ]
    },
    {
     "name": "stderr",
     "output_type": "stream",
     "text": [
      " 14%|█▍        | 4001/27846 [00:05<00:33, 707.20it/s]"
     ]
    },
    {
     "name": "stdout",
     "output_type": "stream",
     "text": [
      "Indexed 3900 movies (last Godzilla)\n",
      "Indexed 4000 movies (last Arbitrage)\n"
     ]
    },
    {
     "name": "stderr",
     "output_type": "stream",
     "text": [
      " 15%|█▌        | 4201/27846 [00:06<00:34, 693.09it/s]"
     ]
    },
    {
     "name": "stdout",
     "output_type": "stream",
     "text": [
      "Indexed 4100 movies (last Under Siege)\n",
      "Indexed 4200 movies (last Underdogs)\n"
     ]
    },
    {
     "name": "stderr",
     "output_type": "stream",
     "text": [
      " 16%|█▌        | 4401/27846 [00:06<00:34, 687.02it/s]"
     ]
    },
    {
     "name": "stdout",
     "output_type": "stream",
     "text": [
      "Indexed 4300 movies (last The Duke of Burgundy)\n",
      "Indexed 4400 movies (last Bambi II)\n"
     ]
    },
    {
     "name": "stderr",
     "output_type": "stream",
     "text": [
      " 17%|█▋        | 4601/27846 [00:06<00:34, 670.84it/s]"
     ]
    },
    {
     "name": "stdout",
     "output_type": "stream",
     "text": [
      "Indexed 4500 movies (last Solaris)\n",
      "Indexed 4600 movies (last The Stuff)\n"
     ]
    },
    {
     "name": "stderr",
     "output_type": "stream",
     "text": [
      " 17%|█▋        | 4801/27846 [00:07<00:34, 671.88it/s]"
     ]
    },
    {
     "name": "stdout",
     "output_type": "stream",
     "text": [
      "Indexed 4700 movies (last Tales from the Darkside: The Movie)\n",
      "Indexed 4800 movies (last Final Fantasy: The Spirits Within)\n"
     ]
    },
    {
     "name": "stderr",
     "output_type": "stream",
     "text": [
      " 18%|█▊        | 5001/27846 [00:07<00:32, 710.35it/s]"
     ]
    },
    {
     "name": "stdout",
     "output_type": "stream",
     "text": [
      "Indexed 4900 movies (last The Back-Up Plan)\n",
      "Indexed 5000 movies (last Absolutely Anything)\n"
     ]
    },
    {
     "name": "stderr",
     "output_type": "stream",
     "text": [
      " 19%|█▊        | 5201/27846 [00:07<00:32, 705.08it/s]"
     ]
    },
    {
     "name": "stdout",
     "output_type": "stream",
     "text": [
      "Indexed 5100 movies (last Funny People)\n",
      "Indexed 5200 movies (last Tad, the Lost Explorer)\n"
     ]
    },
    {
     "name": "stderr",
     "output_type": "stream",
     "text": [
      " 19%|█▉        | 5401/27846 [00:08<00:32, 697.07it/s]"
     ]
    },
    {
     "name": "stdout",
     "output_type": "stream",
     "text": [
      "Indexed 5300 movies (last Fiston)\n",
      "Indexed 5400 movies (last The Reaping)\n"
     ]
    },
    {
     "name": "stderr",
     "output_type": "stream",
     "text": [
      " 20%|██        | 5601/27846 [00:08<00:31, 702.41it/s]"
     ]
    },
    {
     "name": "stdout",
     "output_type": "stream",
     "text": [
      "Indexed 5500 movies (last American Pie Presents: Beta House)\n",
      "Indexed 5600 movies (last Casino Royale)\n"
     ]
    },
    {
     "name": "stderr",
     "output_type": "stream",
     "text": [
      " 21%|██        | 5801/27846 [00:08<00:31, 707.99it/s]"
     ]
    },
    {
     "name": "stdout",
     "output_type": "stream",
     "text": [
      "Indexed 5700 movies (last Jennifer's Body)\n",
      "Indexed 5800 movies (last Caligula)\n"
     ]
    },
    {
     "name": "stderr",
     "output_type": "stream",
     "text": [
      " 22%|██▏       | 6001/27846 [00:08<00:29, 728.34it/s]"
     ]
    },
    {
     "name": "stdout",
     "output_type": "stream",
     "text": [
      "Indexed 5900 movies (last Alex Cross)\n",
      "Indexed 6000 movies (last Rapture Palooza)\n"
     ]
    },
    {
     "name": "stderr",
     "output_type": "stream",
     "text": [
      " 22%|██▏       | 6201/27846 [00:09<00:28, 756.22it/s]"
     ]
    },
    {
     "name": "stdout",
     "output_type": "stream",
     "text": [
      "Indexed 6100 movies (last The Seeker: The Dark Is Rising)\n",
      "Indexed 6200 movies (last Boogeyman)\n"
     ]
    },
    {
     "name": "stderr",
     "output_type": "stream",
     "text": [
      " 23%|██▎       | 6401/27846 [00:09<00:28, 740.00it/s]"
     ]
    },
    {
     "name": "stdout",
     "output_type": "stream",
     "text": [
      "Indexed 6300 movies (last Fifty Shades of Black)\n",
      "Indexed 6400 movies (last Wilbur Wants to Kill Himself)\n"
     ]
    },
    {
     "name": "stderr",
     "output_type": "stream",
     "text": [
      " 24%|██▎       | 6601/27846 [00:09<00:27, 785.10it/s]"
     ]
    },
    {
     "name": "stdout",
     "output_type": "stream",
     "text": [
      "Indexed 6500 movies (last A Cruel Romance)\n",
      "Indexed 6600 movies (last La discrète)\n"
     ]
    },
    {
     "name": "stderr",
     "output_type": "stream",
     "text": [
      " 24%|██▍       | 6801/27846 [00:09<00:25, 810.65it/s]"
     ]
    },
    {
     "name": "stdout",
     "output_type": "stream",
     "text": [
      "Indexed 6700 movies (last The Rapture)\n",
      "Indexed 6800 movies (last Ricky Gervais Live 3: Fame)\n"
     ]
    },
    {
     "name": "stderr",
     "output_type": "stream",
     "text": [
      " 25%|██▌       | 7004/27846 [00:10<00:25, 816.85it/s]"
     ]
    },
    {
     "name": "stdout",
     "output_type": "stream",
     "text": [
      "Indexed 6900 movies (last Bunny Lake Is Missing)\n",
      "Indexed 7000 movies (last Alice in the Cities)\n"
     ]
    },
    {
     "name": "stderr",
     "output_type": "stream",
     "text": [
      " 26%|██▌       | 7204/27846 [00:10<00:26, 781.07it/s]"
     ]
    },
    {
     "name": "stdout",
     "output_type": "stream",
     "text": [
      "Indexed 7100 movies (last Le pélican)\n",
      "Indexed 7200 movies (last 20,000 Leagues Under the Sea)\n"
     ]
    },
    {
     "name": "stderr",
     "output_type": "stream",
     "text": [
      " 27%|██▋       | 7406/27846 [00:10<00:24, 822.11it/s]"
     ]
    },
    {
     "name": "stdout",
     "output_type": "stream",
     "text": [
      "Indexed 7300 movies (last Deuces Wild)\n",
      "Indexed 7400 movies (last Lost Horizon)\n"
     ]
    },
    {
     "name": "stderr",
     "output_type": "stream",
     "text": [
      " 27%|██▋       | 7610/27846 [00:10<00:24, 809.60it/s]"
     ]
    },
    {
     "name": "stdout",
     "output_type": "stream",
     "text": [
      "Indexed 7500 movies (last The Detective 2)\n",
      "Indexed 7600 movies (last Absolute Aggression)\n"
     ]
    },
    {
     "name": "stderr",
     "output_type": "stream",
     "text": [
      " 28%|██▊       | 7810/27846 [00:11<00:24, 804.86it/s]"
     ]
    },
    {
     "name": "stdout",
     "output_type": "stream",
     "text": [
      "Indexed 7700 movies (last A Fairly Odd Movie: Grow Up, Timmy Turner!)\n",
      "Indexed 7800 movies (last How Much Do You Love Me?)\n"
     ]
    },
    {
     "name": "stderr",
     "output_type": "stream",
     "text": [
      " 29%|██▉       | 8010/27846 [00:11<00:23, 847.76it/s]"
     ]
    },
    {
     "name": "stdout",
     "output_type": "stream",
     "text": [
      "Indexed 7900 movies (last The Snows of Kilimanjaro)\n",
      "Indexed 8000 movies (last The Wrong Guys)\n"
     ]
    },
    {
     "name": "stderr",
     "output_type": "stream",
     "text": [
      " 29%|██▉       | 8211/27846 [00:11<00:23, 827.29it/s]"
     ]
    },
    {
     "name": "stdout",
     "output_type": "stream",
     "text": [
      "Indexed 8100 movies (last BFFs)\n",
      "Indexed 8200 movies (last Foreverland)\n"
     ]
    },
    {
     "name": "stderr",
     "output_type": "stream",
     "text": [
      " 30%|███       | 8411/27846 [00:11<00:23, 829.03it/s]"
     ]
    },
    {
     "name": "stdout",
     "output_type": "stream",
     "text": [
      "Indexed 8300 movies (last Rebellion)\n",
      "Indexed 8400 movies (last Air Crew)\n"
     ]
    },
    {
     "name": "stderr",
     "output_type": "stream",
     "text": [
      " 31%|███       | 8611/27846 [00:12<00:22, 860.67it/s]"
     ]
    },
    {
     "name": "stdout",
     "output_type": "stream",
     "text": [
      "Indexed 8500 movies (last Down in the Valley)\n",
      "Indexed 8600 movies (last Female Agents)\n"
     ]
    },
    {
     "name": "stderr",
     "output_type": "stream",
     "text": [
      " 32%|███▏      | 8814/27846 [00:12<00:22, 856.47it/s]"
     ]
    },
    {
     "name": "stdout",
     "output_type": "stream",
     "text": [
      "Indexed 8700 movies (last Come Dance with Me!)\n",
      "Indexed 8800 movies (last Versailles)\n"
     ]
    },
    {
     "name": "stderr",
     "output_type": "stream",
     "text": [
      " 32%|███▏      | 9015/27846 [00:12<00:21, 891.16it/s]"
     ]
    },
    {
     "name": "stdout",
     "output_type": "stream",
     "text": [
      "Indexed 8900 movies (last Girls on Top)\n",
      "Indexed 9000 movies (last Voll Normaaal)\n"
     ]
    },
    {
     "name": "stderr",
     "output_type": "stream",
     "text": [
      " 33%|███▎      | 9215/27846 [00:12<00:22, 834.18it/s]"
     ]
    },
    {
     "name": "stdout",
     "output_type": "stream",
     "text": [
      "Indexed 9100 movies (last Unrated II: Scary as Hell)\n",
      "Indexed 9200 movies (last The Flight of the Phoenix)\n"
     ]
    },
    {
     "name": "stderr",
     "output_type": "stream",
     "text": [
      " 34%|███▍      | 9416/27846 [00:13<00:23, 795.96it/s]"
     ]
    },
    {
     "name": "stdout",
     "output_type": "stream",
     "text": [
      "Indexed 9300 movies (last DragonHeart: A New Beginning)\n",
      "Indexed 9400 movies (last Empire of the Wolves)\n"
     ]
    },
    {
     "name": "stderr",
     "output_type": "stream",
     "text": [
      " 35%|███▍      | 9616/27846 [00:13<00:22, 795.49it/s]"
     ]
    },
    {
     "name": "stdout",
     "output_type": "stream",
     "text": [
      "Indexed 9500 movies (last Searching for Debra Winger)\n",
      "Indexed 9600 movies (last Swimming Pool)\n"
     ]
    },
    {
     "name": "stderr",
     "output_type": "stream",
     "text": [
      " 35%|███▌      | 9817/27846 [00:13<00:21, 821.57it/s]"
     ]
    },
    {
     "name": "stdout",
     "output_type": "stream",
     "text": [
      "Indexed 9700 movies (last Bomber)\n",
      "Indexed 9800 movies (last Bullet in the Head)\n"
     ]
    },
    {
     "name": "stderr",
     "output_type": "stream",
     "text": [
      " 36%|███▌      | 10017/27846 [00:13<00:22, 797.83it/s]"
     ]
    },
    {
     "name": "stdout",
     "output_type": "stream",
     "text": [
      "Indexed 9900 movies (last Club Fed)\n",
      "Indexed 10000 movies (last Titus)\n"
     ]
    },
    {
     "name": "stderr",
     "output_type": "stream",
     "text": [
      " 37%|███▋      | 10217/27846 [00:14<00:21, 823.28it/s]"
     ]
    },
    {
     "name": "stdout",
     "output_type": "stream",
     "text": [
      "Indexed 10100 movies (last Revolution)\n",
      "Indexed 10200 movies (last The Last Dispatch)\n"
     ]
    },
    {
     "name": "stderr",
     "output_type": "stream",
     "text": [
      " 37%|███▋      | 10419/27846 [00:14<00:20, 844.08it/s]"
     ]
    },
    {
     "name": "stdout",
     "output_type": "stream",
     "text": [
      "Indexed 10300 movies (last Wings of Courage)\n",
      "Indexed 10400 movies (last Gaslight)\n"
     ]
    },
    {
     "name": "stderr",
     "output_type": "stream",
     "text": [
      " 38%|███▊      | 10620/27846 [00:14<00:21, 797.62it/s]"
     ]
    },
    {
     "name": "stdout",
     "output_type": "stream",
     "text": [
      "Indexed 10500 movies (last Frenchmen 2)\n",
      "Indexed 10600 movies (last Closing the Ring)\n"
     ]
    },
    {
     "name": "stderr",
     "output_type": "stream",
     "text": [
      " 39%|███▉      | 10820/27846 [00:14<00:20, 814.54it/s]"
     ]
    },
    {
     "name": "stdout",
     "output_type": "stream",
     "text": [
      "Indexed 10700 movies (last 3:10 to Yuma)\n",
      "Indexed 10800 movies (last Harvest)\n"
     ]
    },
    {
     "name": "stderr",
     "output_type": "stream",
     "text": [
      " 40%|███▉      | 11021/27846 [00:14<00:20, 829.30it/s]"
     ]
    },
    {
     "name": "stdout",
     "output_type": "stream",
     "text": [
      "Indexed 10900 movies (last Song of the Thin Man)\n",
      "Indexed 11000 movies (last Nobody Knows Anything!)\n"
     ]
    },
    {
     "name": "stderr",
     "output_type": "stream",
     "text": [
      " 40%|████      | 11223/27846 [00:15<00:20, 829.96it/s]"
     ]
    },
    {
     "name": "stdout",
     "output_type": "stream",
     "text": [
      "Indexed 11100 movies (last Dirty Deeds)\n",
      "Indexed 11200 movies (last The Adventure of Faustus Bidgood)\n"
     ]
    },
    {
     "name": "stderr",
     "output_type": "stream",
     "text": [
      " 41%|████      | 11426/27846 [00:15<00:19, 838.31it/s]"
     ]
    },
    {
     "name": "stdout",
     "output_type": "stream",
     "text": [
      "Indexed 11300 movies (last Running Time)\n",
      "Indexed 11400 movies (last While She Was Out)\n"
     ]
    },
    {
     "name": "stderr",
     "output_type": "stream",
     "text": [
      " 42%|████▏     | 11626/27846 [00:15<00:20, 805.95it/s]"
     ]
    },
    {
     "name": "stdout",
     "output_type": "stream",
     "text": [
      "Indexed 11500 movies (last What?)\n",
      "Indexed 11600 movies (last The Legend of Hell House)\n"
     ]
    },
    {
     "name": "stderr",
     "output_type": "stream",
     "text": [
      " 42%|████▏     | 11826/27846 [00:15<00:18, 861.58it/s]"
     ]
    },
    {
     "name": "stdout",
     "output_type": "stream",
     "text": [
      "Indexed 11700 movies (last When Worlds Collide)\n",
      "Indexed 11800 movies (last The Girl in the Red Velvet Swing)\n"
     ]
    },
    {
     "name": "stderr",
     "output_type": "stream",
     "text": [
      " 43%|████▎     | 12028/27846 [00:16<00:18, 848.30it/s]"
     ]
    },
    {
     "name": "stdout",
     "output_type": "stream",
     "text": [
      "Indexed 11900 movies (last 9 Souls)\n",
      "Indexed 12000 movies (last Paradise Lost 2: Revelations)\n"
     ]
    },
    {
     "name": "stderr",
     "output_type": "stream",
     "text": [
      " 44%|████▍     | 12228/27846 [00:16<00:18, 848.81it/s]"
     ]
    },
    {
     "name": "stdout",
     "output_type": "stream",
     "text": [
      "Indexed 12100 movies (last Riki-Oh: The Story of Ricky)\n",
      "Indexed 12200 movies (last In Vogue: The Editor’s Eye)\n"
     ]
    },
    {
     "name": "stderr",
     "output_type": "stream",
     "text": [
      " 45%|████▍     | 12429/27846 [00:16<00:19, 805.44it/s]"
     ]
    },
    {
     "name": "stdout",
     "output_type": "stream",
     "text": [
      "Indexed 12300 movies (last Smart Money)\n",
      "Indexed 12400 movies (last Manda Bala (Send a Bullet))\n"
     ]
    },
    {
     "name": "stderr",
     "output_type": "stream",
     "text": [
      " 45%|████▌     | 12630/27846 [00:16<00:18, 835.92it/s]"
     ]
    },
    {
     "name": "stdout",
     "output_type": "stream",
     "text": [
      "Indexed 12500 movies (last Something to Talk About)\n",
      "Indexed 12600 movies (last Donald Glover: Weirdo)\n"
     ]
    },
    {
     "name": "stderr",
     "output_type": "stream",
     "text": [
      " 46%|████▌     | 12830/27846 [00:17<00:18, 827.28it/s]"
     ]
    },
    {
     "name": "stdout",
     "output_type": "stream",
     "text": [
      "Indexed 12700 movies (last Demon Seed)\n",
      "Indexed 12800 movies (last Zig Zag)\n"
     ]
    },
    {
     "name": "stderr",
     "output_type": "stream",
     "text": [
      " 47%|████▋     | 13032/27846 [00:17<00:17, 845.08it/s]"
     ]
    },
    {
     "name": "stdout",
     "output_type": "stream",
     "text": [
      "Indexed 12900 movies (last Going Overboard)\n",
      "Indexed 13000 movies (last Mahler)\n"
     ]
    },
    {
     "name": "stderr",
     "output_type": "stream",
     "text": [
      " 48%|████▊     | 13232/27846 [00:17<00:17, 844.87it/s]"
     ]
    },
    {
     "name": "stdout",
     "output_type": "stream",
     "text": [
      "Indexed 13100 movies (last Carriage to Vienna)\n",
      "Indexed 13200 movies (last The Big Clock)\n"
     ]
    },
    {
     "name": "stderr",
     "output_type": "stream",
     "text": [
      " 48%|████▊     | 13433/27846 [00:17<00:16, 882.16it/s]"
     ]
    },
    {
     "name": "stdout",
     "output_type": "stream",
     "text": [
      "Indexed 13300 movies (last Arsenal)\n",
      "Indexed 13400 movies (last First Descent)\n"
     ]
    },
    {
     "name": "stderr",
     "output_type": "stream",
     "text": [
      " 49%|████▉     | 13634/27846 [00:18<00:16, 870.36it/s]"
     ]
    },
    {
     "name": "stdout",
     "output_type": "stream",
     "text": [
      "Indexed 13500 movies (last Deep Cover)\n",
      "Indexed 13600 movies (last Mixed Blood)\n"
     ]
    },
    {
     "name": "stderr",
     "output_type": "stream",
     "text": [
      " 50%|████▉     | 13834/27846 [00:18<00:17, 818.13it/s]"
     ]
    },
    {
     "name": "stdout",
     "output_type": "stream",
     "text": [
      "Indexed 13700 movies (last Red Psalm)\n",
      "Indexed 13800 movies (last Bad Biology)\n"
     ]
    },
    {
     "name": "stderr",
     "output_type": "stream",
     "text": [
      " 50%|█████     | 14035/27846 [00:18<00:17, 795.98it/s]"
     ]
    },
    {
     "name": "stdout",
     "output_type": "stream",
     "text": [
      "Indexed 13900 movies (last Shirin)\n",
      "Indexed 14000 movies (last Rhyme & Reason)\n"
     ]
    },
    {
     "name": "stderr",
     "output_type": "stream",
     "text": [
      " 51%|█████     | 14235/27846 [00:18<00:16, 809.27it/s]"
     ]
    },
    {
     "name": "stdout",
     "output_type": "stream",
     "text": [
      "Indexed 14100 movies (last Tuareg: Desert Warrior)\n",
      "Indexed 14200 movies (last Havoc)\n"
     ]
    },
    {
     "name": "stderr",
     "output_type": "stream",
     "text": [
      " 52%|█████▏    | 14435/27846 [00:19<00:16, 790.39it/s]"
     ]
    },
    {
     "name": "stdout",
     "output_type": "stream",
     "text": [
      "Indexed 14300 movies (last Fire Over England)\n",
      "Indexed 14400 movies (last Impulse)\n"
     ]
    },
    {
     "name": "stderr",
     "output_type": "stream",
     "text": [
      " 53%|█████▎    | 14635/27846 [00:19<00:15, 843.46it/s]"
     ]
    },
    {
     "name": "stdout",
     "output_type": "stream",
     "text": [
      "Indexed 14500 movies (last Cheers For Miss Bishop)\n",
      "Indexed 14600 movies (last Don't Bother to Knock)\n"
     ]
    },
    {
     "name": "stderr",
     "output_type": "stream",
     "text": [
      " 53%|█████▎    | 14837/27846 [00:19<00:15, 857.66it/s]"
     ]
    },
    {
     "name": "stdout",
     "output_type": "stream",
     "text": [
      "Indexed 14700 movies (last Brides)\n",
      "Indexed 14800 movies (last The Land Before Time XI: Invasion of the Tinysauruses)\n"
     ]
    },
    {
     "name": "stderr",
     "output_type": "stream",
     "text": [
      " 54%|█████▍    | 15037/27846 [00:19<00:15, 845.64it/s]"
     ]
    },
    {
     "name": "stdout",
     "output_type": "stream",
     "text": [
      "Indexed 14900 movies (last The Gnome-Mobile)\n",
      "Indexed 15000 movies (last Miracles: Mr. Canton and Lady Rose)\n"
     ]
    },
    {
     "name": "stderr",
     "output_type": "stream",
     "text": [
      " 55%|█████▍    | 15237/27846 [00:20<00:15, 801.61it/s]"
     ]
    },
    {
     "name": "stdout",
     "output_type": "stream",
     "text": [
      "Indexed 15100 movies (last An Occurrence at Owl Creek Bridge)\n",
      "Indexed 15200 movies (last 16 to Life)\n"
     ]
    },
    {
     "name": "stderr",
     "output_type": "stream",
     "text": [
      " 55%|█████▌    | 15438/27846 [00:20<00:14, 835.97it/s]"
     ]
    },
    {
     "name": "stdout",
     "output_type": "stream",
     "text": [
      "Indexed 15300 movies (last Week-End at the Waldorf)\n",
      "Indexed 15400 movies (last Made in Hong Kong)\n"
     ]
    },
    {
     "name": "stderr",
     "output_type": "stream",
     "text": [
      " 56%|█████▌    | 15638/27846 [00:20<00:14, 844.17it/s]"
     ]
    },
    {
     "name": "stdout",
     "output_type": "stream",
     "text": [
      "Indexed 15500 movies (last Viva Cuba)\n",
      "Indexed 15600 movies (last Big Pun: The Legacy)\n"
     ]
    },
    {
     "name": "stderr",
     "output_type": "stream",
     "text": [
      " 57%|█████▋    | 15838/27846 [00:20<00:13, 864.77it/s]"
     ]
    },
    {
     "name": "stdout",
     "output_type": "stream",
     "text": [
      "Indexed 15700 movies (last Hurt)\n",
      "Indexed 15800 movies (last The Mudge Boy)\n"
     ]
    },
    {
     "name": "stderr",
     "output_type": "stream",
     "text": [
      " 58%|█████▊    | 16039/27846 [00:20<00:13, 865.45it/s]"
     ]
    },
    {
     "name": "stdout",
     "output_type": "stream",
     "text": [
      "Indexed 15900 movies (last The Hollywood Complex)\n",
      "Indexed 16000 movies (last The Great Northfield Minnesota Raid)\n"
     ]
    },
    {
     "name": "stderr",
     "output_type": "stream",
     "text": [
      " 58%|█████▊    | 16240/27846 [00:21<00:13, 880.06it/s]"
     ]
    },
    {
     "name": "stdout",
     "output_type": "stream",
     "text": [
      "Indexed 16100 movies (last Lotta Leaves Home)\n",
      "Indexed 16200 movies (last Just One of the Girls)\n"
     ]
    },
    {
     "name": "stderr",
     "output_type": "stream",
     "text": [
      " 59%|█████▉    | 16440/27846 [00:21<00:13, 818.82it/s]"
     ]
    },
    {
     "name": "stdout",
     "output_type": "stream",
     "text": [
      "Indexed 16300 movies (last Which Way Is The Front Line From Here? The Life and Time of Tim Hetherington)\n",
      "Indexed 16400 movies (last The Ladies Man)\n"
     ]
    },
    {
     "name": "stderr",
     "output_type": "stream",
     "text": [
      " 60%|█████▉    | 16640/27846 [00:21<00:13, 808.76it/s]"
     ]
    },
    {
     "name": "stdout",
     "output_type": "stream",
     "text": [
      "Indexed 16500 movies (last Assassin of the Tsar)\n",
      "Indexed 16600 movies (last The Adventures of Tarzan)\n"
     ]
    },
    {
     "name": "stderr",
     "output_type": "stream",
     "text": [
      " 60%|██████    | 16841/27846 [00:21<00:14, 783.32it/s]"
     ]
    },
    {
     "name": "stdout",
     "output_type": "stream",
     "text": [
      "Indexed 16700 movies (last Vendetta)\n",
      "Indexed 16800 movies (last Trucker)\n"
     ]
    },
    {
     "name": "stderr",
     "output_type": "stream",
     "text": [
      " 61%|██████    | 17041/27846 [00:22<00:13, 792.10it/s]"
     ]
    },
    {
     "name": "stdout",
     "output_type": "stream",
     "text": [
      "Indexed 16900 movies (last Branded)\n",
      "Indexed 17000 movies (last Mariage à Mendoza)\n"
     ]
    },
    {
     "name": "stderr",
     "output_type": "stream",
     "text": [
      " 62%|██████▏   | 17241/27846 [00:22<00:13, 799.65it/s]"
     ]
    },
    {
     "name": "stdout",
     "output_type": "stream",
     "text": [
      "Indexed 17100 movies (last Love Bites)\n",
      "Indexed 17200 movies (last The Ballad of Ramblin' Jack)\n"
     ]
    },
    {
     "name": "stderr",
     "output_type": "stream",
     "text": [
      " 63%|██████▎   | 17441/27846 [00:22<00:12, 812.78it/s]"
     ]
    },
    {
     "name": "stdout",
     "output_type": "stream",
     "text": [
      "Indexed 17300 movies (last Blade of the Ripper)\n",
      "Indexed 17400 movies (last Kiler)\n"
     ]
    },
    {
     "name": "stderr",
     "output_type": "stream",
     "text": [
      " 63%|██████▎   | 17641/27846 [00:22<00:12, 826.67it/s]"
     ]
    },
    {
     "name": "stdout",
     "output_type": "stream",
     "text": [
      "Indexed 17500 movies (last Kaïrat)\n",
      "Indexed 17600 movies (last Body Bags)\n"
     ]
    },
    {
     "name": "stderr",
     "output_type": "stream",
     "text": [
      " 64%|██████▍   | 17844/27846 [00:23<00:12, 795.80it/s]"
     ]
    },
    {
     "name": "stdout",
     "output_type": "stream",
     "text": [
      "Indexed 17700 movies (last Dave Attell: Captain Miserable)\n",
      "Indexed 17800 movies (last Wodehouse In Exile)\n"
     ]
    },
    {
     "name": "stderr",
     "output_type": "stream",
     "text": [
      " 65%|██████▍   | 18044/27846 [00:23<00:12, 773.04it/s]"
     ]
    },
    {
     "name": "stdout",
     "output_type": "stream",
     "text": [
      "Indexed 17900 movies (last Duel in the Sun)\n",
      "Indexed 18000 movies (last The Message)\n"
     ]
    },
    {
     "name": "stderr",
     "output_type": "stream",
     "text": [
      " 66%|██████▌   | 18244/27846 [00:23<00:12, 749.45it/s]"
     ]
    },
    {
     "name": "stdout",
     "output_type": "stream",
     "text": [
      "Indexed 18100 movies (last Shock)\n",
      "Indexed 18200 movies (last Harvey)\n"
     ]
    },
    {
     "name": "stderr",
     "output_type": "stream",
     "text": [
      " 66%|██████▌   | 18444/27846 [00:24<00:12, 759.96it/s]"
     ]
    },
    {
     "name": "stdout",
     "output_type": "stream",
     "text": [
      "Indexed 18300 movies (last The Worthless)\n",
      "Indexed 18400 movies (last Queen of the Mountains)\n"
     ]
    },
    {
     "name": "stderr",
     "output_type": "stream",
     "text": [
      " 67%|██████▋   | 18645/27846 [00:24<00:11, 782.56it/s]"
     ]
    },
    {
     "name": "stdout",
     "output_type": "stream",
     "text": [
      "Indexed 18500 movies (last Urgh! A Music War)\n",
      "Indexed 18600 movies (last Wuthering Heights)\n"
     ]
    },
    {
     "name": "stderr",
     "output_type": "stream",
     "text": [
      " 68%|██████▊   | 18845/27846 [00:24<00:11, 781.25it/s]"
     ]
    },
    {
     "name": "stdout",
     "output_type": "stream",
     "text": [
      "Indexed 18700 movies (last Gabriel Over the White House)\n",
      "Indexed 18800 movies (last Friendship!)\n"
     ]
    },
    {
     "name": "stderr",
     "output_type": "stream",
     "text": [
      " 68%|██████▊   | 19048/27846 [00:24<00:10, 833.39it/s]"
     ]
    },
    {
     "name": "stdout",
     "output_type": "stream",
     "text": [
      "Indexed 18900 movies (last Mía)\n",
      "Indexed 19000 movies (last Danger! 50,000 Zombies)\n"
     ]
    },
    {
     "name": "stderr",
     "output_type": "stream",
     "text": [
      " 69%|██████▉   | 19249/27846 [00:24<00:10, 812.33it/s]"
     ]
    },
    {
     "name": "stdout",
     "output_type": "stream",
     "text": [
      "Indexed 19100 movies (last Top Dog)\n",
      "Indexed 19200 movies (last Reaching for the Moon)\n"
     ]
    },
    {
     "name": "stderr",
     "output_type": "stream",
     "text": [
      " 70%|██████▉   | 19450/27846 [00:25<00:10, 763.48it/s]"
     ]
    },
    {
     "name": "stdout",
     "output_type": "stream",
     "text": [
      "Indexed 19300 movies (last A Child's Christmas in Wales)\n",
      "Indexed 19400 movies (last The Dog Who Stopped the War)\n"
     ]
    },
    {
     "name": "stderr",
     "output_type": "stream",
     "text": [
      " 71%|███████   | 19653/27846 [00:25<00:11, 695.28it/s]"
     ]
    },
    {
     "name": "stdout",
     "output_type": "stream",
     "text": [
      "Indexed 19500 movies (last Police Python 357)\n",
      "Indexed 19600 movies (last Accidents Happen)\n"
     ]
    },
    {
     "name": "stderr",
     "output_type": "stream",
     "text": [
      " 71%|███████▏  | 19854/27846 [00:25<00:10, 737.72it/s]"
     ]
    },
    {
     "name": "stdout",
     "output_type": "stream",
     "text": [
      "Indexed 19700 movies (last Changing Times)\n",
      "Indexed 19800 movies (last The Ape)\n"
     ]
    },
    {
     "name": "stderr",
     "output_type": "stream",
     "text": [
      " 72%|███████▏  | 20054/27846 [00:26<00:12, 647.33it/s]"
     ]
    },
    {
     "name": "stdout",
     "output_type": "stream",
     "text": [
      "Indexed 19900 movies (last Heartbreak Hotel)\n",
      "Indexed 20000 movies (last Left Behind III: World at War)\n"
     ]
    },
    {
     "name": "stderr",
     "output_type": "stream",
     "text": [
      " 73%|███████▎  | 20256/27846 [00:26<00:10, 730.90it/s]"
     ]
    },
    {
     "name": "stdout",
     "output_type": "stream",
     "text": [
      "Indexed 20100 movies (last Dragon Ball Z: Lord Slug)\n",
      "Indexed 20200 movies (last The Adventures of Sherlock Holmes)\n"
     ]
    },
    {
     "name": "stderr",
     "output_type": "stream",
     "text": [
      " 73%|███████▎  | 20456/27846 [00:26<00:09, 761.20it/s]"
     ]
    },
    {
     "name": "stdout",
     "output_type": "stream",
     "text": [
      "Indexed 20300 movies (last Billy's Hollywood Screen Kiss)\n",
      "Indexed 20400 movies (last Short Night of Glass Dolls)\n"
     ]
    },
    {
     "name": "stderr",
     "output_type": "stream",
     "text": [
      " 74%|███████▍  | 20657/27846 [00:26<00:09, 753.46it/s]"
     ]
    },
    {
     "name": "stdout",
     "output_type": "stream",
     "text": [
      "Indexed 20500 movies (last Kawa)\n",
      "Indexed 20600 movies (last Bears)\n"
     ]
    },
    {
     "name": "stderr",
     "output_type": "stream",
     "text": [
      " 75%|███████▍  | 20858/27846 [00:27<00:09, 745.22it/s]"
     ]
    },
    {
     "name": "stdout",
     "output_type": "stream",
     "text": [
      "Indexed 20700 movies (last Pyrates)\n",
      "Indexed 20800 movies (last Bastard Out of Carolina)\n"
     ]
    },
    {
     "name": "stderr",
     "output_type": "stream",
     "text": [
      " 76%|███████▌  | 21060/27846 [00:27<00:08, 775.52it/s]"
     ]
    },
    {
     "name": "stdout",
     "output_type": "stream",
     "text": [
      "Indexed 20900 movies (last The Mole People)\n",
      "Indexed 21000 movies (last Till Human Voices Wake Us)\n"
     ]
    },
    {
     "name": "stderr",
     "output_type": "stream",
     "text": [
      " 76%|███████▋  | 21260/27846 [00:27<00:08, 774.41it/s]"
     ]
    },
    {
     "name": "stdout",
     "output_type": "stream",
     "text": [
      "Indexed 21100 movies (last It's a Wonderful Afterlife)\n",
      "Indexed 21200 movies (last The Bingo Long Traveling All-Stars & Motor Kings)\n"
     ]
    },
    {
     "name": "stderr",
     "output_type": "stream",
     "text": [
      " 77%|███████▋  | 21461/27846 [00:28<00:08, 791.45it/s]"
     ]
    },
    {
     "name": "stdout",
     "output_type": "stream",
     "text": [
      "Indexed 21300 movies (last Ciao! Manhattan)\n",
      "Indexed 21400 movies (last The Night They Raided Minsky's)\n"
     ]
    },
    {
     "name": "stderr",
     "output_type": "stream",
     "text": [
      " 78%|███████▊  | 21661/27846 [00:28<00:07, 784.86it/s]"
     ]
    },
    {
     "name": "stdout",
     "output_type": "stream",
     "text": [
      "Indexed 21500 movies (last The Girl Can't Help It)\n",
      "Indexed 21600 movies (last Sam Peckinpah's West: Legacy of a Hollywood Renegade)\n"
     ]
    },
    {
     "name": "stderr",
     "output_type": "stream",
     "text": [
      " 79%|███████▊  | 21861/27846 [00:28<00:07, 790.21it/s]"
     ]
    },
    {
     "name": "stdout",
     "output_type": "stream",
     "text": [
      "Indexed 21700 movies (last A Guy Named Joe)\n",
      "Indexed 21800 movies (last Odd Man Out)\n"
     ]
    },
    {
     "name": "stderr",
     "output_type": "stream",
     "text": [
      " 79%|███████▉  | 22061/27846 [00:28<00:07, 737.12it/s]"
     ]
    },
    {
     "name": "stdout",
     "output_type": "stream",
     "text": [
      "Indexed 21900 movies (last The Rise of Catherine the Great)\n",
      "Indexed 22000 movies (last The Girl of the Golden West)\n"
     ]
    },
    {
     "name": "stderr",
     "output_type": "stream",
     "text": [
      " 80%|███████▉  | 22261/27846 [00:29<00:07, 773.63it/s]"
     ]
    },
    {
     "name": "stdout",
     "output_type": "stream",
     "text": [
      "Indexed 22100 movies (last The Killing of John Lennon)\n",
      "Indexed 22200 movies (last Twist)\n"
     ]
    },
    {
     "name": "stderr",
     "output_type": "stream",
     "text": [
      " 81%|████████  | 22462/27846 [00:29<00:06, 816.33it/s]"
     ]
    },
    {
     "name": "stdout",
     "output_type": "stream",
     "text": [
      "Indexed 22300 movies (last After Life)\n",
      "Indexed 22400 movies (last The Great Ecstasy of Robert Carmichael)\n"
     ]
    },
    {
     "name": "stderr",
     "output_type": "stream",
     "text": [
      " 81%|████████▏ | 22662/27846 [00:29<00:06, 822.73it/s]"
     ]
    },
    {
     "name": "stdout",
     "output_type": "stream",
     "text": [
      "Indexed 22500 movies (last Do Not Disturb)\n",
      "Indexed 22600 movies (last Something Real and Good)\n"
     ]
    },
    {
     "name": "stderr",
     "output_type": "stream",
     "text": [
      " 82%|████████▏ | 22862/27846 [00:29<00:06, 787.42it/s]"
     ]
    },
    {
     "name": "stdout",
     "output_type": "stream",
     "text": [
      "Indexed 22700 movies (last CBGB)\n",
      "Indexed 22800 movies (last California Solo)\n"
     ]
    },
    {
     "name": "stderr",
     "output_type": "stream",
     "text": [
      " 83%|████████▎ | 23062/27846 [00:30<00:05, 798.12it/s]"
     ]
    },
    {
     "name": "stdout",
     "output_type": "stream",
     "text": [
      "Indexed 22900 movies (last Richard III)\n",
      "Indexed 23000 movies (last She's Out of Control)\n"
     ]
    },
    {
     "name": "stderr",
     "output_type": "stream",
     "text": [
      " 84%|████████▎ | 23262/27846 [00:30<00:05, 775.79it/s]"
     ]
    },
    {
     "name": "stdout",
     "output_type": "stream",
     "text": [
      "Indexed 23100 movies (last Dead End Drive-In)\n",
      "Indexed 23200 movies (last Venus Boyz)\n"
     ]
    },
    {
     "name": "stderr",
     "output_type": "stream",
     "text": [
      " 84%|████████▍ | 23462/27846 [00:30<00:05, 775.17it/s]"
     ]
    },
    {
     "name": "stdout",
     "output_type": "stream",
     "text": [
      "Indexed 23300 movies (last My Giant)\n",
      "Indexed 23400 movies (last The Beekeeper)\n"
     ]
    },
    {
     "name": "stderr",
     "output_type": "stream",
     "text": [
      " 85%|████████▍ | 23664/27846 [00:30<00:05, 770.68it/s]"
     ]
    },
    {
     "name": "stdout",
     "output_type": "stream",
     "text": [
      "Indexed 23500 movies (last The Bobo)\n",
      "Indexed 23600 movies (last Amen)\n"
     ]
    },
    {
     "name": "stderr",
     "output_type": "stream",
     "text": [
      " 86%|████████▌ | 23864/27846 [00:31<00:05, 784.23it/s]"
     ]
    },
    {
     "name": "stdout",
     "output_type": "stream",
     "text": [
      "Indexed 23700 movies (last Favela Rising)\n",
      "Indexed 23800 movies (last The 4th Floor)\n"
     ]
    },
    {
     "name": "stderr",
     "output_type": "stream",
     "text": [
      " 86%|████████▋ | 24065/27846 [00:31<00:04, 792.02it/s]"
     ]
    },
    {
     "name": "stdout",
     "output_type": "stream",
     "text": [
      "Indexed 23900 movies (last Chisum)\n",
      "Indexed 24000 movies (last Boulevard)\n"
     ]
    },
    {
     "name": "stderr",
     "output_type": "stream",
     "text": [
      " 87%|████████▋ | 24266/27846 [00:31<00:04, 800.33it/s]"
     ]
    },
    {
     "name": "stdout",
     "output_type": "stream",
     "text": [
      "Indexed 24100 movies (last Ingmar Bergman Makes a Movie)\n",
      "Indexed 24200 movies (last The Play House)\n"
     ]
    },
    {
     "name": "stderr",
     "output_type": "stream",
     "text": [
      " 88%|████████▊ | 24468/27846 [00:31<00:04, 818.28it/s]"
     ]
    },
    {
     "name": "stdout",
     "output_type": "stream",
     "text": [
      "Indexed 24300 movies (last Of Mice and Men)\n",
      "Indexed 24400 movies (last Dr. Gillespie's New Assistant)\n"
     ]
    },
    {
     "name": "stderr",
     "output_type": "stream",
     "text": [
      " 89%|████████▊ | 24670/27846 [00:32<00:03, 807.55it/s]"
     ]
    },
    {
     "name": "stdout",
     "output_type": "stream",
     "text": [
      "Indexed 24500 movies (last Rat)\n",
      "Indexed 24600 movies (last Unstrung Heroes)\n"
     ]
    },
    {
     "name": "stderr",
     "output_type": "stream",
     "text": [
      " 89%|████████▉ | 24871/27846 [00:32<00:03, 825.06it/s]"
     ]
    },
    {
     "name": "stdout",
     "output_type": "stream",
     "text": [
      "Indexed 24700 movies (last Crazy Sexy Cancer)\n",
      "Indexed 24800 movies (last High and Dizzy)\n"
     ]
    },
    {
     "name": "stderr",
     "output_type": "stream",
     "text": [
      " 90%|█████████ | 25072/27846 [00:32<00:03, 796.63it/s]"
     ]
    },
    {
     "name": "stdout",
     "output_type": "stream",
     "text": [
      "Indexed 24900 movies (last The Murder of Fred Hampton)\n",
      "Indexed 25000 movies (last Holiday for Drumsticks)\n"
     ]
    },
    {
     "name": "stderr",
     "output_type": "stream",
     "text": [
      " 91%|█████████ | 25272/27846 [00:32<00:03, 797.97it/s]"
     ]
    },
    {
     "name": "stdout",
     "output_type": "stream",
     "text": [
      "Indexed 25100 movies (last China Blue)\n",
      "Indexed 25200 movies (last Pancho, el perro millonario)\n"
     ]
    },
    {
     "name": "stderr",
     "output_type": "stream",
     "text": [
      " 91%|█████████▏| 25472/27846 [00:33<00:02, 796.20it/s]"
     ]
    },
    {
     "name": "stdout",
     "output_type": "stream",
     "text": [
      "Indexed 25300 movies (last The Diary of Anne Frank)\n",
      "Indexed 25400 movies (last To Be Twenty)\n"
     ]
    },
    {
     "name": "stderr",
     "output_type": "stream",
     "text": [
      " 92%|█████████▏| 25675/27846 [00:33<00:02, 798.56it/s]"
     ]
    },
    {
     "name": "stdout",
     "output_type": "stream",
     "text": [
      "Indexed 25500 movies (last Empire of Silver)\n",
      "Indexed 25600 movies (last Knockout)\n"
     ]
    },
    {
     "name": "stderr",
     "output_type": "stream",
     "text": [
      " 93%|█████████▎| 25875/27846 [00:33<00:02, 805.05it/s]"
     ]
    },
    {
     "name": "stdout",
     "output_type": "stream",
     "text": [
      "Indexed 25700 movies (last Speed & Angels)\n",
      "Indexed 25800 movies (last Meek's Cutoff)\n"
     ]
    },
    {
     "name": "stderr",
     "output_type": "stream",
     "text": [
      " 94%|█████████▎| 26078/27846 [00:33<00:02, 810.24it/s]"
     ]
    },
    {
     "name": "stdout",
     "output_type": "stream",
     "text": [
      "Indexed 25900 movies (last Sharpe's Sword)\n",
      "Indexed 26000 movies (last May 18)\n"
     ]
    },
    {
     "name": "stderr",
     "output_type": "stream",
     "text": [
      " 94%|█████████▍| 26279/27846 [00:34<00:01, 786.86it/s]"
     ]
    },
    {
     "name": "stdout",
     "output_type": "stream",
     "text": [
      "Indexed 26100 movies (last Dealer)\n",
      "Indexed 26200 movies (last Carmen Miranda: Bananas Is My Business)\n"
     ]
    },
    {
     "name": "stderr",
     "output_type": "stream",
     "text": [
      " 95%|█████████▌| 26479/27846 [00:34<00:01, 801.77it/s]"
     ]
    },
    {
     "name": "stdout",
     "output_type": "stream",
     "text": [
      "Indexed 26300 movies (last Il figlio dello sceicco)\n",
      "Indexed 26400 movies (last Muddy River)\n"
     ]
    },
    {
     "name": "stderr",
     "output_type": "stream",
     "text": [
      " 96%|█████████▌| 26679/27846 [00:34<00:01, 803.89it/s]"
     ]
    },
    {
     "name": "stdout",
     "output_type": "stream",
     "text": [
      "Indexed 26500 movies (last Judy Moody and the Not Bummer Summer)\n",
      "Indexed 26600 movies (last The Naughty Room)\n"
     ]
    },
    {
     "name": "stderr",
     "output_type": "stream",
     "text": [
      " 97%|█████████▋| 26880/27846 [00:34<00:01, 823.95it/s]"
     ]
    },
    {
     "name": "stdout",
     "output_type": "stream",
     "text": [
      "Indexed 26700 movies (last Time Without Pity)\n",
      "Indexed 26800 movies (last L'outremangeur)\n"
     ]
    },
    {
     "name": "stderr",
     "output_type": "stream",
     "text": [
      " 97%|█████████▋| 27083/27846 [00:35<00:00, 799.32it/s]"
     ]
    },
    {
     "name": "stdout",
     "output_type": "stream",
     "text": [
      "Indexed 26900 movies (last Buddha Collapsed Out of Shame)\n",
      "Indexed 27000 movies (last Uno contro l'altro praticamente amici)\n"
     ]
    },
    {
     "name": "stderr",
     "output_type": "stream",
     "text": [
      " 98%|█████████▊| 27285/27846 [00:35<00:00, 796.72it/s]"
     ]
    },
    {
     "name": "stdout",
     "output_type": "stream",
     "text": [
      "Indexed 27100 movies (last The Talent Given Us)\n",
      "Indexed 27200 movies (last Paris Trout)\n"
     ]
    },
    {
     "name": "stderr",
     "output_type": "stream",
     "text": [
      " 99%|█████████▊| 27485/27846 [00:35<00:00, 761.94it/s]"
     ]
    },
    {
     "name": "stdout",
     "output_type": "stream",
     "text": [
      "Indexed 27300 movies (last The Crystal Ball)\n",
      "Indexed 27400 movies (last West Is West)\n"
     ]
    },
    {
     "name": "stderr",
     "output_type": "stream",
     "text": [
      " 99%|█████████▉| 27687/27846 [00:35<00:00, 774.90it/s]"
     ]
    },
    {
     "name": "stdout",
     "output_type": "stream",
     "text": [
      "Indexed 27500 movies (last Breaktime)\n",
      "Indexed 27600 movies (last Two for the Seesaw)\n"
     ]
    },
    {
     "name": "stderr",
     "output_type": "stream",
     "text": [
      "100%|██████████| 27846/27846 [00:36<00:00, 773.31it/s]\n"
     ]
    },
    {
     "name": "stdout",
     "output_type": "stream",
     "text": [
      "Indexed 27700 movies (last Fingers at the Window)\n",
      "Streaming Bulk index DONE tmdb [Status: 201]\n",
      "Done\n"
     ]
    }
   ],
   "source": [
    "from ltr.client.elastic_client import ElasticClient\n",
    "client = ElasticClient()\n",
    "\n",
    "from ltr import download, index\n",
    "from ltr.index import rebuild\n",
    "from ltr.helpers.movies import indexable_movies\n",
    "from ltr import download\n",
    "\n",
    "corpus='http://es-learn-to-rank.labs.o19s.com/tmdb.json'\n",
    "download([corpus], dest='data/');\n",
    "\n",
    "movies=indexable_movies(movies='data/tmdb.json')\n",
    "rebuild(client, index='tmdb', doc_src=movies)"
   ]
  },
  {
   "cell_type": "markdown",
   "metadata": {},
   "source": [
    "## Create Elastic Client"
   ]
  },
  {
   "cell_type": "code",
   "execution_count": 2,
   "metadata": {},
   "outputs": [],
   "source": [
    "from ltr.client.elastic_client import ElasticClient\n",
    "client = ElasticClient()"
   ]
  },
  {
   "cell_type": "markdown",
   "metadata": {},
   "source": [
    "# Our Task: Optimizing \"Drama\" and \"Science Fiction\" queries\n",
    "\n",
    "In this example we have two user queries\n",
    "\n",
    "- Drama\n",
    "- Science Fiction\n",
    "\n",
    "And we want to train a model to return the best movies for these movies when a user types them into our search bar.\n",
    "\n",
    "We learn through analysis that searchers prefer newer science fiction, but older drama. Like a lot of search relevance problems, two queries need to be optimized in *different* directions"
   ]
  },
  {
   "cell_type": "markdown",
   "metadata": {},
   "source": [
    "### Synthetic Judgment List Generation\n",
    "\n",
    "To setup this example, we'll generate a judgment list that rewards new science fiction movies as more relevant; and old drama movies as relevant."
   ]
  },
  {
   "cell_type": "code",
   "execution_count": 3,
   "metadata": {},
   "outputs": [
    {
     "name": "stdout",
     "output_type": "stream",
     "text": [
      "Generating judgments for scifi & drama movies\n"
     ]
    },
    {
     "name": "stderr",
     "output_type": "stream",
     "text": [
      "/opt/anaconda3/envs/tlre-nlp/lib/python3.7/site-packages/elasticsearch/connection/base.py:177: ElasticsearchDeprecationWarning:\n",
      "\n",
      "Loading the fielddata on the _id field is deprecated and will be removed in future versions. If you require sorting or aggregating on this field you should also include the id in the body of your documents, and map this field as a keyword field that has [doc_values] enabled\n",
      "\n",
      "100%|██████████| 10000/10000 [00:00<00:00, 604122.83it/s]"
     ]
    },
    {
     "name": "stdout",
     "output_type": "stream",
     "text": [
      "Searching tmdb - {'query': {'match_al [Status: 200]\n",
      "Done\n"
     ]
    },
    {
     "name": "stderr",
     "output_type": "stream",
     "text": [
      "\n"
     ]
    }
   ],
   "source": [
    "from ltr.date_genre_judgments import synthesize\n",
    "judgments = synthesize(client, judgmentsOutFile='data/genre_by_date_judgments.txt')"
   ]
  },
  {
   "cell_type": "markdown",
   "metadata": {},
   "source": [
    "### Feature selection should be *easy!*\n",
    "\n",
    "Notice we have 4 proposed features, that seem like they should work! This should be a piece of cake...\n",
    "\n",
    "1. Release Year of a movie `release_year` - feature ID 1\n",
    "2. Is the movie Science Fiction `is_scifi` - feature ID 2\n",
    "3. Is the movie Drama `is_drama` - feature ID 3\n",
    "4. Does the search term match the genre field `is_genre_match` - feature ID 4\n"
   ]
  },
  {
   "cell_type": "code",
   "execution_count": 4,
   "metadata": {},
   "outputs": [
    {
     "name": "stdout",
     "output_type": "stream",
     "text": [
      "Removed Default LTR feature store [Status: 200]\n",
      "Initialize Default LTR feature store [Status: 200]\n",
      "Create genre feature set [Status: 201]\n"
     ]
    }
   ],
   "source": [
    "client.reset_ltr(index='tmdb')\n",
    "\n",
    "config = {\n",
    "    \"featureset\": {\n",
    "            \"features\": [\n",
    "            {\n",
    "                \"name\": \"release_year\",\n",
    "                \"params\": [],\n",
    "                \"template\": {\n",
    "                    \"function_score\": {\n",
    "                        \"field_value_factor\": {\n",
    "                        \"field\": \"release_year\",\n",
    "                        \"missing\": 2000\n",
    "                    },\n",
    "                    \"query\": { \"match_all\": {} }\n",
    "                }\n",
    "            }\n",
    "            },\n",
    "             {\n",
    "                \"name\": \"is_sci_fi\",\n",
    "                \"params\": [],\n",
    "                \"template\": {\n",
    "                    \"constant_score\": {\n",
    "                        \"filter\": {\n",
    "                            \"match_phrase\": {\"genres\": \"Science Fiction\"}\n",
    "                        },\n",
    "                        \"boost\": 1.0                    }\n",
    "            }\n",
    "            },\n",
    "             {\n",
    "                \"name\": \"is_drama\",\n",
    "                \"params\": [],\n",
    "                \"template\": {\n",
    "                    \"constant_score\": {\n",
    "                        \"filter\": {\n",
    "                            \"match_phrase\": {\"genres\": \"Drama\"}\n",
    "                        },\n",
    "                        \"boost\": 1.0                    }\n",
    "                }\n",
    "            },\n",
    "             {\n",
    "                \"name\": \"is_genre_match\",\n",
    "                \"params\": [\"keywords\"],\n",
    "                \"template\": {\n",
    "                    \"constant_score\": {\n",
    "                        \"filter\": {\n",
    "                            \"match_phrase\": {\"genres\": \"{{keywords}}\"}\n",
    "                        },\n",
    "                        \"boost\": 1.0\n",
    "                    }\n",
    "                }\n",
    "            }\n",
    "    ]\n",
    "    },\n",
    "    \"validation\": {\n",
    "       \"params\": {\n",
    "           \"keywords\": \"Science Fiction\"\n",
    "       },\n",
    "       \"index\": \"tmdb\"\n",
    "    }\n",
    "}\n",
    "\n",
    "client.create_featureset(index='tmdb', name='genre', ftr_config=config)"
   ]
  },
  {
   "cell_type": "markdown",
   "metadata": {},
   "source": [
    "### Log from search engine -> to training set\n",
    "\n",
    "Each feature is a query to be scored against the judgment list"
   ]
  },
  {
   "cell_type": "code",
   "execution_count": 5,
   "metadata": {},
   "outputs": [
    {
     "name": "stdout",
     "output_type": "stream",
     "text": [
      "Recognizing 2 queries...\n",
      "Searching tmdb - [{'terms': {'_id': [ [Status: 200]\n",
      "Discarded 0 Keep 123\n",
      "Searching tmdb - [{'terms': {'_id': [ [Status: 200]\n",
      "Searching tmdb - [{'terms': {'_id': [ [Status: 200]\n",
      "Searching tmdb - [{'terms': {'_id': [ [Status: 200]\n",
      "Searching tmdb - [{'terms': {'_id': [ [Status: 200]\n",
      "Searching tmdb - [{'terms': {'_id': [ [Status: 200]\n",
      "Searching tmdb - [{'terms': {'_id': [ [Status: 200]\n",
      "Discarded 0 Keep 2602\n"
     ]
    }
   ],
   "source": [
    "from ltr.judgments import judgments_open\n",
    "from ltr.log import FeatureLogger\n",
    "from itertools import groupby\n",
    "\n",
    "from ltr.log import FeatureLogger\n",
    "from ltr.judgments import judgments_open\n",
    "from itertools import groupby\n",
    "\n",
    "ftr_logger=FeatureLogger(client, index='tmdb', feature_set='genre')\n",
    "with judgments_open('data/genre_by_date_judgments.txt') as judgment_list:\n",
    "    for qid, query_judgments in groupby(judgment_list, key=lambda j: j.qid):\n",
    "        ftr_logger.log_for_qid(judgments=query_judgments, \n",
    "                               qid=qid,\n",
    "                               keywords=judgment_list.keywords(qid))\n"
   ]
  },
  {
   "cell_type": "markdown",
   "metadata": {},
   "source": [
    "### Training - Guaraneed Perfect Search Results!\n",
    "\n",
    "We'll train a LambdaMART model against this training data."
   ]
  },
  {
   "cell_type": "code",
   "execution_count": 6,
   "metadata": {},
   "outputs": [
    {
     "name": "stdout",
     "output_type": "stream",
     "text": [
      "/var/folders/vc/thmh159x5xddb6_cgtx778sc0000gn/T/RankyMcRankFace.jar already exists\n",
      "Running java -jar /var/folders/vc/thmh159x5xddb6_cgtx778sc0000gn/T/RankyMcRankFace.jar -ranker 6 -shrinkage 0.1 -metric2t NDCG@10 -tree 50 -bag 1 -leaf 10 -frate 1.0 -srate 1.0 -train /var/folders/vc/thmh159x5xddb6_cgtx778sc0000gn/T/training.txt -save data/genre_model.txt \n",
      "DONE\n",
      "Delete model genre: 404\n",
      "Created Model genre [Status: 201]\n",
      "Model saved\n",
      "\n",
      "Impact of each feature on the model\n",
      "1 - 84672139.80027786\n",
      "2 - 57048.53836173947\n",
      "3 - 15085.984020625703\n",
      "4 - 0.0\n",
      "Perfect NDCG! 1.0\n"
     ]
    }
   ],
   "source": [
    "from ltr.ranklib import train\n",
    "trainResponse = train(client,\n",
    "                 training_set=ftr_logger.logged,\n",
    "                 metric2t='NDCG@10',\n",
    "                 index='tmdb',\n",
    "                 featureSet='genre',\n",
    "                 modelName='genre')\n",
    "\n",
    "trainLog = trainResponse.trainingLogs[0]\n",
    "\n",
    "print()\n",
    "print(\"Impact of each feature on the model\")\n",
    "for ftrId, impact in trainLog.impacts.items():\n",
    "    print(\"{} - {}\".format(ftrId, impact))\n",
    "    \n",
    "print(\"Perfect NDCG! {}\".format(trainLog.rounds[-1]))"
   ]
  },
  {
   "cell_type": "markdown",
   "metadata": {},
   "source": [
    "### But this search sucks!\n",
    "Try searches for \"Science Fiction\" and \"Drama\""
   ]
  },
  {
   "cell_type": "code",
   "execution_count": 7,
   "metadata": {},
   "outputs": [
    {
     "name": "stdout",
     "output_type": "stream",
     "text": [
      "{\"size\": 5, \"query\": {\"sltr\": {\"params\": {\"keywords\": \"science fiction\"}, \"model\": \"genre\"}}}\n",
      "Searching tmdb - {'size': 5, 'query': [Status: 200]\n",
      "The Girl from the Marsh Croft \n",
      "5.4329715 \n",
      "1917 \n",
      "[] \n",
      "A 1917 Swedish drama film directed by Victor Sjöström, based on a 1913 novel by Selma Lagerlöf. It was the first in a series of successful Lagerlöf adaptions by Sjöström, made possible by a deal between Lagerlöf and A-B Svenska Biografteatern (later AB Svensk Filmindustri) to adapt at least one Lagerlöf novel each year. Lagerlöf had for many years denied any proposal to let her novels be adapted for film, but after seeing Sjöström's Terje Vigen she finally decided to give her allowance. \n",
      "---------------------------------------\n",
      "Straight Shooting \n",
      "5.4329715 \n",
      "1917 \n",
      "['Western'] \n",
      "Cattleman Flint cuts off farmer Sims' water supply. When Sims' son Ted goes for water, one of Flint's men kills him. Cheyenne is sent to finish off Sims, but finding the family at the newly dug grave, he changes sides. \n",
      "---------------------------------------\n",
      "The Dying Swan \n",
      "5.4329715 \n",
      "1917 \n",
      "[] \n",
      "When Viktor meets Gizella one day beside the lake, he takes an interest in her and begins to call on her regularly. The one passion in the life of Gizella, who is unable to speak, is dancing. When Viktor deceives her and she finds him with another woman, she moves away and begins a career as a ballerina. Later, as she is on tour performing “The Dying Swan”, the artist Glinskiy attends her performance. Glinskiy, whose own obsession is to depict death in his art, becomes fascinated by Gizella, and he is determined to use her as a model for a special project. \n",
      "---------------------------------------\n",
      "The Adventurer \n",
      "5.4329715 \n",
      "1917 \n",
      "['Comedy'] \n",
      "The Little Tramp escapes from prison; saves a girl and her mother from drowning; and creates havoc at a swank party. \n",
      "---------------------------------------\n",
      "Coney Island \n",
      "5.4329715 \n",
      "1917 \n",
      "['Comedy'] \n",
      "Arbuckle escapes the watch of his domineering wife and heads for Coney Island. Keaton arrives that same day with his attractive, and rather easy, girlfriend, who is immediately stolen from him by St. John. \n",
      "---------------------------------------\n"
     ]
    }
   ],
   "source": [
    "from ltr.search import search\n",
    "search(client, keywords=\"science fiction\", modelName=\"genre\")"
   ]
  },
  {
   "cell_type": "markdown",
   "metadata": {},
   "source": [
    "### Why didn't it work!?!? Training data\n",
    "\n",
    "1. Examine the training data, do we cover every example of a BAD result\n",
    "2. Examine the feature impacts, do any of the features the model uses even USE the keywords?\n",
    "\n",
    "### Ranklib only sees the data you give it, we don't have good enough coverage\n",
    "\n",
    "You need to have feature coverage, especially over negative examples. Most documents in the index are negative! \n",
    "\n",
    "One trick commonly used is to treat other queries positive results as this queries negative results. Indeed what we're missing here are negative examples for \"Science Fiction\" that are not science fiction movies. A glaring omission, we'll handle now... With the `autoNegate` flag, we'll add additional negative examples to the judgment list"
   ]
  },
  {
   "cell_type": "code",
   "execution_count": 8,
   "metadata": {},
   "outputs": [
    {
     "name": "stdout",
     "output_type": "stream",
     "text": [
      "Generating judgments for scifi & drama movies\n"
     ]
    },
    {
     "name": "stderr",
     "output_type": "stream",
     "text": [
      "100%|██████████| 10000/10000 [00:00<00:00, 49944.62it/s]"
     ]
    },
    {
     "name": "stdout",
     "output_type": "stream",
     "text": [
      "Searching tmdb - {'query': {'match_al [Status: 200]\n"
     ]
    },
    {
     "name": "stderr",
     "output_type": "stream",
     "text": [
      "\n"
     ]
    },
    {
     "name": "stdout",
     "output_type": "stream",
     "text": [
      "Done\n",
      "Recognizing 2 queries...\n",
      "Searching tmdb - [{'terms': {'_id': [ [Status: 200]\n",
      "Searching tmdb - [{'terms': {'_id': [ [Status: 200]\n",
      "Searching tmdb - [{'terms': {'_id': [ [Status: 200]\n",
      "Searching tmdb - [{'terms': {'_id': [ [Status: 200]\n",
      "Searching tmdb - [{'terms': {'_id': [ [Status: 200]\n",
      "Searching tmdb - [{'terms': {'_id': [ [Status: 200]\n",
      "Discarded 0 Keep 2725\n",
      "Searching tmdb - [{'terms': {'_id': [ [Status: 200]\n",
      "Searching tmdb - [{'terms': {'_id': [ [Status: 200]\n",
      "Searching tmdb - [{'terms': {'_id': [ [Status: 200]\n",
      "Searching tmdb - [{'terms': {'_id': [ [Status: 200]\n",
      "Searching tmdb - [{'terms': {'_id': [ [Status: 200]\n",
      "Searching tmdb - [{'terms': {'_id': [ [Status: 200]\n",
      "Discarded 0 Keep 2725\n",
      "/var/folders/vc/thmh159x5xddb6_cgtx778sc0000gn/T/RankyMcRankFace.jar already exists\n",
      "Running java -jar /var/folders/vc/thmh159x5xddb6_cgtx778sc0000gn/T/RankyMcRankFace.jar -ranker 6 -shrinkage 0.1 -metric2t NDCG@10 -tree 50 -bag 1 -leaf 10 -frate 1.0 -srate 1.0 -train /var/folders/vc/thmh159x5xddb6_cgtx778sc0000gn/T/training.txt -save data/genre_model.txt \n",
      "DONE\n",
      "Delete model genre: 200\n",
      "Created Model genre [Status: 201]\n",
      "Model saved\n",
      "\n",
      "Impact of each feature on the model\n",
      "4 - 178579056.081049\n",
      "1 - 107974596.42232133\n",
      "3 - 14215772.365316376\n",
      "2 - 7654167.392121586\n",
      "NDCG 1.0\n"
     ]
    }
   ],
   "source": [
    "from ltr import date_genre_judgments\n",
    "date_genre_judgments.synthesize(client,\n",
    "                                judgmentsOutFile='data/genre_by_date_judgments.txt',\n",
    "                                autoNegate=True)\n",
    "\n",
    "from ltr.log import FeatureLogger\n",
    "from ltr.judgments import judgments_open\n",
    "from itertools import groupby\n",
    "\n",
    "ftr_logger=FeatureLogger(client, index='tmdb', feature_set='genre')\n",
    "with judgments_open('data/genre_by_date_judgments.txt') as judgment_list:\n",
    "    for qid, query_judgments in groupby(judgment_list, key=lambda j: j.qid):\n",
    "        ftr_logger.log_for_qid(judgments=query_judgments, \n",
    "                               qid=qid,\n",
    "                               keywords=judgment_list.keywords(qid))\n",
    "        \n",
    "        \n",
    "from ltr.ranklib import train\n",
    "trainResponse = train(client,\n",
    "                 training_set=ftr_logger.logged,\n",
    "                 metric2t='NDCG@10',\n",
    "                 index='tmdb',\n",
    "                 featureSet='genre',\n",
    "                 modelName='genre')\n",
    "\n",
    "trainLog = trainResponse.trainingLogs[0]\n",
    "\n",
    "print()\n",
    "print(\"Impact of each feature on the model\")\n",
    "for ftrId, impact in trainLog.impacts.items():\n",
    "    print(\"{} - {}\".format(ftrId, impact))\n",
    "    \n",
    "print(\"NDCG {}\".format(trainLog.rounds[-1]))"
   ]
  },
  {
   "cell_type": "markdown",
   "metadata": {},
   "source": [
    "### Now try those queries...\n",
    "\n",
    "Replace keywords below with 'science fiction' or 'drama' and see how it works"
   ]
  },
  {
   "cell_type": "code",
   "execution_count": 9,
   "metadata": {},
   "outputs": [
    {
     "name": "stdout",
     "output_type": "stream",
     "text": [
      "{\"size\": 5, \"query\": {\"sltr\": {\"params\": {\"keywords\": \"drama\"}, \"model\": \"genre\"}}}\n",
      "Searching tmdb - {'size': 5, 'query': [Status: 200]\n",
      "A Man There Was \n",
      "3.5908291 \n",
      "1917 \n",
      "['Drama'] \n",
      "Terje Vigen, a sailor, suffers the loss of his family through the cruelty of another man. Years later, when his enemy's family finds itself dependent on Terje's benevolence, Terje must decide whether to avenge himself. \n",
      "---------------------------------------\n",
      "The Immigrant \n",
      "3.5908291 \n",
      "1917 \n",
      "['Comedy', 'Drama'] \n",
      "Charlie is an immigrant who endures a challenging voyage and gets into trouble as soon as he arrives in America. \n",
      "---------------------------------------\n",
      "The Cheat \n",
      "3.5895667 \n",
      "1915 \n",
      "['Drama'] \n",
      "A venal, spoiled stockbroker's wife impulsively embezzles $10,000 from the charity she chairs and desperately turns to a Burmese ivory trader to replace the stolen money. \n",
      "---------------------------------------\n",
      "Blacksmith Scene \n",
      "3.5895667 \n",
      "1893 \n",
      "['Drama'] \n",
      "Three men hammer on an anvil and pass a bottle of beer around. Notable for being the first film in which a scene is being acted out. \n",
      "---------------------------------------\n",
      "The Sea Vultures \n",
      "3.5895667 \n",
      "1915 \n",
      "['Drama'] \n",
      "Two smugglers meet two customs officers at sea, and happen to kill them. The story continues fifteen years later when a son of one of the officers and a smuggler's daughter fall in love with each other. \n",
      "---------------------------------------\n"
     ]
    }
   ],
   "source": [
    "from ltr.search import search\n",
    "search(client, keywords=\"drama\", modelName=\"genre\")"
   ]
  },
  {
   "cell_type": "code",
   "execution_count": 10,
   "metadata": {},
   "outputs": [
    {
     "name": "stdout",
     "output_type": "stream",
     "text": [
      "{\"size\": 5, \"query\": {\"sltr\": {\"params\": {\"keywords\": \"science fiction\"}, \"model\": \"genre\"}}}\n",
      "Searching tmdb - {'size': 5, 'query': [Status: 200]\n",
      "Dr. Jekyll and Mr. Hyde \n",
      "2.9053097 \n",
      "1920 \n",
      "['Drama', 'Horror', 'Science Fiction'] \n",
      "Dr. Jekyll and Mr. Hyde is a 1920 horror silent film based upon Robert Louis Stevenson's novella The Strange Case of Dr Jekyll and Mr Hyde and starring actor John Barrymore. \n",
      "---------------------------------------\n",
      "Guardians of the Galaxy Vol. 2 \n",
      "2.4134026 \n",
      "2017 \n",
      "['Action', 'Adventure', 'Comedy', 'Science Fiction'] \n",
      "The Guardians must fight to keep their newfound family together as they unravel the mysteries of Peter Quill's true parentage. \n",
      "---------------------------------------\n",
      "Morgan \n",
      "2.4134026 \n",
      "2016 \n",
      "['Horror', 'Science Fiction', 'Thriller'] \n",
      "A corporate risk-management consultant must determine whether or not to terminate an artificial being's life that was made in a laboratory environment. \n",
      "---------------------------------------\n",
      "Lazer Team \n",
      "2.4134026 \n",
      "2016 \n",
      "['Action', 'Comedy', 'Science Fiction'] \n",
      "In the late 1970's, the SETI project received a one time signal from outer space. It looked exactly as theorists thought a communication from an alien civilization would -- unfortunately it has never been decoded. Or so we were told. Unbeknownst to the general public the signal was translated and told us two things:  1) We are not alone.  2) The galaxy is a dangerous place. \n",
      "---------------------------------------\n",
      "The Void \n",
      "2.4134026 \n",
      "2016 \n",
      "['Mystery', 'Horror', 'Science Fiction'] \n",
      "In the middle of a routine patrol, officer Daniel Carter happens upon a blood-soaked figure limping down a deserted stretch of road. He rushes the young man to a nearby rural hospital staffed by a skeleton crew, only to discover that patients and personnel are transforming into something inhuman. As the horror intensifies, Carter leads the other survivors on a hellish voyage into the subterranean depths of the hospital in a desperate bid to end the nightmare before it's too late. \n",
      "---------------------------------------\n"
     ]
    }
   ],
   "source": [
    "from ltr.search import search\n",
    "search(client, keywords=\"science fiction\", modelName=\"genre\")"
   ]
  },
  {
   "cell_type": "markdown",
   "metadata": {},
   "source": [
    "### The next problem\n",
    "\n",
    "- Overfit to these two examples\n",
    "- We need many more queries, covering more use cases"
   ]
  },
  {
   "cell_type": "code",
   "execution_count": null,
   "metadata": {},
   "outputs": [],
   "source": []
  }
 ],
 "metadata": {
  "kernelspec": {
   "display_name": "Python 3",
   "language": "python",
   "name": "python3"
  },
  "language_info": {
   "codemirror_mode": {
    "name": "ipython",
    "version": 3
   },
   "file_extension": ".py",
   "mimetype": "text/x-python",
   "name": "python",
   "nbconvert_exporter": "python",
   "pygments_lexer": "ipython3",
   "version": "3.7.6"
  }
 },
 "nbformat": 4,
 "nbformat_minor": 2
}
