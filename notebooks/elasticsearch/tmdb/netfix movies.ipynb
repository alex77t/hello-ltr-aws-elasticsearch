{
 "cells": [
  {
   "cell_type": "markdown",
   "metadata": {},
   "source": [
    "# Elastic Client"
   ]
  },
  {
   "cell_type": "code",
   "execution_count": 1,
   "metadata": {},
   "outputs": [],
   "source": [
    "from ltr.client import ElasticClient\n",
    "client = ElasticClient()"
   ]
  },
  {
   "cell_type": "markdown",
   "metadata": {},
   "source": [
    "# Download & Build Index (run once)\n",
    "\n",
    "If you don't already have the downloaded dependencies; if you don't have TheMovieDB data indexed run this"
   ]
  },
  {
   "cell_type": "code",
   "execution_count": 2,
   "metadata": {},
   "outputs": [
    {
     "name": "stdout",
     "output_type": "stream",
     "text": [
      "data/tmdb.json already exists\n",
      "data/title_judgments.txt already exists\n",
      "Reconfig from disk...\n",
      "Deleted index tmdb [Status: 200]\n",
      "Created index tmdb [Status: 200]\n",
      "Reindexing...\n"
     ]
    },
    {
     "name": "stderr",
     "output_type": "stream",
     "text": [
      "  0%|          | 101/27846 [00:00<00:45, 604.41it/s]"
     ]
    },
    {
     "name": "stdout",
     "output_type": "stream",
     "text": [
      "Indexed 0 movies (last Black Mirror: White Christmas)\n",
      "Indexed 100 movies (last Apocalypse Now)\n"
     ]
    },
    {
     "name": "stderr",
     "output_type": "stream",
     "text": [
      "  1%|          | 301/27846 [00:00<00:40, 676.14it/s]"
     ]
    },
    {
     "name": "stdout",
     "output_type": "stream",
     "text": [
      "Indexed 200 movies (last Crooks in Clover)\n",
      "Indexed 300 movies (last For a Few Dollars More)\n"
     ]
    },
    {
     "name": "stderr",
     "output_type": "stream",
     "text": [
      "  2%|▏         | 501/27846 [00:00<00:35, 763.79it/s]"
     ]
    },
    {
     "name": "stdout",
     "output_type": "stream",
     "text": [
      "Indexed 400 movies (last Downfall)\n",
      "Indexed 500 movies (last Finding Nemo)\n"
     ]
    },
    {
     "name": "stderr",
     "output_type": "stream",
     "text": [
      "  3%|▎         | 701/27846 [00:00<00:36, 745.85it/s]"
     ]
    },
    {
     "name": "stdout",
     "output_type": "stream",
     "text": [
      "Indexed 600 movies (last Platoon)\n",
      "Indexed 700 movies (last Night of the Living Dead)\n"
     ]
    },
    {
     "name": "stderr",
     "output_type": "stream",
     "text": [
      "  3%|▎         | 901/27846 [00:01<00:34, 790.49it/s]"
     ]
    },
    {
     "name": "stdout",
     "output_type": "stream",
     "text": [
      "Indexed 800 movies (last Evangelion: 1.0: You Are (Not) Alone)\n",
      "Indexed 900 movies (last Batman: Assault on Arkham)\n"
     ]
    },
    {
     "name": "stderr",
     "output_type": "stream",
     "text": [
      "  4%|▍         | 1101/27846 [00:01<00:34, 785.07it/s]"
     ]
    },
    {
     "name": "stdout",
     "output_type": "stream",
     "text": [
      "Indexed 1000 movies (last Riley's First Date?)\n",
      "Indexed 1100 movies (last The Raid)\n"
     ]
    },
    {
     "name": "stderr",
     "output_type": "stream",
     "text": [
      "  5%|▍         | 1301/27846 [00:01<00:32, 820.43it/s]"
     ]
    },
    {
     "name": "stdout",
     "output_type": "stream",
     "text": [
      "Indexed 1200 movies (last Falling Down)\n",
      "Indexed 1300 movies (last Kal Ho Naa Ho)\n"
     ]
    },
    {
     "name": "stderr",
     "output_type": "stream",
     "text": [
      "  5%|▌         | 1501/27846 [00:01<00:32, 821.72it/s]"
     ]
    },
    {
     "name": "stdout",
     "output_type": "stream",
     "text": [
      "Indexed 1400 movies (last Elizabeth)\n",
      "Indexed 1500 movies (last Irreversible)\n"
     ]
    },
    {
     "name": "stderr",
     "output_type": "stream",
     "text": [
      "  6%|▌         | 1701/27846 [00:02<00:31, 829.93it/s]"
     ]
    },
    {
     "name": "stdout",
     "output_type": "stream",
     "text": [
      "Indexed 1600 movies (last Friday Night Lights)\n",
      "Indexed 1700 movies (last Ben X)\n"
     ]
    },
    {
     "name": "stderr",
     "output_type": "stream",
     "text": [
      "  7%|▋         | 1901/27846 [00:02<00:34, 755.33it/s]"
     ]
    },
    {
     "name": "stdout",
     "output_type": "stream",
     "text": [
      "Indexed 1800 movies (last Pump up the Volume)\n",
      "Indexed 1900 movies (last Armour of God)\n"
     ]
    },
    {
     "name": "stderr",
     "output_type": "stream",
     "text": [
      "  8%|▊         | 2101/27846 [00:02<00:30, 849.49it/s]"
     ]
    },
    {
     "name": "stdout",
     "output_type": "stream",
     "text": [
      "Indexed 2000 movies (last Swingers)\n",
      "Indexed 2100 movies (last The Guard)\n"
     ]
    },
    {
     "name": "stderr",
     "output_type": "stream",
     "text": [
      "  8%|▊         | 2301/27846 [00:02<00:29, 861.43it/s]"
     ]
    },
    {
     "name": "stdout",
     "output_type": "stream",
     "text": [
      "Indexed 2200 movies (last Win Win)\n",
      "Indexed 2300 movies (last Where the Heart Is)\n"
     ]
    },
    {
     "name": "stderr",
     "output_type": "stream",
     "text": [
      "  9%|▉         | 2501/27846 [00:03<00:31, 804.25it/s]"
     ]
    },
    {
     "name": "stdout",
     "output_type": "stream",
     "text": [
      "Indexed 2400 movies (last UHF)\n",
      "Indexed 2500 movies (last Jerry Maguire)\n"
     ]
    },
    {
     "name": "stderr",
     "output_type": "stream",
     "text": [
      " 10%|▉         | 2701/27846 [00:03<00:32, 768.89it/s]"
     ]
    },
    {
     "name": "stdout",
     "output_type": "stream",
     "text": [
      "Indexed 2600 movies (last Cloud Atlas)\n",
      "Indexed 2700 movies (last Rango)\n"
     ]
    },
    {
     "name": "stderr",
     "output_type": "stream",
     "text": [
      " 10%|█         | 2901/27846 [00:03<00:31, 780.70it/s]"
     ]
    },
    {
     "name": "stdout",
     "output_type": "stream",
     "text": [
      "Indexed 2800 movies (last Rosewater)\n",
      "Indexed 2900 movies (last Kalifornia)\n"
     ]
    },
    {
     "name": "stderr",
     "output_type": "stream",
     "text": [
      " 11%|█         | 3101/27846 [00:03<00:32, 768.03it/s]"
     ]
    },
    {
     "name": "stdout",
     "output_type": "stream",
     "text": [
      "Indexed 3000 movies (last Bad Santa)\n",
      "Indexed 3100 movies (last Defendor)\n"
     ]
    },
    {
     "name": "stderr",
     "output_type": "stream",
     "text": [
      " 12%|█▏        | 3301/27846 [00:04<00:28, 855.90it/s]"
     ]
    },
    {
     "name": "stdout",
     "output_type": "stream",
     "text": [
      "Indexed 3200 movies (last The Pirates! Band of Misfits)\n",
      "Indexed 3300 movies (last Sister Act)\n"
     ]
    },
    {
     "name": "stderr",
     "output_type": "stream",
     "text": [
      " 13%|█▎        | 3501/27846 [00:04<00:26, 902.92it/s]"
     ]
    },
    {
     "name": "stdout",
     "output_type": "stream",
     "text": [
      "Indexed 3400 movies (last Live and Let Die)\n",
      "Indexed 3500 movies (last Hours)\n"
     ]
    },
    {
     "name": "stderr",
     "output_type": "stream",
     "text": [
      " 13%|█▎        | 3701/27846 [00:04<00:28, 853.04it/s]"
     ]
    },
    {
     "name": "stdout",
     "output_type": "stream",
     "text": [
      "Indexed 3600 movies (last Monsters)\n",
      "Indexed 3700 movies (last MouseHunt)\n"
     ]
    },
    {
     "name": "stderr",
     "output_type": "stream",
     "text": [
      " 14%|█▍        | 3901/27846 [00:04<00:29, 811.70it/s]"
     ]
    },
    {
     "name": "stdout",
     "output_type": "stream",
     "text": [
      "Indexed 3800 movies (last Olympus Has Fallen)\n",
      "Indexed 3900 movies (last Godzilla)\n"
     ]
    },
    {
     "name": "stderr",
     "output_type": "stream",
     "text": [
      " 15%|█▍        | 4101/27846 [00:05<00:28, 824.37it/s]"
     ]
    },
    {
     "name": "stdout",
     "output_type": "stream",
     "text": [
      "Indexed 4000 movies (last Arbitrage)\n",
      "Indexed 4100 movies (last Under Siege)\n"
     ]
    },
    {
     "name": "stderr",
     "output_type": "stream",
     "text": [
      " 15%|█▌        | 4301/27846 [00:05<00:28, 815.87it/s]"
     ]
    },
    {
     "name": "stdout",
     "output_type": "stream",
     "text": [
      "Indexed 4200 movies (last Underdogs)\n",
      "Indexed 4300 movies (last The Duke of Burgundy)\n"
     ]
    },
    {
     "name": "stderr",
     "output_type": "stream",
     "text": [
      " 16%|█▌        | 4501/27846 [00:05<00:29, 792.00it/s]"
     ]
    },
    {
     "name": "stdout",
     "output_type": "stream",
     "text": [
      "Indexed 4400 movies (last Bambi II)\n",
      "Indexed 4500 movies (last Solaris)\n"
     ]
    },
    {
     "name": "stderr",
     "output_type": "stream",
     "text": [
      "\r",
      " 17%|█▋        | 4601/27846 [00:05<00:27, 841.95it/s]"
     ]
    },
    {
     "name": "stdout",
     "output_type": "stream",
     "text": [
      "Indexed 4600 movies (last The Stuff)\n",
      "Indexed 4700 movies (last Tales from the Darkside: The Movie)\n"
     ]
    },
    {
     "name": "stderr",
     "output_type": "stream",
     "text": [
      " 18%|█▊        | 4901/27846 [00:06<00:27, 839.71it/s]"
     ]
    },
    {
     "name": "stdout",
     "output_type": "stream",
     "text": [
      "Indexed 4800 movies (last Final Fantasy: The Spirits Within)\n",
      "Indexed 4900 movies (last The Back-Up Plan)\n"
     ]
    },
    {
     "name": "stderr",
     "output_type": "stream",
     "text": [
      " 18%|█▊        | 5101/27846 [00:06<00:26, 843.81it/s]"
     ]
    },
    {
     "name": "stdout",
     "output_type": "stream",
     "text": [
      "Indexed 5000 movies (last Absolutely Anything)\n",
      "Indexed 5100 movies (last Funny People)\n"
     ]
    },
    {
     "name": "stderr",
     "output_type": "stream",
     "text": [
      " 19%|█▉        | 5301/27846 [00:06<00:26, 858.54it/s]"
     ]
    },
    {
     "name": "stdout",
     "output_type": "stream",
     "text": [
      "Indexed 5200 movies (last Tad, the Lost Explorer)\n",
      "Indexed 5300 movies (last Fiston)\n"
     ]
    },
    {
     "name": "stderr",
     "output_type": "stream",
     "text": [
      " 20%|█▉        | 5501/27846 [00:06<00:25, 866.24it/s]"
     ]
    },
    {
     "name": "stdout",
     "output_type": "stream",
     "text": [
      "Indexed 5400 movies (last The Reaping)\n",
      "Indexed 5500 movies (last American Pie Presents: Beta House)\n"
     ]
    },
    {
     "name": "stderr",
     "output_type": "stream",
     "text": [
      " 20%|██        | 5701/27846 [00:06<00:27, 817.60it/s]"
     ]
    },
    {
     "name": "stdout",
     "output_type": "stream",
     "text": [
      "Indexed 5600 movies (last Casino Royale)\n",
      "Indexed 5700 movies (last Jennifer's Body)\n"
     ]
    },
    {
     "name": "stderr",
     "output_type": "stream",
     "text": [
      " 21%|██        | 5901/27846 [00:07<00:26, 836.69it/s]"
     ]
    },
    {
     "name": "stdout",
     "output_type": "stream",
     "text": [
      "Indexed 5800 movies (last Caligula)\n",
      "Indexed 5900 movies (last Alex Cross)\n",
      "Indexed 6000 movies (last Rapture Palooza)\n"
     ]
    },
    {
     "name": "stderr",
     "output_type": "stream",
     "text": [
      " 22%|██▏       | 6201/27846 [00:07<00:24, 880.50it/s]"
     ]
    },
    {
     "name": "stdout",
     "output_type": "stream",
     "text": [
      "Indexed 6100 movies (last The Seeker: The Dark Is Rising)\n",
      "Indexed 6200 movies (last Boogeyman)\n"
     ]
    },
    {
     "name": "stderr",
     "output_type": "stream",
     "text": [
      " 23%|██▎       | 6401/27846 [00:07<00:24, 887.47it/s]"
     ]
    },
    {
     "name": "stdout",
     "output_type": "stream",
     "text": [
      "Indexed 6300 movies (last Fifty Shades of Black)\n",
      "Indexed 6400 movies (last Wilbur Wants to Kill Himself)\n",
      "Indexed 6500 movies (last A Cruel Romance)\n"
     ]
    },
    {
     "name": "stderr",
     "output_type": "stream",
     "text": [
      " 24%|██▍       | 6801/27846 [00:08<00:21, 987.57it/s]"
     ]
    },
    {
     "name": "stdout",
     "output_type": "stream",
     "text": [
      "Indexed 6600 movies (last La discrète)\n",
      "Indexed 6700 movies (last The Rapture)\n",
      "Indexed 6800 movies (last Ricky Gervais Live 3: Fame)\n"
     ]
    },
    {
     "name": "stderr",
     "output_type": "stream",
     "text": [
      " 26%|██▌       | 7107/27846 [00:08<00:20, 1015.99it/s]"
     ]
    },
    {
     "name": "stdout",
     "output_type": "stream",
     "text": [
      "Indexed 6900 movies (last Bunny Lake Is Missing)\n",
      "Indexed 7000 movies (last Alice in the Cities)\n",
      "Indexed 7100 movies (last Le pélican)\n"
     ]
    },
    {
     "name": "stderr",
     "output_type": "stream",
     "text": [
      " 26%|██▋       | 7366/27846 [00:08<00:18, 1089.08it/s]"
     ]
    },
    {
     "name": "stdout",
     "output_type": "stream",
     "text": [
      "Indexed 7200 movies (last 20,000 Leagues Under the Sea)\n",
      "Indexed 7300 movies (last Deuces Wild)\n"
     ]
    },
    {
     "name": "stderr",
     "output_type": "stream",
     "text": [
      " 27%|██▋       | 7610/27846 [00:08<00:20, 968.04it/s] "
     ]
    },
    {
     "name": "stdout",
     "output_type": "stream",
     "text": [
      "Indexed 7400 movies (last Lost Horizon)\n",
      "Indexed 7500 movies (last The Detective 2)\n",
      "Indexed 7600 movies (last Absolute Aggression)\n"
     ]
    },
    {
     "name": "stderr",
     "output_type": "stream",
     "text": [
      "\r",
      " 28%|██▊       | 7810/27846 [00:09<00:19, 1003.75it/s]"
     ]
    },
    {
     "name": "stdout",
     "output_type": "stream",
     "text": [
      "Indexed 7700 movies (last A Fairly Odd Movie: Grow Up, Timmy Turner!)\n",
      "Indexed 7800 movies (last How Much Do You Love Me?)\n",
      "Indexed 7900 movies (last The Snows of Kilimanjaro)\n"
     ]
    },
    {
     "name": "stderr",
     "output_type": "stream",
     "text": [
      " 30%|██▉       | 8220/27846 [00:09<00:19, 1032.00it/s]"
     ]
    },
    {
     "name": "stdout",
     "output_type": "stream",
     "text": [
      "Indexed 8000 movies (last The Wrong Guys)\n",
      "Indexed 8100 movies (last BFFs)\n",
      "Indexed 8200 movies (last Foreverland)\n"
     ]
    },
    {
     "name": "stderr",
     "output_type": "stream",
     "text": [
      "\r",
      " 30%|███       | 8411/27846 [00:09<00:18, 1061.00it/s]"
     ]
    },
    {
     "name": "stdout",
     "output_type": "stream",
     "text": [
      "Indexed 8300 movies (last Rebellion)\n",
      "Indexed 8400 movies (last Air Crew)\n",
      "Indexed 8500 movies (last Down in the Valley)\n"
     ]
    },
    {
     "name": "stderr",
     "output_type": "stream",
     "text": [
      " 32%|███▏      | 8814/27846 [00:09<00:17, 1101.18it/s]"
     ]
    },
    {
     "name": "stdout",
     "output_type": "stream",
     "text": [
      "Indexed 8600 movies (last Female Agents)\n",
      "Indexed 8700 movies (last Come Dance with Me!)\n",
      "Indexed 8800 movies (last Versailles)\n"
     ]
    },
    {
     "name": "stderr",
     "output_type": "stream",
     "text": [
      "\r",
      " 32%|███▏      | 9015/27846 [00:10<00:17, 1070.54it/s]"
     ]
    },
    {
     "name": "stdout",
     "output_type": "stream",
     "text": [
      "Indexed 8900 movies (last Girls on Top)\n",
      "Indexed 9000 movies (last Voll Normaaal)\n",
      "Indexed 9100 movies (last Unrated II: Scary as Hell)\n"
     ]
    },
    {
     "name": "stderr",
     "output_type": "stream",
     "text": [
      " 34%|███▎      | 9348/27846 [00:10<00:18, 1013.04it/s]"
     ]
    },
    {
     "name": "stdout",
     "output_type": "stream",
     "text": [
      "Indexed 9200 movies (last The Flight of the Phoenix)\n",
      "Indexed 9300 movies (last DragonHeart: A New Beginning)\n",
      "Indexed 9400 movies (last Empire of the Wolves)\n"
     ]
    },
    {
     "name": "stderr",
     "output_type": "stream",
     "text": [
      " 35%|███▍      | 9717/27846 [00:10<00:17, 1013.15it/s]"
     ]
    },
    {
     "name": "stdout",
     "output_type": "stream",
     "text": [
      "Indexed 9500 movies (last Searching for Debra Winger)\n",
      "Indexed 9600 movies (last Swimming Pool)\n",
      "Indexed 9700 movies (last Bomber)\n"
     ]
    },
    {
     "name": "stderr",
     "output_type": "stream",
     "text": [
      "\r",
      " 36%|███▌      | 9917/27846 [00:11<00:17, 998.33it/s] "
     ]
    },
    {
     "name": "stdout",
     "output_type": "stream",
     "text": [
      "Indexed 9800 movies (last Bullet in the Head)\n",
      "Indexed 9900 movies (last Club Fed)\n",
      "Indexed 10000 movies (last Titus)\n"
     ]
    },
    {
     "name": "stderr",
     "output_type": "stream",
     "text": [
      " 37%|███▋      | 10319/27846 [00:11<00:16, 1061.10it/s]"
     ]
    },
    {
     "name": "stdout",
     "output_type": "stream",
     "text": [
      "Indexed 10100 movies (last Revolution)\n",
      "Indexed 10200 movies (last The Last Dispatch)\n",
      "Indexed 10300 movies (last Wings of Courage)\n"
     ]
    },
    {
     "name": "stderr",
     "output_type": "stream",
     "text": [
      " 38%|███▊      | 10676/27846 [00:11<00:14, 1174.20it/s]"
     ]
    },
    {
     "name": "stdout",
     "output_type": "stream",
     "text": [
      "Indexed 10400 movies (last Gaslight)\n",
      "Indexed 10500 movies (last Frenchmen 2)\n",
      "Indexed 10600 movies (last Closing the Ring)\n"
     ]
    },
    {
     "name": "stderr",
     "output_type": "stream",
     "text": [
      " 39%|███▉      | 10931/27846 [00:11<00:15, 1059.09it/s]"
     ]
    },
    {
     "name": "stdout",
     "output_type": "stream",
     "text": [
      "Indexed 10700 movies (last 3:10 to Yuma)\n",
      "Indexed 10800 movies (last Harvest)\n",
      "Indexed 10900 movies (last Song of the Thin Man)\n"
     ]
    },
    {
     "name": "stderr",
     "output_type": "stream",
     "text": [
      " 40%|████      | 11223/27846 [00:12<00:15, 1053.24it/s]"
     ]
    },
    {
     "name": "stdout",
     "output_type": "stream",
     "text": [
      "Indexed 11000 movies (last Nobody Knows Anything!)\n",
      "Indexed 11100 movies (last Dirty Deeds)\n",
      "Indexed 11200 movies (last The Adventure of Faustus Bidgood)\n"
     ]
    },
    {
     "name": "stderr",
     "output_type": "stream",
     "text": [
      "\r",
      " 41%|████      | 11426/27846 [00:12<00:14, 1104.10it/s]"
     ]
    },
    {
     "name": "stdout",
     "output_type": "stream",
     "text": [
      "Indexed 11300 movies (last Running Time)\n",
      "Indexed 11400 movies (last While She Was Out)\n",
      "Indexed 11500 movies (last What?)\n"
     ]
    },
    {
     "name": "stderr",
     "output_type": "stream",
     "text": [
      " 42%|████▏     | 11739/27846 [00:12<00:14, 1089.71it/s]"
     ]
    },
    {
     "name": "stdout",
     "output_type": "stream",
     "text": [
      "Indexed 11600 movies (last The Legend of Hell House)\n",
      "Indexed 11700 movies (last When Worlds Collide)\n"
     ]
    },
    {
     "name": "stderr",
     "output_type": "stream",
     "text": [
      " 43%|████▎     | 12028/27846 [00:12<00:15, 1041.15it/s]"
     ]
    },
    {
     "name": "stdout",
     "output_type": "stream",
     "text": [
      "Indexed 11800 movies (last The Girl in the Red Velvet Swing)\n",
      "Indexed 11900 movies (last 9 Souls)\n",
      "Indexed 12000 movies (last Paradise Lost 2: Revelations)\n"
     ]
    },
    {
     "name": "stderr",
     "output_type": "stream",
     "text": [
      "\r",
      " 44%|████▍     | 12228/27846 [00:13<00:14, 1073.03it/s]"
     ]
    },
    {
     "name": "stdout",
     "output_type": "stream",
     "text": [
      "Indexed 12100 movies (last Riki-Oh: The Story of Ricky)\n",
      "Indexed 12200 movies (last In Vogue: The Editor’s Eye)\n",
      "Indexed 12300 movies (last Smart Money)\n"
     ]
    },
    {
     "name": "stderr",
     "output_type": "stream",
     "text": [
      " 45%|████▌     | 12644/27846 [00:13<00:14, 1062.90it/s]"
     ]
    },
    {
     "name": "stdout",
     "output_type": "stream",
     "text": [
      "Indexed 12400 movies (last Manda Bala (Send a Bullet))\n",
      "Indexed 12500 movies (last Something to Talk About)\n",
      "Indexed 12600 movies (last Donald Glover: Weirdo)\n"
     ]
    },
    {
     "name": "stderr",
     "output_type": "stream",
     "text": [
      " 46%|████▌     | 12855/27846 [00:13<00:14, 1035.04it/s]"
     ]
    },
    {
     "name": "stdout",
     "output_type": "stream",
     "text": [
      "Indexed 12700 movies (last Demon Seed)\n",
      "Indexed 12800 movies (last Zig Zag)\n",
      "Indexed 12900 movies (last Going Overboard)\n"
     ]
    },
    {
     "name": "stderr",
     "output_type": "stream",
     "text": [
      " 47%|████▋     | 13132/27846 [00:14<00:14, 1003.87it/s]"
     ]
    },
    {
     "name": "stdout",
     "output_type": "stream",
     "text": [
      "Indexed 13000 movies (last Mahler)\n",
      "Indexed 13100 movies (last Carriage to Vienna)\n",
      "Indexed 13200 movies (last The Big Clock)\n"
     ]
    },
    {
     "name": "stderr",
     "output_type": "stream",
     "text": [
      " 49%|████▊     | 13533/27846 [00:14<00:13, 1062.76it/s]"
     ]
    },
    {
     "name": "stdout",
     "output_type": "stream",
     "text": [
      "Indexed 13300 movies (last Arsenal)\n",
      "Indexed 13400 movies (last First Descent)\n",
      "Indexed 13500 movies (last Deep Cover)\n"
     ]
    },
    {
     "name": "stderr",
     "output_type": "stream",
     "text": [
      "\r",
      " 49%|████▉     | 13734/27846 [00:14<00:13, 1041.11it/s]"
     ]
    },
    {
     "name": "stdout",
     "output_type": "stream",
     "text": [
      "Indexed 13600 movies (last Mixed Blood)\n",
      "Indexed 13700 movies (last Red Psalm)\n"
     ]
    },
    {
     "name": "stderr",
     "output_type": "stream",
     "text": [
      " 50%|█████     | 13986/27846 [00:14<00:12, 1124.24it/s]"
     ]
    },
    {
     "name": "stdout",
     "output_type": "stream",
     "text": [
      "Indexed 13800 movies (last Bad Biology)\n",
      "Indexed 13900 movies (last Shirin)\n",
      "Indexed 14000 movies (last Rhyme & Reason)\n"
     ]
    },
    {
     "name": "stderr",
     "output_type": "stream",
     "text": [
      "\r",
      " 51%|█████     | 14135/27846 [00:14<00:13, 1005.02it/s]"
     ]
    },
    {
     "name": "stdout",
     "output_type": "stream",
     "text": [
      "Indexed 14100 movies (last Tuareg: Desert Warrior)\n",
      "Indexed 14200 movies (last Havoc)\n"
     ]
    },
    {
     "name": "stderr",
     "output_type": "stream",
     "text": [
      " 52%|█████▏    | 14535/27846 [00:15<00:13, 1022.95it/s]"
     ]
    },
    {
     "name": "stdout",
     "output_type": "stream",
     "text": [
      "Indexed 14300 movies (last Fire Over England)\n",
      "Indexed 14400 movies (last Impulse)\n",
      "Indexed 14500 movies (last Cheers For Miss Bishop)\n"
     ]
    },
    {
     "name": "stderr",
     "output_type": "stream",
     "text": [
      " 53%|█████▎    | 14869/27846 [00:15<00:13, 968.50it/s] "
     ]
    },
    {
     "name": "stdout",
     "output_type": "stream",
     "text": [
      "Indexed 14600 movies (last Don't Bother to Knock)\n",
      "Indexed 14700 movies (last Brides)\n",
      "Indexed 14800 movies (last The Land Before Time XI: Invasion of the Tinysauruses)\n"
     ]
    },
    {
     "name": "stderr",
     "output_type": "stream",
     "text": [
      "\r",
      " 54%|█████▍    | 15037/27846 [00:15<00:13, 981.39it/s]"
     ]
    },
    {
     "name": "stdout",
     "output_type": "stream",
     "text": [
      "Indexed 14900 movies (last The Gnome-Mobile)\n",
      "Indexed 15000 movies (last Miracles: Mr. Canton and Lady Rose)\n",
      "Indexed 15100 movies (last An Occurrence at Owl Creek Bridge)\n"
     ]
    },
    {
     "name": "stderr",
     "output_type": "stream",
     "text": [
      " 55%|█████▌    | 15438/27846 [00:16<00:12, 1024.33it/s]"
     ]
    },
    {
     "name": "stdout",
     "output_type": "stream",
     "text": [
      "Indexed 15200 movies (last 16 to Life)\n",
      "Indexed 15300 movies (last Week-End at the Waldorf)\n",
      "Indexed 15400 movies (last Made in Hong Kong)\n"
     ]
    },
    {
     "name": "stderr",
     "output_type": "stream",
     "text": [
      "\r",
      " 56%|█████▌    | 15638/27846 [00:16<00:12, 1004.03it/s]"
     ]
    },
    {
     "name": "stdout",
     "output_type": "stream",
     "text": [
      "Indexed 15500 movies (last Viva Cuba)\n",
      "Indexed 15600 movies (last Big Pun: The Legacy)\n"
     ]
    },
    {
     "name": "stderr",
     "output_type": "stream",
     "text": [
      " 57%|█████▋    | 15845/27846 [00:16<00:12, 975.69it/s] "
     ]
    },
    {
     "name": "stdout",
     "output_type": "stream",
     "text": [
      "Indexed 15700 movies (last Hurt)\n",
      "Indexed 15800 movies (last The Mudge Boy)\n"
     ]
    },
    {
     "name": "stderr",
     "output_type": "stream",
     "text": [
      " 58%|█████▊    | 16136/27846 [00:16<00:11, 1050.44it/s]"
     ]
    },
    {
     "name": "stdout",
     "output_type": "stream",
     "text": [
      "Indexed 15900 movies (last The Hollywood Complex)\n",
      "Indexed 16000 movies (last The Great Northfield Minnesota Raid)\n",
      "Indexed 16100 movies (last Lotta Leaves Home)\n"
     ]
    },
    {
     "name": "stderr",
     "output_type": "stream",
     "text": [
      " 59%|█████▉    | 16364/27846 [00:17<00:12, 941.12it/s] "
     ]
    },
    {
     "name": "stdout",
     "output_type": "stream",
     "text": [
      "Indexed 16200 movies (last Just One of the Girls)\n",
      "Indexed 16300 movies (last Which Way Is The Front Line From Here? The Life and Time of Tim Hetherington)\n",
      "Indexed 16400 movies (last The Ladies Man)\n"
     ]
    },
    {
     "name": "stderr",
     "output_type": "stream",
     "text": [
      " 60%|██████    | 16741/27846 [00:17<00:11, 1004.35it/s]"
     ]
    },
    {
     "name": "stdout",
     "output_type": "stream",
     "text": [
      "Indexed 16500 movies (last Assassin of the Tsar)\n",
      "Indexed 16600 movies (last The Adventures of Tarzan)\n",
      "Indexed 16700 movies (last Vendetta)\n"
     ]
    },
    {
     "name": "stderr",
     "output_type": "stream",
     "text": [
      " 61%|██████▏   | 17099/27846 [00:17<00:09, 1176.01it/s]"
     ]
    },
    {
     "name": "stdout",
     "output_type": "stream",
     "text": [
      "Indexed 16800 movies (last Trucker)\n",
      "Indexed 16900 movies (last Branded)\n",
      "Indexed 17000 movies (last Mariage à Mendoza)\n"
     ]
    },
    {
     "name": "stderr",
     "output_type": "stream",
     "text": [
      "\r",
      " 62%|██████▏   | 17241/27846 [00:17<00:10, 1049.88it/s]"
     ]
    },
    {
     "name": "stdout",
     "output_type": "stream",
     "text": [
      "Indexed 17100 movies (last Love Bites)\n",
      "Indexed 17200 movies (last The Ballad of Ramblin' Jack)\n",
      "Indexed 17300 movies (last Blade of the Ripper)\n"
     ]
    },
    {
     "name": "stderr",
     "output_type": "stream",
     "text": [
      " 63%|██████▎   | 17556/27846 [00:18<00:09, 1092.81it/s]"
     ]
    },
    {
     "name": "stdout",
     "output_type": "stream",
     "text": [
      "Indexed 17400 movies (last Kiler)\n",
      "Indexed 17500 movies (last Kaïrat)\n",
      "Indexed 17600 movies (last Body Bags)\n"
     ]
    },
    {
     "name": "stderr",
     "output_type": "stream",
     "text": [
      " 64%|██████▍   | 17875/27846 [00:18<00:08, 1152.39it/s]"
     ]
    },
    {
     "name": "stdout",
     "output_type": "stream",
     "text": [
      "Indexed 17700 movies (last Dave Attell: Captain Miserable)\n",
      "Indexed 17800 movies (last Wodehouse In Exile)\n"
     ]
    },
    {
     "name": "stderr",
     "output_type": "stream",
     "text": [
      " 65%|██████▌   | 18111/27846 [00:18<00:08, 1125.56it/s]"
     ]
    },
    {
     "name": "stdout",
     "output_type": "stream",
     "text": [
      "Indexed 17900 movies (last Duel in the Sun)\n",
      "Indexed 18000 movies (last The Message)\n"
     ]
    },
    {
     "name": "stderr",
     "output_type": "stream",
     "text": [
      " 66%|██████▌   | 18333/27846 [00:18<00:09, 1040.75it/s]"
     ]
    },
    {
     "name": "stdout",
     "output_type": "stream",
     "text": [
      "Indexed 18100 movies (last Shock)\n",
      "Indexed 18200 movies (last Harvey)\n"
     ]
    },
    {
     "name": "stderr",
     "output_type": "stream",
     "text": [
      " 67%|██████▋   | 18545/27846 [00:19<00:10, 858.32it/s] "
     ]
    },
    {
     "name": "stdout",
     "output_type": "stream",
     "text": [
      "Indexed 18300 movies (last The Worthless)\n",
      "Indexed 18400 movies (last Queen of the Mountains)\n",
      "Indexed 18500 movies (last Urgh! A Music War)\n"
     ]
    },
    {
     "name": "stderr",
     "output_type": "stream",
     "text": [
      " 68%|██████▊   | 18845/27846 [00:19<00:09, 952.18it/s]"
     ]
    },
    {
     "name": "stdout",
     "output_type": "stream",
     "text": [
      "Indexed 18600 movies (last Wuthering Heights)\n",
      "Indexed 18700 movies (last Gabriel Over the White House)\n",
      "Indexed 18800 movies (last Friendship!)\n"
     ]
    },
    {
     "name": "stderr",
     "output_type": "stream",
     "text": [
      " 69%|██████▉   | 19148/27846 [00:19<00:08, 979.96it/s] "
     ]
    },
    {
     "name": "stdout",
     "output_type": "stream",
     "text": [
      "Indexed 18900 movies (last Mía)\n",
      "Indexed 19000 movies (last Danger! 50,000 Zombies)\n",
      "Indexed 19100 movies (last Top Dog)\n"
     ]
    },
    {
     "name": "stderr",
     "output_type": "stream",
     "text": [
      " 70%|██████▉   | 19379/27846 [00:19<00:08, 1051.44it/s]"
     ]
    },
    {
     "name": "stdout",
     "output_type": "stream",
     "text": [
      "Indexed 19200 movies (last Reaching for the Moon)\n",
      "Indexed 19300 movies (last A Child's Christmas in Wales)\n",
      "Indexed 19400 movies (last The Dog Who Stopped the War)\n"
     ]
    },
    {
     "name": "stderr",
     "output_type": "stream",
     "text": [
      " 71%|███████   | 19668/27846 [00:20<00:08, 912.94it/s] "
     ]
    },
    {
     "name": "stdout",
     "output_type": "stream",
     "text": [
      "Indexed 19500 movies (last Police Python 357)\n",
      "Indexed 19600 movies (last Accidents Happen)\n",
      "Indexed 19700 movies (last Changing Times)\n"
     ]
    },
    {
     "name": "stderr",
     "output_type": "stream",
     "text": [
      " 72%|███████▏  | 19957/27846 [00:20<00:08, 911.66it/s]"
     ]
    },
    {
     "name": "stdout",
     "output_type": "stream",
     "text": [
      "Indexed 19800 movies (last The Ape)\n",
      "Indexed 19900 movies (last Heartbreak Hotel)\n"
     ]
    },
    {
     "name": "stderr",
     "output_type": "stream",
     "text": [
      " 72%|███████▏  | 20155/27846 [00:20<00:08, 891.82it/s]"
     ]
    },
    {
     "name": "stdout",
     "output_type": "stream",
     "text": [
      "Indexed 20000 movies (last Left Behind III: World at War)\n",
      "Indexed 20100 movies (last Dragon Ball Z: Lord Slug)\n"
     ]
    },
    {
     "name": "stderr",
     "output_type": "stream",
     "text": [
      "\r",
      " 73%|███████▎  | 20256/27846 [00:20<00:08, 886.10it/s]"
     ]
    },
    {
     "name": "stdout",
     "output_type": "stream",
     "text": [
      "Indexed 20200 movies (last The Adventures of Sherlock Holmes)\n",
      "Indexed 20300 movies (last Billy's Hollywood Screen Kiss)\n"
     ]
    },
    {
     "name": "stderr",
     "output_type": "stream",
     "text": [
      " 74%|███████▍  | 20557/27846 [00:21<00:08, 898.45it/s]"
     ]
    },
    {
     "name": "stdout",
     "output_type": "stream",
     "text": [
      "Indexed 20400 movies (last Short Night of Glass Dolls)\n",
      "Indexed 20500 movies (last Kawa)\n"
     ]
    },
    {
     "name": "stderr",
     "output_type": "stream",
     "text": [
      " 75%|███████▍  | 20777/27846 [00:21<00:07, 959.37it/s]"
     ]
    },
    {
     "name": "stdout",
     "output_type": "stream",
     "text": [
      "Indexed 20600 movies (last Bears)\n",
      "Indexed 20700 movies (last Pyrates)\n"
     ]
    },
    {
     "name": "stderr",
     "output_type": "stream",
     "text": [
      " 75%|███████▌  | 20973/27846 [00:21<00:07, 893.13it/s]"
     ]
    },
    {
     "name": "stdout",
     "output_type": "stream",
     "text": [
      "Indexed 20800 movies (last Bastard Out of Carolina)\n",
      "Indexed 20900 movies (last The Mole People)\n"
     ]
    },
    {
     "name": "stderr",
     "output_type": "stream",
     "text": [
      " 76%|███████▌  | 21160/27846 [00:21<00:07, 889.09it/s]"
     ]
    },
    {
     "name": "stdout",
     "output_type": "stream",
     "text": [
      "Indexed 21000 movies (last Till Human Voices Wake Us)\n",
      "Indexed 21100 movies (last It's a Wonderful Afterlife)\n"
     ]
    },
    {
     "name": "stderr",
     "output_type": "stream",
     "text": [
      " 77%|███████▋  | 21360/27846 [00:22<00:07, 886.49it/s]"
     ]
    },
    {
     "name": "stdout",
     "output_type": "stream",
     "text": [
      "Indexed 21200 movies (last The Bingo Long Traveling All-Stars & Motor Kings)\n",
      "Indexed 21300 movies (last Ciao! Manhattan)\n"
     ]
    },
    {
     "name": "stderr",
     "output_type": "stream",
     "text": [
      " 77%|███████▋  | 21561/27846 [00:22<00:07, 844.78it/s]"
     ]
    },
    {
     "name": "stdout",
     "output_type": "stream",
     "text": [
      "Indexed 21400 movies (last The Night They Raided Minsky's)\n",
      "Indexed 21500 movies (last The Girl Can't Help It)\n"
     ]
    },
    {
     "name": "stderr",
     "output_type": "stream",
     "text": [
      " 78%|███████▊  | 21761/27846 [00:22<00:06, 886.46it/s]"
     ]
    },
    {
     "name": "stdout",
     "output_type": "stream",
     "text": [
      "Indexed 21600 movies (last Sam Peckinpah's West: Legacy of a Hollywood Renegade)\n",
      "Indexed 21700 movies (last A Guy Named Joe)\n"
     ]
    },
    {
     "name": "stderr",
     "output_type": "stream",
     "text": [
      " 79%|███████▉  | 21961/27846 [00:22<00:06, 925.23it/s]"
     ]
    },
    {
     "name": "stdout",
     "output_type": "stream",
     "text": [
      "Indexed 21800 movies (last Odd Man Out)\n",
      "Indexed 21900 movies (last The Rise of Catherine the Great)\n"
     ]
    },
    {
     "name": "stderr",
     "output_type": "stream",
     "text": [
      " 80%|███████▉  | 22161/27846 [00:23<00:06, 857.48it/s]"
     ]
    },
    {
     "name": "stdout",
     "output_type": "stream",
     "text": [
      "Indexed 22000 movies (last The Girl of the Golden West)\n",
      "Indexed 22100 movies (last The Killing of John Lennon)\n"
     ]
    },
    {
     "name": "stderr",
     "output_type": "stream",
     "text": [
      " 80%|████████  | 22388/27846 [00:23<00:05, 968.20it/s]"
     ]
    },
    {
     "name": "stdout",
     "output_type": "stream",
     "text": [
      "Indexed 22200 movies (last Twist)\n",
      "Indexed 22300 movies (last After Life)\n"
     ]
    },
    {
     "name": "stderr",
     "output_type": "stream",
     "text": [
      " 81%|████████  | 22580/27846 [00:23<00:06, 810.59it/s]"
     ]
    },
    {
     "name": "stdout",
     "output_type": "stream",
     "text": [
      "Indexed 22400 movies (last The Great Ecstasy of Robert Carmichael)\n",
      "Indexed 22500 movies (last Do Not Disturb)\n"
     ]
    },
    {
     "name": "stderr",
     "output_type": "stream",
     "text": [
      " 82%|████████▏ | 22762/27846 [00:23<00:06, 809.02it/s]"
     ]
    },
    {
     "name": "stdout",
     "output_type": "stream",
     "text": [
      "Indexed 22600 movies (last Something Real and Good)\n",
      "Indexed 22700 movies (last CBGB)\n"
     ]
    },
    {
     "name": "stderr",
     "output_type": "stream",
     "text": [
      " 82%|████████▏ | 22962/27846 [00:24<00:05, 819.91it/s]"
     ]
    },
    {
     "name": "stdout",
     "output_type": "stream",
     "text": [
      "Indexed 22800 movies (last California Solo)\n",
      "Indexed 22900 movies (last Richard III)\n"
     ]
    },
    {
     "name": "stderr",
     "output_type": "stream",
     "text": [
      " 83%|████████▎ | 23162/27846 [00:24<00:05, 846.87it/s]"
     ]
    },
    {
     "name": "stdout",
     "output_type": "stream",
     "text": [
      "Indexed 23000 movies (last She's Out of Control)\n",
      "Indexed 23100 movies (last Dead End Drive-In)\n"
     ]
    },
    {
     "name": "stderr",
     "output_type": "stream",
     "text": [
      " 84%|████████▍ | 23362/27846 [00:24<00:04, 899.01it/s]"
     ]
    },
    {
     "name": "stdout",
     "output_type": "stream",
     "text": [
      "Indexed 23200 movies (last Venus Boyz)\n",
      "Indexed 23300 movies (last My Giant)\n"
     ]
    },
    {
     "name": "stderr",
     "output_type": "stream",
     "text": [
      " 85%|████████▍ | 23656/27846 [00:24<00:03, 1087.77it/s]"
     ]
    },
    {
     "name": "stdout",
     "output_type": "stream",
     "text": [
      "Indexed 23400 movies (last The Beekeeper)\n",
      "Indexed 23500 movies (last The Bobo)\n",
      "Indexed 23600 movies (last Amen)\n"
     ]
    },
    {
     "name": "stderr",
     "output_type": "stream",
     "text": [
      " 86%|████████▌ | 23883/27846 [00:24<00:04, 895.97it/s] "
     ]
    },
    {
     "name": "stdout",
     "output_type": "stream",
     "text": [
      "Indexed 23700 movies (last Favela Rising)\n",
      "Indexed 23800 movies (last The 4th Floor)\n"
     ]
    },
    {
     "name": "stderr",
     "output_type": "stream",
     "text": [
      " 86%|████████▋ | 24085/27846 [00:25<00:04, 891.89it/s]"
     ]
    },
    {
     "name": "stdout",
     "output_type": "stream",
     "text": [
      "Indexed 23900 movies (last Chisum)\n",
      "Indexed 24000 movies (last Boulevard)\n"
     ]
    },
    {
     "name": "stderr",
     "output_type": "stream",
     "text": [
      " 87%|████████▋ | 24272/27846 [00:25<00:04, 851.63it/s]"
     ]
    },
    {
     "name": "stdout",
     "output_type": "stream",
     "text": [
      "Indexed 24100 movies (last Ingmar Bergman Makes a Movie)\n",
      "Indexed 24200 movies (last The Play House)\n"
     ]
    },
    {
     "name": "stderr",
     "output_type": "stream",
     "text": [
      " 88%|████████▊ | 24468/27846 [00:25<00:03, 855.97it/s]"
     ]
    },
    {
     "name": "stdout",
     "output_type": "stream",
     "text": [
      "Indexed 24300 movies (last Of Mice and Men)\n",
      "Indexed 24400 movies (last Dr. Gillespie's New Assistant)\n"
     ]
    },
    {
     "name": "stderr",
     "output_type": "stream",
     "text": [
      " 89%|████████▊ | 24670/27846 [00:25<00:03, 876.78it/s]"
     ]
    },
    {
     "name": "stdout",
     "output_type": "stream",
     "text": [
      "Indexed 24500 movies (last Rat)\n",
      "Indexed 24600 movies (last Unstrung Heroes)\n"
     ]
    },
    {
     "name": "stderr",
     "output_type": "stream",
     "text": [
      " 89%|████████▉ | 24871/27846 [00:26<00:03, 876.80it/s]"
     ]
    },
    {
     "name": "stdout",
     "output_type": "stream",
     "text": [
      "Indexed 24700 movies (last Crazy Sexy Cancer)\n",
      "Indexed 24800 movies (last High and Dizzy)\n"
     ]
    },
    {
     "name": "stderr",
     "output_type": "stream",
     "text": [
      " 90%|█████████ | 25072/27846 [00:26<00:03, 882.94it/s]"
     ]
    },
    {
     "name": "stdout",
     "output_type": "stream",
     "text": [
      "Indexed 24900 movies (last The Murder of Fred Hampton)\n",
      "Indexed 25000 movies (last Holiday for Drumsticks)\n"
     ]
    },
    {
     "name": "stderr",
     "output_type": "stream",
     "text": [
      " 91%|█████████ | 25272/27846 [00:26<00:02, 904.45it/s]"
     ]
    },
    {
     "name": "stdout",
     "output_type": "stream",
     "text": [
      "Indexed 25100 movies (last China Blue)\n",
      "Indexed 25200 movies (last Pancho, el perro millonario)\n"
     ]
    },
    {
     "name": "stderr",
     "output_type": "stream",
     "text": [
      "\r",
      " 91%|█████████▏| 25472/27846 [00:26<00:02, 915.13it/s]"
     ]
    },
    {
     "name": "stdout",
     "output_type": "stream",
     "text": [
      "Indexed 25300 movies (last The Diary of Anne Frank)\n",
      "Indexed 25400 movies (last To Be Twenty)\n"
     ]
    },
    {
     "name": "stderr",
     "output_type": "stream",
     "text": [
      " 92%|█████████▏| 25675/27846 [00:26<00:02, 892.95it/s]"
     ]
    },
    {
     "name": "stdout",
     "output_type": "stream",
     "text": [
      "Indexed 25500 movies (last Empire of Silver)\n",
      "Indexed 25600 movies (last Knockout)\n"
     ]
    },
    {
     "name": "stderr",
     "output_type": "stream",
     "text": [
      " 93%|█████████▎| 25875/27846 [00:27<00:02, 846.60it/s]"
     ]
    },
    {
     "name": "stdout",
     "output_type": "stream",
     "text": [
      "Indexed 25700 movies (last Speed & Angels)\n",
      "Indexed 25800 movies (last Meek's Cutoff)\n"
     ]
    },
    {
     "name": "stderr",
     "output_type": "stream",
     "text": [
      " 94%|█████████▎| 26078/27846 [00:27<00:02, 846.53it/s]"
     ]
    },
    {
     "name": "stdout",
     "output_type": "stream",
     "text": [
      "Indexed 25900 movies (last Sharpe's Sword)\n",
      "Indexed 26000 movies (last May 18)\n"
     ]
    },
    {
     "name": "stderr",
     "output_type": "stream",
     "text": [
      " 94%|█████████▍| 26279/27846 [00:27<00:01, 875.76it/s]"
     ]
    },
    {
     "name": "stdout",
     "output_type": "stream",
     "text": [
      "Indexed 26100 movies (last Dealer)\n",
      "Indexed 26200 movies (last Carmen Miranda: Bananas Is My Business)\n"
     ]
    },
    {
     "name": "stderr",
     "output_type": "stream",
     "text": [
      " 95%|█████████▌| 26479/27846 [00:27<00:01, 881.00it/s]"
     ]
    },
    {
     "name": "stdout",
     "output_type": "stream",
     "text": [
      "Indexed 26300 movies (last Il figlio dello sceicco)\n",
      "Indexed 26400 movies (last Muddy River)\n"
     ]
    },
    {
     "name": "stderr",
     "output_type": "stream",
     "text": [
      " 96%|█████████▌| 26679/27846 [00:28<00:01, 902.41it/s]"
     ]
    },
    {
     "name": "stdout",
     "output_type": "stream",
     "text": [
      "Indexed 26500 movies (last Judy Moody and the Not Bummer Summer)\n",
      "Indexed 26600 movies (last The Naughty Room)\n"
     ]
    },
    {
     "name": "stderr",
     "output_type": "stream",
     "text": [
      " 97%|█████████▋| 26880/27846 [00:28<00:01, 842.79it/s]"
     ]
    },
    {
     "name": "stdout",
     "output_type": "stream",
     "text": [
      "Indexed 26700 movies (last Time Without Pity)\n",
      "Indexed 26800 movies (last L'outremangeur)\n"
     ]
    },
    {
     "name": "stderr",
     "output_type": "stream",
     "text": [
      " 97%|█████████▋| 27083/27846 [00:28<00:00, 852.76it/s]"
     ]
    },
    {
     "name": "stdout",
     "output_type": "stream",
     "text": [
      "Indexed 26900 movies (last Buddha Collapsed Out of Shame)\n",
      "Indexed 27000 movies (last Uno contro l'altro praticamente amici)\n"
     ]
    },
    {
     "name": "stderr",
     "output_type": "stream",
     "text": [
      " 98%|█████████▊| 27285/27846 [00:28<00:00, 840.95it/s]"
     ]
    },
    {
     "name": "stdout",
     "output_type": "stream",
     "text": [
      "Indexed 27100 movies (last The Talent Given Us)\n",
      "Indexed 27200 movies (last Paris Trout)\n"
     ]
    },
    {
     "name": "stderr",
     "output_type": "stream",
     "text": [
      " 99%|█████████▊| 27485/27846 [00:29<00:00, 809.75it/s]"
     ]
    },
    {
     "name": "stdout",
     "output_type": "stream",
     "text": [
      "Indexed 27300 movies (last The Crystal Ball)\n",
      "Indexed 27400 movies (last West Is West)\n"
     ]
    },
    {
     "name": "stderr",
     "output_type": "stream",
     "text": [
      " 99%|█████████▉| 27687/27846 [00:29<00:00, 837.37it/s]"
     ]
    },
    {
     "name": "stdout",
     "output_type": "stream",
     "text": [
      "Indexed 27500 movies (last Breaktime)\n",
      "Indexed 27600 movies (last Two for the Seesaw)\n"
     ]
    },
    {
     "name": "stderr",
     "output_type": "stream",
     "text": [
      "100%|██████████| 27846/27846 [00:29<00:00, 944.02it/s]\n"
     ]
    },
    {
     "name": "stdout",
     "output_type": "stream",
     "text": [
      "Indexed 27700 movies (last Fingers at the Window)\n",
      "Streaming Bulk index DONE tmdb [Status: 201]\n",
      "Done\n"
     ]
    }
   ],
   "source": [
    "from ltr import download\n",
    "from ltr.index import rebuild\n",
    "from ltr.helpers.movies import indexable_movies\n",
    "\n",
    "corpus='http://es-learn-to-rank.labs.o19s.com/tmdb.json'\n",
    "judgments='http://es-learn-to-rank.labs.o19s.com/title_judgments.txt'\n",
    "download([corpus, judgments], dest='data/');\n",
    "\n",
    "movies=indexable_movies(movies='data/tmdb.json')\n",
    "rebuild(client, index='tmdb', doc_src=movies)"
   ]
  },
  {
   "cell_type": "markdown",
   "metadata": {},
   "source": [
    "## Features for movie titles\n",
    "\n",
    "We'll be searching movie titles (think searching for a specific movie on Netflix). And we have a set of judgments around the appropriatte movie to return. IE search for \"Star Wars\" return good star wars matches, in quality order...\n",
    "\n",
    "These cover various aspects of the problem (searching title by phrase, title bm25 score, release date, etc). We'll use this to explore and analyze a simple model"
   ]
  },
  {
   "cell_type": "code",
   "execution_count": 2,
   "metadata": {},
   "outputs": [
    {
     "name": "stdout",
     "output_type": "stream",
     "text": [
      "Removed Default LTR feature store [Status: 200]\n",
      "Initialize Default LTR feature store [Status: 200]\n",
      "Create title feature set [Status: 201]\n"
     ]
    }
   ],
   "source": [
    "client.reset_ltr(index='tmdb')\n",
    "\n",
    "config = {\"validation\": {\n",
    "              \"index\": \"tmdb\",\n",
    "              \"params\": {\n",
    "                  \"keywords\": \"rambo\"\n",
    "              }\n",
    "    \n",
    "           },\n",
    "           \"featureset\": {\n",
    "            \"features\": [\n",
    "            { #1\n",
    "                \"name\": \"title_has_phrase\",\n",
    "                \"params\": [\"keywords\"],\n",
    "                \"template\": {\n",
    "                    \"constant_score\": {\n",
    "                        \"filter\": {\n",
    "                            \"match_phrase\": {\"title\": \"{{keywords}}\"}\n",
    "                        },\n",
    "                        \"boost\": 1.0\n",
    "                    }  \n",
    "                }\n",
    "            },\n",
    "            { #2\n",
    "                \"name\": \"title_has_terms\",\n",
    "                \"params\": [\"keywords\"],\n",
    "                \"template\": {\n",
    "                    \"constant_score\": {\n",
    "                        \"filter\": {\n",
    "                            \"match\": {\"title\": \"{{keywords}}\"}\n",
    "                        },\n",
    "                        \"boost\": 1.0\n",
    "                    }  \n",
    "                }\n",
    "            },\n",
    "            { #3\n",
    "                \"name\": \"title_bm25\",\n",
    "                \"params\": [\"keywords\"],\n",
    "                \"template\": {\n",
    "                    \"match\": {\"title\": \"{{keywords}}\"}\n",
    "                }\n",
    "            },\n",
    "            { #4\n",
    "                \"name\": \"overview_bm25\",\n",
    "                \"params\": [\"keywords\"],\n",
    "                \"template\": {\n",
    "                    \"match\": {\"overview\": \"{{keywords}}\"}\n",
    "                }\n",
    "            },\n",
    "            { #5\n",
    "                \"name\": \"overview_phrase_bm25\",\n",
    "                \"params\": [\"keywords\"],\n",
    "                \"template\": {\n",
    "                    \"match_phrase\": {\"overview\": \"{{keywords}}\"}\n",
    "                }\n",
    "            },\n",
    "            { #6\n",
    "                \"name\": \"title_fuzzy\",\n",
    "                \"params\": [\"keywords\"],\n",
    "                \"template\": {\n",
    "                    \"match\": {\"title\": \n",
    "                                {\"query\": \"{{keywords}}\",\n",
    "                                 \"fuzziness\": \"AUTO\"}}\n",
    "                }\n",
    "            },\n",
    "             { #7\n",
    "                \"name\": \"release_year\",\n",
    "                \"params\": [],\n",
    "                \"template\": {\n",
    "                    \"function_score\": {\n",
    "                        \"field_value_factor\": {\n",
    "                            \"field\": \"release_year\",\n",
    "                            \"missing\": 2000\n",
    "                        },\n",
    "                        \"query\": { \"match_all\": {} }\n",
    "                    }\n",
    "                }\n",
    "            }\n",
    "            \n",
    "            \n",
    "            ]\n",
    "    }}\n",
    "\n",
    "\n",
    "client.create_featureset(index='tmdb', name='title', ftr_config=config)"
   ]
  },
  {
   "cell_type": "markdown",
   "metadata": {},
   "source": [
    "## Training Set Generation\n",
    "\n",
    "Log out features for each of the above queries out to a training set file"
   ]
  },
  {
   "cell_type": "code",
   "execution_count": 3,
   "metadata": {},
   "outputs": [
    {
     "name": "stdout",
     "output_type": "stream",
     "text": [
      "Recognizing 40 queries...\n",
      "Searching tmdb - [{'terms': {'_id': [ [Status: 200]\n",
      "Discarded 0 Keep 41\n",
      "Searching tmdb - [{'terms': {'_id': [ [Status: 200]\n",
      "Discarded 0 Keep 41\n",
      "Searching tmdb - [{'terms': {'_id': [ [Status: 200]\n",
      "Discarded 0 Keep 39\n",
      "Searching tmdb - [{'terms': {'_id': [ [Status: 200]\n",
      "Discarded 0 Keep 28\n",
      "Searching tmdb - [{'terms': {'_id': [ [Status: 200]\n",
      "Discarded 0 Keep 33\n",
      "Searching tmdb - [{'terms': {'_id': [ [Status: 200]\n",
      "Discarded 0 Keep 39\n",
      "Searching tmdb - [{'terms': {'_id': [ [Status: 200]\n",
      "Discarded 0 Keep 35\n",
      "Searching tmdb - [{'terms': {'_id': [ [Status: 200]\n",
      "Discarded 0 Keep 38\n",
      "Searching tmdb - [{'terms': {'_id': [ [Status: 200]\n",
      "Discarded 0 Keep 35\n",
      "Searching tmdb - [{'terms': {'_id': [ [Status: 200]\n",
      "Discarded 0 Keep 31\n",
      "Searching tmdb - [{'terms': {'_id': [ [Status: 200]\n",
      "Discarded 0 Keep 28\n",
      "Searching tmdb - [{'terms': {'_id': [ [Status: 200]\n",
      "Discarded 0 Keep 34\n",
      "Searching tmdb - [{'terms': {'_id': [ [Status: 200]\n",
      "Discarded 0 Keep 31\n",
      "Searching tmdb - [{'terms': {'_id': [ [Status: 200]\n",
      "Discarded 0 Keep 30\n",
      "Searching tmdb - [{'terms': {'_id': [ [Status: 200]\n",
      "Discarded 0 Keep 35\n",
      "Searching tmdb - [{'terms': {'_id': [ [Status: 200]\n",
      "Discarded 0 Keep 31\n",
      "Searching tmdb - [{'terms': {'_id': [ [Status: 200]\n",
      "Discarded 0 Keep 31\n",
      "Searching tmdb - [{'terms': {'_id': [ [Status: 200]\n",
      "Discarded 0 Keep 35\n",
      "Searching tmdb - [{'terms': {'_id': [ [Status: 200]\n",
      "Discarded 0 Keep 32\n",
      "Searching tmdb - [{'terms': {'_id': [ [Status: 200]\n",
      "Discarded 0 Keep 31\n",
      "Searching tmdb - [{'terms': {'_id': [ [Status: 200]\n",
      "Discarded 0 Keep 30\n",
      "Searching tmdb - [{'terms': {'_id': [ [Status: 200]\n",
      "Discarded 0 Keep 44\n",
      "Searching tmdb - [{'terms': {'_id': [ [Status: 200]\n",
      "Discarded 0 Keep 34\n",
      "Searching tmdb - [{'terms': {'_id': [ [Status: 200]\n",
      "Discarded 0 Keep 35\n",
      "Searching tmdb - [{'terms': {'_id': [ [Status: 200]\n",
      "Discarded 0 Keep 33\n",
      "Searching tmdb - [{'terms': {'_id': [ [Status: 200]\n",
      "Discarded 0 Keep 38\n",
      "Searching tmdb - [{'terms': {'_id': [ [Status: 200]\n",
      "Discarded 0 Keep 38\n",
      "Searching tmdb - [{'terms': {'_id': [ [Status: 200]\n",
      "Discarded 0 Keep 40\n",
      "Searching tmdb - [{'terms': {'_id': [ [Status: 200]\n",
      "Discarded 0 Keep 40\n",
      "Searching tmdb - [{'terms': {'_id': [ [Status: 200]\n",
      "Discarded 0 Keep 30\n",
      "Searching tmdb - [{'terms': {'_id': [ [Status: 200]\n",
      "Discarded 0 Keep 41\n",
      "Searching tmdb - [{'terms': {'_id': [ [Status: 200]\n",
      "Discarded 0 Keep 28\n",
      "Searching tmdb - [{'terms': {'_id': [ [Status: 200]\n",
      "Discarded 0 Keep 41\n",
      "Searching tmdb - [{'terms': {'_id': [ [Status: 200]\n",
      "Discarded 0 Keep 39\n",
      "Searching tmdb - [{'terms': {'_id': [ [Status: 200]\n",
      "Discarded 0 Keep 36\n",
      "Searching tmdb - [{'terms': {'_id': [ [Status: 200]\n",
      "Discarded 0 Keep 31\n",
      "Searching tmdb - [{'terms': {'_id': [ [Status: 200]\n",
      "Discarded 0 Keep 36\n",
      "Searching tmdb - [{'terms': {'_id': [ [Status: 200]\n",
      "Discarded 0 Keep 36\n",
      "Searching tmdb - [{'terms': {'_id': [ [Status: 200]\n",
      "Discarded 0 Keep 32\n",
      "Searching tmdb - [{'terms': {'_id': [ [Status: 200]\n",
      "Discarded 0 Keep 30\n"
     ]
    }
   ],
   "source": [
    "from ltr.log import FeatureLogger\n",
    "from ltr.judgments import judgments_open\n",
    "from itertools import groupby\n",
    "\n",
    "ftr_logger=FeatureLogger(client, index='tmdb', feature_set='title')\n",
    "with judgments_open('data/title_judgments.txt') as judgment_list:\n",
    "    for qid, query_judgments in groupby(judgment_list, key=lambda j: j.qid):\n",
    "        ftr_logger.log_for_qid(judgments=query_judgments, \n",
    "                               qid=qid,\n",
    "                               keywords=judgment_list.keywords(qid))"
   ]
  },
  {
   "cell_type": "markdown",
   "metadata": {},
   "source": [
    "## Feature Search: which features work best?\n",
    "\n",
    "What combination of these features work best? Train a model with every combination, and use k-fold cross valudation (see `kcv=15` below). The combination with the best NDCG is output"
   ]
  },
  {
   "cell_type": "code",
   "execution_count": 4,
   "metadata": {},
   "outputs": [
    {
     "name": "stdout",
     "output_type": "stream",
     "text": [
      "/var/folders/vc/thmh159x5xddb6_cgtx778sc0000gn/T/RankyMcRankFace.jar already exists\n",
      "Running java -jar /var/folders/vc/thmh159x5xddb6_cgtx778sc0000gn/T/RankyMcRankFace.jar -ranker 6 -shrinkage 0.1 -metric2t NDCG@10 -tree 20 -bag 1 -leaf 20 -frate 1.0 -srate 1.0 -train /var/folders/vc/thmh159x5xddb6_cgtx778sc0000gn/T/training.txt -save data/temp_model.txt  -feature /var/folders/vc/thmh159x5xddb6_cgtx778sc0000gn/T/features.txt -kcv 15 \n",
      "DONE\n",
      "Trying features [1] TEST NDCG@10=0.9071\n",
      "/var/folders/vc/thmh159x5xddb6_cgtx778sc0000gn/T/RankyMcRankFace.jar already exists\n",
      "Running java -jar /var/folders/vc/thmh159x5xddb6_cgtx778sc0000gn/T/RankyMcRankFace.jar -ranker 6 -shrinkage 0.1 -metric2t NDCG@10 -tree 20 -bag 1 -leaf 20 -frate 1.0 -srate 1.0 -train /var/folders/vc/thmh159x5xddb6_cgtx778sc0000gn/T/training.txt -save data/temp_model.txt  -feature /var/folders/vc/thmh159x5xddb6_cgtx778sc0000gn/T/features.txt -kcv 15 \n",
      "DONE\n",
      "Trying features [2] TEST NDCG@10=0.9067\n",
      "/var/folders/vc/thmh159x5xddb6_cgtx778sc0000gn/T/RankyMcRankFace.jar already exists\n",
      "Running java -jar /var/folders/vc/thmh159x5xddb6_cgtx778sc0000gn/T/RankyMcRankFace.jar -ranker 6 -shrinkage 0.1 -metric2t NDCG@10 -tree 20 -bag 1 -leaf 20 -frate 1.0 -srate 1.0 -train /var/folders/vc/thmh159x5xddb6_cgtx778sc0000gn/T/training.txt -save data/temp_model.txt  -feature /var/folders/vc/thmh159x5xddb6_cgtx778sc0000gn/T/features.txt -kcv 15 \n",
      "DONE\n",
      "Trying features [7] TEST NDCG@10=0.2794\n",
      "/var/folders/vc/thmh159x5xddb6_cgtx778sc0000gn/T/RankyMcRankFace.jar already exists\n",
      "Running java -jar /var/folders/vc/thmh159x5xddb6_cgtx778sc0000gn/T/RankyMcRankFace.jar -ranker 6 -shrinkage 0.1 -metric2t NDCG@10 -tree 20 -bag 1 -leaf 20 -frate 1.0 -srate 1.0 -train /var/folders/vc/thmh159x5xddb6_cgtx778sc0000gn/T/training.txt -save data/temp_model.txt  -feature /var/folders/vc/thmh159x5xddb6_cgtx778sc0000gn/T/features.txt -kcv 15 \n",
      "DONE\n",
      "Trying features [1, 2] TEST NDCG@10=0.9067\n",
      "/var/folders/vc/thmh159x5xddb6_cgtx778sc0000gn/T/RankyMcRankFace.jar already exists\n",
      "Running java -jar /var/folders/vc/thmh159x5xddb6_cgtx778sc0000gn/T/RankyMcRankFace.jar -ranker 6 -shrinkage 0.1 -metric2t NDCG@10 -tree 20 -bag 1 -leaf 20 -frate 1.0 -srate 1.0 -train /var/folders/vc/thmh159x5xddb6_cgtx778sc0000gn/T/training.txt -save data/temp_model.txt  -feature /var/folders/vc/thmh159x5xddb6_cgtx778sc0000gn/T/features.txt -kcv 15 \n",
      "DONE\n",
      "Trying features [1, 7] TEST NDCG@10=0.7869\n",
      "/var/folders/vc/thmh159x5xddb6_cgtx778sc0000gn/T/RankyMcRankFace.jar already exists\n",
      "Running java -jar /var/folders/vc/thmh159x5xddb6_cgtx778sc0000gn/T/RankyMcRankFace.jar -ranker 6 -shrinkage 0.1 -metric2t NDCG@10 -tree 20 -bag 1 -leaf 20 -frate 1.0 -srate 1.0 -train /var/folders/vc/thmh159x5xddb6_cgtx778sc0000gn/T/training.txt -save data/temp_model.txt  -feature /var/folders/vc/thmh159x5xddb6_cgtx778sc0000gn/T/features.txt -kcv 15 \n",
      "DONE\n",
      "Trying features [2, 7] TEST NDCG@10=0.5268\n",
      "/var/folders/vc/thmh159x5xddb6_cgtx778sc0000gn/T/RankyMcRankFace.jar already exists\n",
      "Running java -jar /var/folders/vc/thmh159x5xddb6_cgtx778sc0000gn/T/RankyMcRankFace.jar -ranker 6 -shrinkage 0.1 -metric2t NDCG@10 -tree 20 -bag 1 -leaf 20 -frate 1.0 -srate 1.0 -train /var/folders/vc/thmh159x5xddb6_cgtx778sc0000gn/T/training.txt -save data/temp_model.txt  -feature /var/folders/vc/thmh159x5xddb6_cgtx778sc0000gn/T/features.txt -kcv 15 \n",
      "DONE\n",
      "Trying features [1, 2, 7] TEST NDCG@10=0.7955\n",
      "\n",
      "Impact of each feature on the model\n",
      "1 - 2.6459320549842027\n",
      "0.9047\n",
      "0.9047\n",
      "0.9047\n",
      "0.9047\n",
      "0.9047\n",
      "0.9047\n",
      "0.9047\n",
      "0.9047\n",
      "0.9047\n",
      "0.9047\n",
      "0.9047\n",
      "0.9047\n",
      "0.9047\n",
      "0.9047\n",
      "0.9047\n",
      "0.9047\n",
      "0.9047\n",
      "0.9047\n",
      "0.9047\n",
      "0.9047\n",
      "Avg NDCG@10 when feature included:\n",
      "1 => 0.8490500000000001\n",
      "2 => 0.783925\n",
      "3 => -1\n",
      "4 => -1\n",
      "5 => -1\n",
      "6 => -1\n",
      "7 => 0.5971500000000001\n",
      "Avg K-Fold NDCG@10 0.9071\n"
     ]
    }
   ],
   "source": [
    "from ltr.ranklib import feature_search\n",
    "rankLibResult, ndcgPerFeature = feature_search(client,\n",
    "                                               training_set=ftr_logger.logged,\n",
    "                                               metric2t='NDCG@10',\n",
    "                                               leafs=20,\n",
    "                                               trees=20,\n",
    "                                               kcv=15,\n",
    "                                               features=[1,2,7],\n",
    "                                               featureSet='title')\n",
    "\n",
    "print()\n",
    "print(\"Impact of each feature on the model\")\n",
    "trainLogs = rankLibResult.trainingLogs\n",
    "for ftrId, impact in trainLogs[-1].impacts.items():\n",
    "    print(\"{} - {}\".format(ftrId, impact))\n",
    "    \n",
    "for roundDcg in trainLogs[-1].rounds:\n",
    "    print(roundDcg)\n",
    "    \n",
    "print(\"Avg NDCG@10 when feature included:\")\n",
    "for ftrId, ndcg in ndcgPerFeature.items():\n",
    "    print(\"%s => %s\" % (ftrId, ndcg))\n",
    "    \n",
    "print(\"Avg K-Fold NDCG@10 %s\" % rankLibResult.kcvTestAvg)"
   ]
  },
  {
   "cell_type": "markdown",
   "metadata": {},
   "source": [
    "## Compare to model w/ all features\n",
    "\n",
    "Compare the features output above (something like...)\n",
    "\n",
    "```\n",
    "Impact of each feature on the model\n",
    "3 - 17728.651362443747\n",
    "4 - 10986.88505569509\n",
    "7 - 7504.573843344015\n",
    "1 - 1580.321225819952\n",
    "```\n",
    "\n",
    "to one trained with the full model. Notice how features have different impacts. This is due to feature dependency"
   ]
  },
  {
   "cell_type": "code",
   "execution_count": 5,
   "metadata": {},
   "outputs": [
    {
     "name": "stdout",
     "output_type": "stream",
     "text": [
      "/var/folders/vc/thmh159x5xddb6_cgtx778sc0000gn/T/RankyMcRankFace.jar already exists\n",
      "Running java -jar /var/folders/vc/thmh159x5xddb6_cgtx778sc0000gn/T/RankyMcRankFace.jar -ranker 6 -shrinkage 0.1 -metric2t NDCG@10 -tree 20 -bag 1 -leaf 20 -frate 1.0 -srate 1.0 -train /var/folders/vc/thmh159x5xddb6_cgtx778sc0000gn/T/training.txt -save data/title_model.txt  -feature /var/folders/vc/thmh159x5xddb6_cgtx778sc0000gn/T/features.txt\n",
      "DONE\n",
      "Delete model title: 403\n",
      "Created Model title [Status: 403]\n",
      "{\"error\":{\"root_cause\":[{\"type\":\"cluster_block_exception\",\"reason\":\"index [.ltrstore] blocked by: [FORBIDDEN/12/index read-only / allow delete (api)];\"}],\"type\":\"cluster_block_exception\",\"reason\":\"index [.ltrstore] blocked by: [FORBIDDEN/12/index read-only / allow delete (api)];\"},\"status\":403}\n"
     ]
    },
    {
     "ename": "RuntimeError",
     "evalue": "{\"error\":{\"root_cause\":[{\"type\":\"cluster_block_exception\",\"reason\":\"index [.ltrstore] blocked by: [FORBIDDEN/12/index read-only / allow delete (api)];\"}],\"type\":\"cluster_block_exception\",\"reason\":\"index [.ltrstore] blocked by: [FORBIDDEN/12/index read-only / allow delete (api)];\"},\"status\":403}",
     "output_type": "error",
     "traceback": [
      "\u001b[0;31m---------------------------------------------------------------------------\u001b[0m",
      "\u001b[0;31mRuntimeError\u001b[0m                              Traceback (most recent call last)",
      "\u001b[0;32m<ipython-input-5-b0b07d275a08>\u001b[0m in \u001b[0;36m<module>\u001b[0;34m\u001b[0m\n\u001b[1;32m      8\u001b[0m                   \u001b[0mindex\u001b[0m\u001b[0;34m=\u001b[0m\u001b[0;34m'tmdb'\u001b[0m\u001b[0;34m,\u001b[0m\u001b[0;34m\u001b[0m\u001b[0;34m\u001b[0m\u001b[0m\n\u001b[1;32m      9\u001b[0m                   \u001b[0mfeatureSet\u001b[0m\u001b[0;34m=\u001b[0m\u001b[0;34m'title'\u001b[0m\u001b[0;34m,\u001b[0m\u001b[0;34m\u001b[0m\u001b[0;34m\u001b[0m\u001b[0m\n\u001b[0;32m---> 10\u001b[0;31m                   modelName='title')\n\u001b[0m\u001b[1;32m     11\u001b[0m \u001b[0;34m\u001b[0m\u001b[0m\n\u001b[1;32m     12\u001b[0m \u001b[0mtrainLog\u001b[0m \u001b[0;34m=\u001b[0m \u001b[0mtrainResponse\u001b[0m\u001b[0;34m.\u001b[0m\u001b[0mtrainingLogs\u001b[0m\u001b[0;34m[\u001b[0m\u001b[0;36m0\u001b[0m\u001b[0;34m]\u001b[0m\u001b[0;34m\u001b[0m\u001b[0;34m\u001b[0m\u001b[0m\n",
      "\u001b[0;32m~/o19s/hello-ltr/ltr/ranklib.py\u001b[0m in \u001b[0;36mtrain\u001b[0;34m(client, training_set, modelName, featureSet, index, features, kcv, metric2t, leafs, trees, frate, srate, bag, ranker, shrinkage)\u001b[0m\n\u001b[1;32m     85\u001b[0m     \u001b[0;32mif\u001b[0m \u001b[0;32mnot\u001b[0m \u001b[0mkcv\u001b[0m\u001b[0;34m:\u001b[0m\u001b[0;34m\u001b[0m\u001b[0;34m\u001b[0m\u001b[0m\n\u001b[1;32m     86\u001b[0m         \u001b[0;31m#Ranklib doesn't save a model to disk if KCV is used\u001b[0m\u001b[0;34m\u001b[0m\u001b[0;34m\u001b[0m\u001b[0;34m\u001b[0m\u001b[0m\n\u001b[0;32m---> 87\u001b[0;31m         \u001b[0msave_model\u001b[0m\u001b[0;34m(\u001b[0m\u001b[0mclient\u001b[0m\u001b[0;34m,\u001b[0m \u001b[0mmodelName\u001b[0m\u001b[0;34m,\u001b[0m \u001b[0mmodelFile\u001b[0m\u001b[0;34m,\u001b[0m \u001b[0mindex\u001b[0m\u001b[0;34m,\u001b[0m \u001b[0mfeatureSet\u001b[0m\u001b[0;34m)\u001b[0m\u001b[0;34m\u001b[0m\u001b[0;34m\u001b[0m\u001b[0m\n\u001b[0m\u001b[1;32m     88\u001b[0m         \u001b[0mprint\u001b[0m\u001b[0;34m(\u001b[0m\u001b[0;34m'Model saved'\u001b[0m\u001b[0;34m)\u001b[0m\u001b[0;34m\u001b[0m\u001b[0;34m\u001b[0m\u001b[0m\n\u001b[1;32m     89\u001b[0m \u001b[0;34m\u001b[0m\u001b[0m\n",
      "\u001b[0;32m~/o19s/hello-ltr/ltr/ranklib.py\u001b[0m in \u001b[0;36msave_model\u001b[0;34m(client, modelName, modelFile, index, featureSet)\u001b[0m\n\u001b[1;32m     58\u001b[0m     \u001b[0;32mwith\u001b[0m \u001b[0mopen\u001b[0m\u001b[0;34m(\u001b[0m\u001b[0mmodelFile\u001b[0m\u001b[0;34m)\u001b[0m \u001b[0;32mas\u001b[0m \u001b[0msrc\u001b[0m\u001b[0;34m:\u001b[0m\u001b[0;34m\u001b[0m\u001b[0;34m\u001b[0m\u001b[0m\n\u001b[1;32m     59\u001b[0m         \u001b[0mdefinition\u001b[0m \u001b[0;34m=\u001b[0m \u001b[0msrc\u001b[0m\u001b[0;34m.\u001b[0m\u001b[0mread\u001b[0m\u001b[0;34m(\u001b[0m\u001b[0;34m)\u001b[0m\u001b[0;34m\u001b[0m\u001b[0;34m\u001b[0m\u001b[0m\n\u001b[0;32m---> 60\u001b[0;31m         \u001b[0mclient\u001b[0m\u001b[0;34m.\u001b[0m\u001b[0msubmit_ranklib_model\u001b[0m\u001b[0;34m(\u001b[0m\u001b[0mfeatureSet\u001b[0m\u001b[0;34m,\u001b[0m \u001b[0mindex\u001b[0m\u001b[0;34m,\u001b[0m \u001b[0mmodelName\u001b[0m\u001b[0;34m,\u001b[0m \u001b[0mdefinition\u001b[0m\u001b[0;34m)\u001b[0m\u001b[0;34m\u001b[0m\u001b[0;34m\u001b[0m\u001b[0m\n\u001b[0m\u001b[1;32m     61\u001b[0m \u001b[0;34m\u001b[0m\u001b[0m\n\u001b[1;32m     62\u001b[0m \u001b[0;34m\u001b[0m\u001b[0m\n",
      "\u001b[0;32m~/o19s/hello-ltr/ltr/client/elastic_client.py\u001b[0m in \u001b[0;36msubmit_ranklib_model\u001b[0;34m(self, featureset, index, model_name, model_payload)\u001b[0m\n\u001b[1;32m    175\u001b[0m             }\n\u001b[1;32m    176\u001b[0m         }\n\u001b[0;32m--> 177\u001b[0;31m         \u001b[0mself\u001b[0m\u001b[0;34m.\u001b[0m\u001b[0msubmit_model\u001b[0m\u001b[0;34m(\u001b[0m\u001b[0mfeatureset\u001b[0m\u001b[0;34m,\u001b[0m \u001b[0mindex\u001b[0m\u001b[0;34m,\u001b[0m \u001b[0mmodel_name\u001b[0m\u001b[0;34m,\u001b[0m \u001b[0mparams\u001b[0m\u001b[0;34m)\u001b[0m\u001b[0;34m\u001b[0m\u001b[0;34m\u001b[0m\u001b[0m\n\u001b[0m\u001b[1;32m    178\u001b[0m \u001b[0;34m\u001b[0m\u001b[0m\n\u001b[1;32m    179\u001b[0m     \u001b[0;32mdef\u001b[0m \u001b[0mmodel_query\u001b[0m\u001b[0;34m(\u001b[0m\u001b[0mself\u001b[0m\u001b[0;34m,\u001b[0m \u001b[0mindex\u001b[0m\u001b[0;34m,\u001b[0m \u001b[0mmodel\u001b[0m\u001b[0;34m,\u001b[0m \u001b[0mmodel_params\u001b[0m\u001b[0;34m,\u001b[0m \u001b[0mquery\u001b[0m\u001b[0;34m)\u001b[0m\u001b[0;34m:\u001b[0m\u001b[0;34m\u001b[0m\u001b[0;34m\u001b[0m\u001b[0m\n",
      "\u001b[0;32m~/o19s/hello-ltr/ltr/client/elastic_client.py\u001b[0m in \u001b[0;36msubmit_model\u001b[0;34m(self, featureset, index, model_name, model_payload)\u001b[0m\n\u001b[1;32m    163\u001b[0m \u001b[0;34m\u001b[0m\u001b[0m\n\u001b[1;32m    164\u001b[0m         \u001b[0mresp\u001b[0m \u001b[0;34m=\u001b[0m \u001b[0mrequests\u001b[0m\u001b[0;34m.\u001b[0m\u001b[0mpost\u001b[0m\u001b[0;34m(\u001b[0m\u001b[0mcreate_ep\u001b[0m\u001b[0;34m,\u001b[0m \u001b[0mjson\u001b[0m\u001b[0;34m=\u001b[0m\u001b[0mmodel_payload\u001b[0m\u001b[0;34m)\u001b[0m\u001b[0;34m\u001b[0m\u001b[0;34m\u001b[0m\u001b[0m\n\u001b[0;32m--> 165\u001b[0;31m         \u001b[0mresp_msg\u001b[0m\u001b[0;34m(\u001b[0m\u001b[0mmsg\u001b[0m\u001b[0;34m=\u001b[0m\u001b[0;34m\"Created Model {}\"\u001b[0m\u001b[0;34m.\u001b[0m\u001b[0mformat\u001b[0m\u001b[0;34m(\u001b[0m\u001b[0mmodel_name\u001b[0m\u001b[0;34m)\u001b[0m\u001b[0;34m,\u001b[0m \u001b[0mresp\u001b[0m\u001b[0;34m=\u001b[0m\u001b[0mresp\u001b[0m\u001b[0;34m)\u001b[0m\u001b[0;34m\u001b[0m\u001b[0;34m\u001b[0m\u001b[0m\n\u001b[0m\u001b[1;32m    166\u001b[0m \u001b[0;34m\u001b[0m\u001b[0m\n\u001b[1;32m    167\u001b[0m     \u001b[0;32mdef\u001b[0m \u001b[0msubmit_ranklib_model\u001b[0m\u001b[0;34m(\u001b[0m\u001b[0mself\u001b[0m\u001b[0;34m,\u001b[0m \u001b[0mfeatureset\u001b[0m\u001b[0;34m,\u001b[0m \u001b[0mindex\u001b[0m\u001b[0;34m,\u001b[0m \u001b[0mmodel_name\u001b[0m\u001b[0;34m,\u001b[0m \u001b[0mmodel_payload\u001b[0m\u001b[0;34m)\u001b[0m\u001b[0;34m:\u001b[0m\u001b[0;34m\u001b[0m\u001b[0;34m\u001b[0m\u001b[0m\n",
      "\u001b[0;32m~/o19s/hello-ltr/ltr/helpers/handle_resp.py\u001b[0m in \u001b[0;36mresp_msg\u001b[0;34m(msg, resp, throw)\u001b[0m\n\u001b[1;32m      6\u001b[0m         \u001b[0mprint\u001b[0m\u001b[0;34m(\u001b[0m\u001b[0mresp\u001b[0m\u001b[0;34m.\u001b[0m\u001b[0mtext\u001b[0m\u001b[0;34m)\u001b[0m\u001b[0;34m\u001b[0m\u001b[0;34m\u001b[0m\u001b[0m\n\u001b[1;32m      7\u001b[0m         \u001b[0;32mif\u001b[0m \u001b[0mthrow\u001b[0m\u001b[0;34m:\u001b[0m\u001b[0;34m\u001b[0m\u001b[0;34m\u001b[0m\u001b[0m\n\u001b[0;32m----> 8\u001b[0;31m             \u001b[0;32mraise\u001b[0m \u001b[0mRuntimeError\u001b[0m\u001b[0;34m(\u001b[0m\u001b[0mresp\u001b[0m\u001b[0;34m.\u001b[0m\u001b[0mtext\u001b[0m\u001b[0;34m)\u001b[0m\u001b[0;34m\u001b[0m\u001b[0;34m\u001b[0m\u001b[0m\n\u001b[0m\u001b[1;32m      9\u001b[0m \u001b[0;34m\u001b[0m\u001b[0m\n",
      "\u001b[0;31mRuntimeError\u001b[0m: {\"error\":{\"root_cause\":[{\"type\":\"cluster_block_exception\",\"reason\":\"index [.ltrstore] blocked by: [FORBIDDEN/12/index read-only / allow delete (api)];\"}],\"type\":\"cluster_block_exception\",\"reason\":\"index [.ltrstore] blocked by: [FORBIDDEN/12/index read-only / allow delete (api)];\"},\"status\":403}"
     ]
    }
   ],
   "source": [
    "from ltr.ranklib import train\n",
    "trainResponse  = train(client,\n",
    "                  training_set=ftr_logger.logged,\n",
    "                  metric2t='NDCG@10',\n",
    "                  leafs=20,\n",
    "                  trees=20,\n",
    "                  features=[1,2,3,4,5,6,7],\n",
    "                  index='tmdb',\n",
    "                  featureSet='title',\n",
    "                  modelName='title')\n",
    "\n",
    "trainLog = trainResponse.trainingLogs[0]\n",
    "\n",
    "print()\n",
    "print(\"Impact of each feature on the model\")\n",
    "for ftrId, impact in trainLog.impacts.items():\n",
    "    print(\"{} - {}\".format(ftrId, impact))\n",
    "    \n",
    "for roundDcg in trainLog.rounds:\n",
    "    print(roundDcg)\n",
    "    \n",
    "print(\"Train NDCG@10 %s\" % trainLog.rounds[-1])"
   ]
  },
  {
   "cell_type": "markdown",
   "metadata": {},
   "source": [
    "## Bias towards fewer features\n",
    "\n",
    "By adding a 'cost', to feature search, we add a multiplier that punishes models with more features slightly. This results in a tiny bias towards simpler models all things being equal. As we'd prefer one that doesn't need to execute more features"
   ]
  },
  {
   "cell_type": "code",
   "execution_count": 9,
   "metadata": {},
   "outputs": [
    {
     "name": "stdout",
     "output_type": "stream",
     "text": [
      "/var/folders/vc/thmh159x5xddb6_cgtx778sc0000gn/T/RankyMcRankFace.jar already exists\n",
      "Running java -jar /var/folders/vc/thmh159x5xddb6_cgtx778sc0000gn/T/RankyMcRankFace.jar -ranker 6 -shrinkage 0.1 -metric2t NDCG@10 -tree 20 -bag 1 -leaf 20 -frate 1.0 -srate 1.0 -train /var/folders/vc/thmh159x5xddb6_cgtx778sc0000gn/T/training.txt -save data/temp_model.txt  -feature /var/folders/vc/thmh159x5xddb6_cgtx778sc0000gn/T/features.txt -kcv 15 \n",
      "DONE\n",
      "Trying features [1] TEST NDCG@10=0.9071 after cost 0.9071\n",
      "/var/folders/vc/thmh159x5xddb6_cgtx778sc0000gn/T/RankyMcRankFace.jar already exists\n",
      "Running java -jar /var/folders/vc/thmh159x5xddb6_cgtx778sc0000gn/T/RankyMcRankFace.jar -ranker 6 -shrinkage 0.1 -metric2t NDCG@10 -tree 20 -bag 1 -leaf 20 -frate 1.0 -srate 1.0 -train /var/folders/vc/thmh159x5xddb6_cgtx778sc0000gn/T/training.txt -save data/temp_model.txt  -feature /var/folders/vc/thmh159x5xddb6_cgtx778sc0000gn/T/features.txt -kcv 15 \n",
      "DONE\n",
      "Trying features [2] TEST NDCG@10=0.9067 after cost 0.9067\n",
      "/var/folders/vc/thmh159x5xddb6_cgtx778sc0000gn/T/RankyMcRankFace.jar already exists\n",
      "Running java -jar /var/folders/vc/thmh159x5xddb6_cgtx778sc0000gn/T/RankyMcRankFace.jar -ranker 6 -shrinkage 0.1 -metric2t NDCG@10 -tree 20 -bag 1 -leaf 20 -frate 1.0 -srate 1.0 -train /var/folders/vc/thmh159x5xddb6_cgtx778sc0000gn/T/training.txt -save data/temp_model.txt  -feature /var/folders/vc/thmh159x5xddb6_cgtx778sc0000gn/T/features.txt -kcv 15 \n",
      "DONE\n",
      "Trying features [7] TEST NDCG@10=0.2794 after cost 0.2794\n",
      "/var/folders/vc/thmh159x5xddb6_cgtx778sc0000gn/T/RankyMcRankFace.jar already exists\n",
      "Running java -jar /var/folders/vc/thmh159x5xddb6_cgtx778sc0000gn/T/RankyMcRankFace.jar -ranker 6 -shrinkage 0.1 -metric2t NDCG@10 -tree 20 -bag 1 -leaf 20 -frate 1.0 -srate 1.0 -train /var/folders/vc/thmh159x5xddb6_cgtx778sc0000gn/T/training.txt -save data/temp_model.txt  -feature /var/folders/vc/thmh159x5xddb6_cgtx778sc0000gn/T/features.txt -kcv 15 \n",
      "DONE\n",
      "Trying features [1, 2] TEST NDCG@10=0.9067 after cost 0.888566\n",
      "/var/folders/vc/thmh159x5xddb6_cgtx778sc0000gn/T/RankyMcRankFace.jar already exists\n",
      "Running java -jar /var/folders/vc/thmh159x5xddb6_cgtx778sc0000gn/T/RankyMcRankFace.jar -ranker 6 -shrinkage 0.1 -metric2t NDCG@10 -tree 20 -bag 1 -leaf 20 -frate 1.0 -srate 1.0 -train /var/folders/vc/thmh159x5xddb6_cgtx778sc0000gn/T/training.txt -save data/temp_model.txt  -feature /var/folders/vc/thmh159x5xddb6_cgtx778sc0000gn/T/features.txt -kcv 15 \n",
      "DONE\n",
      "Trying features [1, 7] TEST NDCG@10=0.7869 after cost 0.771162\n",
      "/var/folders/vc/thmh159x5xddb6_cgtx778sc0000gn/T/RankyMcRankFace.jar already exists\n",
      "Running java -jar /var/folders/vc/thmh159x5xddb6_cgtx778sc0000gn/T/RankyMcRankFace.jar -ranker 6 -shrinkage 0.1 -metric2t NDCG@10 -tree 20 -bag 1 -leaf 20 -frate 1.0 -srate 1.0 -train /var/folders/vc/thmh159x5xddb6_cgtx778sc0000gn/T/training.txt -save data/temp_model.txt  -feature /var/folders/vc/thmh159x5xddb6_cgtx778sc0000gn/T/features.txt -kcv 15 \n",
      "DONE\n",
      "Trying features [2, 7] TEST NDCG@10=0.5268 after cost 0.5162640000000001\n",
      "/var/folders/vc/thmh159x5xddb6_cgtx778sc0000gn/T/RankyMcRankFace.jar already exists\n",
      "Running java -jar /var/folders/vc/thmh159x5xddb6_cgtx778sc0000gn/T/RankyMcRankFace.jar -ranker 6 -shrinkage 0.1 -metric2t NDCG@10 -tree 20 -bag 1 -leaf 20 -frate 1.0 -srate 1.0 -train /var/folders/vc/thmh159x5xddb6_cgtx778sc0000gn/T/training.txt -save data/temp_model.txt  -feature /var/folders/vc/thmh159x5xddb6_cgtx778sc0000gn/T/features.txt -kcv 15 \n",
      "DONE\n",
      "Trying features [1, 2, 7] TEST NDCG@10=0.7955 after cost 0.7639982\n",
      "\n",
      "Impact of each feature on the model\n",
      "1 - 2.6459320549842027\n",
      "0.9047\n",
      "0.9047\n",
      "0.9047\n",
      "0.9047\n",
      "0.9047\n",
      "0.9047\n",
      "0.9047\n",
      "0.9047\n",
      "0.9047\n",
      "0.9047\n",
      "0.9047\n",
      "0.9047\n",
      "0.9047\n",
      "0.9047\n",
      "0.9047\n",
      "0.9047\n",
      "0.9047\n",
      "0.9047\n",
      "0.9047\n",
      "0.9047\n",
      "Avg NDCG@10 when feature included:\n",
      "1 => 0.8490500000000001\n",
      "2 => 0.783925\n",
      "3 => -1\n",
      "4 => -1\n",
      "5 => -1\n",
      "6 => -1\n",
      "7 => 0.5971500000000001\n",
      "Avg K-Fold NDCG@10 0.9071\n"
     ]
    }
   ],
   "source": [
    "from ltr.ranklib import feature_search\n",
    "rankLibResult, ndcgPerFeature = feature_search(client,\n",
    "                                               training_set=ftr_logger.logged,\n",
    "                                               metric2t='NDCG@10',\n",
    "                                               leafs=20,\n",
    "                                               trees=20,\n",
    "                                               kcv=15,\n",
    "                                               featureCost=0.02,# 1.0-cost ^ num_features\n",
    "                                               features=[1,2,7],\n",
    "                                               featureSet='title')\n",
    "\n",
    "print()\n",
    "print(\"Impact of each feature on the model\")\n",
    "trainLogs = rankLibResult.trainingLogs\n",
    "for ftrId, impact in trainLogs[-1].impacts.items():\n",
    "    print(\"{} - {}\".format(ftrId, impact))\n",
    "    \n",
    "for roundDcg in trainLogs[-1].rounds:\n",
    "    print(roundDcg)\n",
    "    \n",
    "print(\"Avg NDCG@10 when feature included:\")\n",
    "for ftrId, ndcg in ndcgPerFeature.items():\n",
    "    print(\"%s => %s\" % (ftrId, ndcg))\n",
    "    \n",
    "print(\"Avg K-Fold NDCG@10 %s\" % rankLibResult.kcvTestAvg)"
   ]
  },
  {
   "cell_type": "markdown",
   "metadata": {},
   "source": [
    "# Evaluating the Model\n",
    "\n",
    "It's interesting to see what features our model makes use of, but we need guidance on adding additional features to the model. We know our model is an ensemble of decision trees. Wouldn't it be cool if we could trace where documents end up on that decision tree?\n",
    "\n",
    "Specifically, we care about problems. Or what we will call affectionately *whoopsies*. \n",
    "\n",
    "As a 'whoopsie' example, consider the query \"Rambo\". if a '0' document like 'First Daughter' ranked the same or higher than a '4' document (\"Rambo\")., that's a problem. It's also an opportunity for improvement. We'd want to isolate that, see if it's indicative of a broader trend, and thus worth adding a feature for.\n",
    "\n",
    "Let's see a concrete example"
   ]
  },
  {
   "cell_type": "code",
   "execution_count": 10,
   "metadata": {},
   "outputs": [
    {
     "ename": "RuntimeError",
     "evalue": "Unable to find title",
     "output_type": "error",
     "traceback": [
      "\u001b[0;31m---------------------------------------------------------------------------\u001b[0m",
      "\u001b[0;31mRuntimeError\u001b[0m                              Traceback (most recent call last)",
      "\u001b[0;32m<ipython-input-10-1c95f48e9286>\u001b[0m in \u001b[0;36m<module>\u001b[0;34m\u001b[0m\n\u001b[1;32m      2\u001b[0m \u001b[0;32mfrom\u001b[0m \u001b[0mitertools\u001b[0m \u001b[0;32mimport\u001b[0m \u001b[0mgroupby\u001b[0m\u001b[0;34m\u001b[0m\u001b[0;34m\u001b[0m\u001b[0m\n\u001b[1;32m      3\u001b[0m \u001b[0;34m\u001b[0m\u001b[0m\n\u001b[0;32m----> 4\u001b[0;31m \u001b[0mfeatures\u001b[0m\u001b[0;34m,\u001b[0m \u001b[0m_\u001b[0m \u001b[0;34m=\u001b[0m \u001b[0mclient\u001b[0m\u001b[0;34m.\u001b[0m\u001b[0mfeature_set\u001b[0m\u001b[0;34m(\u001b[0m\u001b[0mindex\u001b[0m\u001b[0;34m=\u001b[0m\u001b[0;34m'tmdb'\u001b[0m\u001b[0;34m,\u001b[0m \u001b[0mname\u001b[0m\u001b[0;34m=\u001b[0m\u001b[0;34m'title'\u001b[0m\u001b[0;34m)\u001b[0m\u001b[0;34m\u001b[0m\u001b[0;34m\u001b[0m\u001b[0m\n\u001b[0m\u001b[1;32m      5\u001b[0m \u001b[0;34m\u001b[0m\u001b[0m\n\u001b[1;32m      6\u001b[0m \u001b[0;32mfor\u001b[0m \u001b[0mqid\u001b[0m\u001b[0;34m,\u001b[0m \u001b[0mquery_judgments\u001b[0m \u001b[0;32min\u001b[0m \u001b[0mgroupby\u001b[0m\u001b[0;34m(\u001b[0m\u001b[0mftr_logger\u001b[0m\u001b[0;34m.\u001b[0m\u001b[0mlogged\u001b[0m\u001b[0;34m,\u001b[0m \u001b[0mkey\u001b[0m\u001b[0;34m=\u001b[0m\u001b[0;32mlambda\u001b[0m \u001b[0mj\u001b[0m\u001b[0;34m:\u001b[0m \u001b[0mj\u001b[0m\u001b[0;34m.\u001b[0m\u001b[0mqid\u001b[0m\u001b[0;34m)\u001b[0m\u001b[0;34m:\u001b[0m\u001b[0;34m\u001b[0m\u001b[0;34m\u001b[0m\u001b[0m\n",
      "\u001b[0;32m~/o19s/hello-ltr/ltr/client/elastic_client.py\u001b[0m in \u001b[0;36mfeature_set\u001b[0;34m(self, index, name)\u001b[0m\n\u001b[1;32m    222\u001b[0m         \u001b[0mjsonResp\u001b[0m \u001b[0;34m=\u001b[0m \u001b[0mresp\u001b[0m\u001b[0;34m.\u001b[0m\u001b[0mjson\u001b[0m\u001b[0;34m(\u001b[0m\u001b[0;34m)\u001b[0m\u001b[0;34m\u001b[0m\u001b[0;34m\u001b[0m\u001b[0m\n\u001b[1;32m    223\u001b[0m         \u001b[0;32mif\u001b[0m \u001b[0;32mnot\u001b[0m \u001b[0mjsonResp\u001b[0m\u001b[0;34m[\u001b[0m\u001b[0;34m'found'\u001b[0m\u001b[0;34m]\u001b[0m\u001b[0;34m:\u001b[0m\u001b[0;34m\u001b[0m\u001b[0;34m\u001b[0m\u001b[0m\n\u001b[0;32m--> 224\u001b[0;31m             \u001b[0;32mraise\u001b[0m \u001b[0mRuntimeError\u001b[0m\u001b[0;34m(\u001b[0m\u001b[0;34m\"Unable to find {}\"\u001b[0m\u001b[0;34m.\u001b[0m\u001b[0mformat\u001b[0m\u001b[0;34m(\u001b[0m\u001b[0mname\u001b[0m\u001b[0;34m)\u001b[0m\u001b[0;34m)\u001b[0m\u001b[0;34m\u001b[0m\u001b[0;34m\u001b[0m\u001b[0m\n\u001b[0m\u001b[1;32m    225\u001b[0m \u001b[0;34m\u001b[0m\u001b[0m\n\u001b[1;32m    226\u001b[0m         \u001b[0mresp_msg\u001b[0m\u001b[0;34m(\u001b[0m\u001b[0mmsg\u001b[0m\u001b[0;34m=\u001b[0m\u001b[0;34m\"Fetched FeatureSet {}\"\u001b[0m\u001b[0;34m.\u001b[0m\u001b[0mformat\u001b[0m\u001b[0;34m(\u001b[0m\u001b[0mname\u001b[0m\u001b[0;34m)\u001b[0m\u001b[0;34m,\u001b[0m \u001b[0mresp\u001b[0m\u001b[0;34m=\u001b[0m\u001b[0mresp\u001b[0m\u001b[0;34m)\u001b[0m\u001b[0;34m\u001b[0m\u001b[0;34m\u001b[0m\u001b[0m\n",
      "\u001b[0;31mRuntimeError\u001b[0m: Unable to find title"
     ]
    }
   ],
   "source": [
    "from ltr.MART_model import eval_model\n",
    "from itertools import groupby\n",
    "\n",
    "features, _ = client.feature_set(index='tmdb', name='title')\n",
    "\n",
    "for qid, query_judgments in groupby(ftr_logger.logged, key=lambda j: j.qid):\n",
    "    print(qid)\n",
    "    if qid == 1: # Rambo\n",
    "        model = eval_model(modelName='title',\n",
    "                               features=features,\n",
    "                               judgments=query_judgments)\n",
    "\n",
    "        print()\n",
    "        print(\"## Evaluating graded docs for search keywords 'Rambo'\")\n",
    "        print()\n",
    "        print(model)\n",
    "        break"
   ]
  },
  {
   "cell_type": "markdown",
   "metadata": {},
   "source": [
    "## Examining our evaluation for whoopsies\n",
    "\n",
    "Let's looks at one tree in our ensemble, te see how it was evaluated.\n",
    "\n",
    "```\n",
    "if title_bm25 > 10.664251:\n",
    "  if title_phrase > 0.0:\n",
    "    if title_bm25 > 13.815164:\n",
    "      if release_year > 2000.0:\n",
    "        <= 0.1215(0/0/)\n",
    "      else:\n",
    "        <= 0.1240(0/0/)\n",
    "    else:\n",
    "      if title_bm25 > 10.667803:\n",
    "        if overview_bm25 > 0.0:\n",
    "          <= 0.1194(0/0/)\n",
    "        else:\n",
    "          <= 0.1161(1/0/)\n",
    "      else:\n",
    "        <= 0.1264(0/0/)\n",
    "  else:\n",
    "    <= 0.0800(0/0/)\n",
    "else:\n",
    "  if title_phrase > 0.0:\n",
    "    if title_bm25 > 8.115499:\n",
    "      if title_bm25 > 8.217656:\n",
    "        <= 0.1097(2/1/qid:40:2(12180)-3(140607))\n",
    "      else:\n",
    "        <= 0.1559(0/0/)\n",
    "    else:\n",
    "      <= -0.0021(2/1/qid:40:2(1895)-3(330459))\n",
    "  else:\n",
    "    <= -0.1093(25/1/qid:40:0(85783)-3(1892))\n",
    "```\n",
    "\n",
    "You'll notice here this tree is represented by a series of if statements, where the feature's name is used. This is handy as it lets us take apart the structure of the tree.\n",
    "\n",
    "You'll also notice the leaf nodes starting with \n",
    "\n",
    "```\n",
    "<=\n",
    "```\n",
    "\n",
    "These leaf nodes have a floating point value, corresponding to the relevance score that documents ending up here will have. Each leaf also has three items in paranthesis, such as `(2/1/qid:40:2(1895)-3(330459))`. This is a report summarizing the result of evaluating the tree on the provided judgment list. Indicating:\n",
    "\n",
    "\n",
    "```\n",
    "\n",
    "\n",
    "\n",
    "   +--- 2 Documents evaluated to this leaf node                   +-- max grade doc eval'd to this leaf\n",
    "   |                                                              |\n",
    "   | +----- 1 'whoopsie' occured                                  |  +-- corresp. doc id of max doc\n",
    "   | |                                                            |  |\n",
    "   | |   +--- details on each whoopsie ----------- qid:40:2(1985)-3(330459)\n",
    "   | |   |                                              | |  |\n",
    "  (2/1/qid:40:2(1895)-3(330459))                        | |  |\n",
    "                                                        | |  + doc id of min graded doc\n",
    "                                                        | |\n",
    "                                                        | + min grade of docs eval'd to this leaf\n",
    "                                                        |\n",
    "                                                        + query id of whoopsie from judgments\n",
    "```\n",
    "\n",
    "\n",
    "Looking at Star Wars, our biggest issues in this tree are with the bottom-most leaf. Here\n",
    "\n",
    "```\n",
    "if title_bm25 > 10.664251:\n",
    "  ...\n",
    "else:\n",
    "  if title_phrase > 0.0:\n",
    "    ...\n",
    "  else:\n",
    "    <= -0.1093(25/1/qid:40:0(85783)-3(1892))\n",
    "```\n",
    "\n",
    "\n",
    "Document 85783 (a '0') and doc 1892 are given the same grade."
   ]
  },
  {
   "cell_type": "markdown",
   "metadata": {},
   "source": [
    "### Whoopsie, from the query perspective\n",
    "\n",
    "Whoopsies can also be examined at the \"query\" level to see for a query id, how many whoopsies existed, and what was the evaluation for that query at each tree. This can help see if an error was fixed later in the ensemble of trees."
   ]
  },
  {
   "cell_type": "code",
   "execution_count": null,
   "metadata": {},
   "outputs": [],
   "source": [
    "whoopsies = model.whoopsies()\n",
    "for qid, whoopsie in whoopsies.items():\n",
    "    print(\"== QID %s ==\" % qid)\n",
    "    print(\"%s - %s\" % (whoopsie.count, whoopsie.totalMagnitude))\n",
    "    print(whoopsie.perTreeReport())"
   ]
  },
  {
   "cell_type": "code",
   "execution_count": null,
   "metadata": {},
   "outputs": [],
   "source": [
    "### Doc in index... (notice nothing mentions 'star wars')\n",
    "\n",
    "client.get_doc(index='tmdb', doc_id=1368)"
   ]
  },
  {
   "cell_type": "markdown",
   "metadata": {},
   "source": [
    "## Add a feature: collection name\n",
    "\n",
    "We have an intuition about our data, there is a field for the movies \"collection name\". See it here below:"
   ]
  },
  {
   "cell_type": "code",
   "execution_count": null,
   "metadata": {},
   "outputs": [],
   "source": [
    "from ltr.helpers.movies import get_movie\n",
    "get_movie(1368)"
   ]
  },
  {
   "cell_type": "markdown",
   "metadata": {},
   "source": [
    "We'll add collection name, and reindex."
   ]
  },
  {
   "cell_type": "code",
   "execution_count": null,
   "metadata": {},
   "outputs": [],
   "source": [
    "def add_collection_name(src_movie, base_doc):\n",
    "    if 'belongs_to_collection' in src_movie and src_movie['belongs_to_collection'] is not None:\n",
    "        if 'name' in src_movie['belongs_to_collection']:\n",
    "            base_doc['collection_name'] = src_movie['belongs_to_collection']['name']\n",
    "    return base_doc\n",
    "\n",
    "movies=indexable_movies(movies='data/tmdb.json', enrich=add_collection_name)\n",
    "rebuild(client, index='tmdb', doc_src=movies)"
   ]
  },
  {
   "cell_type": "markdown",
   "metadata": {},
   "source": [
    "Confirm it's in our doc now..."
   ]
  },
  {
   "cell_type": "code",
   "execution_count": null,
   "metadata": {},
   "outputs": [],
   "source": [
    "client.get_doc(index='tmdb', doc_id=1892)"
   ]
  },
  {
   "cell_type": "markdown",
   "metadata": {},
   "source": [
    "Add it to the features, and retrain...."
   ]
  },
  {
   "cell_type": "code",
   "execution_count": null,
   "metadata": {},
   "outputs": [],
   "source": [
    "config = {\"validation\": {\n",
    "              \"index\": \"tmdb\",\n",
    "              \"params\": {\n",
    "                  \"keywords\": \"rambo\"\n",
    "              }\n",
    "    \n",
    "           },\n",
    "           \"featureset\": {\n",
    "            \"features\": [\n",
    "            {\n",
    "                \"name\": \"title_phrase\",\n",
    "                \"params\": [\"keywords\"],\n",
    "                \"template\": {\n",
    "                    \"constant_score\": {\n",
    "                        \"filter\": {\n",
    "                            \"match_phrase\": {\"title\": \"{{keywords}}\"}\n",
    "                        },\n",
    "                        \"boost\": 1.0\n",
    "                    }  \n",
    "                }\n",
    "            },\n",
    "            {\n",
    "                \"name\": \"title\",\n",
    "                \"params\": [\"keywords\"],\n",
    "                \"template\": {\n",
    "                    \"constant_score\": {\n",
    "                        \"filter\": {\n",
    "                            \"match\": {\"title\": \"{{keywords}}\"}\n",
    "                        },\n",
    "                        \"boost\": 1.0\n",
    "                    }  \n",
    "                }\n",
    "            },\n",
    "            {\n",
    "                \"name\": \"title_bm25\",\n",
    "                \"params\": [\"keywords\"],\n",
    "                \"template\": {\n",
    "                    \"match\": {\"title\": \"{{keywords}}\"}\n",
    "                }\n",
    "            },\n",
    "            {\n",
    "                \"name\": \"overview_bm25\",\n",
    "                \"params\": [\"keywords\"],\n",
    "                \"template\": {\n",
    "                    \"match\": {\"overview\": \"{{keywords}}\"}\n",
    "                }\n",
    "            },\n",
    "            {\n",
    "                \"name\": \"overview_phrase_bm25\",\n",
    "                \"params\": [\"keywords\"],\n",
    "                \"template\": {\n",
    "                    \"match_phrase\": {\"overview\": \"{{keywords}}\"}\n",
    "                }\n",
    "            },\n",
    "            {\n",
    "                \"name\": \"title_fuzzy\",\n",
    "                \"params\": [\"keywords\"],\n",
    "                \"template\": {\n",
    "                    \"match\": {\"title\": \n",
    "                                {\"query\": \"{{keywords}}\",\n",
    "                                 \"fuzziness\": \"AUTO\"}}\n",
    "                }\n",
    "            },\n",
    "             {\n",
    "                \"name\": \"release_year\",\n",
    "                \"params\": [],\n",
    "                \"template\": {\n",
    "                    \"function_score\": {\n",
    "                        \"field_value_factor\": {\n",
    "                            \"field\": \"release_year\",\n",
    "                            \"missing\": 2000\n",
    "                        },\n",
    "                        \"query\": { \"match_all\": {} }\n",
    "                    }\n",
    "                }\n",
    "            },\n",
    "            {\n",
    "                \"name\": \"coll_name_bm25\",\n",
    "                \"params\": [\"keywords\"],\n",
    "                \"template\": {\n",
    "                    \"match\": {\"collection_name\": \n",
    "                                {\"query\": \"{{keywords}}\"}}\n",
    "                }\n",
    "            },\n",
    "             {\n",
    "                \"name\": \"coll_name_phrase_bm25\",\n",
    "                \"params\": [\"keywords\"],\n",
    "                \"template\": {\n",
    "                    \"match_phrase\": {\"collection_name\": \n",
    "                                {\"query\": \"{{keywords}}\"}}\n",
    "                }\n",
    "            }\n",
    "            \n",
    "            \n",
    "            ]\n",
    "    }}\n",
    "\n",
    "client.create_featureset(index='tmdb', name='title2', ftr_config=config)\n",
    "\n",
    "from ltr.log import FeatureLogger\n",
    "from ltr.judgments import judgments_open\n",
    "from itertools import groupby\n",
    "\n",
    "ftr_logger=FeatureLogger(client, index='tmdb', feature_set='title2')\n",
    "with judgments_open('data/title_judgments.txt') as judgment_list:\n",
    "    for qid, query_judgments in groupby(judgment_list, key=lambda j: j.qid):\n",
    "        ftr_logger.log_for_qid(judgments=query_judgments, \n",
    "                               qid=qid,\n",
    "                               keywords=judgment_list.keywords(qid))"
   ]
  },
  {
   "cell_type": "code",
   "execution_count": null,
   "metadata": {},
   "outputs": [],
   "source": [
    "from ltr.ranklib import feature_search\n",
    "rankLibResult, ndcgPerFeature = feature_search(client,\n",
    "                                               training_set=ftr_logger.logged,\n",
    "                                               metric2t='NDCG@10',\n",
    "                                               leafs=20,\n",
    "                                               trees=20,\n",
    "                                               kcv=15,\n",
    "                                               features=[1,2,3,4,5,6,7,8,9],\n",
    "                                               featureSet='title2')\n",
    "\n",
    "print()\n",
    "print(\"Impact of each feature on the model\")\n",
    "trainLogs = rankLibResult.trainingLogs\n",
    "for ftrId, impact in trainLogs[-1].impacts.items():\n",
    "    print(\"{} - {}\".format(ftrId, impact))\n",
    "    \n",
    "for roundDcg in trainLogs[-1].rounds:\n",
    "    print(roundDcg)\n",
    "    \n",
    "print(\"Avg NDCG@10 when feature included:\")\n",
    "for ftrId, ndcg in ndcgPerFeature.items():\n",
    "    print(\"%s => %s\" % (ftrId, ndcg))\n",
    "    \n",
    "print(\"Avg K-Fold NDCG@10 %s\" % rankLibResult.kcvTestAvg)"
   ]
  },
  {
   "cell_type": "code",
   "execution_count": null,
   "metadata": {},
   "outputs": [],
   "source": [
    "from ltr.ranklib import train\n",
    "trainResponse  = train(client,\n",
    "                  training_set=ftr_logger.logged,\n",
    "                  metric2t='NDCG@10',\n",
    "                  leafs=20,\n",
    "                  trees=20,\n",
    "                  index='tmdb',\n",
    "                  features=[1,4,6,7,8],\n",
    "                  featureSet='title2',\n",
    "                  modelName='title2')\n",
    "\n",
    "trainLog = trainResponse.trainingLogs[0]\n",
    "\n",
    "print()\n",
    "print(\"Impact of each feature on the model\")\n",
    "for ftrId, impact in trainLog.impacts.items():\n",
    "    print(\"{} - {}\".format(ftrId, impact))\n",
    "    \n",
    "for roundDcg in trainLog.rounds:\n",
    "    print(roundDcg)\n",
    "    \n",
    "print(\"Train NDCG@10 %s\" % trainLog.rounds[-1])"
   ]
  },
  {
   "cell_type": "code",
   "execution_count": null,
   "metadata": {},
   "outputs": [],
   "source": []
  },
  {
   "cell_type": "code",
   "execution_count": null,
   "metadata": {},
   "outputs": [],
   "source": [
    "from ltr import search\n",
    "search(client, \"cartoon with basketball aliens\", modelName='title2')"
   ]
  },
  {
   "cell_type": "code",
   "execution_count": null,
   "metadata": {},
   "outputs": [],
   "source": [
    "from ltr.MART_model import eval_model\n",
    "from itertools import groupby\n",
    "\n",
    "features, _ = client.feature_set(index='tmdb', name='title2')\n",
    "\n",
    "for qid, query_judgments in groupby(ftr_logger.logged, key=lambda j: j.qid):\n",
    "    print(qid)\n",
    "    if qid == 1: # Rambo\n",
    "        model = eval_model(modelName='title',\n",
    "                               features=features,\n",
    "                               judgments=query_judgments)\n",
    "\n",
    "        print()\n",
    "        print(\"## Evaluating graded docs for search keywords 'Rambo'\")\n",
    "        print()\n",
    "        print(model)\n",
    "        break"
   ]
  },
  {
   "cell_type": "code",
   "execution_count": null,
   "metadata": {},
   "outputs": [],
   "source": []
  }
 ],
 "metadata": {
  "kernelspec": {
   "display_name": "Python 3",
   "language": "python",
   "name": "python3"
  },
  "language_info": {
   "codemirror_mode": {
    "name": "ipython",
    "version": 3
   },
   "file_extension": ".py",
   "mimetype": "text/x-python",
   "name": "python",
   "nbconvert_exporter": "python",
   "pygments_lexer": "ipython3",
   "version": "3.7.6"
  }
 },
 "nbformat": 4,
 "nbformat_minor": 2
}
